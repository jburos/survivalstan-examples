{
 "cells": [
  {
   "cell_type": "code",
   "execution_count": null,
   "metadata": {
    "ExecuteTime": {
     "start_time": "2017-01-10T00:48:06.348Z"
    },
    "collapsed": false
   },
   "outputs": [],
   "source": [
    "%load_ext autoreload\n",
    "%autoreload 2\n",
    "%matplotlib inline\n",
    "#from jointmodel import sim\n",
    "import pandas as pd\n",
    "import sys\n",
    "import pystan\n",
    "import survivalstan\n",
    "from stancache import stancache\n",
    "from stancache import config"
   ]
  },
  {
   "cell_type": "code",
   "execution_count": null,
   "metadata": {
    "ExecuteTime": {
     "start_time": "2017-01-10T00:48:16.482Z"
    },
    "collapsed": false
   },
   "outputs": [],
   "source": [
    "config.set_value(CACHE_DIR='/home/jacquelineburos/.cached_models')"
   ]
  },
  {
   "cell_type": "markdown",
   "metadata": {},
   "source": [
    "# get simulated data"
   ]
  },
  {
   "cell_type": "code",
   "execution_count": null,
   "metadata": {
    "ExecuteTime": {
     "start_time": "2017-01-10T00:48:17.146Z"
    },
    "collapsed": false
   },
   "outputs": [],
   "source": [
    "data = survivalstan.sim.sim_data_jointmodel(N=100)"
   ]
  },
  {
   "cell_type": "markdown",
   "metadata": {},
   "source": [
    "# confirm that models compile"
   ]
  },
  {
   "cell_type": "code",
   "execution_count": null,
   "metadata": {
    "ExecuteTime": {
     "start_time": "2017-01-10T00:48:17.827Z"
    },
    "collapsed": false
   },
   "outputs": [],
   "source": [
    "model = pystan.stanc(file='jointmodel/jointmodel.stan')"
   ]
  },
  {
   "cell_type": "code",
   "execution_count": null,
   "metadata": {
    "ExecuteTime": {
     "start_time": "2017-01-10T00:48:18.153Z"
    },
    "collapsed": true
   },
   "outputs": [],
   "source": [
    "model2 = pystan.stanc(file='jointmodel/jointmodel_with_biomarker.stan')"
   ]
  },
  {
   "cell_type": "markdown",
   "metadata": {},
   "source": [
    "# Fit joint model for competing events"
   ]
  },
  {
   "cell_type": "markdown",
   "metadata": {},
   "source": [
    "## review event-data"
   ]
  },
  {
   "cell_type": "markdown",
   "metadata": {},
   "source": [
    "Inspect simulated event data"
   ]
  },
  {
   "cell_type": "code",
   "execution_count": null,
   "metadata": {
    "ExecuteTime": {
     "start_time": "2017-01-10T00:48:19.979Z"
    },
    "collapsed": false
   },
   "outputs": [],
   "source": [
    "df = data['events']\n",
    "df.sort_values(['subject_id', 'time'])\\\n",
    "    .loc[:,['subject_id','time','event_name','event_value']]\\\n",
    "    .head(10)"
   ]
  },
  {
   "cell_type": "markdown",
   "metadata": {},
   "source": [
    "Confirm multi-event data for a particular subject"
   ]
  },
  {
   "cell_type": "code",
   "execution_count": null,
   "metadata": {
    "ExecuteTime": {
     "start_time": "2017-01-10T00:48:20.866Z"
    },
    "collapsed": false
   },
   "outputs": [],
   "source": [
    "df.query('subject_id == 1')"
   ]
  },
  {
   "cell_type": "markdown",
   "metadata": {},
   "source": [
    "Transform data to \"long\" format"
   ]
  },
  {
   "cell_type": "code",
   "execution_count": null,
   "metadata": {
    "ExecuteTime": {
     "start_time": "2017-01-10T00:48:21.714Z"
    },
    "collapsed": false
   },
   "outputs": [],
   "source": [
    "ldf = survivalstan.prep_data_long_surv(df, event_col='event_value', time_col='time',\n",
    "                                       sample_col='subject_id', event_name='event_name')"
   ]
  },
  {
   "cell_type": "markdown",
   "metadata": {},
   "source": [
    "Confirm transformed data for same subject inspected above"
   ]
  },
  {
   "cell_type": "code",
   "execution_count": null,
   "metadata": {
    "ExecuteTime": {
     "start_time": "2017-01-10T00:48:22.387Z"
    },
    "collapsed": false
   },
   "outputs": [],
   "source": [
    "ldf.query('subject_id == 1 and (end_death == 1 or end_new_lesion == 1 or end_time > 4.4)').sort_values(['subject_id','end_time'])"
   ]
  },
  {
   "cell_type": "markdown",
   "metadata": {},
   "source": [
    "Merge event-level data with covariate values"
   ]
  },
  {
   "cell_type": "code",
   "execution_count": null,
   "metadata": {
    "ExecuteTime": {
     "start_time": "2017-01-10T00:48:23.081Z"
    },
    "collapsed": false
   },
   "outputs": [],
   "source": [
    "ldf = pd.merge(ldf, data['covars'], on='subject_id', how='outer')"
   ]
  },
  {
   "cell_type": "markdown",
   "metadata": {},
   "source": [
    "## prepare inputs for stan model"
   ]
  },
  {
   "cell_type": "markdown",
   "metadata": {},
   "source": [
    "This part is done more manually now since the `survivalstan` code hasn't been written"
   ]
  },
  {
   "cell_type": "markdown",
   "metadata": {},
   "source": [
    "First we prepare input matrices for terminal event (death)."
   ]
  },
  {
   "cell_type": "code",
   "execution_count": null,
   "metadata": {
    "ExecuteTime": {
     "start_time": "2017-01-10T00:48:24.729Z"
    },
    "collapsed": false
   },
   "outputs": [],
   "source": [
    "input_t = survivalstan.SurvivalStanData(df=ldf,\n",
    "                                        event_col='end_death',\n",
    "                                        timepoint_end_col='end_time',\n",
    "                                        sample_col='subject_id',\n",
    "                                        formula = '~ X1') "
   ]
  },
  {
   "cell_type": "code",
   "execution_count": null,
   "metadata": {
    "ExecuteTime": {
     "start_time": "2017-01-10T00:48:25.314Z"
    },
    "collapsed": false
   },
   "outputs": [],
   "source": [
    "input_t.timepoint_df.describe()"
   ]
  },
  {
   "cell_type": "markdown",
   "metadata": {
    "ExecuteTime": {
     "start_time": "2017-01-10T00:16:59.349Z"
    },
    "collapsed": true
   },
   "source": [
    "Next we prepare the input matrices for recurrent event (new_lesion).\n",
    "\n",
    "*in theory, since ids are assigned in a sorted order, the ids should be identical. We will confirm this before moving forward*."
   ]
  },
  {
   "cell_type": "code",
   "execution_count": null,
   "metadata": {
    "ExecuteTime": {
     "start_time": "2017-01-10T00:48:26.241Z"
    },
    "collapsed": false
   },
   "outputs": [],
   "source": [
    "input_r = survivalstan.SurvivalStanData(df=ldf, event_col='end_new_lesion',\n",
    "                                        timepoint_end_col='end_time',\n",
    "                                        sample_col='subject_id', \n",
    "                                        formula='~ X2')"
   ]
  },
  {
   "cell_type": "code",
   "execution_count": null,
   "metadata": {
    "ExecuteTime": {
     "start_time": "2017-01-10T00:48:26.732Z"
    },
    "collapsed": false
   },
   "outputs": [],
   "source": [
    "input_r.timepoint_df.describe()"
   ]
  },
  {
   "cell_type": "markdown",
   "metadata": {},
   "source": [
    "Confirm that timepoint_ids assigned are identical between the two datasets."
   ]
  },
  {
   "cell_type": "code",
   "execution_count": null,
   "metadata": {
    "ExecuteTime": {
     "start_time": "2017-01-10T00:48:28.890Z"
    },
    "collapsed": true
   },
   "outputs": [],
   "source": [
    "## check whether assigned timepoint ids are indeed identical\n",
    "timepoints_t = input_t.timepoint_df\n",
    "timepoints_r = input_r.timepoint_df\n",
    "\n",
    "merged_timepoints = pd.merge(timepoints_t, timepoints_r, on='timepoint_id', suffixes=['.t', '.r'], how='outer')\n",
    "merged_timepoints['end_time.diff'] = merged_timepoints.apply(lambda row: row['end_time.t']-row['end_time.r'], axis=1)\n",
    "assert(all(merged_timepoints['end_time.diff']==0))"
   ]
  },
  {
   "cell_type": "code",
   "execution_count": null,
   "metadata": {
    "ExecuteTime": {
     "start_time": "2017-01-10T00:48:29.305Z"
    },
    "collapsed": false
   },
   "outputs": [],
   "source": [
    "assert(len(input_r.df_nonmiss[input_r.df_nonmiss.duplicated(subset=['subject_id','end_time'])].index) == 0)"
   ]
  },
  {
   "cell_type": "markdown",
   "metadata": {
    "ExecuteTime": {
     "end_time": "2017-01-09T21:50:35.734484",
     "start_time": "2017-01-09T21:50:35.719776"
    }
   },
   "source": [
    "## combine data inputs for multiple events"
   ]
  },
  {
   "cell_type": "markdown",
   "metadata": {},
   "source": [
    "Finally we transform the data into a single dictionary to pass into Stan. "
   ]
  },
  {
   "cell_type": "markdown",
   "metadata": {},
   "source": [
    "Review keys prepared for each event type:"
   ]
  },
  {
   "cell_type": "code",
   "execution_count": null,
   "metadata": {
    "ExecuteTime": {
     "start_time": "2017-01-10T00:48:31.021Z"
    },
    "collapsed": false
   },
   "outputs": [],
   "source": [
    "input_t.data.keys()"
   ]
  },
  {
   "cell_type": "code",
   "execution_count": null,
   "metadata": {
    "ExecuteTime": {
     "start_time": "2017-01-10T00:48:31.418Z"
    },
    "collapsed": false
   },
   "outputs": [],
   "source": [
    "input_r.data.keys()"
   ]
  },
  {
   "cell_type": "markdown",
   "metadata": {},
   "source": [
    "Confirm that items which should be shared between two event types are indeed shared."
   ]
  },
  {
   "cell_type": "code",
   "execution_count": null,
   "metadata": {
    "ExecuteTime": {
     "start_time": "2017-01-10T00:48:32.202Z"
    },
    "collapsed": false
   },
   "outputs": [],
   "source": [
    "for el in ['S','M','N']:\n",
    "    assert(input_t.data[el] == input_r.data[el])\n",
    "for el in ['s','t', 't_obs','t_dur']:\n",
    "    assert((input_t.data[el] == input_r.data[el]).all())"
   ]
  },
  {
   "cell_type": "markdown",
   "metadata": {},
   "source": [
    "Prepare dictionary to pass into stan."
   ]
  },
  {
   "cell_type": "code",
   "execution_count": null,
   "metadata": {
    "ExecuteTime": {
     "start_time": "2017-01-10T00:48:32.849Z"
    },
    "collapsed": true
   },
   "outputs": [],
   "source": [
    "stan_data = {\n",
    "    'S': input_t.data['S'],\n",
    "    'T': input_t.data['T'],\n",
    "    't_obs': input_t.data['t_obs'],\n",
    "    't_dur': input_t.data['t_dur'],\n",
    "    'N': input_t.data['N'],\n",
    "    's': input_t.data['s'],\n",
    "    't': input_t.data['t'],\n",
    "    'M_t': input_t.data['M'],\n",
    "    'M_r': input_r.data['M'],\n",
    "    'event_t': input_t.data['event'],\n",
    "    'event_r': input_r.data['event'],\n",
    "    'x_t': input_t.data['x'],\n",
    "    'x_r': input_r.data['x'],\n",
    "}"
   ]
  },
  {
   "cell_type": "markdown",
   "metadata": {},
   "source": [
    "## Fit stan model to event-data only"
   ]
  },
  {
   "cell_type": "markdown",
   "metadata": {},
   "source": [
    "Let's execute this Stan model on our competing-event data.\n",
    "\n",
    "We wrap the input data in a CustomSurvivalData class so that the `fit_stan_survival_model` as written can function."
   ]
  },
  {
   "cell_type": "code",
   "execution_count": null,
   "metadata": {
    "ExecuteTime": {
     "start_time": "2017-01-10T00:48:33.954Z"
    },
    "collapsed": true
   },
   "outputs": [],
   "source": [
    "class CustomSurvivalData:\n",
    "    \n",
    "    def __init__(self, stan_data, x_df, df_nonmiss):\n",
    "        self.data = stan_data\n",
    "        self.x_df = x_df\n",
    "        self.df_nonmiss = df_nonmiss"
   ]
  },
  {
   "cell_type": "markdown",
   "metadata": {},
   "source": [
    "Finally, we fit the stan model to the simulated data."
   ]
  },
  {
   "cell_type": "code",
   "execution_count": null,
   "metadata": {
    "ExecuteTime": {
     "start_time": "2017-01-10T00:48:35.132Z"
    },
    "collapsed": false
   },
   "outputs": [],
   "source": [
    "test = survivalstan.fit_stan_survival_model(input_data=CustomSurvivalData(stan_data=stan_data,\n",
    "                                                                          x_df=input_t.x_df,\n",
    "                                                                          df_nonmiss=input_t.df_nonmiss),\n",
    "                                            file='jointmodel/jointmodel.stan',\n",
    "                                            FIT_FUN=stancache.cached_stan_fit,\n",
    "                                            iter=2000,\n",
    "                                            chains=4,\n",
    "                                           )"
   ]
  },
  {
   "cell_type": "markdown",
   "metadata": {},
   "source": [
    "# Fit joint model with biomarker"
   ]
  },
  {
   "cell_type": "markdown",
   "metadata": {},
   "source": [
    "## Add biomarker (longitudinal) data to Stan"
   ]
  },
  {
   "cell_type": "markdown",
   "metadata": {},
   "source": [
    "Next we want to include our biomarker/longitudinal data in the estimation.\n",
    "\n",
    "First we need to prepare the data matrix to include in our input_data."
   ]
  },
  {
   "cell_type": "markdown",
   "metadata": {},
   "source": [
    "Let's review the simulated biomarker data."
   ]
  },
  {
   "cell_type": "code",
   "execution_count": null,
   "metadata": {
    "ExecuteTime": {
     "start_time": "2017-01-10T00:17:07.404Z"
    },
    "collapsed": false
   },
   "outputs": [],
   "source": [
    "data['biomarker'].head()"
   ]
  },
  {
   "cell_type": "markdown",
   "metadata": {},
   "source": [
    "Merge this with simulated covariate data:"
   ]
  },
  {
   "cell_type": "code",
   "execution_count": null,
   "metadata": {
    "ExecuteTime": {
     "start_time": "2017-01-10T00:17:07.773Z"
    },
    "collapsed": true
   },
   "outputs": [],
   "source": [
    "biodf = pd.merge(data['biomarker'], data['covars'], on='subject_id')"
   ]
  },
  {
   "cell_type": "markdown",
   "metadata": {},
   "source": [
    "Prep input fields to pass to SurvivalStan:"
   ]
  },
  {
   "cell_type": "code",
   "execution_count": null,
   "metadata": {
    "ExecuteTime": {
     "start_time": "2017-01-10T00:17:08.381Z"
    },
    "collapsed": false
   },
   "outputs": [],
   "source": [
    "biomarker_data = survivalstan.SurvivalStanData(df=biodf,\n",
    "                                                  event_col='biomarker_value',\n",
    "                                                  formula='~ X1 + X2',\n",
    "                                                sample_col='subject_id',\n",
    "                                               time_col='biomarker_time'\n",
    "                                                 )\n"
   ]
  },
  {
   "cell_type": "markdown",
   "metadata": {},
   "source": [
    "(review keys)"
   ]
  },
  {
   "cell_type": "code",
   "execution_count": null,
   "metadata": {
    "ExecuteTime": {
     "start_time": "2017-01-10T00:26:21.615Z"
    },
    "collapsed": false
   },
   "outputs": [],
   "source": [
    "biomarker_data.data.keys()"
   ]
  },
  {
   "cell_type": "markdown",
   "metadata": {},
   "source": [
    "Review the non-missing data frame"
   ]
  },
  {
   "cell_type": "code",
   "execution_count": null,
   "metadata": {
    "ExecuteTime": {
     "start_time": "2017-01-10T00:17:09.432Z"
    },
    "collapsed": false
   },
   "outputs": [],
   "source": [
    "biomarker_data.df_nonmiss.head()"
   ]
  },
  {
   "cell_type": "markdown",
   "metadata": {},
   "source": [
    "Update `stan_data` dictionary to include biomarker data"
   ]
  },
  {
   "cell_type": "code",
   "execution_count": null,
   "metadata": {
    "ExecuteTime": {
     "start_time": "2017-01-10T00:17:09.870Z"
    },
    "collapsed": true
   },
   "outputs": [],
   "source": [
    "stan_data.update({'N_l': biomarker_data.data['N'],\n",
    "                 'M_l': biomarker_data.data['M'],\n",
    "                  'subject_l' : biomarker_data.df_nonmiss['sample_id'].values,\n",
    "                 'time_l': biomarker_data.df_nonmiss['biomarker_time'].values,\n",
    "                 'y_l': biomarker_data.data['y'],\n",
    "                 'x_l': biomarker_data.data['x']})"
   ]
  },
  {
   "cell_type": "markdown",
   "metadata": {},
   "source": [
    "## Fit stan model on biomarker+event data"
   ]
  },
  {
   "cell_type": "markdown",
   "metadata": {},
   "source": [
    "Finally we fit a version of our stan model including biomarker data: "
   ]
  },
  {
   "cell_type": "code",
   "execution_count": null,
   "metadata": {
    "ExecuteTime": {
     "end_time": "2017-01-10T00:08:43.192203",
     "start_time": "2017-01-10T00:02:31.475Z"
    },
    "collapsed": true
   },
   "outputs": [],
   "source": [
    "test2 = survivalstan.fit_stan_survival_model(input_data=CustomSurvivalData(stan_data=stan_data,\n",
    "                                                                          x_df=input_t.x_df,\n",
    "                                                                          df_nonmiss=input_t.df_nonmiss),\n",
    "                                             file='jointmodel/jointmodel_with_biomarker.stan',\n",
    "                                             FIT_FUN=stancache.cached_stan_fit,\n",
    "                                             iter=2000,\n",
    "                                             chains=4,\n",
    "                                             )"
   ]
  },
  {
   "cell_type": "code",
   "execution_count": null,
   "metadata": {
    "collapsed": true
   },
   "outputs": [],
   "source": []
  }
 ],
 "metadata": {
  "kernelspec": {
   "display_name": "survstan3",
   "language": "python",
   "name": "survstan3"
  },
  "language_info": {
   "codemirror_mode": {
    "name": "ipython",
    "version": 3
   },
   "file_extension": ".py",
   "mimetype": "text/x-python",
   "name": "python",
   "nbconvert_exporter": "python",
   "pygments_lexer": "ipython3",
   "version": "3.5.2"
  },
  "toc": {
   "nav_menu": {
    "height": "30px",
    "width": "252px"
   },
   "navigate_menu": true,
   "number_sections": true,
   "sideBar": true,
   "threshold": 4,
   "toc_cell": false,
   "toc_position": {
    "height": "450px",
    "left": "0px",
    "right": "1068px",
    "top": "106px",
    "width": "212px"
   },
   "toc_section_display": "block",
   "toc_window_display": true
  }
 },
 "nbformat": 4,
 "nbformat_minor": 1
}

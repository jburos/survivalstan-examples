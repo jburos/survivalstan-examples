{
 "cells": [
  {
   "cell_type": "code",
   "execution_count": 1,
   "metadata": {
    "ExecuteTime": {
     "end_time": "2017-01-14T17:19:08.675627",
     "start_time": "2017-01-14T17:19:07.568682"
    },
    "collapsed": false
   },
   "outputs": [
    {
     "name": "stdout",
     "output_type": "stream",
     "text": [
      "The autoreload extension is already loaded. To reload it, use:\n",
      "  %reload_ext autoreload\n"
     ]
    },
    {
     "name": "stderr",
     "output_type": "stream",
     "text": [
      "INFO:stancache.seed:Setting seed to 1245502385\n"
     ]
    }
   ],
   "source": [
    "%load_ext autoreload\n",
    "%autoreload 2\n",
    "%matplotlib inline\n",
    "#from jointmodel import sim\n",
    "import pandas as pd\n",
    "import sys\n",
    "import pystan\n",
    "import random\n",
    "random.seed(1234)\n",
    "import survivalstan\n",
    "from stancache import stancache\n",
    "from stancache import config"
   ]
  },
  {
   "cell_type": "markdown",
   "metadata": {},
   "source": [
    "# get simulated data"
   ]
  },
  {
   "cell_type": "code",
   "execution_count": 2,
   "metadata": {
    "ExecuteTime": {
     "end_time": "2017-01-14T17:19:08.956914",
     "start_time": "2017-01-14T17:19:08.774499"
    },
    "collapsed": false
   },
   "outputs": [],
   "source": [
    "data = survivalstan.sim.sim_data_jointmodel(N=100)"
   ]
  },
  {
   "cell_type": "markdown",
   "metadata": {},
   "source": [
    "# confirm that models compile"
   ]
  },
  {
   "cell_type": "code",
   "execution_count": 3,
   "metadata": {
    "ExecuteTime": {
     "end_time": "2017-01-14T17:19:10.614582",
     "start_time": "2017-01-14T17:19:10.570014"
    },
    "collapsed": false
   },
   "outputs": [],
   "source": [
    "model = pystan.stanc(file='jointmodel/jointmodel.stan')"
   ]
  },
  {
   "cell_type": "code",
   "execution_count": 4,
   "metadata": {
    "ExecuteTime": {
     "end_time": "2017-01-14T17:19:11.048303",
     "start_time": "2017-01-14T17:19:11.000373"
    },
    "collapsed": true
   },
   "outputs": [],
   "source": [
    "model2 = pystan.stanc(file='jointmodel/jointmodel_with_biomarker.stan')"
   ]
  },
  {
   "cell_type": "markdown",
   "metadata": {},
   "source": [
    "# Fit joint model for competing events"
   ]
  },
  {
   "cell_type": "markdown",
   "metadata": {},
   "source": [
    "## review event-data"
   ]
  },
  {
   "cell_type": "markdown",
   "metadata": {},
   "source": [
    "Inspect simulated event data"
   ]
  },
  {
   "cell_type": "code",
   "execution_count": 5,
   "metadata": {
    "ExecuteTime": {
     "end_time": "2017-01-14T17:19:12.624010",
     "start_time": "2017-01-14T17:19:12.593494"
    },
    "collapsed": false
   },
   "outputs": [
    {
     "data": {
      "text/html": [
       "<div>\n",
       "<table border=\"1\" class=\"dataframe\">\n",
       "  <thead>\n",
       "    <tr style=\"text-align: right;\">\n",
       "      <th></th>\n",
       "      <th>subject_id</th>\n",
       "      <th>time</th>\n",
       "      <th>event_name</th>\n",
       "      <th>event_value</th>\n",
       "    </tr>\n",
       "  </thead>\n",
       "  <tbody>\n",
       "    <tr>\n",
       "      <th>0</th>\n",
       "      <td>0</td>\n",
       "      <td>0.082865</td>\n",
       "      <td>death</td>\n",
       "      <td>1</td>\n",
       "    </tr>\n",
       "    <tr>\n",
       "      <th>1</th>\n",
       "      <td>1</td>\n",
       "      <td>0.210949</td>\n",
       "      <td>death</td>\n",
       "      <td>1</td>\n",
       "    </tr>\n",
       "    <tr>\n",
       "      <th>2</th>\n",
       "      <td>2</td>\n",
       "      <td>5.500000</td>\n",
       "      <td>death</td>\n",
       "      <td>0</td>\n",
       "    </tr>\n",
       "    <tr>\n",
       "      <th>3</th>\n",
       "      <td>3</td>\n",
       "      <td>1.218600</td>\n",
       "      <td>death</td>\n",
       "      <td>1</td>\n",
       "    </tr>\n",
       "    <tr>\n",
       "      <th>24</th>\n",
       "      <td>4</td>\n",
       "      <td>1.499076</td>\n",
       "      <td>new_lesion</td>\n",
       "      <td>1</td>\n",
       "    </tr>\n",
       "    <tr>\n",
       "      <th>4</th>\n",
       "      <td>4</td>\n",
       "      <td>5.500000</td>\n",
       "      <td>death</td>\n",
       "      <td>0</td>\n",
       "    </tr>\n",
       "    <tr>\n",
       "      <th>5</th>\n",
       "      <td>5</td>\n",
       "      <td>0.169179</td>\n",
       "      <td>death</td>\n",
       "      <td>1</td>\n",
       "    </tr>\n",
       "    <tr>\n",
       "      <th>36</th>\n",
       "      <td>6</td>\n",
       "      <td>0.076644</td>\n",
       "      <td>new_lesion</td>\n",
       "      <td>1</td>\n",
       "    </tr>\n",
       "    <tr>\n",
       "      <th>37</th>\n",
       "      <td>6</td>\n",
       "      <td>0.333531</td>\n",
       "      <td>new_lesion</td>\n",
       "      <td>1</td>\n",
       "    </tr>\n",
       "    <tr>\n",
       "      <th>6</th>\n",
       "      <td>6</td>\n",
       "      <td>0.399064</td>\n",
       "      <td>death</td>\n",
       "      <td>1</td>\n",
       "    </tr>\n",
       "  </tbody>\n",
       "</table>\n",
       "</div>"
      ],
      "text/plain": [
       "    subject_id      time  event_name  event_value\n",
       "0            0  0.082865       death            1\n",
       "1            1  0.210949       death            1\n",
       "2            2  5.500000       death            0\n",
       "3            3  1.218600       death            1\n",
       "24           4  1.499076  new_lesion            1\n",
       "4            4  5.500000       death            0\n",
       "5            5  0.169179       death            1\n",
       "36           6  0.076644  new_lesion            1\n",
       "37           6  0.333531  new_lesion            1\n",
       "6            6  0.399064       death            1"
      ]
     },
     "execution_count": 5,
     "metadata": {},
     "output_type": "execute_result"
    }
   ],
   "source": [
    "df = data['events']\n",
    "df.sort_values(['subject_id', 'time'])\\\n",
    "    .loc[:,['subject_id','time','event_name','event_value']]\\\n",
    "    .head(10)"
   ]
  },
  {
   "cell_type": "markdown",
   "metadata": {},
   "source": [
    "Confirm multi-event data for a particular subject"
   ]
  },
  {
   "cell_type": "code",
   "execution_count": 6,
   "metadata": {
    "ExecuteTime": {
     "end_time": "2017-01-14T17:19:16.163413",
     "start_time": "2017-01-14T17:19:16.143424"
    },
    "collapsed": false
   },
   "outputs": [],
   "source": [
    "subjects_with_multiple_events = df.groupby('subject_id').count()\n",
    "subjects_with_multiple_events = subjects_with_multiple_events[subjects_with_multiple_events['time']>1].index"
   ]
  },
  {
   "cell_type": "code",
   "execution_count": 7,
   "metadata": {
    "ExecuteTime": {
     "end_time": "2017-01-14T17:19:16.649623",
     "start_time": "2017-01-14T17:19:16.621684"
    },
    "collapsed": false
   },
   "outputs": [
    {
     "data": {
      "text/html": [
       "<div>\n",
       "<table border=\"1\" class=\"dataframe\">\n",
       "  <thead>\n",
       "    <tr style=\"text-align: right;\">\n",
       "      <th></th>\n",
       "      <th>subject_id</th>\n",
       "      <th>time</th>\n",
       "      <th>event_value</th>\n",
       "      <th>event_name</th>\n",
       "    </tr>\n",
       "  </thead>\n",
       "  <tbody>\n",
       "    <tr>\n",
       "      <th>24</th>\n",
       "      <td>4</td>\n",
       "      <td>1.499076</td>\n",
       "      <td>1</td>\n",
       "      <td>new_lesion</td>\n",
       "    </tr>\n",
       "    <tr>\n",
       "      <th>4</th>\n",
       "      <td>4</td>\n",
       "      <td>5.500000</td>\n",
       "      <td>0</td>\n",
       "      <td>death</td>\n",
       "    </tr>\n",
       "  </tbody>\n",
       "</table>\n",
       "</div>"
      ],
      "text/plain": [
       "    subject_id      time  event_value  event_name\n",
       "24           4  1.499076            1  new_lesion\n",
       "4            4  5.500000            0       death"
      ]
     },
     "execution_count": 7,
     "metadata": {},
     "output_type": "execute_result"
    }
   ],
   "source": [
    "df[df['subject_id'] == subjects_with_multiple_events[0]].sort_values(['subject_id','time'])"
   ]
  },
  {
   "cell_type": "markdown",
   "metadata": {},
   "source": [
    "Transform data to \"long\" format"
   ]
  },
  {
   "cell_type": "code",
   "execution_count": 8,
   "metadata": {
    "ExecuteTime": {
     "end_time": "2017-01-14T17:19:23.634752",
     "start_time": "2017-01-14T17:19:19.042204"
    },
    "collapsed": false
   },
   "outputs": [],
   "source": [
    "ldf = survivalstan.prep_data_long_surv(df, event_col='event_value', time_col='time',\n",
    "                                       sample_col='subject_id', event_name='event_name')"
   ]
  },
  {
   "cell_type": "markdown",
   "metadata": {},
   "source": [
    "Confirm transformed data for same subject inspected above"
   ]
  },
  {
   "cell_type": "code",
   "execution_count": 9,
   "metadata": {
    "ExecuteTime": {
     "end_time": "2017-01-14T17:19:23.672084",
     "start_time": "2017-01-14T17:19:23.636755"
    },
    "collapsed": false
   },
   "outputs": [
    {
     "data": {
      "text/html": [
       "<div>\n",
       "<table border=\"1\" class=\"dataframe\">\n",
       "  <thead>\n",
       "    <tr style=\"text-align: right;\">\n",
       "      <th></th>\n",
       "      <th>subject_id</th>\n",
       "      <th>end_time</th>\n",
       "      <th>end_death</th>\n",
       "      <th>end_new_lesion</th>\n",
       "    </tr>\n",
       "  </thead>\n",
       "  <tbody>\n",
       "    <tr>\n",
       "      <th>229</th>\n",
       "      <td>4</td>\n",
       "      <td>1.499076</td>\n",
       "      <td>0</td>\n",
       "      <td>1</td>\n",
       "    </tr>\n",
       "    <tr>\n",
       "      <th>309</th>\n",
       "      <td>4</td>\n",
       "      <td>3.264619</td>\n",
       "      <td>False</td>\n",
       "      <td>False</td>\n",
       "    </tr>\n",
       "    <tr>\n",
       "      <th>315</th>\n",
       "      <td>4</td>\n",
       "      <td>3.313581</td>\n",
       "      <td>False</td>\n",
       "      <td>False</td>\n",
       "    </tr>\n",
       "    <tr>\n",
       "      <th>306</th>\n",
       "      <td>4</td>\n",
       "      <td>3.446047</td>\n",
       "      <td>False</td>\n",
       "      <td>False</td>\n",
       "    </tr>\n",
       "    <tr>\n",
       "      <th>331</th>\n",
       "      <td>4</td>\n",
       "      <td>3.519103</td>\n",
       "      <td>False</td>\n",
       "      <td>False</td>\n",
       "    </tr>\n",
       "    <tr>\n",
       "      <th>307</th>\n",
       "      <td>4</td>\n",
       "      <td>3.761857</td>\n",
       "      <td>False</td>\n",
       "      <td>False</td>\n",
       "    </tr>\n",
       "    <tr>\n",
       "      <th>334</th>\n",
       "      <td>4</td>\n",
       "      <td>3.887449</td>\n",
       "      <td>False</td>\n",
       "      <td>False</td>\n",
       "    </tr>\n",
       "    <tr>\n",
       "      <th>341</th>\n",
       "      <td>4</td>\n",
       "      <td>3.944624</td>\n",
       "      <td>False</td>\n",
       "      <td>False</td>\n",
       "    </tr>\n",
       "    <tr>\n",
       "      <th>328</th>\n",
       "      <td>4</td>\n",
       "      <td>4.133912</td>\n",
       "      <td>False</td>\n",
       "      <td>False</td>\n",
       "    </tr>\n",
       "    <tr>\n",
       "      <th>302</th>\n",
       "      <td>4</td>\n",
       "      <td>4.279967</td>\n",
       "      <td>False</td>\n",
       "      <td>False</td>\n",
       "    </tr>\n",
       "    <tr>\n",
       "      <th>332</th>\n",
       "      <td>4</td>\n",
       "      <td>4.396648</td>\n",
       "      <td>False</td>\n",
       "      <td>False</td>\n",
       "    </tr>\n",
       "    <tr>\n",
       "      <th>304</th>\n",
       "      <td>4</td>\n",
       "      <td>4.570376</td>\n",
       "      <td>False</td>\n",
       "      <td>False</td>\n",
       "    </tr>\n",
       "    <tr>\n",
       "      <th>338</th>\n",
       "      <td>4</td>\n",
       "      <td>4.782893</td>\n",
       "      <td>False</td>\n",
       "      <td>False</td>\n",
       "    </tr>\n",
       "    <tr>\n",
       "      <th>330</th>\n",
       "      <td>4</td>\n",
       "      <td>4.799327</td>\n",
       "      <td>False</td>\n",
       "      <td>False</td>\n",
       "    </tr>\n",
       "    <tr>\n",
       "      <th>321</th>\n",
       "      <td>4</td>\n",
       "      <td>4.826487</td>\n",
       "      <td>False</td>\n",
       "      <td>False</td>\n",
       "    </tr>\n",
       "    <tr>\n",
       "      <th>339</th>\n",
       "      <td>4</td>\n",
       "      <td>5.112105</td>\n",
       "      <td>False</td>\n",
       "      <td>False</td>\n",
       "    </tr>\n",
       "    <tr>\n",
       "      <th>340</th>\n",
       "      <td>4</td>\n",
       "      <td>5.317366</td>\n",
       "      <td>False</td>\n",
       "      <td>False</td>\n",
       "    </tr>\n",
       "    <tr>\n",
       "      <th>303</th>\n",
       "      <td>4</td>\n",
       "      <td>5.346033</td>\n",
       "      <td>False</td>\n",
       "      <td>False</td>\n",
       "    </tr>\n",
       "    <tr>\n",
       "      <th>337</th>\n",
       "      <td>4</td>\n",
       "      <td>5.488271</td>\n",
       "      <td>False</td>\n",
       "      <td>False</td>\n",
       "    </tr>\n",
       "    <tr>\n",
       "      <th>300</th>\n",
       "      <td>4</td>\n",
       "      <td>5.500000</td>\n",
       "      <td>0</td>\n",
       "      <td>0</td>\n",
       "    </tr>\n",
       "  </tbody>\n",
       "</table>\n",
       "</div>"
      ],
      "text/plain": [
       "     subject_id  end_time end_death end_new_lesion\n",
       "229           4  1.499076         0              1\n",
       "309           4  3.264619     False          False\n",
       "315           4  3.313581     False          False\n",
       "306           4  3.446047     False          False\n",
       "331           4  3.519103     False          False\n",
       "307           4  3.761857     False          False\n",
       "334           4  3.887449     False          False\n",
       "341           4  3.944624     False          False\n",
       "328           4  4.133912     False          False\n",
       "302           4  4.279967     False          False\n",
       "332           4  4.396648     False          False\n",
       "304           4  4.570376     False          False\n",
       "338           4  4.782893     False          False\n",
       "330           4  4.799327     False          False\n",
       "321           4  4.826487     False          False\n",
       "339           4  5.112105     False          False\n",
       "340           4  5.317366     False          False\n",
       "303           4  5.346033     False          False\n",
       "337           4  5.488271     False          False\n",
       "300           4  5.500000         0              0"
      ]
     },
     "execution_count": 9,
     "metadata": {},
     "output_type": "execute_result"
    }
   ],
   "source": [
    "ldf[ldf['subject_id'] == subjects_with_multiple_events[0]]\\\n",
    "    .query('(end_death == 1 or end_new_lesion == 1 or end_time > 3.0)')\\\n",
    "    .sort_values(['subject_id','end_time'])"
   ]
  },
  {
   "cell_type": "markdown",
   "metadata": {},
   "source": [
    "Merge event-level data with covariate values"
   ]
  },
  {
   "cell_type": "code",
   "execution_count": 10,
   "metadata": {
    "ExecuteTime": {
     "end_time": "2017-01-14T17:19:30.443712",
     "start_time": "2017-01-14T17:19:30.424322"
    },
    "collapsed": false
   },
   "outputs": [],
   "source": [
    "ldf = pd.merge(ldf, data['covars'], on='subject_id', how='outer')"
   ]
  },
  {
   "cell_type": "markdown",
   "metadata": {},
   "source": [
    "## prepare inputs for stan model"
   ]
  },
  {
   "cell_type": "markdown",
   "metadata": {},
   "source": [
    "This part is done more manually now since the `survivalstan` code hasn't been written"
   ]
  },
  {
   "cell_type": "markdown",
   "metadata": {},
   "source": [
    "First we prepare input matrices for terminal event (death)."
   ]
  },
  {
   "cell_type": "code",
   "execution_count": 11,
   "metadata": {
    "ExecuteTime": {
     "end_time": "2017-01-14T17:19:33.256620",
     "start_time": "2017-01-14T17:19:33.143525"
    },
    "collapsed": false
   },
   "outputs": [],
   "source": [
    "input_t = survivalstan.SurvivalStanData(df=ldf,\n",
    "                                        event_col='end_death',\n",
    "                                        timepoint_end_col='end_time',\n",
    "                                        sample_col='subject_id',\n",
    "                                        formula = '~ X1') "
   ]
  },
  {
   "cell_type": "code",
   "execution_count": 12,
   "metadata": {
    "ExecuteTime": {
     "end_time": "2017-01-14T17:19:33.946182",
     "start_time": "2017-01-14T17:19:33.912713"
    },
    "collapsed": false
   },
   "outputs": [
    {
     "data": {
      "text/html": [
       "<div>\n",
       "<table border=\"1\" class=\"dataframe\">\n",
       "  <thead>\n",
       "    <tr style=\"text-align: right;\">\n",
       "      <th></th>\n",
       "      <th>timepoint_id</th>\n",
       "      <th>end_time</th>\n",
       "      <th>t_dur</th>\n",
       "    </tr>\n",
       "  </thead>\n",
       "  <tbody>\n",
       "    <tr>\n",
       "      <th>count</th>\n",
       "      <td>116.000000</td>\n",
       "      <td>116.000000</td>\n",
       "      <td>116.000000</td>\n",
       "    </tr>\n",
       "    <tr>\n",
       "      <th>mean</th>\n",
       "      <td>58.500000</td>\n",
       "      <td>1.464706</td>\n",
       "      <td>0.047414</td>\n",
       "    </tr>\n",
       "    <tr>\n",
       "      <th>std</th>\n",
       "      <td>33.630343</td>\n",
       "      <td>1.548720</td>\n",
       "      <td>0.062803</td>\n",
       "    </tr>\n",
       "    <tr>\n",
       "      <th>min</th>\n",
       "      <td>1.000000</td>\n",
       "      <td>0.001568</td>\n",
       "      <td>0.000300</td>\n",
       "    </tr>\n",
       "    <tr>\n",
       "      <th>25%</th>\n",
       "      <td>29.750000</td>\n",
       "      <td>0.289993</td>\n",
       "      <td>0.007335</td>\n",
       "    </tr>\n",
       "    <tr>\n",
       "      <th>50%</th>\n",
       "      <td>58.500000</td>\n",
       "      <td>0.837722</td>\n",
       "      <td>0.021239</td>\n",
       "    </tr>\n",
       "    <tr>\n",
       "      <th>75%</th>\n",
       "      <td>87.250000</td>\n",
       "      <td>2.261291</td>\n",
       "      <td>0.058398</td>\n",
       "    </tr>\n",
       "    <tr>\n",
       "      <th>max</th>\n",
       "      <td>116.000000</td>\n",
       "      <td>5.500000</td>\n",
       "      <td>0.299062</td>\n",
       "    </tr>\n",
       "  </tbody>\n",
       "</table>\n",
       "</div>"
      ],
      "text/plain": [
       "       timepoint_id    end_time       t_dur\n",
       "count    116.000000  116.000000  116.000000\n",
       "mean      58.500000    1.464706    0.047414\n",
       "std       33.630343    1.548720    0.062803\n",
       "min        1.000000    0.001568    0.000300\n",
       "25%       29.750000    0.289993    0.007335\n",
       "50%       58.500000    0.837722    0.021239\n",
       "75%       87.250000    2.261291    0.058398\n",
       "max      116.000000    5.500000    0.299062"
      ]
     },
     "execution_count": 12,
     "metadata": {},
     "output_type": "execute_result"
    }
   ],
   "source": [
    "input_t.timepoint_df.describe()"
   ]
  },
  {
   "cell_type": "markdown",
   "metadata": {
    "ExecuteTime": {
     "start_time": "2017-01-10T00:16:59.349Z"
    },
    "collapsed": true
   },
   "source": [
    "Next we prepare the input matrices for recurrent event (new_lesion).\n",
    "\n",
    "*in theory, since ids are assigned in a sorted order, the ids should be identical. We will confirm this before moving forward*."
   ]
  },
  {
   "cell_type": "code",
   "execution_count": 13,
   "metadata": {
    "ExecuteTime": {
     "end_time": "2017-01-14T17:19:40.657347",
     "start_time": "2017-01-14T17:19:40.552646"
    },
    "collapsed": false
   },
   "outputs": [],
   "source": [
    "input_r = survivalstan.SurvivalStanData(df=ldf, event_col='end_new_lesion',\n",
    "                                        timepoint_end_col='end_time',\n",
    "                                        sample_col='subject_id', \n",
    "                                        formula='~ X2')"
   ]
  },
  {
   "cell_type": "code",
   "execution_count": 14,
   "metadata": {
    "ExecuteTime": {
     "end_time": "2017-01-14T17:19:41.209437",
     "start_time": "2017-01-14T17:19:41.178027"
    },
    "collapsed": false
   },
   "outputs": [
    {
     "data": {
      "text/html": [
       "<div>\n",
       "<table border=\"1\" class=\"dataframe\">\n",
       "  <thead>\n",
       "    <tr style=\"text-align: right;\">\n",
       "      <th></th>\n",
       "      <th>timepoint_id</th>\n",
       "      <th>end_time</th>\n",
       "      <th>t_dur</th>\n",
       "    </tr>\n",
       "  </thead>\n",
       "  <tbody>\n",
       "    <tr>\n",
       "      <th>count</th>\n",
       "      <td>116.000000</td>\n",
       "      <td>116.000000</td>\n",
       "      <td>116.000000</td>\n",
       "    </tr>\n",
       "    <tr>\n",
       "      <th>mean</th>\n",
       "      <td>58.500000</td>\n",
       "      <td>1.464706</td>\n",
       "      <td>0.047414</td>\n",
       "    </tr>\n",
       "    <tr>\n",
       "      <th>std</th>\n",
       "      <td>33.630343</td>\n",
       "      <td>1.548720</td>\n",
       "      <td>0.062803</td>\n",
       "    </tr>\n",
       "    <tr>\n",
       "      <th>min</th>\n",
       "      <td>1.000000</td>\n",
       "      <td>0.001568</td>\n",
       "      <td>0.000300</td>\n",
       "    </tr>\n",
       "    <tr>\n",
       "      <th>25%</th>\n",
       "      <td>29.750000</td>\n",
       "      <td>0.289993</td>\n",
       "      <td>0.007335</td>\n",
       "    </tr>\n",
       "    <tr>\n",
       "      <th>50%</th>\n",
       "      <td>58.500000</td>\n",
       "      <td>0.837722</td>\n",
       "      <td>0.021239</td>\n",
       "    </tr>\n",
       "    <tr>\n",
       "      <th>75%</th>\n",
       "      <td>87.250000</td>\n",
       "      <td>2.261291</td>\n",
       "      <td>0.058398</td>\n",
       "    </tr>\n",
       "    <tr>\n",
       "      <th>max</th>\n",
       "      <td>116.000000</td>\n",
       "      <td>5.500000</td>\n",
       "      <td>0.299062</td>\n",
       "    </tr>\n",
       "  </tbody>\n",
       "</table>\n",
       "</div>"
      ],
      "text/plain": [
       "       timepoint_id    end_time       t_dur\n",
       "count    116.000000  116.000000  116.000000\n",
       "mean      58.500000    1.464706    0.047414\n",
       "std       33.630343    1.548720    0.062803\n",
       "min        1.000000    0.001568    0.000300\n",
       "25%       29.750000    0.289993    0.007335\n",
       "50%       58.500000    0.837722    0.021239\n",
       "75%       87.250000    2.261291    0.058398\n",
       "max      116.000000    5.500000    0.299062"
      ]
     },
     "execution_count": 14,
     "metadata": {},
     "output_type": "execute_result"
    }
   ],
   "source": [
    "input_r.timepoint_df.describe()"
   ]
  },
  {
   "cell_type": "markdown",
   "metadata": {},
   "source": [
    "Confirm that timepoint_ids assigned are identical between the two datasets."
   ]
  },
  {
   "cell_type": "code",
   "execution_count": 15,
   "metadata": {
    "ExecuteTime": {
     "end_time": "2017-01-14T17:19:42.439192",
     "start_time": "2017-01-14T17:19:42.412766"
    },
    "collapsed": true
   },
   "outputs": [],
   "source": [
    "## check whether assigned timepoint ids are indeed identical\n",
    "timepoints_t = input_t.timepoint_df\n",
    "timepoints_r = input_r.timepoint_df\n",
    "\n",
    "merged_timepoints = pd.merge(timepoints_t, timepoints_r, on='timepoint_id', suffixes=['.t', '.r'], how='outer')\n",
    "merged_timepoints['end_time.diff'] = merged_timepoints.apply(lambda row: row['end_time.t']-row['end_time.r'], axis=1)\n",
    "assert(all(merged_timepoints['end_time.diff']==0))"
   ]
  },
  {
   "cell_type": "code",
   "execution_count": 16,
   "metadata": {
    "ExecuteTime": {
     "end_time": "2017-01-14T17:19:42.925854",
     "start_time": "2017-01-14T17:19:42.907903"
    },
    "collapsed": false
   },
   "outputs": [],
   "source": [
    "assert(len(input_r.df_nonmiss[input_r.df_nonmiss.duplicated(subset=['subject_id','end_time'])].index) == 0)"
   ]
  },
  {
   "cell_type": "markdown",
   "metadata": {
    "ExecuteTime": {
     "end_time": "2017-01-09T21:50:35.734484",
     "start_time": "2017-01-09T21:50:35.719776"
    }
   },
   "source": [
    "## combine data inputs for multiple events"
   ]
  },
  {
   "cell_type": "markdown",
   "metadata": {},
   "source": [
    "Finally we transform the data into a single dictionary to pass into Stan. "
   ]
  },
  {
   "cell_type": "markdown",
   "metadata": {},
   "source": [
    "Review keys prepared for each event type:"
   ]
  },
  {
   "cell_type": "code",
   "execution_count": 17,
   "metadata": {
    "ExecuteTime": {
     "end_time": "2017-01-14T17:19:44.633570",
     "start_time": "2017-01-14T17:19:44.616537"
    },
    "collapsed": false
   },
   "outputs": [
    {
     "data": {
      "text/plain": [
       "dict_keys(['t', 'N', 'T', 's', 'S', 't_dur', 'M', 't_obs', 'event', 'x'])"
      ]
     },
     "execution_count": 17,
     "metadata": {},
     "output_type": "execute_result"
    }
   ],
   "source": [
    "input_t.data.keys()"
   ]
  },
  {
   "cell_type": "code",
   "execution_count": 18,
   "metadata": {
    "ExecuteTime": {
     "end_time": "2017-01-14T17:19:45.233307",
     "start_time": "2017-01-14T17:19:45.216531"
    },
    "collapsed": false
   },
   "outputs": [
    {
     "data": {
      "text/plain": [
       "dict_keys(['t', 'N', 'T', 's', 'S', 't_dur', 'M', 't_obs', 'event', 'x'])"
      ]
     },
     "execution_count": 18,
     "metadata": {},
     "output_type": "execute_result"
    }
   ],
   "source": [
    "input_r.data.keys()"
   ]
  },
  {
   "cell_type": "markdown",
   "metadata": {},
   "source": [
    "Confirm that items which should be shared between two event types are indeed shared."
   ]
  },
  {
   "cell_type": "code",
   "execution_count": 19,
   "metadata": {
    "ExecuteTime": {
     "end_time": "2017-01-14T17:19:46.461745",
     "start_time": "2017-01-14T17:19:46.443506"
    },
    "collapsed": false
   },
   "outputs": [],
   "source": [
    "for el in ['S','M','N']:\n",
    "    assert(input_t.data[el] == input_r.data[el])\n",
    "for el in ['s','t', 't_obs','t_dur']:\n",
    "    assert((input_t.data[el] == input_r.data[el]).all())"
   ]
  },
  {
   "cell_type": "markdown",
   "metadata": {},
   "source": [
    "Prepare dictionary to pass into stan."
   ]
  },
  {
   "cell_type": "code",
   "execution_count": 20,
   "metadata": {
    "ExecuteTime": {
     "end_time": "2017-01-14T17:19:47.416622",
     "start_time": "2017-01-14T17:19:47.395276"
    },
    "collapsed": true
   },
   "outputs": [],
   "source": [
    "stan_data = {\n",
    "    'S': input_t.data['S'],\n",
    "    'T': input_t.data['T'],\n",
    "    't_obs': input_t.data['t_obs'],\n",
    "    't_dur': input_t.data['t_dur'],\n",
    "    'N': input_t.data['N'],\n",
    "    's': input_t.data['s'],\n",
    "    't': input_t.data['t'],\n",
    "    'M_t': input_t.data['M'],\n",
    "    'M_r': input_r.data['M'],\n",
    "    'event_t': input_t.data['event'],\n",
    "    'event_r': input_r.data['event'],\n",
    "    'x_t': input_t.data['x'],\n",
    "    'x_r': input_r.data['x'],\n",
    "}"
   ]
  },
  {
   "cell_type": "markdown",
   "metadata": {},
   "source": [
    "## Fit stan model to event-data only"
   ]
  },
  {
   "cell_type": "markdown",
   "metadata": {},
   "source": [
    "Let's execute this Stan model on our competing-event data.\n",
    "\n",
    "We wrap the input data in a CustomSurvivalData class so that the `fit_stan_survival_model` as written can function."
   ]
  },
  {
   "cell_type": "code",
   "execution_count": 21,
   "metadata": {
    "ExecuteTime": {
     "end_time": "2017-01-14T17:19:49.029173",
     "start_time": "2017-01-14T17:19:49.006914"
    },
    "collapsed": true
   },
   "outputs": [],
   "source": [
    "class CustomSurvivalData:\n",
    "    \n",
    "    def __init__(self, stan_data, x_df, df_nonmiss, df=None,\n",
    "                 sample_col=None, sample_id_col=None,\n",
    "                 group_id_col=None, \n",
    "                 timepoint_id_col=None, timepoint_end_col=None):\n",
    "        self.data = stan_data\n",
    "        self.x_df = x_df\n",
    "        self.df_nonmiss = df_nonmiss\n",
    "        self.group_id_col = group_id_col\n",
    "        self.sample_col = sample_col\n",
    "        self.sample_id_col = sample_id_col\n",
    "        self.timepoint_id_col = timepoint_id_col\n",
    "        self.timepoint_end_col = timepoint_end_col\n",
    "        if df is None:\n",
    "            self.df = df_nonmiss"
   ]
  },
  {
   "cell_type": "markdown",
   "metadata": {},
   "source": [
    "Finally, we fit the stan model to the simulated data."
   ]
  },
  {
   "cell_type": "code",
   "execution_count": 22,
   "metadata": {
    "ExecuteTime": {
     "end_time": "2017-01-14T19:40:26.704368",
     "start_time": "2017-01-14T17:19:51.098279"
    },
    "collapsed": false
   },
   "outputs": [
    {
     "name": "stderr",
     "output_type": "stream",
     "text": [
      "INFO:stancache.stancache:Step 1: Get compiled model code, possibly from cache\n",
      "INFO:stancache.stancache:StanModel: cache_filename set to anon_model.cython_0_25_2.model_code_8947126159220755323.pystan_2_12_0_0.stanmodel.pkl\n",
      "INFO:stancache.stancache:StanModel: Starting execution\n",
      "INFO:pystan:COMPILING THE C++ CODE FOR MODEL anon_model_682ac6962d1df5e1fcc4da538f356a71 NOW.\n",
      "INFO:stancache.stancache:StanModel: Execution completed (0:01:06.489617 elapsed)\n",
      "INFO:stancache.stancache:StanModel: Saving results to cache\n",
      "INFO:stancache.stancache:Step 2: Get posterior draws from model, possibly from cache\n",
      "INFO:stancache.stancache:sampling: cache_filename set to anon_model.cython_0_25_2.model_code_8947126159220755323.pystan_2_12_0_0.stanfit.chains_4.data_49523170025.iter_4000.seed_1245502385.pkl\n",
      "INFO:stancache.stancache:sampling: Starting execution\n",
      "INFO:stancache.stancache:sampling: Execution completed (2:18:39.972615 elapsed)\n",
      "INFO:stancache.stancache:sampling: Saving results to cache\n",
      "/home/jacquelineburos/projects/stancache/stancache/stancache.py:285: UserWarning: Pickling fit objects is an experimental feature!\n",
      "The relevant StanModel instance must be pickled along with this fit object.\n",
      "When unpickling the StanModel must be unpickled first.\n",
      "  pickle.dump(res, open(cache_filepath, 'wb'), pickle.HIGHEST_PROTOCOL)\n"
     ]
    }
   ],
   "source": [
    "test = survivalstan.fit_stan_survival_model(input_data=CustomSurvivalData(stan_data=stan_data,\n",
    "                                                                          x_df=input_t.x_df,\n",
    "                                                                          df_nonmiss=input_t.df_nonmiss,\n",
    "                                                                          sample_col='subject_id',\n",
    "                                                                          sample_id_col='sample_id',\n",
    "                                                                         timepoint_id_col='timepoint_id',\n",
    "                                                                         timepoint_end_col='end_time'),\n",
    "                                            file='jointmodel/jointmodel.stan',\n",
    "                                            FIT_FUN=stancache.cached_stan_fit,\n",
    "                                            iter=4000,\n",
    "                                            chains=4,\n",
    "                                           )"
   ]
  },
  {
   "cell_type": "code",
   "execution_count": null,
   "metadata": {
    "ExecuteTime": {
     "start_time": "2017-01-16T17:12:46.034Z"
    },
    "collapsed": false
   },
   "outputs": [],
   "source": [
    "survivalstan.utils.plot_stan_summary([test])"
   ]
  },
  {
   "cell_type": "markdown",
   "metadata": {},
   "source": [
    "# Fit joint model with biomarker"
   ]
  },
  {
   "cell_type": "markdown",
   "metadata": {},
   "source": [
    "## Add biomarker (longitudinal) data to Stan"
   ]
  },
  {
   "cell_type": "markdown",
   "metadata": {},
   "source": [
    "Next we want to include our biomarker/longitudinal data in the estimation.\n",
    "\n",
    "First we need to prepare the data matrix to include in our input_data."
   ]
  },
  {
   "cell_type": "markdown",
   "metadata": {},
   "source": [
    "Let's review the simulated biomarker data."
   ]
  },
  {
   "cell_type": "code",
   "execution_count": null,
   "metadata": {
    "ExecuteTime": {
     "end_time": "2017-01-16T17:12:42.805052",
     "start_time": "2017-01-16T17:12:39.332Z"
    },
    "collapsed": false
   },
   "outputs": [],
   "source": [
    "data['biomarker'].head()"
   ]
  },
  {
   "cell_type": "markdown",
   "metadata": {},
   "source": [
    "Merge this with simulated covariate data:"
   ]
  },
  {
   "cell_type": "code",
   "execution_count": null,
   "metadata": {
    "ExecuteTime": {
     "start_time": "2017-01-10T00:17:07.773Z"
    },
    "collapsed": true
   },
   "outputs": [],
   "source": [
    "biodf = pd.merge(data['biomarker'], data['covars'], on='subject_id')"
   ]
  },
  {
   "cell_type": "markdown",
   "metadata": {},
   "source": [
    "Prep input fields to pass to SurvivalStan:"
   ]
  },
  {
   "cell_type": "code",
   "execution_count": null,
   "metadata": {
    "ExecuteTime": {
     "start_time": "2017-01-10T00:17:08.381Z"
    },
    "collapsed": false
   },
   "outputs": [],
   "source": [
    "biomarker_data = survivalstan.SurvivalStanData(df=biodf,\n",
    "                                               event_col='biomarker_value',\n",
    "                                               formula='~ X1 + X2',\n",
    "                                               sample_col='subject_id',\n",
    "                                               time_col='biomarker_time'\n",
    "                                               )\n"
   ]
  },
  {
   "cell_type": "markdown",
   "metadata": {},
   "source": [
    "(review keys)"
   ]
  },
  {
   "cell_type": "code",
   "execution_count": null,
   "metadata": {
    "ExecuteTime": {
     "start_time": "2017-01-10T00:26:21.615Z"
    },
    "collapsed": false
   },
   "outputs": [],
   "source": [
    "biomarker_data.data.keys()"
   ]
  },
  {
   "cell_type": "markdown",
   "metadata": {},
   "source": [
    "Review the non-missing data frame"
   ]
  },
  {
   "cell_type": "code",
   "execution_count": null,
   "metadata": {
    "ExecuteTime": {
     "start_time": "2017-01-10T00:17:09.432Z"
    },
    "collapsed": false
   },
   "outputs": [],
   "source": [
    "biomarker_data.df_nonmiss.head()"
   ]
  },
  {
   "cell_type": "markdown",
   "metadata": {},
   "source": [
    "Update `stan_data` dictionary to include biomarker data"
   ]
  },
  {
   "cell_type": "code",
   "execution_count": null,
   "metadata": {
    "ExecuteTime": {
     "start_time": "2017-01-10T00:17:09.870Z"
    },
    "collapsed": true
   },
   "outputs": [],
   "source": [
    "stan_data.update({'N_l': biomarker_data.data['N'],\n",
    "                 'M_l': biomarker_data.data['M'],\n",
    "                  'subject_l' : biomarker_data.df_nonmiss['sample_id'].values,\n",
    "                 'time_l': biomarker_data.df_nonmiss['biomarker_time'].values,\n",
    "                 'y_l': biomarker_data.data['y'],\n",
    "                 'x_l': biomarker_data.data['x']})"
   ]
  },
  {
   "cell_type": "markdown",
   "metadata": {},
   "source": [
    "## Fit stan model on biomarker+event data"
   ]
  },
  {
   "cell_type": "markdown",
   "metadata": {},
   "source": [
    "Finally we fit a version of our stan model including biomarker data: "
   ]
  },
  {
   "cell_type": "code",
   "execution_count": null,
   "metadata": {
    "ExecuteTime": {
     "end_time": "2017-01-10T00:08:43.192203",
     "start_time": "2017-01-10T00:02:31.475Z"
    },
    "collapsed": true
   },
   "outputs": [],
   "source": [
    "test2 = survivalstan.fit_stan_survival_model(input_data=CustomSurvivalData(stan_data=stan_data,\n",
    "                                                                          x_df=input_t.x_df,\n",
    "                                                                          df_nonmiss=input_t.df_nonmiss),\n",
    "                                             file='jointmodel/jointmodel_with_biomarker.stan',\n",
    "                                             FIT_FUN=stancache.cached_stan_fit,\n",
    "                                             iter=2000,\n",
    "                                             chains=4,\n",
    "                                             )"
   ]
  },
  {
   "cell_type": "code",
   "execution_count": null,
   "metadata": {
    "collapsed": true
   },
   "outputs": [],
   "source": []
  }
 ],
 "metadata": {
  "kernelspec": {
   "display_name": "survstan3",
   "language": "python",
   "name": "survstan3"
  },
  "toc": {
   "nav_menu": {
    "height": "30px",
    "width": "252px"
   },
   "navigate_menu": true,
   "number_sections": true,
   "sideBar": true,
   "threshold": 4,
   "toc_cell": false,
   "toc_position": {
    "height": "450px",
    "left": "0px",
    "right": "1068px",
    "top": "106px",
    "width": "212px"
   },
   "toc_section_display": "block",
   "toc_window_display": true
  }
 },
 "nbformat": 4,
 "nbformat_minor": 1
}

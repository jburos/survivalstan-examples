{
 "cells": [
  {
   "cell_type": "code",
   "execution_count": 1,
   "metadata": {
    "ExecuteTime": {
     "end_time": "2017-01-17T13:24:46.014722",
     "start_time": "2017-01-17T13:24:44.940651"
    },
    "collapsed": false
   },
   "outputs": [
    {
     "name": "stdout",
     "output_type": "stream",
     "text": [
      "The autoreload extension is already loaded. To reload it, use:\n",
      "  %reload_ext autoreload\n"
     ]
    },
    {
     "name": "stderr",
     "output_type": "stream",
     "text": [
      "INFO:stancache.seed:Setting seed to 1245502385\n"
     ]
    }
   ],
   "source": [
    "%load_ext autoreload\n",
    "%autoreload 2\n",
    "%matplotlib inline\n",
    "#from jointmodel import sim\n",
    "import pandas as pd\n",
    "import sys\n",
    "import pystan\n",
    "import random\n",
    "random.seed(1234)\n",
    "import survivalstan\n",
    "from stancache import stancache\n",
    "from stancache import config"
   ]
  },
  {
   "cell_type": "markdown",
   "metadata": {},
   "source": [
    "# get simulated data"
   ]
  },
  {
   "cell_type": "code",
   "execution_count": 2,
   "metadata": {
    "ExecuteTime": {
     "end_time": "2017-01-17T13:24:46.171504",
     "start_time": "2017-01-17T13:24:46.021970"
    },
    "collapsed": false
   },
   "outputs": [],
   "source": [
    "data = survivalstan.sim.sim_data_jointmodel(N=100)"
   ]
  },
  {
   "cell_type": "markdown",
   "metadata": {},
   "source": [
    "# confirm that models compile"
   ]
  },
  {
   "cell_type": "code",
   "execution_count": 3,
   "metadata": {
    "ExecuteTime": {
     "end_time": "2017-01-17T13:24:47.481499",
     "start_time": "2017-01-17T13:24:47.436079"
    },
    "collapsed": false
   },
   "outputs": [],
   "source": [
    "model = pystan.stanc(file='jointmodel/jointmodel.stan')"
   ]
  },
  {
   "cell_type": "code",
   "execution_count": 4,
   "metadata": {
    "ExecuteTime": {
     "end_time": "2017-01-17T13:24:47.751955",
     "start_time": "2017-01-17T13:24:47.705669"
    },
    "collapsed": true
   },
   "outputs": [],
   "source": [
    "model2 = pystan.stanc(file='jointmodel/jointmodel_with_biomarker.stan')"
   ]
  },
  {
   "cell_type": "markdown",
   "metadata": {},
   "source": [
    "# Fit joint model for competing events"
   ]
  },
  {
   "cell_type": "markdown",
   "metadata": {},
   "source": [
    "## review event-data"
   ]
  },
  {
   "cell_type": "markdown",
   "metadata": {},
   "source": [
    "Inspect simulated event data"
   ]
  },
  {
   "cell_type": "code",
   "execution_count": 5,
   "metadata": {
    "ExecuteTime": {
     "end_time": "2017-01-17T13:24:48.986053",
     "start_time": "2017-01-17T13:24:48.955133"
    },
    "collapsed": false
   },
   "outputs": [
    {
     "data": {
      "text/html": [
       "<div>\n",
       "<table border=\"1\" class=\"dataframe\">\n",
       "  <thead>\n",
       "    <tr style=\"text-align: right;\">\n",
       "      <th></th>\n",
       "      <th>subject_id</th>\n",
       "      <th>time</th>\n",
       "      <th>event_name</th>\n",
       "      <th>event_value</th>\n",
       "    </tr>\n",
       "  </thead>\n",
       "  <tbody>\n",
       "    <tr>\n",
       "      <th>0</th>\n",
       "      <td>0</td>\n",
       "      <td>1.465865</td>\n",
       "      <td>death</td>\n",
       "      <td>1</td>\n",
       "    </tr>\n",
       "    <tr>\n",
       "      <th>1</th>\n",
       "      <td>1</td>\n",
       "      <td>0.011575</td>\n",
       "      <td>death</td>\n",
       "      <td>1</td>\n",
       "    </tr>\n",
       "    <tr>\n",
       "      <th>2</th>\n",
       "      <td>2</td>\n",
       "      <td>2.139365</td>\n",
       "      <td>death</td>\n",
       "      <td>1</td>\n",
       "    </tr>\n",
       "    <tr>\n",
       "      <th>3</th>\n",
       "      <td>3</td>\n",
       "      <td>0.498628</td>\n",
       "      <td>death</td>\n",
       "      <td>1</td>\n",
       "    </tr>\n",
       "    <tr>\n",
       "      <th>4</th>\n",
       "      <td>4</td>\n",
       "      <td>1.084278</td>\n",
       "      <td>death</td>\n",
       "      <td>1</td>\n",
       "    </tr>\n",
       "    <tr>\n",
       "      <th>30</th>\n",
       "      <td>5</td>\n",
       "      <td>3.148240</td>\n",
       "      <td>new_lesion</td>\n",
       "      <td>1</td>\n",
       "    </tr>\n",
       "    <tr>\n",
       "      <th>31</th>\n",
       "      <td>5</td>\n",
       "      <td>4.887824</td>\n",
       "      <td>new_lesion</td>\n",
       "      <td>1</td>\n",
       "    </tr>\n",
       "    <tr>\n",
       "      <th>5</th>\n",
       "      <td>5</td>\n",
       "      <td>5.500000</td>\n",
       "      <td>death</td>\n",
       "      <td>0</td>\n",
       "    </tr>\n",
       "    <tr>\n",
       "      <th>6</th>\n",
       "      <td>6</td>\n",
       "      <td>0.266337</td>\n",
       "      <td>death</td>\n",
       "      <td>1</td>\n",
       "    </tr>\n",
       "    <tr>\n",
       "      <th>7</th>\n",
       "      <td>7</td>\n",
       "      <td>0.045406</td>\n",
       "      <td>death</td>\n",
       "      <td>1</td>\n",
       "    </tr>\n",
       "  </tbody>\n",
       "</table>\n",
       "</div>"
      ],
      "text/plain": [
       "    subject_id      time  event_name  event_value\n",
       "0            0  1.465865       death            1\n",
       "1            1  0.011575       death            1\n",
       "2            2  2.139365       death            1\n",
       "3            3  0.498628       death            1\n",
       "4            4  1.084278       death            1\n",
       "30           5  3.148240  new_lesion            1\n",
       "31           5  4.887824  new_lesion            1\n",
       "5            5  5.500000       death            0\n",
       "6            6  0.266337       death            1\n",
       "7            7  0.045406       death            1"
      ]
     },
     "execution_count": 5,
     "metadata": {},
     "output_type": "execute_result"
    }
   ],
   "source": [
    "df = data['events']\n",
    "df.sort_values(['subject_id', 'time'])\\\n",
    "    .loc[:,['subject_id','time','event_name','event_value']]\\\n",
    "    .head(10)"
   ]
  },
  {
   "cell_type": "markdown",
   "metadata": {},
   "source": [
    "Confirm multi-event data for a particular subject"
   ]
  },
  {
   "cell_type": "code",
   "execution_count": 6,
   "metadata": {
    "ExecuteTime": {
     "end_time": "2017-01-17T13:24:49.779794",
     "start_time": "2017-01-17T13:24:49.759471"
    },
    "collapsed": false
   },
   "outputs": [],
   "source": [
    "subjects_with_multiple_events = df.groupby('subject_id').count()\n",
    "subjects_with_multiple_events = subjects_with_multiple_events[subjects_with_multiple_events['time']>1].index"
   ]
  },
  {
   "cell_type": "code",
   "execution_count": 7,
   "metadata": {
    "ExecuteTime": {
     "end_time": "2017-01-17T13:24:50.050796",
     "start_time": "2017-01-17T13:24:50.024931"
    },
    "collapsed": false
   },
   "outputs": [
    {
     "data": {
      "text/html": [
       "<div>\n",
       "<table border=\"1\" class=\"dataframe\">\n",
       "  <thead>\n",
       "    <tr style=\"text-align: right;\">\n",
       "      <th></th>\n",
       "      <th>subject_id</th>\n",
       "      <th>time</th>\n",
       "      <th>event_value</th>\n",
       "      <th>event_name</th>\n",
       "    </tr>\n",
       "  </thead>\n",
       "  <tbody>\n",
       "    <tr>\n",
       "      <th>30</th>\n",
       "      <td>5</td>\n",
       "      <td>3.148240</td>\n",
       "      <td>1</td>\n",
       "      <td>new_lesion</td>\n",
       "    </tr>\n",
       "    <tr>\n",
       "      <th>31</th>\n",
       "      <td>5</td>\n",
       "      <td>4.887824</td>\n",
       "      <td>1</td>\n",
       "      <td>new_lesion</td>\n",
       "    </tr>\n",
       "    <tr>\n",
       "      <th>5</th>\n",
       "      <td>5</td>\n",
       "      <td>5.500000</td>\n",
       "      <td>0</td>\n",
       "      <td>death</td>\n",
       "    </tr>\n",
       "  </tbody>\n",
       "</table>\n",
       "</div>"
      ],
      "text/plain": [
       "    subject_id      time  event_value  event_name\n",
       "30           5  3.148240            1  new_lesion\n",
       "31           5  4.887824            1  new_lesion\n",
       "5            5  5.500000            0       death"
      ]
     },
     "execution_count": 7,
     "metadata": {},
     "output_type": "execute_result"
    }
   ],
   "source": [
    "df[df['subject_id'] == subjects_with_multiple_events[0]].sort_values(['subject_id','time'])"
   ]
  },
  {
   "cell_type": "markdown",
   "metadata": {},
   "source": [
    "Transform data to \"long\" format"
   ]
  },
  {
   "cell_type": "code",
   "execution_count": 8,
   "metadata": {
    "ExecuteTime": {
     "end_time": "2017-01-17T13:24:54.942675",
     "start_time": "2017-01-17T13:24:50.540652"
    },
    "collapsed": false
   },
   "outputs": [],
   "source": [
    "ldf = survivalstan.prep_data_long_surv(df, event_col='event_value', time_col='time',\n",
    "                                       sample_col='subject_id', event_name='event_name')"
   ]
  },
  {
   "cell_type": "markdown",
   "metadata": {},
   "source": [
    "Confirm transformed data for same subject inspected above"
   ]
  },
  {
   "cell_type": "code",
   "execution_count": 9,
   "metadata": {
    "ExecuteTime": {
     "end_time": "2017-01-17T13:24:54.980048",
     "start_time": "2017-01-17T13:24:54.944637"
    },
    "collapsed": false
   },
   "outputs": [
    {
     "data": {
      "text/html": [
       "<div>\n",
       "<table border=\"1\" class=\"dataframe\">\n",
       "  <thead>\n",
       "    <tr style=\"text-align: right;\">\n",
       "      <th></th>\n",
       "      <th>subject_id</th>\n",
       "      <th>end_time</th>\n",
       "      <th>end_death</th>\n",
       "      <th>end_new_lesion</th>\n",
       "    </tr>\n",
       "  </thead>\n",
       "  <tbody>\n",
       "    <tr>\n",
       "      <th>302</th>\n",
       "      <td>5</td>\n",
       "      <td>3.000060</td>\n",
       "      <td>False</td>\n",
       "      <td>False</td>\n",
       "    </tr>\n",
       "    <tr>\n",
       "      <th>314</th>\n",
       "      <td>5</td>\n",
       "      <td>3.057672</td>\n",
       "      <td>False</td>\n",
       "      <td>False</td>\n",
       "    </tr>\n",
       "    <tr>\n",
       "      <th>293</th>\n",
       "      <td>5</td>\n",
       "      <td>3.148240</td>\n",
       "      <td>0</td>\n",
       "      <td>1</td>\n",
       "    </tr>\n",
       "    <tr>\n",
       "      <th>396</th>\n",
       "      <td>5</td>\n",
       "      <td>3.243326</td>\n",
       "      <td>False</td>\n",
       "      <td>False</td>\n",
       "    </tr>\n",
       "    <tr>\n",
       "      <th>405</th>\n",
       "      <td>5</td>\n",
       "      <td>3.515794</td>\n",
       "      <td>False</td>\n",
       "      <td>False</td>\n",
       "    </tr>\n",
       "    <tr>\n",
       "      <th>397</th>\n",
       "      <td>5</td>\n",
       "      <td>3.536168</td>\n",
       "      <td>False</td>\n",
       "      <td>False</td>\n",
       "    </tr>\n",
       "    <tr>\n",
       "      <th>407</th>\n",
       "      <td>5</td>\n",
       "      <td>3.567453</td>\n",
       "      <td>False</td>\n",
       "      <td>False</td>\n",
       "    </tr>\n",
       "    <tr>\n",
       "      <th>401</th>\n",
       "      <td>5</td>\n",
       "      <td>3.637531</td>\n",
       "      <td>False</td>\n",
       "      <td>False</td>\n",
       "    </tr>\n",
       "    <tr>\n",
       "      <th>404</th>\n",
       "      <td>5</td>\n",
       "      <td>3.755140</td>\n",
       "      <td>False</td>\n",
       "      <td>False</td>\n",
       "    </tr>\n",
       "    <tr>\n",
       "      <th>402</th>\n",
       "      <td>5</td>\n",
       "      <td>3.805595</td>\n",
       "      <td>False</td>\n",
       "      <td>False</td>\n",
       "    </tr>\n",
       "    <tr>\n",
       "      <th>400</th>\n",
       "      <td>5</td>\n",
       "      <td>3.828195</td>\n",
       "      <td>False</td>\n",
       "      <td>False</td>\n",
       "    </tr>\n",
       "    <tr>\n",
       "      <th>408</th>\n",
       "      <td>5</td>\n",
       "      <td>3.917195</td>\n",
       "      <td>False</td>\n",
       "      <td>False</td>\n",
       "    </tr>\n",
       "    <tr>\n",
       "      <th>398</th>\n",
       "      <td>5</td>\n",
       "      <td>4.077999</td>\n",
       "      <td>False</td>\n",
       "      <td>False</td>\n",
       "    </tr>\n",
       "    <tr>\n",
       "      <th>406</th>\n",
       "      <td>5</td>\n",
       "      <td>4.404077</td>\n",
       "      <td>False</td>\n",
       "      <td>False</td>\n",
       "    </tr>\n",
       "    <tr>\n",
       "      <th>399</th>\n",
       "      <td>5</td>\n",
       "      <td>4.721665</td>\n",
       "      <td>False</td>\n",
       "      <td>False</td>\n",
       "    </tr>\n",
       "    <tr>\n",
       "      <th>403</th>\n",
       "      <td>5</td>\n",
       "      <td>4.866545</td>\n",
       "      <td>False</td>\n",
       "      <td>False</td>\n",
       "    </tr>\n",
       "    <tr>\n",
       "      <th>395</th>\n",
       "      <td>5</td>\n",
       "      <td>4.887824</td>\n",
       "      <td>0</td>\n",
       "      <td>1</td>\n",
       "    </tr>\n",
       "    <tr>\n",
       "      <th>410</th>\n",
       "      <td>5</td>\n",
       "      <td>5.141061</td>\n",
       "      <td>False</td>\n",
       "      <td>False</td>\n",
       "    </tr>\n",
       "    <tr>\n",
       "      <th>411</th>\n",
       "      <td>5</td>\n",
       "      <td>5.343730</td>\n",
       "      <td>False</td>\n",
       "      <td>False</td>\n",
       "    </tr>\n",
       "    <tr>\n",
       "      <th>412</th>\n",
       "      <td>5</td>\n",
       "      <td>5.473297</td>\n",
       "      <td>False</td>\n",
       "      <td>False</td>\n",
       "    </tr>\n",
       "    <tr>\n",
       "      <th>409</th>\n",
       "      <td>5</td>\n",
       "      <td>5.500000</td>\n",
       "      <td>0</td>\n",
       "      <td>0</td>\n",
       "    </tr>\n",
       "  </tbody>\n",
       "</table>\n",
       "</div>"
      ],
      "text/plain": [
       "     subject_id  end_time end_death end_new_lesion\n",
       "302           5  3.000060     False          False\n",
       "314           5  3.057672     False          False\n",
       "293           5  3.148240         0              1\n",
       "396           5  3.243326     False          False\n",
       "405           5  3.515794     False          False\n",
       "397           5  3.536168     False          False\n",
       "407           5  3.567453     False          False\n",
       "401           5  3.637531     False          False\n",
       "404           5  3.755140     False          False\n",
       "402           5  3.805595     False          False\n",
       "400           5  3.828195     False          False\n",
       "408           5  3.917195     False          False\n",
       "398           5  4.077999     False          False\n",
       "406           5  4.404077     False          False\n",
       "399           5  4.721665     False          False\n",
       "403           5  4.866545     False          False\n",
       "395           5  4.887824         0              1\n",
       "410           5  5.141061     False          False\n",
       "411           5  5.343730     False          False\n",
       "412           5  5.473297     False          False\n",
       "409           5  5.500000         0              0"
      ]
     },
     "execution_count": 9,
     "metadata": {},
     "output_type": "execute_result"
    }
   ],
   "source": [
    "ldf[ldf['subject_id'] == subjects_with_multiple_events[0]]\\\n",
    "    .query('(end_death == 1 or end_new_lesion == 1 or end_time > 3.0)')\\\n",
    "    .sort_values(['subject_id','end_time'])"
   ]
  },
  {
   "cell_type": "markdown",
   "metadata": {},
   "source": [
    "Merge event-level data with covariate values"
   ]
  },
  {
   "cell_type": "code",
   "execution_count": 10,
   "metadata": {
    "ExecuteTime": {
     "end_time": "2017-01-17T13:24:55.001114",
     "start_time": "2017-01-17T13:24:54.982025"
    },
    "collapsed": false
   },
   "outputs": [],
   "source": [
    "ldf = pd.merge(ldf, data['covars'], on='subject_id', how='outer')"
   ]
  },
  {
   "cell_type": "markdown",
   "metadata": {},
   "source": [
    "## prepare inputs for stan model"
   ]
  },
  {
   "cell_type": "markdown",
   "metadata": {},
   "source": [
    "This part is done more manually now since the `survivalstan` code hasn't been written"
   ]
  },
  {
   "cell_type": "markdown",
   "metadata": {},
   "source": [
    "First we prepare input matrices for terminal event (death)."
   ]
  },
  {
   "cell_type": "code",
   "execution_count": 11,
   "metadata": {
    "ExecuteTime": {
     "end_time": "2017-01-17T13:24:56.955692",
     "start_time": "2017-01-17T13:24:56.840284"
    },
    "collapsed": false
   },
   "outputs": [],
   "source": [
    "input_t = survivalstan.SurvivalStanData(df=ldf,\n",
    "                                        event_col='end_death',\n",
    "                                        timepoint_end_col='end_time',\n",
    "                                        sample_col='subject_id',\n",
    "                                        formula = '~ X2') "
   ]
  },
  {
   "cell_type": "code",
   "execution_count": 12,
   "metadata": {
    "ExecuteTime": {
     "end_time": "2017-01-17T13:24:57.336349",
     "start_time": "2017-01-17T13:24:57.296284"
    },
    "collapsed": false
   },
   "outputs": [
    {
     "data": {
      "text/html": [
       "<div>\n",
       "<table border=\"1\" class=\"dataframe\">\n",
       "  <thead>\n",
       "    <tr style=\"text-align: right;\">\n",
       "      <th></th>\n",
       "      <th>timepoint_id</th>\n",
       "      <th>end_time</th>\n",
       "      <th>t_dur</th>\n",
       "    </tr>\n",
       "  </thead>\n",
       "  <tbody>\n",
       "    <tr>\n",
       "      <th>count</th>\n",
       "      <td>125.000000</td>\n",
       "      <td>125.000000</td>\n",
       "      <td>125.000000</td>\n",
       "    </tr>\n",
       "    <tr>\n",
       "      <th>mean</th>\n",
       "      <td>63.000000</td>\n",
       "      <td>1.439028</td>\n",
       "      <td>0.044000</td>\n",
       "    </tr>\n",
       "    <tr>\n",
       "      <th>std</th>\n",
       "      <td>36.228442</td>\n",
       "      <td>1.466540</td>\n",
       "      <td>0.061290</td>\n",
       "    </tr>\n",
       "    <tr>\n",
       "      <th>min</th>\n",
       "      <td>1.000000</td>\n",
       "      <td>0.000592</td>\n",
       "      <td>0.000088</td>\n",
       "    </tr>\n",
       "    <tr>\n",
       "      <th>25%</th>\n",
       "      <td>32.000000</td>\n",
       "      <td>0.308575</td>\n",
       "      <td>0.006239</td>\n",
       "    </tr>\n",
       "    <tr>\n",
       "      <th>50%</th>\n",
       "      <td>63.000000</td>\n",
       "      <td>0.965385</td>\n",
       "      <td>0.020374</td>\n",
       "    </tr>\n",
       "    <tr>\n",
       "      <th>75%</th>\n",
       "      <td>94.000000</td>\n",
       "      <td>2.321349</td>\n",
       "      <td>0.057611</td>\n",
       "    </tr>\n",
       "    <tr>\n",
       "      <th>max</th>\n",
       "      <td>125.000000</td>\n",
       "      <td>5.500000</td>\n",
       "      <td>0.326078</td>\n",
       "    </tr>\n",
       "  </tbody>\n",
       "</table>\n",
       "</div>"
      ],
      "text/plain": [
       "       timepoint_id    end_time       t_dur\n",
       "count    125.000000  125.000000  125.000000\n",
       "mean      63.000000    1.439028    0.044000\n",
       "std       36.228442    1.466540    0.061290\n",
       "min        1.000000    0.000592    0.000088\n",
       "25%       32.000000    0.308575    0.006239\n",
       "50%       63.000000    0.965385    0.020374\n",
       "75%       94.000000    2.321349    0.057611\n",
       "max      125.000000    5.500000    0.326078"
      ]
     },
     "execution_count": 12,
     "metadata": {},
     "output_type": "execute_result"
    }
   ],
   "source": [
    "input_t.timepoint_df.describe()"
   ]
  },
  {
   "cell_type": "markdown",
   "metadata": {
    "ExecuteTime": {
     "start_time": "2017-01-10T00:16:59.349Z"
    },
    "collapsed": true
   },
   "source": [
    "Next we prepare the input matrices for recurrent event (new_lesion).\n",
    "\n",
    "*in theory, since ids are assigned in a sorted order, the ids should be identical. We will confirm this before moving forward*."
   ]
  },
  {
   "cell_type": "code",
   "execution_count": 13,
   "metadata": {
    "ExecuteTime": {
     "end_time": "2017-01-17T13:24:58.299371",
     "start_time": "2017-01-17T13:24:58.196493"
    },
    "collapsed": false
   },
   "outputs": [],
   "source": [
    "input_r = survivalstan.SurvivalStanData(df=ldf, event_col='end_new_lesion',\n",
    "                                        timepoint_end_col='end_time',\n",
    "                                        sample_col='subject_id', \n",
    "                                        formula='~ X1')"
   ]
  },
  {
   "cell_type": "code",
   "execution_count": 14,
   "metadata": {
    "ExecuteTime": {
     "end_time": "2017-01-17T13:24:58.597851",
     "start_time": "2017-01-17T13:24:58.565961"
    },
    "collapsed": false
   },
   "outputs": [
    {
     "data": {
      "text/html": [
       "<div>\n",
       "<table border=\"1\" class=\"dataframe\">\n",
       "  <thead>\n",
       "    <tr style=\"text-align: right;\">\n",
       "      <th></th>\n",
       "      <th>timepoint_id</th>\n",
       "      <th>end_time</th>\n",
       "      <th>t_dur</th>\n",
       "    </tr>\n",
       "  </thead>\n",
       "  <tbody>\n",
       "    <tr>\n",
       "      <th>count</th>\n",
       "      <td>125.000000</td>\n",
       "      <td>125.000000</td>\n",
       "      <td>125.000000</td>\n",
       "    </tr>\n",
       "    <tr>\n",
       "      <th>mean</th>\n",
       "      <td>63.000000</td>\n",
       "      <td>1.439028</td>\n",
       "      <td>0.044000</td>\n",
       "    </tr>\n",
       "    <tr>\n",
       "      <th>std</th>\n",
       "      <td>36.228442</td>\n",
       "      <td>1.466540</td>\n",
       "      <td>0.061290</td>\n",
       "    </tr>\n",
       "    <tr>\n",
       "      <th>min</th>\n",
       "      <td>1.000000</td>\n",
       "      <td>0.000592</td>\n",
       "      <td>0.000088</td>\n",
       "    </tr>\n",
       "    <tr>\n",
       "      <th>25%</th>\n",
       "      <td>32.000000</td>\n",
       "      <td>0.308575</td>\n",
       "      <td>0.006239</td>\n",
       "    </tr>\n",
       "    <tr>\n",
       "      <th>50%</th>\n",
       "      <td>63.000000</td>\n",
       "      <td>0.965385</td>\n",
       "      <td>0.020374</td>\n",
       "    </tr>\n",
       "    <tr>\n",
       "      <th>75%</th>\n",
       "      <td>94.000000</td>\n",
       "      <td>2.321349</td>\n",
       "      <td>0.057611</td>\n",
       "    </tr>\n",
       "    <tr>\n",
       "      <th>max</th>\n",
       "      <td>125.000000</td>\n",
       "      <td>5.500000</td>\n",
       "      <td>0.326078</td>\n",
       "    </tr>\n",
       "  </tbody>\n",
       "</table>\n",
       "</div>"
      ],
      "text/plain": [
       "       timepoint_id    end_time       t_dur\n",
       "count    125.000000  125.000000  125.000000\n",
       "mean      63.000000    1.439028    0.044000\n",
       "std       36.228442    1.466540    0.061290\n",
       "min        1.000000    0.000592    0.000088\n",
       "25%       32.000000    0.308575    0.006239\n",
       "50%       63.000000    0.965385    0.020374\n",
       "75%       94.000000    2.321349    0.057611\n",
       "max      125.000000    5.500000    0.326078"
      ]
     },
     "execution_count": 14,
     "metadata": {},
     "output_type": "execute_result"
    }
   ],
   "source": [
    "input_r.timepoint_df.describe()"
   ]
  },
  {
   "cell_type": "markdown",
   "metadata": {},
   "source": [
    "Confirm that timepoint_ids assigned are identical between the two datasets."
   ]
  },
  {
   "cell_type": "code",
   "execution_count": 15,
   "metadata": {
    "ExecuteTime": {
     "end_time": "2017-01-17T13:24:59.347593",
     "start_time": "2017-01-17T13:24:59.321329"
    },
    "collapsed": true
   },
   "outputs": [],
   "source": [
    "## check whether assigned timepoint ids are indeed identical\n",
    "timepoints_t = input_t.timepoint_df\n",
    "timepoints_r = input_r.timepoint_df\n",
    "\n",
    "merged_timepoints = pd.merge(timepoints_t, timepoints_r, on='timepoint_id', suffixes=['.t', '.r'], how='outer')\n",
    "merged_timepoints['end_time.diff'] = merged_timepoints.apply(lambda row: row['end_time.t']-row['end_time.r'], axis=1)\n",
    "assert(all(merged_timepoints['end_time.diff']==0))"
   ]
  },
  {
   "cell_type": "code",
   "execution_count": 16,
   "metadata": {
    "ExecuteTime": {
     "end_time": "2017-01-17T13:24:59.625169",
     "start_time": "2017-01-17T13:24:59.606387"
    },
    "collapsed": false
   },
   "outputs": [],
   "source": [
    "assert(len(input_r.df_nonmiss[input_r.df_nonmiss.duplicated(subset=['subject_id','end_time'])].index) == 0)"
   ]
  },
  {
   "cell_type": "markdown",
   "metadata": {
    "ExecuteTime": {
     "end_time": "2017-01-09T21:50:35.734484",
     "start_time": "2017-01-09T21:50:35.719776"
    }
   },
   "source": [
    "## combine data inputs for multiple events"
   ]
  },
  {
   "cell_type": "markdown",
   "metadata": {},
   "source": [
    "Finally we transform the data into a single dictionary to pass into Stan. "
   ]
  },
  {
   "cell_type": "markdown",
   "metadata": {},
   "source": [
    "Review keys prepared for each event type:"
   ]
  },
  {
   "cell_type": "code",
   "execution_count": 17,
   "metadata": {
    "ExecuteTime": {
     "end_time": "2017-01-17T13:25:01.074736",
     "start_time": "2017-01-17T13:25:01.057003"
    },
    "collapsed": false
   },
   "outputs": [
    {
     "data": {
      "text/plain": [
       "dict_keys(['t', 'M', 'N', 't_dur', 'x', 't_obs', 'event', 'S', 's', 'T'])"
      ]
     },
     "execution_count": 17,
     "metadata": {},
     "output_type": "execute_result"
    }
   ],
   "source": [
    "input_t.data.keys()"
   ]
  },
  {
   "cell_type": "code",
   "execution_count": 18,
   "metadata": {
    "ExecuteTime": {
     "end_time": "2017-01-17T13:25:01.717871",
     "start_time": "2017-01-17T13:25:01.700631"
    },
    "collapsed": false
   },
   "outputs": [
    {
     "data": {
      "text/plain": [
       "dict_keys(['t', 'M', 'N', 't_dur', 'x', 't_obs', 'event', 'S', 's', 'T'])"
      ]
     },
     "execution_count": 18,
     "metadata": {},
     "output_type": "execute_result"
    }
   ],
   "source": [
    "input_r.data.keys()"
   ]
  },
  {
   "cell_type": "markdown",
   "metadata": {},
   "source": [
    "Confirm that items which should be shared between two event types are indeed shared."
   ]
  },
  {
   "cell_type": "code",
   "execution_count": 19,
   "metadata": {
    "ExecuteTime": {
     "end_time": "2017-01-17T13:25:02.823569",
     "start_time": "2017-01-17T13:25:02.805554"
    },
    "collapsed": false
   },
   "outputs": [],
   "source": [
    "for el in ['S','M','N']:\n",
    "    assert(input_t.data[el] == input_r.data[el])\n",
    "for el in ['s','t', 't_obs','t_dur']:\n",
    "    assert((input_t.data[el] == input_r.data[el]).all())"
   ]
  },
  {
   "cell_type": "markdown",
   "metadata": {},
   "source": [
    "Prepare dictionary to pass into stan."
   ]
  },
  {
   "cell_type": "code",
   "execution_count": 20,
   "metadata": {
    "ExecuteTime": {
     "end_time": "2017-01-17T13:25:03.714284",
     "start_time": "2017-01-17T13:25:03.692499"
    },
    "collapsed": true
   },
   "outputs": [],
   "source": [
    "stan_data = {\n",
    "    'S': input_t.data['S'],\n",
    "    'T': input_t.data['T'],\n",
    "    't_obs': input_t.data['t_obs'],\n",
    "    't_dur': input_t.data['t_dur'],\n",
    "    'N': input_t.data['N'],\n",
    "    's': input_t.data['s'],\n",
    "    't': input_t.data['t'],\n",
    "    'M_t': input_t.data['M'],\n",
    "    'M_r': input_r.data['M'],\n",
    "    'event_t': input_t.data['event'],\n",
    "    'event_r': input_r.data['event'],\n",
    "    'x_t': input_t.data['x'],\n",
    "    'x_r': input_r.data['x'],\n",
    "}"
   ]
  },
  {
   "cell_type": "markdown",
   "metadata": {},
   "source": [
    "## Fit stan model to event-data only"
   ]
  },
  {
   "cell_type": "markdown",
   "metadata": {},
   "source": [
    "Let's execute this Stan model on our competing-event data.\n",
    "\n",
    "We wrap the input data in a CustomSurvivalData class so that the `fit_stan_survival_model` as written can function."
   ]
  },
  {
   "cell_type": "code",
   "execution_count": 21,
   "metadata": {
    "ExecuteTime": {
     "end_time": "2017-01-17T13:25:05.836284",
     "start_time": "2017-01-17T13:25:05.814295"
    },
    "collapsed": true
   },
   "outputs": [],
   "source": [
    "class CustomSurvivalData:\n",
    "    \n",
    "    def __init__(self, stan_data, x_df, df_nonmiss, df=None,\n",
    "                 sample_col=None, sample_id_col=None,\n",
    "                 group_id_col=None, \n",
    "                 timepoint_id_col=None, timepoint_end_col=None):\n",
    "        self.data = stan_data\n",
    "        self.x_df = x_df\n",
    "        self.df_nonmiss = df_nonmiss\n",
    "        self.group_id_col = group_id_col\n",
    "        self.sample_col = sample_col\n",
    "        self.sample_id_col = sample_id_col\n",
    "        self.timepoint_id_col = timepoint_id_col\n",
    "        self.timepoint_end_col = timepoint_end_col\n",
    "        if df is None:\n",
    "            self.df = df_nonmiss"
   ]
  },
  {
   "cell_type": "markdown",
   "metadata": {},
   "source": [
    "Finally, we fit the stan model to the simulated data."
   ]
  },
  {
   "cell_type": "code",
   "execution_count": null,
   "metadata": {
    "ExecuteTime": {
     "start_time": "2017-01-17T13:25:12.173Z"
    },
    "collapsed": false
   },
   "outputs": [
    {
     "name": "stderr",
     "output_type": "stream",
     "text": [
      "INFO:stancache.stancache:Step 1: Get compiled model code, possibly from cache\n",
      "INFO:stancache.stancache:StanModel: cache_filename set to anon_model.cython_0_25_2.model_code_8947126159220755323.pystan_2_12_0_0.stanmodel.pkl\n",
      "INFO:stancache.stancache:StanModel: Loading result from cache\n",
      "INFO:stancache.stancache:Step 2: Get posterior draws from model, possibly from cache\n",
      "INFO:stancache.stancache:sampling: cache_filename set to anon_model.cython_0_25_2.model_code_8947126159220755323.pystan_2_12_0_0.stanfit.chains_4.data_1512977972.iter_10000.seed_1245502385.pkl\n",
      "INFO:stancache.stancache:sampling: Starting execution\n"
     ]
    }
   ],
   "source": [
    "test = survivalstan.fit_stan_survival_model(input_data=CustomSurvivalData(stan_data=stan_data,\n",
    "                                                                          x_df=input_t.x_df,\n",
    "                                                                          df_nonmiss=input_t.df_nonmiss,\n",
    "                                                                          sample_col='subject_id',\n",
    "                                                                          sample_id_col='sample_id',\n",
    "                                                                         timepoint_id_col='timepoint_id',\n",
    "                                                                         timepoint_end_col='end_time'),\n",
    "                                            file='jointmodel/jointmodel.stan',\n",
    "                                            FIT_FUN=stancache.cached_stan_fit,\n",
    "                                            iter=10000,\n",
    "                                            chains=4,\n",
    "                                           )"
   ]
  },
  {
   "cell_type": "code",
   "execution_count": null,
   "metadata": {
    "ExecuteTime": {
     "start_time": "2017-01-17T13:33:38.489Z"
    },
    "collapsed": false
   },
   "outputs": [],
   "source": [
    "survivalstan.utils.plot_stan_summary([test])"
   ]
  },
  {
   "cell_type": "code",
   "execution_count": null,
   "metadata": {
    "ExecuteTime": {
     "start_time": "2017-01-17T13:33:38.870Z"
    },
    "collapsed": false
   },
   "outputs": [],
   "source": [
    "survivalstan.utils.print_stan_summary([test], pars=['B_r','B_t'])"
   ]
  },
  {
   "cell_type": "markdown",
   "metadata": {},
   "source": [
    "# Fit joint model with biomarker"
   ]
  },
  {
   "cell_type": "markdown",
   "metadata": {},
   "source": [
    "## Add biomarker (longitudinal) data to Stan"
   ]
  },
  {
   "cell_type": "markdown",
   "metadata": {},
   "source": [
    "Next we want to include our biomarker/longitudinal data in the estimation.\n",
    "\n",
    "First we need to prepare the data matrix to include in our input_data."
   ]
  },
  {
   "cell_type": "markdown",
   "metadata": {},
   "source": [
    "Let's review the simulated biomarker data."
   ]
  },
  {
   "cell_type": "code",
   "execution_count": null,
   "metadata": {
    "ExecuteTime": {
     "end_time": "2017-01-16T17:12:42.805052",
     "start_time": "2017-01-16T17:12:39.332Z"
    },
    "collapsed": false
   },
   "outputs": [],
   "source": [
    "data['biomarker'].head()"
   ]
  },
  {
   "cell_type": "markdown",
   "metadata": {},
   "source": [
    "Merge this with simulated covariate data:"
   ]
  },
  {
   "cell_type": "code",
   "execution_count": null,
   "metadata": {
    "ExecuteTime": {
     "start_time": "2017-01-10T00:17:07.773Z"
    },
    "collapsed": true
   },
   "outputs": [],
   "source": [
    "biodf = pd.merge(data['biomarker'], data['covars'], on='subject_id')"
   ]
  },
  {
   "cell_type": "markdown",
   "metadata": {},
   "source": [
    "Prep input fields to pass to SurvivalStan:"
   ]
  },
  {
   "cell_type": "code",
   "execution_count": null,
   "metadata": {
    "ExecuteTime": {
     "start_time": "2017-01-10T00:17:08.381Z"
    },
    "collapsed": false
   },
   "outputs": [],
   "source": [
    "biomarker_data = survivalstan.SurvivalStanData(df=biodf,\n",
    "                                               event_col='biomarker_value',\n",
    "                                               formula='~ X1 + X2',\n",
    "                                               sample_col='subject_id',\n",
    "                                               time_col='biomarker_time'\n",
    "                                               )\n"
   ]
  },
  {
   "cell_type": "markdown",
   "metadata": {},
   "source": [
    "(review keys)"
   ]
  },
  {
   "cell_type": "code",
   "execution_count": null,
   "metadata": {
    "ExecuteTime": {
     "start_time": "2017-01-10T00:26:21.615Z"
    },
    "collapsed": false
   },
   "outputs": [],
   "source": [
    "biomarker_data.data.keys()"
   ]
  },
  {
   "cell_type": "markdown",
   "metadata": {},
   "source": [
    "Review the non-missing data frame"
   ]
  },
  {
   "cell_type": "code",
   "execution_count": null,
   "metadata": {
    "ExecuteTime": {
     "start_time": "2017-01-10T00:17:09.432Z"
    },
    "collapsed": false
   },
   "outputs": [],
   "source": [
    "biomarker_data.df_nonmiss.head()"
   ]
  },
  {
   "cell_type": "markdown",
   "metadata": {},
   "source": [
    "Update `stan_data` dictionary to include biomarker data"
   ]
  },
  {
   "cell_type": "code",
   "execution_count": null,
   "metadata": {
    "ExecuteTime": {
     "start_time": "2017-01-10T00:17:09.870Z"
    },
    "collapsed": true
   },
   "outputs": [],
   "source": [
    "stan_data.update({'N_l': biomarker_data.data['N'],\n",
    "                 'M_l': biomarker_data.data['M'],\n",
    "                  'subject_l' : biomarker_data.df_nonmiss['sample_id'].values,\n",
    "                 'time_l': biomarker_data.df_nonmiss['biomarker_time'].values,\n",
    "                 'y_l': biomarker_data.data['y'],\n",
    "                 'x_l': biomarker_data.data['x']})"
   ]
  },
  {
   "cell_type": "markdown",
   "metadata": {},
   "source": [
    "## Fit stan model on biomarker+event data"
   ]
  },
  {
   "cell_type": "markdown",
   "metadata": {},
   "source": [
    "Finally we fit a version of our stan model including biomarker data: "
   ]
  },
  {
   "cell_type": "code",
   "execution_count": null,
   "metadata": {
    "ExecuteTime": {
     "end_time": "2017-01-10T00:08:43.192203",
     "start_time": "2017-01-10T00:02:31.475Z"
    },
    "collapsed": true
   },
   "outputs": [],
   "source": [
    "test2 = survivalstan.fit_stan_survival_model(input_data=CustomSurvivalData(stan_data=stan_data,\n",
    "                                                                          x_df=input_t.x_df,\n",
    "                                                                          df_nonmiss=input_t.df_nonmiss),\n",
    "                                             file='jointmodel/jointmodel_with_biomarker.stan',\n",
    "                                             FIT_FUN=stancache.cached_stan_fit,\n",
    "                                             iter=2000,\n",
    "                                             chains=4,\n",
    "                                             )"
   ]
  },
  {
   "cell_type": "code",
   "execution_count": null,
   "metadata": {
    "collapsed": true
   },
   "outputs": [],
   "source": []
  }
 ],
 "metadata": {
  "kernelspec": {
   "display_name": "survstan3",
   "language": "python",
   "name": "survstan3"
  },
  "language_info": {
   "codemirror_mode": {
    "name": "ipython",
    "version": 3
   },
   "file_extension": ".py",
   "mimetype": "text/x-python",
   "name": "python",
   "nbconvert_exporter": "python",
   "pygments_lexer": "ipython3",
   "version": "3.5.2"
  },
  "toc": {
   "nav_menu": {
    "height": "30px",
    "width": "252px"
   },
   "navigate_menu": true,
   "number_sections": true,
   "sideBar": true,
   "threshold": 4,
   "toc_cell": false,
   "toc_position": {
    "height": "450px",
    "left": "0px",
    "right": "1068px",
    "top": "106px",
    "width": "212px"
   },
   "toc_section_display": "block",
   "toc_window_display": true
  }
 },
 "nbformat": 4,
 "nbformat_minor": 1
}

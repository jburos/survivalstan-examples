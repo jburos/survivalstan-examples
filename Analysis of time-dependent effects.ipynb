{
 "cells": [
  {
   "cell_type": "code",
   "execution_count": 10,
   "metadata": {
    "ExecuteTime": {
     "end_time": "2016-12-16T22:49:04.016900",
     "start_time": "2016-12-16T22:49:04.011640"
    },
    "collapsed": false
   },
   "outputs": [],
   "source": [
    "import survivalstan\n",
    "import numpy as np\n",
    "from stancache import stancache\n",
    "import pandas as pd"
   ]
  },
  {
   "cell_type": "markdown",
   "metadata": {},
   "source": [
    "Load the `lung` dataset from the `survival` package in R"
   ]
  },
  {
   "cell_type": "code",
   "execution_count": 11,
   "metadata": {
    "ExecuteTime": {
     "end_time": "2016-12-16T22:49:07.790949",
     "start_time": "2016-12-16T22:49:07.206154"
    },
    "collapsed": false
   },
   "outputs": [
    {
     "data": {
      "text/plain": [
       "<class 'statsmodels.datasets.utils.Dataset'>"
      ]
     },
     "execution_count": 11,
     "metadata": {},
     "output_type": "execute_result"
    }
   ],
   "source": [
    "import statsmodels.api as sm\n",
    "lung = sm.datasets.get_rdataset(\"lung\", \"survival\")"
   ]
  },
  {
   "cell_type": "code",
   "execution_count": 7,
   "metadata": {
    "ExecuteTime": {
     "end_time": "2016-12-16T22:46:53.603258",
     "start_time": "2016-12-16T22:46:53.598592"
    },
    "collapsed": false
   },
   "outputs": [
    {
     "name": "stdout",
     "output_type": "stream",
     "text": [
      "+--------+-------------------+\n",
      "| lung   | R Documentation   |\n",
      "+--------+-------------------+\n",
      "\n",
      "NCCTG Lung Cancer Data\n",
      "----------------------\n",
      "\n",
      "Description\n",
      "~~~~~~~~~~~\n",
      "\n",
      "Survival in patients with advanced lung cancer from the North Central\n",
      "Cancer Treatment Group. Performance scores rate how well the patient can\n",
      "perform usual daily activities.\n",
      "\n",
      "Usage\n",
      "~~~~~\n",
      "\n",
      "::\n",
      "\n",
      "    lung\n",
      "    cancer\n",
      "\n",
      "Format\n",
      "~~~~~~\n",
      "\n",
      "inst:\n",
      "\n",
      "Institution code\n",
      "\n",
      "time:\n",
      "\n",
      "Survival time in days\n",
      "\n",
      "status:\n",
      "\n",
      "censoring status 1=censored, 2=dead\n",
      "\n",
      "age:\n",
      "\n",
      "Age in years\n",
      "\n",
      "sex:\n",
      "\n",
      "Male=1 Female=2\n",
      "\n",
      "ph.ecog:\n",
      "\n",
      "ECOG performance score (0=good 5=dead)\n",
      "\n",
      "ph.karno:\n",
      "\n",
      "Karnofsky performance score (bad=0-good=100) rated by physician\n",
      "\n",
      "pat.karno:\n",
      "\n",
      "Karnofsky performance score as rated by patient\n",
      "\n",
      "meal.cal:\n",
      "\n",
      "Calories consumed at meals\n",
      "\n",
      "wt.loss:\n",
      "\n",
      "Weight loss in last six months\n",
      "\n",
      "Source\n",
      "~~~~~~\n",
      "\n",
      "Terry Therneau\n",
      "\n",
      "References\n",
      "~~~~~~~~~~\n",
      "\n",
      "Loprinzi CL. Laurie JA. Wieand HS. Krook JE. Novotny PJ. Kugler JW.\n",
      "Bartel J. Law M. Bateman M. Klatt NE. et al. Prospective evaluation of\n",
      "prognostic variables from patient-completed questionnaires. North\n",
      "Central Cancer Treatment Group. Journal of Clinical Oncology.\n",
      "12(3):601-7, 1994.\n",
      "\n"
     ]
    }
   ],
   "source": [
    "print(lung.__doc__)"
   ]
  },
  {
   "cell_type": "code",
   "execution_count": 29,
   "metadata": {
    "ExecuteTime": {
     "end_time": "2016-12-16T23:42:19.709635",
     "start_time": "2016-12-16T23:42:17.388050"
    },
    "collapsed": false
   },
   "outputs": [],
   "source": [
    "import numpy as np\n",
    "lung.data['event'] = lung.data['status']==2 \n",
    "lung.data['age_centered'] = lung.data['age'] - np.mean(lung.data['age'])\n",
    "lung.data['male'] = lung.data['sex'] == 1\n",
    "lung.data['ecog'] = lung.data['ph.ecog'].astype('category').values\n",
    "lung.data.reset_index(inplace=True)\n",
    "dflong = survivalstan.prep_data_long_surv(df=lung.data, event_col='event', time_col='time')\n"
   ]
  },
  {
   "cell_type": "code",
   "execution_count": null,
   "metadata": {
    "ExecuteTime": {
     "start_time": "2016-12-16T23:42:24.936Z"
    },
    "collapsed": false
   },
   "outputs": [
    {
     "name": "stderr",
     "output_type": "stream",
     "text": [
      "INFO:stancache.stancache:Step 1: Get compiled model code, possibly from cache\n",
      "INFO:stancache.stancache:StanModel: cache_filename set to anon_model.cython_0_25_2.model_code_9304163442804524267.pystan_2_12_0_0.stanmodel.pkl\n",
      "INFO:stancache.stancache:StanModel: Starting execution\n",
      "INFO:pystan:COMPILING THE C++ CODE FOR MODEL anon_model_83e0ce39a3e85f01b32b9c74bec9aa93 NOW.\n"
     ]
    }
   ],
   "source": [
    "fit1 = survivalstan.fit_stan_survival_model(\n",
    "    df=dflong,\n",
    "    model_code=survivalstan.models.pem_survival_model_timevarying,\n",
    "    sample_col = 'index',\n",
    "    timepoint_end_col = 'end_time',\n",
    "    event_col = 'end_failure',\n",
    "    formula = '~ age_centered + male + ecog',\n",
    "    iter = 5000,\n",
    "    chains = 4,\n",
    "    model_cohort = 'time-dep: age + age + ecog',\n",
    "    FIT_FUN = stancache.cached_stan_fit, \n",
    ")"
   ]
  },
  {
   "cell_type": "code",
   "execution_count": null,
   "metadata": {
    "collapsed": true
   },
   "outputs": [],
   "source": []
  }
 ],
 "metadata": {
  "kernelspec": {
   "display_name": "survstan3",
   "language": "python",
   "name": "survstan3"
  },
  "language_info": {
   "codemirror_mode": {
    "name": "ipython",
    "version": 3
   },
   "file_extension": ".py",
   "mimetype": "text/x-python",
   "name": "python",
   "nbconvert_exporter": "python",
   "pygments_lexer": "ipython3",
   "version": "3.5.2"
  },
  "toc": {
   "nav_menu": {
    "height": "12px",
    "width": "252px"
   },
   "navigate_menu": true,
   "number_sections": true,
   "sideBar": true,
   "threshold": 4,
   "toc_cell": false,
   "toc_section_display": "block",
   "toc_window_display": false
  }
 },
 "nbformat": 4,
 "nbformat_minor": 1
}

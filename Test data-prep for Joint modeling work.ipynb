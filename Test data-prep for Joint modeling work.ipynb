{
 "cells": [
  {
   "cell_type": "code",
   "execution_count": 56,
   "metadata": {
    "ExecuteTime": {
     "end_time": "2017-01-09T22:01:42.207291",
     "start_time": "2017-01-09T22:01:42.183700"
    },
    "collapsed": false
   },
   "outputs": [
    {
     "name": "stdout",
     "output_type": "stream",
     "text": [
      "The autoreload extension is already loaded. To reload it, use:\n",
      "  %reload_ext autoreload\n"
     ]
    }
   ],
   "source": [
    "%load_ext autoreload\n",
    "%autoreload 2\n",
    "%matplotlib inline\n",
    "#from jointmodel import sim\n",
    "import pandas as pd\n",
    "import pystan\n",
    "import survivalstan"
   ]
  },
  {
   "cell_type": "markdown",
   "metadata": {},
   "source": [
    "# Prep data inputs"
   ]
  },
  {
   "cell_type": "code",
   "execution_count": 57,
   "metadata": {
    "ExecuteTime": {
     "end_time": "2017-01-09T22:01:42.939741",
     "start_time": "2017-01-09T22:01:42.501937"
    },
    "collapsed": false
   },
   "outputs": [],
   "source": [
    "data = survivalstan.sim.sim_data_jointmodel(N=400)"
   ]
  },
  {
   "cell_type": "code",
   "execution_count": 58,
   "metadata": {
    "ExecuteTime": {
     "end_time": "2017-01-09T22:01:42.988084",
     "start_time": "2017-01-09T22:01:42.941613"
    },
    "collapsed": false
   },
   "outputs": [],
   "source": [
    "model = pystan.stanc(file='jointmodel/jointmodel.stan')"
   ]
  },
  {
   "cell_type": "markdown",
   "metadata": {},
   "source": [
    "## Prep event-level data inputs"
   ]
  },
  {
   "cell_type": "code",
   "execution_count": 59,
   "metadata": {
    "ExecuteTime": {
     "end_time": "2017-01-09T22:01:43.812916",
     "start_time": "2017-01-09T22:01:43.783093"
    },
    "collapsed": false
   },
   "outputs": [
    {
     "data": {
      "text/html": [
       "<div>\n",
       "<table border=\"1\" class=\"dataframe\">\n",
       "  <thead>\n",
       "    <tr style=\"text-align: right;\">\n",
       "      <th></th>\n",
       "      <th>subject_id</th>\n",
       "      <th>time</th>\n",
       "      <th>event_name</th>\n",
       "      <th>event_value</th>\n",
       "    </tr>\n",
       "  </thead>\n",
       "  <tbody>\n",
       "    <tr>\n",
       "      <th>0</th>\n",
       "      <td>0</td>\n",
       "      <td>1.016622</td>\n",
       "      <td>new_lesion</td>\n",
       "      <td>1</td>\n",
       "    </tr>\n",
       "    <tr>\n",
       "      <th>1</th>\n",
       "      <td>0</td>\n",
       "      <td>2.034160</td>\n",
       "      <td>new_lesion</td>\n",
       "      <td>1</td>\n",
       "    </tr>\n",
       "    <tr>\n",
       "      <th>0</th>\n",
       "      <td>0</td>\n",
       "      <td>5.500000</td>\n",
       "      <td>death</td>\n",
       "      <td>0</td>\n",
       "    </tr>\n",
       "    <tr>\n",
       "      <th>6</th>\n",
       "      <td>1</td>\n",
       "      <td>3.023333</td>\n",
       "      <td>new_lesion</td>\n",
       "      <td>1</td>\n",
       "    </tr>\n",
       "    <tr>\n",
       "      <th>1</th>\n",
       "      <td>1</td>\n",
       "      <td>5.500000</td>\n",
       "      <td>death</td>\n",
       "      <td>0</td>\n",
       "    </tr>\n",
       "    <tr>\n",
       "      <th>2</th>\n",
       "      <td>2</td>\n",
       "      <td>1.787449</td>\n",
       "      <td>death</td>\n",
       "      <td>1</td>\n",
       "    </tr>\n",
       "    <tr>\n",
       "      <th>3</th>\n",
       "      <td>3</td>\n",
       "      <td>0.005271</td>\n",
       "      <td>death</td>\n",
       "      <td>1</td>\n",
       "    </tr>\n",
       "    <tr>\n",
       "      <th>24</th>\n",
       "      <td>4</td>\n",
       "      <td>2.007530</td>\n",
       "      <td>new_lesion</td>\n",
       "      <td>1</td>\n",
       "    </tr>\n",
       "    <tr>\n",
       "      <th>25</th>\n",
       "      <td>4</td>\n",
       "      <td>2.536777</td>\n",
       "      <td>new_lesion</td>\n",
       "      <td>1</td>\n",
       "    </tr>\n",
       "    <tr>\n",
       "      <th>4</th>\n",
       "      <td>4</td>\n",
       "      <td>3.632696</td>\n",
       "      <td>death</td>\n",
       "      <td>1</td>\n",
       "    </tr>\n",
       "  </tbody>\n",
       "</table>\n",
       "</div>"
      ],
      "text/plain": [
       "    subject_id      time  event_name  event_value\n",
       "0            0  1.016622  new_lesion            1\n",
       "1            0  2.034160  new_lesion            1\n",
       "0            0  5.500000       death            0\n",
       "6            1  3.023333  new_lesion            1\n",
       "1            1  5.500000       death            0\n",
       "2            2  1.787449       death            1\n",
       "3            3  0.005271       death            1\n",
       "24           4  2.007530  new_lesion            1\n",
       "25           4  2.536777  new_lesion            1\n",
       "4            4  3.632696       death            1"
      ]
     },
     "execution_count": 59,
     "metadata": {},
     "output_type": "execute_result"
    }
   ],
   "source": [
    "df = data['events']\n",
    "df.sort_values(['subject_id', 'time'])\\\n",
    "    .loc[:,['subject_id','time','event_name','event_value']]\\\n",
    "    .head(10)"
   ]
  },
  {
   "cell_type": "code",
   "execution_count": 60,
   "metadata": {
    "ExecuteTime": {
     "end_time": "2017-01-09T22:01:44.229172",
     "start_time": "2017-01-09T22:01:44.204693"
    },
    "collapsed": false
   },
   "outputs": [
    {
     "data": {
      "text/html": [
       "<div>\n",
       "<table border=\"1\" class=\"dataframe\">\n",
       "  <thead>\n",
       "    <tr style=\"text-align: right;\">\n",
       "      <th></th>\n",
       "      <th>subject_id</th>\n",
       "      <th>time</th>\n",
       "      <th>event_value</th>\n",
       "      <th>event_name</th>\n",
       "    </tr>\n",
       "  </thead>\n",
       "  <tbody>\n",
       "    <tr>\n",
       "      <th>1</th>\n",
       "      <td>1</td>\n",
       "      <td>5.500000</td>\n",
       "      <td>0</td>\n",
       "      <td>death</td>\n",
       "    </tr>\n",
       "    <tr>\n",
       "      <th>6</th>\n",
       "      <td>1</td>\n",
       "      <td>3.023333</td>\n",
       "      <td>1</td>\n",
       "      <td>new_lesion</td>\n",
       "    </tr>\n",
       "  </tbody>\n",
       "</table>\n",
       "</div>"
      ],
      "text/plain": [
       "   subject_id      time  event_value  event_name\n",
       "1           1  5.500000            0       death\n",
       "6           1  3.023333            1  new_lesion"
      ]
     },
     "execution_count": 60,
     "metadata": {},
     "output_type": "execute_result"
    }
   ],
   "source": [
    "df.query('subject_id == 1')"
   ]
  },
  {
   "cell_type": "code",
   "execution_count": 61,
   "metadata": {
    "ExecuteTime": {
     "end_time": "2017-01-09T22:02:53.200826",
     "start_time": "2017-01-09T22:01:44.596362"
    },
    "collapsed": false
   },
   "outputs": [],
   "source": [
    "ldf = survivalstan.prep_data_long_surv(df, event_col='event_value', time_col='time',\n",
    "                                       sample_col='subject_id', event_name='event_name')"
   ]
  },
  {
   "cell_type": "code",
   "execution_count": 62,
   "metadata": {
    "ExecuteTime": {
     "end_time": "2017-01-09T22:02:53.260140",
     "start_time": "2017-01-09T22:02:53.202805"
    },
    "collapsed": false
   },
   "outputs": [
    {
     "data": {
      "text/html": [
       "<div>\n",
       "<table border=\"1\" class=\"dataframe\">\n",
       "  <thead>\n",
       "    <tr style=\"text-align: right;\">\n",
       "      <th></th>\n",
       "      <th>subject_id</th>\n",
       "      <th>end_time</th>\n",
       "      <th>end_death</th>\n",
       "      <th>end_new_lesion</th>\n",
       "    </tr>\n",
       "  </thead>\n",
       "  <tbody>\n",
       "    <tr>\n",
       "      <th>494</th>\n",
       "      <td>1</td>\n",
       "      <td>3.023333</td>\n",
       "      <td>0</td>\n",
       "      <td>1</td>\n",
       "    </tr>\n",
       "    <tr>\n",
       "      <th>961</th>\n",
       "      <td>1</td>\n",
       "      <td>4.596482</td>\n",
       "      <td>False</td>\n",
       "      <td>False</td>\n",
       "    </tr>\n",
       "    <tr>\n",
       "      <th>908</th>\n",
       "      <td>1</td>\n",
       "      <td>4.605852</td>\n",
       "      <td>False</td>\n",
       "      <td>False</td>\n",
       "    </tr>\n",
       "    <tr>\n",
       "      <th>914</th>\n",
       "      <td>1</td>\n",
       "      <td>4.630973</td>\n",
       "      <td>False</td>\n",
       "      <td>False</td>\n",
       "    </tr>\n",
       "    <tr>\n",
       "      <th>934</th>\n",
       "      <td>1</td>\n",
       "      <td>4.649867</td>\n",
       "      <td>False</td>\n",
       "      <td>False</td>\n",
       "    </tr>\n",
       "    <tr>\n",
       "      <th>945</th>\n",
       "      <td>1</td>\n",
       "      <td>4.711867</td>\n",
       "      <td>False</td>\n",
       "      <td>False</td>\n",
       "    </tr>\n",
       "    <tr>\n",
       "      <th>941</th>\n",
       "      <td>1</td>\n",
       "      <td>4.725107</td>\n",
       "      <td>False</td>\n",
       "      <td>False</td>\n",
       "    </tr>\n",
       "    <tr>\n",
       "      <th>916</th>\n",
       "      <td>1</td>\n",
       "      <td>4.758143</td>\n",
       "      <td>False</td>\n",
       "      <td>False</td>\n",
       "    </tr>\n",
       "    <tr>\n",
       "      <th>959</th>\n",
       "      <td>1</td>\n",
       "      <td>4.846161</td>\n",
       "      <td>False</td>\n",
       "      <td>False</td>\n",
       "    </tr>\n",
       "    <tr>\n",
       "      <th>913</th>\n",
       "      <td>1</td>\n",
       "      <td>4.851894</td>\n",
       "      <td>False</td>\n",
       "      <td>False</td>\n",
       "    </tr>\n",
       "    <tr>\n",
       "      <th>956</th>\n",
       "      <td>1</td>\n",
       "      <td>4.854454</td>\n",
       "      <td>False</td>\n",
       "      <td>False</td>\n",
       "    </tr>\n",
       "    <tr>\n",
       "      <th>948</th>\n",
       "      <td>1</td>\n",
       "      <td>4.861794</td>\n",
       "      <td>False</td>\n",
       "      <td>False</td>\n",
       "    </tr>\n",
       "    <tr>\n",
       "      <th>978</th>\n",
       "      <td>1</td>\n",
       "      <td>4.919463</td>\n",
       "      <td>False</td>\n",
       "      <td>False</td>\n",
       "    </tr>\n",
       "    <tr>\n",
       "      <th>955</th>\n",
       "      <td>1</td>\n",
       "      <td>4.928544</td>\n",
       "      <td>False</td>\n",
       "      <td>False</td>\n",
       "    </tr>\n",
       "    <tr>\n",
       "      <th>971</th>\n",
       "      <td>1</td>\n",
       "      <td>4.930220</td>\n",
       "      <td>False</td>\n",
       "      <td>False</td>\n",
       "    </tr>\n",
       "    <tr>\n",
       "      <th>927</th>\n",
       "      <td>1</td>\n",
       "      <td>4.947004</td>\n",
       "      <td>False</td>\n",
       "      <td>False</td>\n",
       "    </tr>\n",
       "    <tr>\n",
       "      <th>930</th>\n",
       "      <td>1</td>\n",
       "      <td>5.026040</td>\n",
       "      <td>False</td>\n",
       "      <td>False</td>\n",
       "    </tr>\n",
       "    <tr>\n",
       "      <th>946</th>\n",
       "      <td>1</td>\n",
       "      <td>5.030206</td>\n",
       "      <td>False</td>\n",
       "      <td>False</td>\n",
       "    </tr>\n",
       "    <tr>\n",
       "      <th>944</th>\n",
       "      <td>1</td>\n",
       "      <td>5.099659</td>\n",
       "      <td>False</td>\n",
       "      <td>False</td>\n",
       "    </tr>\n",
       "    <tr>\n",
       "      <th>962</th>\n",
       "      <td>1</td>\n",
       "      <td>5.164723</td>\n",
       "      <td>False</td>\n",
       "      <td>False</td>\n",
       "    </tr>\n",
       "    <tr>\n",
       "      <th>938</th>\n",
       "      <td>1</td>\n",
       "      <td>5.248784</td>\n",
       "      <td>False</td>\n",
       "      <td>False</td>\n",
       "    </tr>\n",
       "    <tr>\n",
       "      <th>968</th>\n",
       "      <td>1</td>\n",
       "      <td>5.269380</td>\n",
       "      <td>False</td>\n",
       "      <td>False</td>\n",
       "    </tr>\n",
       "    <tr>\n",
       "      <th>949</th>\n",
       "      <td>1</td>\n",
       "      <td>5.274109</td>\n",
       "      <td>False</td>\n",
       "      <td>False</td>\n",
       "    </tr>\n",
       "    <tr>\n",
       "      <th>967</th>\n",
       "      <td>1</td>\n",
       "      <td>5.297645</td>\n",
       "      <td>False</td>\n",
       "      <td>False</td>\n",
       "    </tr>\n",
       "    <tr>\n",
       "      <th>910</th>\n",
       "      <td>1</td>\n",
       "      <td>5.310074</td>\n",
       "      <td>False</td>\n",
       "      <td>False</td>\n",
       "    </tr>\n",
       "    <tr>\n",
       "      <th>979</th>\n",
       "      <td>1</td>\n",
       "      <td>5.323032</td>\n",
       "      <td>False</td>\n",
       "      <td>False</td>\n",
       "    </tr>\n",
       "    <tr>\n",
       "      <th>931</th>\n",
       "      <td>1</td>\n",
       "      <td>5.396057</td>\n",
       "      <td>False</td>\n",
       "      <td>False</td>\n",
       "    </tr>\n",
       "    <tr>\n",
       "      <th>964</th>\n",
       "      <td>1</td>\n",
       "      <td>5.463945</td>\n",
       "      <td>False</td>\n",
       "      <td>False</td>\n",
       "    </tr>\n",
       "    <tr>\n",
       "      <th>975</th>\n",
       "      <td>1</td>\n",
       "      <td>5.485170</td>\n",
       "      <td>False</td>\n",
       "      <td>False</td>\n",
       "    </tr>\n",
       "    <tr>\n",
       "      <th>905</th>\n",
       "      <td>1</td>\n",
       "      <td>5.500000</td>\n",
       "      <td>0</td>\n",
       "      <td>0</td>\n",
       "    </tr>\n",
       "  </tbody>\n",
       "</table>\n",
       "</div>"
      ],
      "text/plain": [
       "     subject_id  end_time end_death end_new_lesion\n",
       "494           1  3.023333         0              1\n",
       "961           1  4.596482     False          False\n",
       "908           1  4.605852     False          False\n",
       "914           1  4.630973     False          False\n",
       "934           1  4.649867     False          False\n",
       "945           1  4.711867     False          False\n",
       "941           1  4.725107     False          False\n",
       "916           1  4.758143     False          False\n",
       "959           1  4.846161     False          False\n",
       "913           1  4.851894     False          False\n",
       "956           1  4.854454     False          False\n",
       "948           1  4.861794     False          False\n",
       "978           1  4.919463     False          False\n",
       "955           1  4.928544     False          False\n",
       "971           1  4.930220     False          False\n",
       "927           1  4.947004     False          False\n",
       "930           1  5.026040     False          False\n",
       "946           1  5.030206     False          False\n",
       "944           1  5.099659     False          False\n",
       "962           1  5.164723     False          False\n",
       "938           1  5.248784     False          False\n",
       "968           1  5.269380     False          False\n",
       "949           1  5.274109     False          False\n",
       "967           1  5.297645     False          False\n",
       "910           1  5.310074     False          False\n",
       "979           1  5.323032     False          False\n",
       "931           1  5.396057     False          False\n",
       "964           1  5.463945     False          False\n",
       "975           1  5.485170     False          False\n",
       "905           1  5.500000         0              0"
      ]
     },
     "execution_count": 62,
     "metadata": {},
     "output_type": "execute_result"
    }
   ],
   "source": [
    "ldf.query('subject_id == 1 and (end_death == 1 or end_new_lesion == 1 or end_time > 4.4)').sort_values(['subject_id','end_time'])"
   ]
  },
  {
   "cell_type": "code",
   "execution_count": 63,
   "metadata": {
    "ExecuteTime": {
     "end_time": "2017-01-09T22:02:53.286285",
     "start_time": "2017-01-09T22:02:53.261967"
    },
    "collapsed": false
   },
   "outputs": [],
   "source": [
    "ldf = pd.merge(ldf, data['covars'], on='subject_id', how='outer')"
   ]
  },
  {
   "cell_type": "markdown",
   "metadata": {},
   "source": [
    "## prepare inputs for stan model"
   ]
  },
  {
   "cell_type": "markdown",
   "metadata": {},
   "source": [
    "This part is done more manually now since the `survivalstan` code hasn't been written"
   ]
  },
  {
   "cell_type": "code",
   "execution_count": 64,
   "metadata": {
    "ExecuteTime": {
     "end_time": "2017-01-09T22:02:53.455041",
     "start_time": "2017-01-09T22:02:53.288213"
    },
    "collapsed": false
   },
   "outputs": [],
   "source": [
    "input_t = survivalstan.SurvivalStanData(df=ldf,\n",
    "                                        event_col='end_death',\n",
    "                                        timepoint_end_col='end_time',\n",
    "                                        sample_col='subject_id',\n",
    "                                        formula = '~ X1') "
   ]
  },
  {
   "cell_type": "code",
   "execution_count": 65,
   "metadata": {
    "ExecuteTime": {
     "end_time": "2017-01-09T22:02:53.487808",
     "start_time": "2017-01-09T22:02:53.456999"
    },
    "collapsed": false
   },
   "outputs": [
    {
     "data": {
      "text/html": [
       "<div>\n",
       "<table border=\"1\" class=\"dataframe\">\n",
       "  <thead>\n",
       "    <tr style=\"text-align: right;\">\n",
       "      <th></th>\n",
       "      <th>timepoint_id</th>\n",
       "      <th>end_time</th>\n",
       "      <th>t_dur</th>\n",
       "    </tr>\n",
       "  </thead>\n",
       "  <tbody>\n",
       "    <tr>\n",
       "      <th>count</th>\n",
       "      <td>492.000000</td>\n",
       "      <td>492.000000</td>\n",
       "      <td>492.000000</td>\n",
       "    </tr>\n",
       "    <tr>\n",
       "      <th>mean</th>\n",
       "      <td>246.500000</td>\n",
       "      <td>1.383478</td>\n",
       "      <td>0.011179</td>\n",
       "    </tr>\n",
       "    <tr>\n",
       "      <th>std</th>\n",
       "      <td>142.172431</td>\n",
       "      <td>1.487522</td>\n",
       "      <td>0.019219</td>\n",
       "    </tr>\n",
       "    <tr>\n",
       "      <th>min</th>\n",
       "      <td>1.000000</td>\n",
       "      <td>0.000994</td>\n",
       "      <td>0.000011</td>\n",
       "    </tr>\n",
       "    <tr>\n",
       "      <th>25%</th>\n",
       "      <td>123.750000</td>\n",
       "      <td>0.187764</td>\n",
       "      <td>0.001146</td>\n",
       "    </tr>\n",
       "    <tr>\n",
       "      <th>50%</th>\n",
       "      <td>246.500000</td>\n",
       "      <td>0.771066</td>\n",
       "      <td>0.004093</td>\n",
       "    </tr>\n",
       "    <tr>\n",
       "      <th>75%</th>\n",
       "      <td>369.250000</td>\n",
       "      <td>2.258458</td>\n",
       "      <td>0.012469</td>\n",
       "    </tr>\n",
       "    <tr>\n",
       "      <th>max</th>\n",
       "      <td>492.000000</td>\n",
       "      <td>5.500000</td>\n",
       "      <td>0.197529</td>\n",
       "    </tr>\n",
       "  </tbody>\n",
       "</table>\n",
       "</div>"
      ],
      "text/plain": [
       "       timepoint_id    end_time       t_dur\n",
       "count    492.000000  492.000000  492.000000\n",
       "mean     246.500000    1.383478    0.011179\n",
       "std      142.172431    1.487522    0.019219\n",
       "min        1.000000    0.000994    0.000011\n",
       "25%      123.750000    0.187764    0.001146\n",
       "50%      246.500000    0.771066    0.004093\n",
       "75%      369.250000    2.258458    0.012469\n",
       "max      492.000000    5.500000    0.197529"
      ]
     },
     "execution_count": 65,
     "metadata": {},
     "output_type": "execute_result"
    }
   ],
   "source": [
    "input_t.timepoint_df.describe()"
   ]
  },
  {
   "cell_type": "code",
   "execution_count": 66,
   "metadata": {
    "ExecuteTime": {
     "end_time": "2017-01-09T22:02:53.504377",
     "start_time": "2017-01-09T22:02:53.489634"
    },
    "collapsed": true
   },
   "outputs": [],
   "source": [
    "## need to do a fuzzy-merge these, or somehow constrain the ids to be the same. \n",
    "\n",
    "## in theory, since ids are assigned in a sorted order, they should be identical.  "
   ]
  },
  {
   "cell_type": "code",
   "execution_count": 67,
   "metadata": {
    "ExecuteTime": {
     "end_time": "2017-01-09T22:02:53.674516",
     "start_time": "2017-01-09T22:02:53.506180"
    },
    "collapsed": false
   },
   "outputs": [],
   "source": [
    "input_r = survivalstan.SurvivalStanData(df=ldf, event_col='end_new_lesion',\n",
    "                                        timepoint_end_col='end_time',\n",
    "                                        sample_col='subject_id', \n",
    "                                        formula='~ X2')"
   ]
  },
  {
   "cell_type": "code",
   "execution_count": 68,
   "metadata": {
    "ExecuteTime": {
     "end_time": "2017-01-09T22:02:53.709204",
     "start_time": "2017-01-09T22:02:53.676712"
    },
    "collapsed": false
   },
   "outputs": [
    {
     "data": {
      "text/html": [
       "<div>\n",
       "<table border=\"1\" class=\"dataframe\">\n",
       "  <thead>\n",
       "    <tr style=\"text-align: right;\">\n",
       "      <th></th>\n",
       "      <th>timepoint_id</th>\n",
       "      <th>end_time</th>\n",
       "      <th>t_dur</th>\n",
       "    </tr>\n",
       "  </thead>\n",
       "  <tbody>\n",
       "    <tr>\n",
       "      <th>count</th>\n",
       "      <td>492.000000</td>\n",
       "      <td>492.000000</td>\n",
       "      <td>492.000000</td>\n",
       "    </tr>\n",
       "    <tr>\n",
       "      <th>mean</th>\n",
       "      <td>246.500000</td>\n",
       "      <td>1.383478</td>\n",
       "      <td>0.011179</td>\n",
       "    </tr>\n",
       "    <tr>\n",
       "      <th>std</th>\n",
       "      <td>142.172431</td>\n",
       "      <td>1.487522</td>\n",
       "      <td>0.019219</td>\n",
       "    </tr>\n",
       "    <tr>\n",
       "      <th>min</th>\n",
       "      <td>1.000000</td>\n",
       "      <td>0.000994</td>\n",
       "      <td>0.000011</td>\n",
       "    </tr>\n",
       "    <tr>\n",
       "      <th>25%</th>\n",
       "      <td>123.750000</td>\n",
       "      <td>0.187764</td>\n",
       "      <td>0.001146</td>\n",
       "    </tr>\n",
       "    <tr>\n",
       "      <th>50%</th>\n",
       "      <td>246.500000</td>\n",
       "      <td>0.771066</td>\n",
       "      <td>0.004093</td>\n",
       "    </tr>\n",
       "    <tr>\n",
       "      <th>75%</th>\n",
       "      <td>369.250000</td>\n",
       "      <td>2.258458</td>\n",
       "      <td>0.012469</td>\n",
       "    </tr>\n",
       "    <tr>\n",
       "      <th>max</th>\n",
       "      <td>492.000000</td>\n",
       "      <td>5.500000</td>\n",
       "      <td>0.197529</td>\n",
       "    </tr>\n",
       "  </tbody>\n",
       "</table>\n",
       "</div>"
      ],
      "text/plain": [
       "       timepoint_id    end_time       t_dur\n",
       "count    492.000000  492.000000  492.000000\n",
       "mean     246.500000    1.383478    0.011179\n",
       "std      142.172431    1.487522    0.019219\n",
       "min        1.000000    0.000994    0.000011\n",
       "25%      123.750000    0.187764    0.001146\n",
       "50%      246.500000    0.771066    0.004093\n",
       "75%      369.250000    2.258458    0.012469\n",
       "max      492.000000    5.500000    0.197529"
      ]
     },
     "execution_count": 68,
     "metadata": {},
     "output_type": "execute_result"
    }
   ],
   "source": [
    "input_r.timepoint_df.describe()"
   ]
  },
  {
   "cell_type": "code",
   "execution_count": 69,
   "metadata": {
    "ExecuteTime": {
     "end_time": "2017-01-09T22:02:53.747741",
     "start_time": "2017-01-09T22:02:53.711096"
    },
    "collapsed": false
   },
   "outputs": [],
   "source": [
    "## check whether assigned timepoint ids are indeed identical\n",
    "timepoints_t = input_t.timepoint_df\n",
    "timepoints_r = input_r.timepoint_df\n",
    "\n",
    "merged_timepoints = pd.merge(timepoints_t, timepoints_r, on='timepoint_id', suffixes=['.t', '.r'], how='outer')\n",
    "merged_timepoints['end_time.diff'] = merged_timepoints.apply(lambda row: row['end_time.t']-row['end_time.r'], axis=1)\n",
    "assert(all(merged_timepoints['end_time.diff']==0))"
   ]
  },
  {
   "cell_type": "code",
   "execution_count": 70,
   "metadata": {
    "ExecuteTime": {
     "end_time": "2017-01-09T22:02:53.773664",
     "start_time": "2017-01-09T22:02:53.749621"
    },
    "collapsed": false
   },
   "outputs": [],
   "source": [
    "assert(len(input_r.df_nonmiss[input_r.df_nonmiss.duplicated(subset=['subject_id','end_time'])].index) == 0)"
   ]
  },
  {
   "cell_type": "markdown",
   "metadata": {
    "ExecuteTime": {
     "end_time": "2017-01-09T21:50:35.734484",
     "start_time": "2017-01-09T21:50:35.719776"
    }
   },
   "source": [
    "## single data inputs for multiple events"
   ]
  },
  {
   "cell_type": "code",
   "execution_count": 71,
   "metadata": {
    "ExecuteTime": {
     "end_time": "2017-01-09T22:02:53.791387",
     "start_time": "2017-01-09T22:02:53.775517"
    },
    "collapsed": false
   },
   "outputs": [
    {
     "data": {
      "text/plain": [
       "dict_keys(['N', 'T', 'event', 'S', 'x', 't', 's', 'M', 't_dur', 't_obs'])"
      ]
     },
     "execution_count": 71,
     "metadata": {},
     "output_type": "execute_result"
    }
   ],
   "source": [
    "input_t.data.keys()"
   ]
  },
  {
   "cell_type": "code",
   "execution_count": 72,
   "metadata": {
    "ExecuteTime": {
     "end_time": "2017-01-09T22:02:53.809790",
     "start_time": "2017-01-09T22:02:53.793113"
    },
    "collapsed": false
   },
   "outputs": [
    {
     "data": {
      "text/plain": [
       "dict_keys(['N', 'T', 'event', 'S', 'x', 't', 's', 'M', 't_dur', 't_obs'])"
      ]
     },
     "execution_count": 72,
     "metadata": {},
     "output_type": "execute_result"
    }
   ],
   "source": [
    "input_r.data.keys()"
   ]
  },
  {
   "cell_type": "code",
   "execution_count": 74,
   "metadata": {
    "ExecuteTime": {
     "end_time": "2017-01-09T22:02:53.853081",
     "start_time": "2017-01-09T22:02:53.834559"
    },
    "collapsed": false
   },
   "outputs": [],
   "source": [
    "for el in ['S','M','N']:\n",
    "    assert(input_t.data[el] == input_r.data[el])\n",
    "for el in ['s','t', 't_obs','t_dur']:\n",
    "    assert((input_t.data[el] == input_r.data[el]).all())"
   ]
  },
  {
   "cell_type": "code",
   "execution_count": 121,
   "metadata": {
    "ExecuteTime": {
     "end_time": "2017-01-09T22:48:05.692991",
     "start_time": "2017-01-09T22:48:05.670823"
    },
    "collapsed": true
   },
   "outputs": [],
   "source": [
    "stan_data = {\n",
    "    'S': input_t.data['S'],\n",
    "    'T': input_t.data['T'],\n",
    "    't_obs': input_t.data['t_obs'],\n",
    "    't_dur': input_t.data['t_dur'],\n",
    "    'N': input_t.data['N'],\n",
    "    's': input_t.data['s'],\n",
    "    't': input_t.data['t'],\n",
    "    'M_t': input_t.data['M'],\n",
    "    'M_r': input_r.data['M'],\n",
    "    'event_t': input_t.data['event'],\n",
    "    'event_r': input_r.data['event'],\n",
    "    'x_t': input_t.data['x'],\n",
    "    'x_r': input_r.data['x'],\n",
    "}"
   ]
  },
  {
   "cell_type": "markdown",
   "metadata": {},
   "source": [
    "## try stan model on event-data only"
   ]
  },
  {
   "cell_type": "code",
   "execution_count": null,
   "metadata": {
    "ExecuteTime": {
     "start_time": "2017-01-09T22:50:31.636Z"
    },
    "collapsed": false
   },
   "outputs": [
    {
     "name": "stderr",
     "output_type": "stream",
     "text": [
      "INFO:pystan:COMPILING THE C++ CODE FOR MODEL anon_model_223de095e8831af3a0aeb134d95cfead NOW.\n"
     ]
    },
    {
     "name": "stdout",
     "output_type": "stream",
     "text": [
      "NOT reusing model.\n"
     ]
    }
   ],
   "source": [
    "test = survivalstan.fit_stan_survival_model(input_data=CustomSurvivalData(stan_data=stan_data,\n",
    "                                                                          x_df=input_t.x_df,\n",
    "                                                                          df_nonmiss=input_t.df_nonmiss),\n",
    "                                           file='jointmodel/jointmodel.stan'\n",
    "                                           )"
   ]
  },
  {
   "cell_type": "markdown",
   "metadata": {},
   "source": [
    "## prepare longitudinal data for stan"
   ]
  },
  {
   "cell_type": "code",
   "execution_count": 128,
   "metadata": {
    "ExecuteTime": {
     "end_time": "2017-01-09T22:48:10.657450",
     "start_time": "2017-01-09T22:48:10.639408"
    },
    "collapsed": true
   },
   "outputs": [],
   "source": [
    "class CustomSurvivalData:\n",
    "    \n",
    "    def __init__(self, stan_data, x_df, df_nonmiss):\n",
    "        self.data = stan_data\n",
    "        self.x_df = x_df\n",
    "        self.df_nonmiss = df_nonmiss"
   ]
  },
  {
   "cell_type": "code",
   "execution_count": 122,
   "metadata": {
    "ExecuteTime": {
     "end_time": "2017-01-09T22:48:06.713626",
     "start_time": "2017-01-09T22:48:06.690513"
    },
    "collapsed": false
   },
   "outputs": [
    {
     "data": {
      "text/html": [
       "<div>\n",
       "<table border=\"1\" class=\"dataframe\">\n",
       "  <thead>\n",
       "    <tr style=\"text-align: right;\">\n",
       "      <th></th>\n",
       "      <th>subject_id</th>\n",
       "      <th>biomarker_time</th>\n",
       "      <th>biomarker_value</th>\n",
       "    </tr>\n",
       "  </thead>\n",
       "  <tbody>\n",
       "    <tr>\n",
       "      <th>0</th>\n",
       "      <td>0</td>\n",
       "      <td>0.2</td>\n",
       "      <td>0.295732</td>\n",
       "    </tr>\n",
       "    <tr>\n",
       "      <th>1</th>\n",
       "      <td>0</td>\n",
       "      <td>0.4</td>\n",
       "      <td>2.668375</td>\n",
       "    </tr>\n",
       "    <tr>\n",
       "      <th>2</th>\n",
       "      <td>0</td>\n",
       "      <td>0.6</td>\n",
       "      <td>2.292061</td>\n",
       "    </tr>\n",
       "    <tr>\n",
       "      <th>3</th>\n",
       "      <td>0</td>\n",
       "      <td>0.8</td>\n",
       "      <td>2.361316</td>\n",
       "    </tr>\n",
       "    <tr>\n",
       "      <th>4</th>\n",
       "      <td>0</td>\n",
       "      <td>1.0</td>\n",
       "      <td>2.484984</td>\n",
       "    </tr>\n",
       "  </tbody>\n",
       "</table>\n",
       "</div>"
      ],
      "text/plain": [
       "   subject_id  biomarker_time  biomarker_value\n",
       "0           0             0.2         0.295732\n",
       "1           0             0.4         2.668375\n",
       "2           0             0.6         2.292061\n",
       "3           0             0.8         2.361316\n",
       "4           0             1.0         2.484984"
      ]
     },
     "execution_count": 122,
     "metadata": {},
     "output_type": "execute_result"
    }
   ],
   "source": [
    "data['biomarker'].head()"
   ]
  },
  {
   "cell_type": "code",
   "execution_count": 123,
   "metadata": {
    "ExecuteTime": {
     "end_time": "2017-01-09T22:48:07.220361",
     "start_time": "2017-01-09T22:48:07.201308"
    },
    "collapsed": true
   },
   "outputs": [],
   "source": [
    "biodf = pd.merge(data['biomarker'], data['covars'], on='subject_id')"
   ]
  },
  {
   "cell_type": "code",
   "execution_count": 124,
   "metadata": {
    "ExecuteTime": {
     "end_time": "2017-01-09T22:48:07.858810",
     "start_time": "2017-01-09T22:48:07.828510"
    },
    "collapsed": false
   },
   "outputs": [],
   "source": [
    "biomarker_data = survivalstan.SurvivalStanData(df=biodf,\n",
    "                                                  event_col='biomarker_value',\n",
    "                                                  formula='~ X1 + X2',\n",
    "                                                sample_col='subject_id',\n",
    "                                               time_col='biomarker_time'\n",
    "                                                 )\n"
   ]
  },
  {
   "cell_type": "code",
   "execution_count": 125,
   "metadata": {
    "ExecuteTime": {
     "end_time": "2017-01-09T22:48:08.342729",
     "start_time": "2017-01-09T22:48:08.324025"
    },
    "collapsed": false
   },
   "outputs": [
    {
     "data": {
      "text/plain": [
       "dict_keys(['N', 'event', 'S', 'x', 'y', 'M', 's'])"
      ]
     },
     "execution_count": 125,
     "metadata": {},
     "output_type": "execute_result"
    }
   ],
   "source": [
    "biomarker_data.data.keys()"
   ]
  },
  {
   "cell_type": "code",
   "execution_count": 126,
   "metadata": {
    "ExecuteTime": {
     "end_time": "2017-01-09T22:48:08.837145",
     "start_time": "2017-01-09T22:48:08.809163"
    },
    "collapsed": false
   },
   "outputs": [
    {
     "data": {
      "text/html": [
       "<div>\n",
       "<table border=\"1\" class=\"dataframe\">\n",
       "  <thead>\n",
       "    <tr style=\"text-align: right;\">\n",
       "      <th></th>\n",
       "      <th>Intercept</th>\n",
       "      <th>X1</th>\n",
       "      <th>X2</th>\n",
       "      <th>biomarker_time</th>\n",
       "      <th>biomarker_value</th>\n",
       "      <th>subject_id</th>\n",
       "      <th>sample_id</th>\n",
       "    </tr>\n",
       "  </thead>\n",
       "  <tbody>\n",
       "    <tr>\n",
       "      <th>0</th>\n",
       "      <td>1.0</td>\n",
       "      <td>0.0</td>\n",
       "      <td>1.0</td>\n",
       "      <td>0.2</td>\n",
       "      <td>0.295732</td>\n",
       "      <td>0</td>\n",
       "      <td>1</td>\n",
       "    </tr>\n",
       "    <tr>\n",
       "      <th>1</th>\n",
       "      <td>1.0</td>\n",
       "      <td>0.0</td>\n",
       "      <td>1.0</td>\n",
       "      <td>0.4</td>\n",
       "      <td>2.668375</td>\n",
       "      <td>0</td>\n",
       "      <td>1</td>\n",
       "    </tr>\n",
       "    <tr>\n",
       "      <th>2</th>\n",
       "      <td>1.0</td>\n",
       "      <td>0.0</td>\n",
       "      <td>1.0</td>\n",
       "      <td>0.6</td>\n",
       "      <td>2.292061</td>\n",
       "      <td>0</td>\n",
       "      <td>1</td>\n",
       "    </tr>\n",
       "    <tr>\n",
       "      <th>3</th>\n",
       "      <td>1.0</td>\n",
       "      <td>0.0</td>\n",
       "      <td>1.0</td>\n",
       "      <td>0.8</td>\n",
       "      <td>2.361316</td>\n",
       "      <td>0</td>\n",
       "      <td>1</td>\n",
       "    </tr>\n",
       "    <tr>\n",
       "      <th>4</th>\n",
       "      <td>1.0</td>\n",
       "      <td>0.0</td>\n",
       "      <td>1.0</td>\n",
       "      <td>1.0</td>\n",
       "      <td>2.484984</td>\n",
       "      <td>0</td>\n",
       "      <td>1</td>\n",
       "    </tr>\n",
       "  </tbody>\n",
       "</table>\n",
       "</div>"
      ],
      "text/plain": [
       "   Intercept   X1   X2  biomarker_time  biomarker_value  subject_id  sample_id\n",
       "0        1.0  0.0  1.0             0.2         0.295732           0          1\n",
       "1        1.0  0.0  1.0             0.4         2.668375           0          1\n",
       "2        1.0  0.0  1.0             0.6         2.292061           0          1\n",
       "3        1.0  0.0  1.0             0.8         2.361316           0          1\n",
       "4        1.0  0.0  1.0             1.0         2.484984           0          1"
      ]
     },
     "execution_count": 126,
     "metadata": {},
     "output_type": "execute_result"
    }
   ],
   "source": [
    "biomarker_data.df_nonmiss.head()"
   ]
  },
  {
   "cell_type": "code",
   "execution_count": 127,
   "metadata": {
    "ExecuteTime": {
     "end_time": "2017-01-09T22:48:09.479664",
     "start_time": "2017-01-09T22:48:09.462218"
    },
    "collapsed": true
   },
   "outputs": [],
   "source": [
    "stan_data.update({'N_l': biomarker_data.data['N'],\n",
    "                 'M_l': biomarker_data.data['M'],\n",
    "                  'subject_l' : biomarker_data.df_nonmiss['sample_id'].values,\n",
    "                 'time_l': biomarker_data.df_nonmiss['biomarker_time'].values,\n",
    "                 'y_l': biomarker_data.data['y'],\n",
    "                 'x_l': biomarker_data.data['x']})"
   ]
  },
  {
   "cell_type": "markdown",
   "metadata": {},
   "source": [
    "# Try running stan model on biomarker+event data"
   ]
  },
  {
   "cell_type": "code",
   "execution_count": null,
   "metadata": {
    "ExecuteTime": {
     "start_time": "2017-01-10T00:02:31.475Z"
    },
    "collapsed": true
   },
   "outputs": [],
   "source": [
    "test2 = survivalstan.fit_stan_survival_model(input_data=CustomSurvivalData(stan_data=stan_data,\n",
    "                                                                          x_df=input_t.x_df,\n",
    "                                                                          df_nonmiss=input_t.df_nonmiss),\n",
    "                                           file='jointmodel/jointmodel_with_biomarker.stan'\n",
    "                                           )"
   ]
  },
  {
   "cell_type": "code",
   "execution_count": null,
   "metadata": {
    "collapsed": true
   },
   "outputs": [],
   "source": []
  }
 ],
 "metadata": {
  "kernelspec": {
   "display_name": "survstan3",
   "language": "python",
   "name": "survstan3"
  },
  "language_info": {
   "codemirror_mode": {
    "name": "ipython",
    "version": 3
   },
   "file_extension": ".py",
   "mimetype": "text/x-python",
   "name": "python",
   "nbconvert_exporter": "python",
   "pygments_lexer": "ipython3",
   "version": "3.5.2"
  },
  "toc": {
   "nav_menu": {
    "height": "30px",
    "width": "252px"
   },
   "navigate_menu": true,
   "number_sections": true,
   "sideBar": true,
   "threshold": 4,
   "toc_cell": false,
   "toc_position": {
    "height": "450px",
    "left": "0px",
    "right": "1068px",
    "top": "106px",
    "width": "212px"
   },
   "toc_section_display": "block",
   "toc_window_display": true
  }
 },
 "nbformat": 4,
 "nbformat_minor": 1
}

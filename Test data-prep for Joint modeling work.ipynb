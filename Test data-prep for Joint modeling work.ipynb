{
 "cells": [
  {
   "cell_type": "code",
   "execution_count": 1,
   "metadata": {
    "ExecuteTime": {
     "end_time": "2017-01-07T23:25:11.422223",
     "start_time": "2017-01-07T23:25:10.337927"
    },
    "collapsed": false
   },
   "outputs": [
    {
     "name": "stdout",
     "output_type": "stream",
     "text": [
      "The autoreload extension is already loaded. To reload it, use:\n",
      "  %reload_ext autoreload\n"
     ]
    }
   ],
   "source": [
    "%load_ext autoreload\n",
    "%autoreload 2\n",
    "%matplotlib inline\n",
    "from jointmodel import sim\n",
    "import pandas as pd\n",
    "import pystan\n",
    "import survivalstan"
   ]
  },
  {
   "cell_type": "code",
   "execution_count": 2,
   "metadata": {
    "ExecuteTime": {
     "end_time": "2017-01-07T23:25:11.895739",
     "start_time": "2017-01-07T23:25:11.430859"
    },
    "collapsed": false
   },
   "outputs": [],
   "source": [
    "data = sim.simulate_data(N=400)"
   ]
  },
  {
   "cell_type": "code",
   "execution_count": 3,
   "metadata": {
    "ExecuteTime": {
     "end_time": "2017-01-07T23:25:11.986521",
     "start_time": "2017-01-07T23:25:11.939723"
    },
    "collapsed": false
   },
   "outputs": [],
   "source": [
    "model = pystan.stanc(file='jointmodel/jointmodel.stan')"
   ]
  },
  {
   "cell_type": "markdown",
   "metadata": {},
   "source": [
    "# Prep event-level data inputs"
   ]
  },
  {
   "cell_type": "code",
   "execution_count": 4,
   "metadata": {
    "ExecuteTime": {
     "end_time": "2017-01-07T23:25:12.556177",
     "start_time": "2017-01-07T23:25:12.530222"
    },
    "collapsed": false
   },
   "outputs": [],
   "source": [
    "## combine terminal and recurrent event datasets\n",
    "df_t = data['t_df']\n",
    "df_t.rename(columns={'event_status': 'event_value',\n",
    "                     'event_time': 'time',\n",
    "                     'index': 'subject_id'},\n",
    "            inplace=True)\n",
    "df_t['event_name'] = 'death'\n",
    "\n",
    "df_r = data['r_df']\n",
    "df_r.rename(columns={'recurrence_time': 'time',\n",
    "                    'index': 'subject_id'},\n",
    "           inplace=True)\n",
    "df_r['event_value'] = 1\n",
    "df_r['event_name'] = 'new_lesion'\n",
    "\n",
    "x_df = data['x_df']\n",
    "x_df.rename(columns={'index': 'subject_id'}, inplace=True)"
   ]
  },
  {
   "cell_type": "code",
   "execution_count": 5,
   "metadata": {
    "ExecuteTime": {
     "end_time": "2017-01-07T23:25:13.270417",
     "start_time": "2017-01-07T23:25:13.233136"
    },
    "collapsed": false
   },
   "outputs": [
    {
     "data": {
      "text/html": [
       "<div>\n",
       "<table border=\"1\" class=\"dataframe\">\n",
       "  <thead>\n",
       "    <tr style=\"text-align: right;\">\n",
       "      <th></th>\n",
       "      <th>subject_id</th>\n",
       "      <th>time</th>\n",
       "      <th>event_name</th>\n",
       "      <th>event_value</th>\n",
       "    </tr>\n",
       "  </thead>\n",
       "  <tbody>\n",
       "    <tr>\n",
       "      <th>0</th>\n",
       "      <td>0</td>\n",
       "      <td>0.720119</td>\n",
       "      <td>death</td>\n",
       "      <td>1</td>\n",
       "    </tr>\n",
       "    <tr>\n",
       "      <th>1</th>\n",
       "      <td>1</td>\n",
       "      <td>0.062381</td>\n",
       "      <td>death</td>\n",
       "      <td>1</td>\n",
       "    </tr>\n",
       "    <tr>\n",
       "      <th>12</th>\n",
       "      <td>2</td>\n",
       "      <td>0.921687</td>\n",
       "      <td>new_lesion</td>\n",
       "      <td>1</td>\n",
       "    </tr>\n",
       "    <tr>\n",
       "      <th>2</th>\n",
       "      <td>2</td>\n",
       "      <td>3.319949</td>\n",
       "      <td>death</td>\n",
       "      <td>1</td>\n",
       "    </tr>\n",
       "    <tr>\n",
       "      <th>3</th>\n",
       "      <td>3</td>\n",
       "      <td>1.219176</td>\n",
       "      <td>death</td>\n",
       "      <td>1</td>\n",
       "    </tr>\n",
       "    <tr>\n",
       "      <th>24</th>\n",
       "      <td>4</td>\n",
       "      <td>1.504987</td>\n",
       "      <td>new_lesion</td>\n",
       "      <td>1</td>\n",
       "    </tr>\n",
       "    <tr>\n",
       "      <th>4</th>\n",
       "      <td>4</td>\n",
       "      <td>3.126221</td>\n",
       "      <td>death</td>\n",
       "      <td>1</td>\n",
       "    </tr>\n",
       "    <tr>\n",
       "      <th>30</th>\n",
       "      <td>5</td>\n",
       "      <td>0.671881</td>\n",
       "      <td>new_lesion</td>\n",
       "      <td>1</td>\n",
       "    </tr>\n",
       "    <tr>\n",
       "      <th>5</th>\n",
       "      <td>5</td>\n",
       "      <td>5.298116</td>\n",
       "      <td>death</td>\n",
       "      <td>1</td>\n",
       "    </tr>\n",
       "    <tr>\n",
       "      <th>6</th>\n",
       "      <td>6</td>\n",
       "      <td>0.408451</td>\n",
       "      <td>death</td>\n",
       "      <td>1</td>\n",
       "    </tr>\n",
       "    <tr>\n",
       "      <th>42</th>\n",
       "      <td>7</td>\n",
       "      <td>0.516684</td>\n",
       "      <td>new_lesion</td>\n",
       "      <td>1</td>\n",
       "    </tr>\n",
       "    <tr>\n",
       "      <th>7</th>\n",
       "      <td>7</td>\n",
       "      <td>1.802923</td>\n",
       "      <td>death</td>\n",
       "      <td>1</td>\n",
       "    </tr>\n",
       "    <tr>\n",
       "      <th>48</th>\n",
       "      <td>8</td>\n",
       "      <td>0.047451</td>\n",
       "      <td>new_lesion</td>\n",
       "      <td>1</td>\n",
       "    </tr>\n",
       "    <tr>\n",
       "      <th>8</th>\n",
       "      <td>8</td>\n",
       "      <td>3.873898</td>\n",
       "      <td>death</td>\n",
       "      <td>1</td>\n",
       "    </tr>\n",
       "    <tr>\n",
       "      <th>9</th>\n",
       "      <td>9</td>\n",
       "      <td>0.516949</td>\n",
       "      <td>death</td>\n",
       "      <td>1</td>\n",
       "    </tr>\n",
       "    <tr>\n",
       "      <th>60</th>\n",
       "      <td>10</td>\n",
       "      <td>0.742959</td>\n",
       "      <td>new_lesion</td>\n",
       "      <td>1</td>\n",
       "    </tr>\n",
       "    <tr>\n",
       "      <th>10</th>\n",
       "      <td>10</td>\n",
       "      <td>5.500000</td>\n",
       "      <td>death</td>\n",
       "      <td>0</td>\n",
       "    </tr>\n",
       "    <tr>\n",
       "      <th>11</th>\n",
       "      <td>11</td>\n",
       "      <td>0.169811</td>\n",
       "      <td>death</td>\n",
       "      <td>1</td>\n",
       "    </tr>\n",
       "    <tr>\n",
       "      <th>12</th>\n",
       "      <td>12</td>\n",
       "      <td>1.873792</td>\n",
       "      <td>death</td>\n",
       "      <td>1</td>\n",
       "    </tr>\n",
       "    <tr>\n",
       "      <th>13</th>\n",
       "      <td>13</td>\n",
       "      <td>0.131161</td>\n",
       "      <td>death</td>\n",
       "      <td>1</td>\n",
       "    </tr>\n",
       "  </tbody>\n",
       "</table>\n",
       "</div>"
      ],
      "text/plain": [
       "    subject_id      time  event_name  event_value\n",
       "0            0  0.720119       death            1\n",
       "1            1  0.062381       death            1\n",
       "12           2  0.921687  new_lesion            1\n",
       "2            2  3.319949       death            1\n",
       "3            3  1.219176       death            1\n",
       "24           4  1.504987  new_lesion            1\n",
       "4            4  3.126221       death            1\n",
       "30           5  0.671881  new_lesion            1\n",
       "5            5  5.298116       death            1\n",
       "6            6  0.408451       death            1\n",
       "42           7  0.516684  new_lesion            1\n",
       "7            7  1.802923       death            1\n",
       "48           8  0.047451  new_lesion            1\n",
       "8            8  3.873898       death            1\n",
       "9            9  0.516949       death            1\n",
       "60          10  0.742959  new_lesion            1\n",
       "10          10  5.500000       death            0\n",
       "11          11  0.169811       death            1\n",
       "12          12  1.873792       death            1\n",
       "13          13  0.131161       death            1"
      ]
     },
     "execution_count": 5,
     "metadata": {},
     "output_type": "execute_result"
    }
   ],
   "source": [
    "df = pd.concat([df_t, df_r])\n",
    "df.sort_values(['subject_id', 'time'])\\\n",
    "    .loc[:,['subject_id','time','event_name','event_value']]\\\n",
    "    .head(20)"
   ]
  },
  {
   "cell_type": "code",
   "execution_count": 13,
   "metadata": {
    "ExecuteTime": {
     "end_time": "2017-01-07T23:29:03.563128",
     "start_time": "2017-01-07T23:29:03.528591"
    },
    "collapsed": false
   },
   "outputs": [
    {
     "data": {
      "text/html": [
       "<div>\n",
       "<table border=\"1\" class=\"dataframe\">\n",
       "  <thead>\n",
       "    <tr>\n",
       "      <th></th>\n",
       "      <th></th>\n",
       "      <th colspan=\"2\" halign=\"left\">event_value</th>\n",
       "    </tr>\n",
       "    <tr>\n",
       "      <th></th>\n",
       "      <th>event_name</th>\n",
       "      <th>death</th>\n",
       "      <th>new_lesion</th>\n",
       "    </tr>\n",
       "    <tr>\n",
       "      <th>subject_id</th>\n",
       "      <th>time</th>\n",
       "      <th></th>\n",
       "      <th></th>\n",
       "    </tr>\n",
       "  </thead>\n",
       "  <tbody>\n",
       "    <tr>\n",
       "      <th>0</th>\n",
       "      <th>0.720119</th>\n",
       "      <td>1</td>\n",
       "      <td>0</td>\n",
       "    </tr>\n",
       "    <tr>\n",
       "      <th>1</th>\n",
       "      <th>0.062381</th>\n",
       "      <td>1</td>\n",
       "      <td>0</td>\n",
       "    </tr>\n",
       "    <tr>\n",
       "      <th rowspan=\"2\" valign=\"top\">2</th>\n",
       "      <th>0.921687</th>\n",
       "      <td>0</td>\n",
       "      <td>1</td>\n",
       "    </tr>\n",
       "    <tr>\n",
       "      <th>3.319949</th>\n",
       "      <td>1</td>\n",
       "      <td>0</td>\n",
       "    </tr>\n",
       "    <tr>\n",
       "      <th>3</th>\n",
       "      <th>1.219176</th>\n",
       "      <td>1</td>\n",
       "      <td>0</td>\n",
       "    </tr>\n",
       "    <tr>\n",
       "      <th rowspan=\"2\" valign=\"top\">4</th>\n",
       "      <th>1.504987</th>\n",
       "      <td>0</td>\n",
       "      <td>1</td>\n",
       "    </tr>\n",
       "    <tr>\n",
       "      <th>3.126221</th>\n",
       "      <td>1</td>\n",
       "      <td>0</td>\n",
       "    </tr>\n",
       "    <tr>\n",
       "      <th rowspan=\"2\" valign=\"top\">5</th>\n",
       "      <th>0.671881</th>\n",
       "      <td>0</td>\n",
       "      <td>1</td>\n",
       "    </tr>\n",
       "    <tr>\n",
       "      <th>5.298116</th>\n",
       "      <td>1</td>\n",
       "      <td>0</td>\n",
       "    </tr>\n",
       "    <tr>\n",
       "      <th>6</th>\n",
       "      <th>0.408451</th>\n",
       "      <td>1</td>\n",
       "      <td>0</td>\n",
       "    </tr>\n",
       "  </tbody>\n",
       "</table>\n",
       "</div>"
      ],
      "text/plain": [
       "                    event_value           \n",
       "event_name                death new_lesion\n",
       "subject_id time                           \n",
       "0          0.720119           1          0\n",
       "1          0.062381           1          0\n",
       "2          0.921687           0          1\n",
       "           3.319949           1          0\n",
       "3          1.219176           1          0\n",
       "4          1.504987           0          1\n",
       "           3.126221           1          0\n",
       "5          0.671881           0          1\n",
       "           5.298116           1          0\n",
       "6          0.408451           1          0"
      ]
     },
     "execution_count": 13,
     "metadata": {},
     "output_type": "execute_result"
    }
   ],
   "source": [
    "pd.pivot_table(df, index=['subject_id','time'], columns=['event_name'], values=['event_value'], fill_value=0)\\\n",
    "    .head(n=10)"
   ]
  },
  {
   "cell_type": "code",
   "execution_count": 34,
   "metadata": {
    "ExecuteTime": {
     "end_time": "2017-01-07T21:58:54.601191",
     "start_time": "2017-01-07T21:57:36.186923"
    },
    "collapsed": false
   },
   "outputs": [],
   "source": [
    "longdata_t = survivalstan.prep_data_long_surv(df, event_col='event_t', time_col='time',\n",
    "                                             sample_col='subject_id')\n",
    "longdata_r = survivalstan.prep_data_long_surv(df, event_col='event_r', time_col='time',\n",
    "                                             sample_col='subject_id')"
   ]
  },
  {
   "cell_type": "code",
   "execution_count": 35,
   "metadata": {
    "ExecuteTime": {
     "end_time": "2017-01-07T21:58:54.770058",
     "start_time": "2017-01-07T21:58:54.603335"
    },
    "collapsed": true
   },
   "outputs": [],
   "source": [
    "longdata_t.rename(columns = {'end_failure': 'end_t'}, inplace=True)\n",
    "longdata_r.rename(columns = {'end_failure': 'end_r'}, inplace=True)"
   ]
  },
  {
   "cell_type": "code",
   "execution_count": 59,
   "metadata": {
    "ExecuteTime": {
     "end_time": "2017-01-07T20:30:28.996512",
     "start_time": "2017-01-07T20:30:28.902691"
    },
    "collapsed": false
   },
   "outputs": [],
   "source": [
    "ldf = pd.merge(longdata_t.loc[:,['subject_id', 'end_time', 'end_t']],\n",
    "              longdata_r.loc[:, ['subject_id', 'end_time', 'end_r']],\n",
    "              on=['subject_id','end_time'],\n",
    "              how='outer')\n",
    "ldf = pd.merge(ldf, x_df, on='subject_id', how='outer')"
   ]
  },
  {
   "cell_type": "code",
   "execution_count": 64,
   "metadata": {
    "ExecuteTime": {
     "end_time": "2017-01-07T20:31:13.551793",
     "start_time": "2017-01-07T20:31:13.481597"
    },
    "collapsed": false
   },
   "outputs": [
    {
     "data": {
      "text/html": [
       "<div>\n",
       "<table border=\"1\" class=\"dataframe\">\n",
       "  <thead>\n",
       "    <tr style=\"text-align: right;\">\n",
       "      <th></th>\n",
       "      <th>subject_id</th>\n",
       "      <th>end_time</th>\n",
       "      <th>end_t</th>\n",
       "      <th>end_r</th>\n",
       "      <th>X1</th>\n",
       "      <th>X2</th>\n",
       "    </tr>\n",
       "  </thead>\n",
       "  <tbody>\n",
       "    <tr>\n",
       "      <th>872</th>\n",
       "      <td>2</td>\n",
       "      <td>0.539432</td>\n",
       "      <td>0</td>\n",
       "      <td>1</td>\n",
       "      <td>1</td>\n",
       "      <td>1</td>\n",
       "    </tr>\n",
       "    <tr>\n",
       "      <th>636</th>\n",
       "      <td>2</td>\n",
       "      <td>1.121959</td>\n",
       "      <td>1</td>\n",
       "      <td>0</td>\n",
       "      <td>1</td>\n",
       "      <td>1</td>\n",
       "    </tr>\n",
       "  </tbody>\n",
       "</table>\n",
       "</div>"
      ],
      "text/plain": [
       "     subject_id  end_time end_t end_r  X1  X2\n",
       "872           2  0.539432     0     1   1   1\n",
       "636           2  1.121959     1     0   1   1"
      ]
     },
     "execution_count": 64,
     "metadata": {},
     "output_type": "execute_result"
    }
   ],
   "source": [
    "ldf.query('subject_id == 2 and (end_t == 1 or end_r == 1)').sort_values(['subject_id','end_time'])"
   ]
  },
  {
   "cell_type": "code",
   "execution_count": 28,
   "metadata": {
    "ExecuteTime": {
     "end_time": "2017-01-07T20:17:01.762203",
     "start_time": "2017-01-07T20:17:01.544939"
    },
    "collapsed": false
   },
   "outputs": [],
   "source": [
    "input_t = survivalstan.SurvivalStanData(df=ldf,\n",
    "                                        event_col='end_t',\n",
    "                                        timepoint_end_col='end_time',\n",
    "                                        sample_id_col='subject_id',\n",
    "                                        formula = '~ X2') "
   ]
  },
  {
   "cell_type": "code",
   "execution_count": 29,
   "metadata": {
    "ExecuteTime": {
     "end_time": "2017-01-07T20:17:02.653387",
     "start_time": "2017-01-07T20:17:02.627465"
    },
    "collapsed": false
   },
   "outputs": [
    {
     "data": {
      "text/html": [
       "<div>\n",
       "<table border=\"1\" class=\"dataframe\">\n",
       "  <thead>\n",
       "    <tr style=\"text-align: right;\">\n",
       "      <th></th>\n",
       "      <th>subject_id</th>\n",
       "      <th>end_time</th>\n",
       "      <th>end_t</th>\n",
       "      <th>end_r</th>\n",
       "      <th>X1</th>\n",
       "      <th>X2</th>\n",
       "    </tr>\n",
       "  </thead>\n",
       "  <tbody>\n",
       "    <tr>\n",
       "      <th>0</th>\n",
       "      <td>0</td>\n",
       "      <td>0.318088</td>\n",
       "      <td>1</td>\n",
       "      <td>0</td>\n",
       "      <td>0</td>\n",
       "      <td>0</td>\n",
       "    </tr>\n",
       "    <tr>\n",
       "      <th>1</th>\n",
       "      <td>0</td>\n",
       "      <td>0.255143</td>\n",
       "      <td>False</td>\n",
       "      <td>False</td>\n",
       "      <td>0</td>\n",
       "      <td>0</td>\n",
       "    </tr>\n",
       "    <tr>\n",
       "      <th>2</th>\n",
       "      <td>0</td>\n",
       "      <td>0.179245</td>\n",
       "      <td>False</td>\n",
       "      <td>False</td>\n",
       "      <td>0</td>\n",
       "      <td>0</td>\n",
       "    </tr>\n",
       "    <tr>\n",
       "      <th>3</th>\n",
       "      <td>0</td>\n",
       "      <td>0.033488</td>\n",
       "      <td>False</td>\n",
       "      <td>False</td>\n",
       "      <td>0</td>\n",
       "      <td>0</td>\n",
       "    </tr>\n",
       "    <tr>\n",
       "      <th>4</th>\n",
       "      <td>0</td>\n",
       "      <td>0.202801</td>\n",
       "      <td>False</td>\n",
       "      <td>False</td>\n",
       "      <td>0</td>\n",
       "      <td>0</td>\n",
       "    </tr>\n",
       "  </tbody>\n",
       "</table>\n",
       "</div>"
      ],
      "text/plain": [
       "   subject_id  end_time  end_t  end_r  X1  X2\n",
       "0           0  0.318088      1      0   0   0\n",
       "1           0  0.255143  False  False   0   0\n",
       "2           0  0.179245  False  False   0   0\n",
       "3           0  0.033488  False  False   0   0\n",
       "4           0  0.202801  False  False   0   0"
      ]
     },
     "execution_count": 29,
     "metadata": {},
     "output_type": "execute_result"
    }
   ],
   "source": [
    "ldf.head()"
   ]
  },
  {
   "cell_type": "code",
   "execution_count": 30,
   "metadata": {
    "ExecuteTime": {
     "end_time": "2017-01-07T20:17:05.065607",
     "start_time": "2017-01-07T20:17:05.030423"
    },
    "collapsed": false
   },
   "outputs": [
    {
     "data": {
      "text/html": [
       "<div>\n",
       "<table border=\"1\" class=\"dataframe\">\n",
       "  <thead>\n",
       "    <tr style=\"text-align: right;\">\n",
       "      <th></th>\n",
       "      <th>timepoint_id</th>\n",
       "      <th>end_time</th>\n",
       "      <th>t_dur</th>\n",
       "    </tr>\n",
       "  </thead>\n",
       "  <tbody>\n",
       "    <tr>\n",
       "      <th>count</th>\n",
       "      <td>471.000000</td>\n",
       "      <td>471.000000</td>\n",
       "      <td>471.000000</td>\n",
       "    </tr>\n",
       "    <tr>\n",
       "      <th>mean</th>\n",
       "      <td>236.000000</td>\n",
       "      <td>1.300365</td>\n",
       "      <td>0.011677</td>\n",
       "    </tr>\n",
       "    <tr>\n",
       "      <th>std</th>\n",
       "      <td>136.110249</td>\n",
       "      <td>1.452798</td>\n",
       "      <td>0.019537</td>\n",
       "    </tr>\n",
       "    <tr>\n",
       "      <th>min</th>\n",
       "      <td>1.000000</td>\n",
       "      <td>0.000386</td>\n",
       "      <td>0.000001</td>\n",
       "    </tr>\n",
       "    <tr>\n",
       "      <th>25%</th>\n",
       "      <td>118.500000</td>\n",
       "      <td>0.164054</td>\n",
       "      <td>0.001344</td>\n",
       "    </tr>\n",
       "    <tr>\n",
       "      <th>50%</th>\n",
       "      <td>236.000000</td>\n",
       "      <td>0.692312</td>\n",
       "      <td>0.004012</td>\n",
       "    </tr>\n",
       "    <tr>\n",
       "      <th>75%</th>\n",
       "      <td>353.500000</td>\n",
       "      <td>2.040779</td>\n",
       "      <td>0.012342</td>\n",
       "    </tr>\n",
       "    <tr>\n",
       "      <th>max</th>\n",
       "      <td>471.000000</td>\n",
       "      <td>5.500000</td>\n",
       "      <td>0.199702</td>\n",
       "    </tr>\n",
       "  </tbody>\n",
       "</table>\n",
       "</div>"
      ],
      "text/plain": [
       "       timepoint_id    end_time       t_dur\n",
       "count    471.000000  471.000000  471.000000\n",
       "mean     236.000000    1.300365    0.011677\n",
       "std      136.110249    1.452798    0.019537\n",
       "min        1.000000    0.000386    0.000001\n",
       "25%      118.500000    0.164054    0.001344\n",
       "50%      236.000000    0.692312    0.004012\n",
       "75%      353.500000    2.040779    0.012342\n",
       "max      471.000000    5.500000    0.199702"
      ]
     },
     "execution_count": 30,
     "metadata": {},
     "output_type": "execute_result"
    }
   ],
   "source": [
    "input_t.timepoint_df.describe()"
   ]
  },
  {
   "cell_type": "code",
   "execution_count": 32,
   "metadata": {
    "ExecuteTime": {
     "end_time": "2017-01-07T20:17:07.819447",
     "start_time": "2017-01-07T20:17:07.804055"
    },
    "collapsed": true
   },
   "outputs": [],
   "source": [
    "## need to do a fuzzy-merge these, or somehow constrain the ids to be the same. \n",
    "\n",
    "## in theory, since ids are assigned in a sorted order, they should be identical.  "
   ]
  },
  {
   "cell_type": "code",
   "execution_count": 33,
   "metadata": {
    "ExecuteTime": {
     "end_time": "2017-01-07T20:17:08.802614",
     "start_time": "2017-01-07T20:17:08.612892"
    },
    "collapsed": false
   },
   "outputs": [],
   "source": [
    "input_r = survivalstan.SurvivalStanData(df=ldf, event_col='end_r',\n",
    "                                        timepoint_end_col='end_time',\n",
    "                                        sample_id_col='subject_id', \n",
    "                                        formula='~ X2')"
   ]
  },
  {
   "cell_type": "code",
   "execution_count": 34,
   "metadata": {
    "ExecuteTime": {
     "end_time": "2017-01-07T20:17:09.731680",
     "start_time": "2017-01-07T20:17:09.698600"
    },
    "collapsed": false
   },
   "outputs": [
    {
     "data": {
      "text/html": [
       "<div>\n",
       "<table border=\"1\" class=\"dataframe\">\n",
       "  <thead>\n",
       "    <tr style=\"text-align: right;\">\n",
       "      <th></th>\n",
       "      <th>timepoint_id</th>\n",
       "      <th>end_time</th>\n",
       "      <th>t_dur</th>\n",
       "    </tr>\n",
       "  </thead>\n",
       "  <tbody>\n",
       "    <tr>\n",
       "      <th>count</th>\n",
       "      <td>471.000000</td>\n",
       "      <td>471.000000</td>\n",
       "      <td>471.000000</td>\n",
       "    </tr>\n",
       "    <tr>\n",
       "      <th>mean</th>\n",
       "      <td>236.000000</td>\n",
       "      <td>1.300365</td>\n",
       "      <td>0.011677</td>\n",
       "    </tr>\n",
       "    <tr>\n",
       "      <th>std</th>\n",
       "      <td>136.110249</td>\n",
       "      <td>1.452798</td>\n",
       "      <td>0.019537</td>\n",
       "    </tr>\n",
       "    <tr>\n",
       "      <th>min</th>\n",
       "      <td>1.000000</td>\n",
       "      <td>0.000386</td>\n",
       "      <td>0.000001</td>\n",
       "    </tr>\n",
       "    <tr>\n",
       "      <th>25%</th>\n",
       "      <td>118.500000</td>\n",
       "      <td>0.164054</td>\n",
       "      <td>0.001344</td>\n",
       "    </tr>\n",
       "    <tr>\n",
       "      <th>50%</th>\n",
       "      <td>236.000000</td>\n",
       "      <td>0.692312</td>\n",
       "      <td>0.004012</td>\n",
       "    </tr>\n",
       "    <tr>\n",
       "      <th>75%</th>\n",
       "      <td>353.500000</td>\n",
       "      <td>2.040779</td>\n",
       "      <td>0.012342</td>\n",
       "    </tr>\n",
       "    <tr>\n",
       "      <th>max</th>\n",
       "      <td>471.000000</td>\n",
       "      <td>5.500000</td>\n",
       "      <td>0.199702</td>\n",
       "    </tr>\n",
       "  </tbody>\n",
       "</table>\n",
       "</div>"
      ],
      "text/plain": [
       "       timepoint_id    end_time       t_dur\n",
       "count    471.000000  471.000000  471.000000\n",
       "mean     236.000000    1.300365    0.011677\n",
       "std      136.110249    1.452798    0.019537\n",
       "min        1.000000    0.000386    0.000001\n",
       "25%      118.500000    0.164054    0.001344\n",
       "50%      236.000000    0.692312    0.004012\n",
       "75%      353.500000    2.040779    0.012342\n",
       "max      471.000000    5.500000    0.199702"
      ]
     },
     "execution_count": 34,
     "metadata": {},
     "output_type": "execute_result"
    }
   ],
   "source": [
    "input_r.timepoint_df.describe()"
   ]
  },
  {
   "cell_type": "code",
   "execution_count": 35,
   "metadata": {
    "ExecuteTime": {
     "end_time": "2017-01-07T20:17:11.180627",
     "start_time": "2017-01-07T20:17:11.143872"
    },
    "collapsed": false
   },
   "outputs": [],
   "source": [
    "## check whether assigned timepoint ids are indeed identical\n",
    "timepoints_t = input_t.timepoint_df\n",
    "timepoints_r = input_r.timepoint_df\n",
    "\n",
    "merged_timepoints = pd.merge(timepoints_t, timepoints_r, on='timepoint_id', suffixes=['.t', '.r'], how='outer')\n",
    "merged_timepoints['end_time.diff'] = merged_timepoints.apply(lambda row: row['end_time.t']-row['end_time.r'], axis=1)\n",
    "assert(all(merged_timepoints['end_time.diff']==0))"
   ]
  },
  {
   "cell_type": "code",
   "execution_count": 41,
   "metadata": {
    "ExecuteTime": {
     "end_time": "2017-01-07T20:18:10.207556",
     "start_time": "2017-01-07T20:18:10.172498"
    },
    "collapsed": false
   },
   "outputs": [
    {
     "data": {
      "text/html": [
       "<div>\n",
       "<table border=\"1\" class=\"dataframe\">\n",
       "  <thead>\n",
       "    <tr style=\"text-align: right;\">\n",
       "      <th></th>\n",
       "      <th>Intercept</th>\n",
       "      <th>X2</th>\n",
       "      <th>subject_id</th>\n",
       "      <th>end_r</th>\n",
       "      <th>end_time</th>\n",
       "      <th>timepoint_id</th>\n",
       "    </tr>\n",
       "  </thead>\n",
       "  <tbody>\n",
       "    <tr>\n",
       "      <th>637</th>\n",
       "      <td>1.0</td>\n",
       "      <td>1.0</td>\n",
       "      <td>2</td>\n",
       "      <td>False</td>\n",
       "      <td>0.318088</td>\n",
       "      <td>165</td>\n",
       "    </tr>\n",
       "    <tr>\n",
       "      <th>640</th>\n",
       "      <td>1.0</td>\n",
       "      <td>1.0</td>\n",
       "      <td>2</td>\n",
       "      <td>False</td>\n",
       "      <td>0.412779</td>\n",
       "      <td>186</td>\n",
       "    </tr>\n",
       "    <tr>\n",
       "      <th>642</th>\n",
       "      <td>1.0</td>\n",
       "      <td>1.0</td>\n",
       "      <td>2</td>\n",
       "      <td>False</td>\n",
       "      <td>0.379931</td>\n",
       "      <td>176</td>\n",
       "    </tr>\n",
       "    <tr>\n",
       "      <th>645</th>\n",
       "      <td>1.0</td>\n",
       "      <td>1.0</td>\n",
       "      <td>2</td>\n",
       "      <td>False</td>\n",
       "      <td>0.255143</td>\n",
       "      <td>147</td>\n",
       "    </tr>\n",
       "    <tr>\n",
       "      <th>651</th>\n",
       "      <td>1.0</td>\n",
       "      <td>1.0</td>\n",
       "      <td>2</td>\n",
       "      <td>False</td>\n",
       "      <td>0.391109</td>\n",
       "      <td>178</td>\n",
       "    </tr>\n",
       "  </tbody>\n",
       "</table>\n",
       "</div>"
      ],
      "text/plain": [
       "     Intercept   X2  subject_id  end_r  end_time  timepoint_id\n",
       "637        1.0  1.0           2  False  0.318088           165\n",
       "640        1.0  1.0           2  False  0.412779           186\n",
       "642        1.0  1.0           2  False  0.379931           176\n",
       "645        1.0  1.0           2  False  0.255143           147\n",
       "651        1.0  1.0           2  False  0.391109           178"
      ]
     },
     "execution_count": 41,
     "metadata": {},
     "output_type": "execute_result"
    }
   ],
   "source": [
    "input_r.df_nonmiss[input_r.df_nonmiss.duplicated(subset=['subject_id','end_time'])].head()"
   ]
  },
  {
   "cell_type": "code",
   "execution_count": 50,
   "metadata": {
    "ExecuteTime": {
     "end_time": "2017-01-07T20:21:09.004784",
     "start_time": "2017-01-07T20:21:08.971127"
    },
    "collapsed": false
   },
   "outputs": [
    {
     "data": {
      "text/html": [
       "<div>\n",
       "<table border=\"1\" class=\"dataframe\">\n",
       "  <thead>\n",
       "    <tr style=\"text-align: right;\">\n",
       "      <th></th>\n",
       "      <th>event_r</th>\n",
       "      <th>event_t</th>\n",
       "      <th>subject_id</th>\n",
       "      <th>time</th>\n",
       "      <th>key</th>\n",
       "      <th>end_time</th>\n",
       "      <th>end_t</th>\n",
       "    </tr>\n",
       "  </thead>\n",
       "  <tbody>\n",
       "    <tr>\n",
       "      <th>942</th>\n",
       "      <td>0.0</td>\n",
       "      <td>1.0</td>\n",
       "      <td>2</td>\n",
       "      <td>1.121959</td>\n",
       "      <td>1</td>\n",
       "      <td>0.318088</td>\n",
       "      <td>False</td>\n",
       "    </tr>\n",
       "    <tr>\n",
       "      <th>188400</th>\n",
       "      <td>1.0</td>\n",
       "      <td>0.0</td>\n",
       "      <td>2</td>\n",
       "      <td>0.539432</td>\n",
       "      <td>1</td>\n",
       "      <td>0.318088</td>\n",
       "      <td>False</td>\n",
       "    </tr>\n",
       "  </tbody>\n",
       "</table>\n",
       "</div>"
      ],
      "text/plain": [
       "        event_r  event_t  subject_id      time  key  end_time  end_t\n",
       "942         0.0      1.0           2  1.121959    1  0.318088  False\n",
       "188400      1.0      0.0           2  0.539432    1  0.318088  False"
      ]
     },
     "execution_count": 50,
     "metadata": {},
     "output_type": "execute_result"
    }
   ],
   "source": [
    "longdata_t.query('subject_id == 2 and abs(end_time-0.318088) < 0.001')\\\n",
    "    .sort_values(['subject_id','end_time'])"
   ]
  },
  {
   "cell_type": "code",
   "execution_count": null,
   "metadata": {
    "collapsed": true
   },
   "outputs": [],
   "source": [
    "class MultiSurvivalStanData(SurvivalStanData):\n",
    "    '''\n",
    "        Input data for a Survivalstan model with multiple events\n",
    "    '''\n",
    "    "
   ]
  }
 ],
 "metadata": {
  "kernelspec": {
   "display_name": "survstan3",
   "language": "python",
   "name": "survstan3"
  },
  "language_info": {
   "codemirror_mode": {
    "name": "ipython",
    "version": 3
   },
   "file_extension": ".py",
   "mimetype": "text/x-python",
   "name": "python",
   "nbconvert_exporter": "python",
   "pygments_lexer": "ipython3",
   "version": "3.5.2"
  },
  "toc": {
   "nav_menu": {
    "height": "30px",
    "width": "252px"
   },
   "navigate_menu": true,
   "number_sections": true,
   "sideBar": true,
   "threshold": 4,
   "toc_cell": false,
   "toc_section_display": "block",
   "toc_window_display": false
  }
 },
 "nbformat": 4,
 "nbformat_minor": 1
}

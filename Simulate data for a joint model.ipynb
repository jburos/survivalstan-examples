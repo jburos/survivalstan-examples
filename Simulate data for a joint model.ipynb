{
 "cells": [
  {
   "cell_type": "code",
   "execution_count": 1,
   "metadata": {
    "ExecuteTime": {
     "end_time": "2017-01-04T18:14:38.579399",
     "start_time": "2017-01-04T18:14:37.367181"
    },
    "collapsed": true
   },
   "outputs": [],
   "source": [
    "import pandas as pd\n",
    "import numpy as np\n",
    "import seaborn as sb\n",
    "import survivalstan as ss"
   ]
  },
  {
   "cell_type": "markdown",
   "metadata": {},
   "source": [
    "# simulate data for model"
   ]
  },
  {
   "cell_type": "markdown",
   "metadata": {},
   "source": [
    "## Set hyper-parameter values"
   ]
  },
  {
   "cell_type": "markdown",
   "metadata": {},
   "source": [
    "For each subject, generate:\n",
    "\n",
    "1. vector of random effects, from multivariate normal: (0, B)\n",
    "2. vector of time-independent binary variables X1 and X2, from bernoulli dist with p=0.5\n",
    "3. value of measurement error from normal dist, with mean=0 & sigma=1.25\n",
    "4. vector of visit times: exponential dist with r0(t) = 2\n",
    "5. \n",
    "\n",
    "For the simulation of biomarker (longitudinal data), set:\n",
    "\n",
    "1. intercept (B0): `3.0`\n",
    "2. slope over time (B1): `0.5`\n",
    "3. coefficient for X1 (B2): `0.5`\n",
    "\n",
    "For the simulation of recurrent events, set:\n",
    "\n",
    "1. coefficient for X1 (B3): `0.5`\n",
    "2. \n",
    "\n",
    "For the simulation of terminal events, set:\n",
    "\n",
    "1. Coefficient for X2 (B4): `0.1`\n",
    "2. Baseline hazard lambda0(t): `1.5`\n",
    "\n",
    "Censor observations at Ci = `5.5`"
   ]
  },
  {
   "cell_type": "code",
   "execution_count": 2,
   "metadata": {
    "ExecuteTime": {
     "end_time": "2017-01-04T18:14:38.591494",
     "start_time": "2017-01-04T18:14:38.582025"
    },
    "collapsed": false
   },
   "outputs": [
    {
     "data": {
      "text/plain": [
       "matrix([[ 2.25, -0.5 ],\n",
       "        [-0.5 ,  0.64]])"
      ]
     },
     "execution_count": 2,
     "metadata": {},
     "output_type": "execute_result"
    }
   ],
   "source": [
    "## B1 matrix; defines distribution of random effects b0 and b1\n",
    "sigma_00 = 1.5\n",
    "sigma_01 = -0.5\n",
    "sigma_10 = -0.5\n",
    "sigma_11 = 0.8\n",
    "sigma_v = 0.8\n",
    "\n",
    "B1_matrix = np.matrix([[np.power(sigma_00, 2), sigma_01],\n",
    "                      [sigma_10, np.power(sigma_11, 2)]])\n",
    "B1_matrix"
   ]
  },
  {
   "cell_type": "code",
   "execution_count": 3,
   "metadata": {
    "ExecuteTime": {
     "end_time": "2017-01-04T18:14:38.600869",
     "start_time": "2017-01-04T18:14:38.593401"
    },
    "collapsed": false
   },
   "outputs": [
    {
     "data": {
      "text/plain": [
       "array([[ 2.25, -0.5 ,  0.  ],\n",
       "       [-0.5 ,  0.64,  0.  ],\n",
       "       [ 0.  ,  0.  ,  0.64]])"
      ]
     },
     "execution_count": 3,
     "metadata": {},
     "output_type": "execute_result"
    }
   ],
   "source": [
    "## B matrix; includes subject-level parameters B1 and vi\n",
    "B_matrix = np.zeros(shape=(3,3))\n",
    "B_matrix[0:2, 0:2] = B1_matrix\n",
    "B_matrix[2, 2] = np.power(sigma_v, 2)\n",
    "B_matrix"
   ]
  },
  {
   "cell_type": "code",
   "execution_count": 4,
   "metadata": {
    "ExecuteTime": {
     "end_time": "2017-01-04T18:14:38.610216",
     "start_time": "2017-01-04T18:14:38.602642"
    },
    "collapsed": true
   },
   "outputs": [],
   "source": [
    "## inputs to simulation - parameters & hard-coded values\n",
    "N = 400\n",
    "lambda_t_0 = 1.5\n",
    "lambda_r_0 = 2.0\n",
    "alpha = 2.6\n",
    "B_t = np.matrix([0.1])\n",
    "B_r = np.matrix([0.5])\n",
    "B_l = np.matrix([3., 0.5, 0.5]).transpose()\n",
    "eta_t = np.matrix([0.5, 0.5]).transpose()\n",
    "eta_r = np.matrix([0.2, 0.2]).transpose()\n",
    "censor = 5.5\n",
    "meas_gap = 0.2"
   ]
  },
  {
   "cell_type": "markdown",
   "metadata": {},
   "source": [
    "## Simulate parameter values for each subject"
   ]
  },
  {
   "cell_type": "code",
   "execution_count": 5,
   "metadata": {
    "ExecuteTime": {
     "end_time": "2017-01-04T18:14:38.626444",
     "start_time": "2017-01-04T18:14:38.612299"
    },
    "collapsed": false
   },
   "outputs": [],
   "source": [
    "## simulate subject-level parameters for random effects\n",
    "raneff = np.matrix(np.random.multivariate_normal(mean=(0,0,0), cov=B_matrix, size=N))\n",
    "b = raneff[:,0:2]\n",
    "vi = raneff[:,2]\n",
    "\n",
    "## measurement error for longitudinal data simulation\n",
    "def meas_error(n=1):\n",
    "    return(np.random.normal(loc=0, scale=1.25, size=n))\n",
    "\n",
    "## simulate covariate values\n",
    "X = np.matrix(np.random.binomial(size=(N, 2), p=0.5, n=1))\n",
    "X_l = X[:,0:1] # covariate X for longitudinal submodel\n",
    "X_r = X[:,0:1] # covariate X for recurrent events submodel\n",
    "X_t = X[:,1:2] # covariate X for terminal event submodel"
   ]
  },
  {
   "cell_type": "code",
   "execution_count": 30,
   "metadata": {
    "ExecuteTime": {
     "end_time": "2017-01-04T18:19:52.394665",
     "start_time": "2017-01-04T18:19:52.353115"
    },
    "collapsed": false
   },
   "outputs": [],
   "source": [
    "def simulate_inputs(N,\n",
    "                    B_matrix=None,\n",
    "                    p=0.5,\n",
    "                    sigma_00=1.5,\n",
    "                    sigma_01=-0.5,\n",
    "                    sigma_10=-0.5,\n",
    "                    sigma_11=0.8,\n",
    "                    sigma_v=0.8,\n",
    "                    meas_error_scale=1.25,\n",
    "                    **kwargs):\n",
    "\n",
    "    ## construct B_matrix if not provided\n",
    "    if not B_matrix:\n",
    "        B1_matrix = np.matrix([[np.power(sigma_00, 2), sigma_01],\n",
    "                              [sigma_10, np.power(sigma_11, 2)]])\n",
    "        B_matrix = np.zeros(shape=(3,3))\n",
    "        B_matrix[0:2, 0:2] = B1_matrix\n",
    "        B_matrix[2, 2] = np.power(sigma_v, 2)\n",
    "\n",
    "    ## simulate subject-level parameters for random effects\n",
    "    raneff = np.matrix(np.random.multivariate_normal(mean=(0,0,0), cov=B_matrix, size=N))\n",
    "    b = raneff[:,0:2]\n",
    "    vi = raneff[:,2]\n",
    "    \n",
    "    ## measurement error for longitudinal data simulation\n",
    "    def meas_error(n=1):\n",
    "        return(np.random.normal(loc=0, scale=meas_error_scale, size=n))\n",
    "\n",
    "    ## simulate covariate values\n",
    "    X = np.matrix(np.random.binomial(size=(N, 2), p=p, n=1))\n",
    "    X_l = X[:,0:1] # covariate X for longitudinal submodel\n",
    "    X_r = X[:,0:1] # covariate X for recurrent events submodel\n",
    "    X_t = X[:,1:2] # covariate X for terminal event submodel\n",
    "    \n",
    "    params = {\n",
    "        'X_l': X_l,\n",
    "        'X_r': X_r,\n",
    "        'X_t': X_t,\n",
    "        'meas_error': meas_error,\n",
    "        'vi': vi,\n",
    "        'b': b,\n",
    "        'N': N,\n",
    "        'lambda_t_0': 1.5,\n",
    "        'lambda_r_0': 2.0,\n",
    "        'alpha': 2.6,\n",
    "        'B_t': np.matrix([0.1]),\n",
    "        'B_r': np.matrix([0.5]),\n",
    "        'B_l': np.matrix([3., 0.5, 0.5]).transpose(),\n",
    "        'eta_t': np.matrix([0.5, 0.5]).transpose(),\n",
    "        'eta_r': np.matrix([0.2, 0.2]).transpose(),\n",
    "        'censor': 5.5,\n",
    "        'meas_gap': 0.2,\n",
    "        }\n",
    "    \n",
    "    if dict(**kwargs):\n",
    "        params.update(dict(**kwargs))\n",
    "    return(params)\n"
   ]
  },
  {
   "cell_type": "markdown",
   "metadata": {},
   "source": [
    "## Simulate data for terminating events "
   ]
  },
  {
   "cell_type": "code",
   "execution_count": 31,
   "metadata": {
    "ExecuteTime": {
     "end_time": "2017-01-04T18:19:53.748258",
     "start_time": "2017-01-04T18:19:53.738655"
    },
    "collapsed": false
   },
   "outputs": [],
   "source": [
    "t_df = pd.DataFrame(data=np.random.exponential(lambda_t_0*np.exp(alpha*vi + X_t*B_t + b*eta_t)),\n",
    "                    columns=['death'])\n",
    "t_df['event_status'] = t_df['death'].apply(lambda x: 1 if x <= censor else 0)\n",
    "t_df['event_time'] = t_df['death'].apply(lambda x: x if x <= censor else censor)\n",
    "t_df.reset_index(inplace=True)"
   ]
  },
  {
   "cell_type": "markdown",
   "metadata": {},
   "source": [
    "Plot survival curve from simulated data"
   ]
  },
  {
   "cell_type": "code",
   "execution_count": 32,
   "metadata": {
    "ExecuteTime": {
     "end_time": "2017-01-04T18:19:55.003285",
     "start_time": "2017-01-04T18:19:54.727890"
    },
    "collapsed": false
   },
   "outputs": [
    {
     "data": {
      "image/png": "[encoded data removed]",
      "text/plain": [
       "<matplotlib.figure.Figure at 0x7f69c8b9a128>"
      ]
     },
     "metadata": {},
     "output_type": "display_data"
    }
   ],
   "source": [
    "ss.utils.plot_observed_survival(df=t_df, event_col='event_status', time_col='event_time')"
   ]
  },
  {
   "cell_type": "code",
   "execution_count": 33,
   "metadata": {
    "ExecuteTime": {
     "end_time": "2017-01-04T18:19:55.733516",
     "start_time": "2017-01-04T18:19:55.725804"
    },
    "collapsed": true
   },
   "outputs": [],
   "source": [
    "def simulate_terminal_events(lambda_t_0, alpha, vi, X_t, B_t, b, eta_t, censor, **kwargs):\n",
    "    t_df = pd.DataFrame(data=np.random.exponential(lambda_t_0*np.exp(alpha*vi + X_t*B_t + b*eta_t)),\n",
    "                        columns=['death'])\n",
    "    t_df['event_status'] = t_df['death'].apply(lambda x: 1 if x <= censor else 0)\n",
    "    t_df['event_time'] = t_df['death'].apply(lambda x: x if x <= censor else censor)\n",
    "    t_df.reset_index(inplace=True)\n",
    "    return(t_df)"
   ]
  },
  {
   "cell_type": "markdown",
   "metadata": {},
   "source": [
    "## Simulate data for recurrent events"
   ]
  },
  {
   "cell_type": "markdown",
   "metadata": {},
   "source": [
    "Simulate hypothetical \"gap times\" between first 6 recurrent events for each subject. Observed recurrent event times are cumsum of gap times. "
   ]
  },
  {
   "cell_type": "code",
   "execution_count": 34,
   "metadata": {
    "ExecuteTime": {
     "end_time": "2017-01-04T18:19:56.982353",
     "start_time": "2017-01-04T18:19:56.975275"
    },
    "collapsed": false
   },
   "outputs": [],
   "source": [
    "r_df = pd.DataFrame(data=np.random.exponential(lambda_r_0*np.exp(vi + X_r*B_r + b*eta_r), size=(N, 6)))\n",
    "r_df = r_df.cumsum(axis=1)\n",
    "r_df.reset_index(inplace=True)"
   ]
  },
  {
   "cell_type": "markdown",
   "metadata": {},
   "source": [
    "Merge with terminating event data so that we can censored recurrent events which occurred after terminating event. Note that we don't care whether these terminating events are censor events or observed; either way the subject is censored."
   ]
  },
  {
   "cell_type": "code",
   "execution_count": 35,
   "metadata": {
    "ExecuteTime": {
     "end_time": "2017-01-04T18:19:57.855130",
     "start_time": "2017-01-04T18:19:57.836289"
    },
    "collapsed": false
   },
   "outputs": [
    {
     "data": {
      "text/html": [
       "<div>\n",
       "<table border=\"1\" class=\"dataframe\">\n",
       "  <thead>\n",
       "    <tr style=\"text-align: right;\">\n",
       "      <th></th>\n",
       "      <th>index</th>\n",
       "      <th>recurrence_time</th>\n",
       "      <th>death</th>\n",
       "      <th>event_status</th>\n",
       "      <th>event_time</th>\n",
       "    </tr>\n",
       "  </thead>\n",
       "  <tbody>\n",
       "    <tr>\n",
       "      <th>0</th>\n",
       "      <td>0</td>\n",
       "      <td>0.009977</td>\n",
       "      <td>0.232592</td>\n",
       "      <td>1</td>\n",
       "      <td>0.232592</td>\n",
       "    </tr>\n",
       "    <tr>\n",
       "      <th>1</th>\n",
       "      <td>0</td>\n",
       "      <td>0.330892</td>\n",
       "      <td>0.232592</td>\n",
       "      <td>1</td>\n",
       "      <td>0.232592</td>\n",
       "    </tr>\n",
       "    <tr>\n",
       "      <th>2</th>\n",
       "      <td>0</td>\n",
       "      <td>1.111952</td>\n",
       "      <td>0.232592</td>\n",
       "      <td>1</td>\n",
       "      <td>0.232592</td>\n",
       "    </tr>\n",
       "    <tr>\n",
       "      <th>3</th>\n",
       "      <td>0</td>\n",
       "      <td>3.485308</td>\n",
       "      <td>0.232592</td>\n",
       "      <td>1</td>\n",
       "      <td>0.232592</td>\n",
       "    </tr>\n",
       "    <tr>\n",
       "      <th>4</th>\n",
       "      <td>0</td>\n",
       "      <td>3.872598</td>\n",
       "      <td>0.232592</td>\n",
       "      <td>1</td>\n",
       "      <td>0.232592</td>\n",
       "    </tr>\n",
       "  </tbody>\n",
       "</table>\n",
       "</div>"
      ],
      "text/plain": [
       "   index  recurrence_time     death  event_status  event_time\n",
       "0      0         0.009977  0.232592             1    0.232592\n",
       "1      0         0.330892  0.232592             1    0.232592\n",
       "2      0         1.111952  0.232592             1    0.232592\n",
       "3      0         3.485308  0.232592             1    0.232592\n",
       "4      0         3.872598  0.232592             1    0.232592"
      ]
     },
     "execution_count": 35,
     "metadata": {},
     "output_type": "execute_result"
    }
   ],
   "source": [
    "r_df2 = pd.melt(r_df, id_vars='index', value_name='recurrence_time')\n",
    "del r_df2['variable']\n",
    "r_df2 = pd.merge(r_df2, t_df, on='index', how='outer')\n",
    "r_df2.head()"
   ]
  },
  {
   "cell_type": "markdown",
   "metadata": {},
   "source": [
    "Here we remove events occurring after terminating event."
   ]
  },
  {
   "cell_type": "code",
   "execution_count": 36,
   "metadata": {
    "ExecuteTime": {
     "end_time": "2017-01-04T18:19:58.594650",
     "start_time": "2017-01-04T18:19:58.586107"
    },
    "collapsed": false
   },
   "outputs": [
    {
     "data": {
      "text/plain": [
       "(227, 5)"
      ]
     },
     "execution_count": 36,
     "metadata": {},
     "output_type": "execute_result"
    }
   ],
   "source": [
    "r_df3 = r_df2.query('recurrence_time <= event_time').copy()\n",
    "r_df3.shape"
   ]
  },
  {
   "cell_type": "code",
   "execution_count": 37,
   "metadata": {
    "ExecuteTime": {
     "end_time": "2017-01-04T18:19:58.971875",
     "start_time": "2017-01-04T18:19:58.968174"
    },
    "collapsed": false
   },
   "outputs": [],
   "source": [
    "## clean up objects in memory\n",
    "r_df = r_df3\n",
    "del r_df2\n",
    "del r_df3"
   ]
  },
  {
   "cell_type": "markdown",
   "metadata": {},
   "source": [
    "Define a function for future use"
   ]
  },
  {
   "cell_type": "code",
   "execution_count": 38,
   "metadata": {
    "ExecuteTime": {
     "end_time": "2017-01-04T18:19:59.903156",
     "start_time": "2017-01-04T18:19:59.894090"
    },
    "collapsed": true
   },
   "outputs": [],
   "source": [
    "def simulate_recurrent_events(lambda_r_0, vi, X_r, B_r, b, eta_r, N, t_df, max_events=6, **kwargs):\n",
    "    r_df = pd.DataFrame(data=np.random.exponential(lambda_r_0*np.exp(vi + X_r*B_r + b*eta_r), size=(N, max_events)))\n",
    "    r_df = r_df.cumsum(axis=1)\n",
    "    r_df.reset_index(inplace=True)\n",
    "    r_df2 = pd.melt(r_df, id_vars='index', value_name='recurrence_time')\n",
    "    del r_df2['variable']\n",
    "    r_df2 = pd.merge(r_df2, t_df, on='index', how='outer')\n",
    "    r_df3 = r_df2.query('recurrence_time <= event_time').copy()\n",
    "    return(r_df3)"
   ]
  },
  {
   "cell_type": "markdown",
   "metadata": {},
   "source": [
    "## Simulate data for biomarker measurements"
   ]
  },
  {
   "cell_type": "markdown",
   "metadata": {},
   "source": [
    "Finally we simulate data for biomarker measurements. \n",
    "\n",
    "We start by generating the observation times in intervals of `meas_gap`, with up to 20 observations per subject."
   ]
  },
  {
   "cell_type": "code",
   "execution_count": 39,
   "metadata": {
    "ExecuteTime": {
     "end_time": "2017-01-04T18:20:01.447040",
     "start_time": "2017-01-04T18:20:01.427442"
    },
    "collapsed": false
   },
   "outputs": [
    {
     "data": {
      "text/html": [
       "<div>\n",
       "<table border=\"1\" class=\"dataframe\">\n",
       "  <thead>\n",
       "    <tr style=\"text-align: right;\">\n",
       "      <th></th>\n",
       "      <th>index</th>\n",
       "      <th>biomarker_time</th>\n",
       "    </tr>\n",
       "  </thead>\n",
       "  <tbody>\n",
       "    <tr>\n",
       "      <th>0</th>\n",
       "      <td>0</td>\n",
       "      <td>0.2</td>\n",
       "    </tr>\n",
       "    <tr>\n",
       "      <th>400</th>\n",
       "      <td>0</td>\n",
       "      <td>0.4</td>\n",
       "    </tr>\n",
       "    <tr>\n",
       "      <th>800</th>\n",
       "      <td>0</td>\n",
       "      <td>0.6</td>\n",
       "    </tr>\n",
       "    <tr>\n",
       "      <th>1200</th>\n",
       "      <td>0</td>\n",
       "      <td>0.8</td>\n",
       "    </tr>\n",
       "    <tr>\n",
       "      <th>1600</th>\n",
       "      <td>0</td>\n",
       "      <td>1.0</td>\n",
       "    </tr>\n",
       "  </tbody>\n",
       "</table>\n",
       "</div>"
      ],
      "text/plain": [
       "      index  biomarker_time\n",
       "0         0             0.2\n",
       "400       0             0.4\n",
       "800       0             0.6\n",
       "1200      0             0.8\n",
       "1600      0             1.0"
      ]
     },
     "execution_count": 39,
     "metadata": {},
     "output_type": "execute_result"
    }
   ],
   "source": [
    "l_df = pd.DataFrame(np.ones(shape=(N, 20))*meas_gap)\n",
    "l_df = l_df.cumsum(axis=1)\n",
    "l_df.reset_index(inplace=True)\n",
    "l_df2 = pd.melt(l_df, id_vars=['index'], value_name='biomarker_time')\n",
    "del l_df2['variable']\n",
    "l_df2.sort_values(['index','biomarker_time']).head()"
   ]
  },
  {
   "cell_type": "markdown",
   "metadata": {},
   "source": [
    "Next we merge this with the terminating-event dataset so that we can exclude observations which would have occurred after the terminating event."
   ]
  },
  {
   "cell_type": "code",
   "execution_count": 40,
   "metadata": {
    "ExecuteTime": {
     "end_time": "2017-01-04T18:20:02.239919",
     "start_time": "2017-01-04T18:20:02.229296"
    },
    "collapsed": true
   },
   "outputs": [],
   "source": [
    "l_df3 = pd.merge(l_df2, t_df, on='index', how='outer')\n",
    "l_df3 = l_df3.query('biomarker_time <= event_time').copy()"
   ]
  },
  {
   "cell_type": "markdown",
   "metadata": {},
   "source": [
    "Finally, we simulate the biomarker values which would be observed at each timepoint, as a function of the subject-level parameters simulated above, the simulated covariate values & the time of observation."
   ]
  },
  {
   "cell_type": "code",
   "execution_count": 41,
   "metadata": {
    "ExecuteTime": {
     "end_time": "2017-01-04T18:20:03.021443",
     "start_time": "2017-01-04T18:20:03.012389"
    },
    "collapsed": true
   },
   "outputs": [],
   "source": [
    "def _sim_biomarker_values(row):\n",
    "    index = int(row['index'])\n",
    "    time = row['biomarker_time']\n",
    "    X_x = np.matrix([1, time, X_l[index, 0]])\n",
    "    b_x = b[index, :]\n",
    "    x_x = np.matrix([1, time]).transpose()\n",
    "    epsilon = meas_error()\n",
    "    value = X_x*B_l + b_x*x_x + epsilon\n",
    "    if len(value) != 1:\n",
    "        print('Warning')\n",
    "    else:\n",
    "        return(float(value))\n",
    "    "
   ]
  },
  {
   "cell_type": "code",
   "execution_count": 42,
   "metadata": {
    "ExecuteTime": {
     "end_time": "2017-01-04T18:20:03.850525",
     "start_time": "2017-01-04T18:20:03.483066"
    },
    "collapsed": false
   },
   "outputs": [],
   "source": [
    "l_df3['biomarker_value'] = l_df3.apply(_sim_biomarker_values, axis=1)"
   ]
  },
  {
   "cell_type": "code",
   "execution_count": 43,
   "metadata": {
    "ExecuteTime": {
     "end_time": "2017-01-04T18:20:03.864999",
     "start_time": "2017-01-04T18:20:03.852243"
    },
    "collapsed": false
   },
   "outputs": [
    {
     "data": {
      "text/html": [
       "<div>\n",
       "<table border=\"1\" class=\"dataframe\">\n",
       "  <thead>\n",
       "    <tr style=\"text-align: right;\">\n",
       "      <th></th>\n",
       "      <th>index</th>\n",
       "      <th>biomarker_time</th>\n",
       "      <th>death</th>\n",
       "      <th>event_status</th>\n",
       "      <th>event_time</th>\n",
       "      <th>biomarker_value</th>\n",
       "    </tr>\n",
       "  </thead>\n",
       "  <tbody>\n",
       "    <tr>\n",
       "      <th>0</th>\n",
       "      <td>0</td>\n",
       "      <td>0.2</td>\n",
       "      <td>0.232592</td>\n",
       "      <td>1</td>\n",
       "      <td>0.232592</td>\n",
       "      <td>-0.466418</td>\n",
       "    </tr>\n",
       "    <tr>\n",
       "      <th>20</th>\n",
       "      <td>1</td>\n",
       "      <td>0.2</td>\n",
       "      <td>3.280094</td>\n",
       "      <td>1</td>\n",
       "      <td>3.280094</td>\n",
       "      <td>1.612260</td>\n",
       "    </tr>\n",
       "    <tr>\n",
       "      <th>21</th>\n",
       "      <td>1</td>\n",
       "      <td>0.4</td>\n",
       "      <td>3.280094</td>\n",
       "      <td>1</td>\n",
       "      <td>3.280094</td>\n",
       "      <td>2.144493</td>\n",
       "    </tr>\n",
       "    <tr>\n",
       "      <th>22</th>\n",
       "      <td>1</td>\n",
       "      <td>0.6</td>\n",
       "      <td>3.280094</td>\n",
       "      <td>1</td>\n",
       "      <td>3.280094</td>\n",
       "      <td>2.345802</td>\n",
       "    </tr>\n",
       "    <tr>\n",
       "      <th>23</th>\n",
       "      <td>1</td>\n",
       "      <td>0.8</td>\n",
       "      <td>3.280094</td>\n",
       "      <td>1</td>\n",
       "      <td>3.280094</td>\n",
       "      <td>4.406569</td>\n",
       "    </tr>\n",
       "  </tbody>\n",
       "</table>\n",
       "</div>"
      ],
      "text/plain": [
       "    index  biomarker_time     death  event_status  event_time  biomarker_value\n",
       "0       0             0.2  0.232592             1    0.232592        -0.466418\n",
       "20      1             0.2  3.280094             1    3.280094         1.612260\n",
       "21      1             0.4  3.280094             1    3.280094         2.144493\n",
       "22      1             0.6  3.280094             1    3.280094         2.345802\n",
       "23      1             0.8  3.280094             1    3.280094         4.406569"
      ]
     },
     "execution_count": 43,
     "metadata": {},
     "output_type": "execute_result"
    }
   ],
   "source": [
    "l_df3.head()"
   ]
  },
  {
   "cell_type": "markdown",
   "metadata": {},
   "source": [
    "Finally, we left-censor these observations at a minimum observable value (here set to `-0.4`)."
   ]
  },
  {
   "cell_type": "code",
   "execution_count": 44,
   "metadata": {
    "ExecuteTime": {
     "end_time": "2017-01-04T18:20:04.703375",
     "start_time": "2017-01-04T18:20:04.696952"
    },
    "collapsed": true
   },
   "outputs": [],
   "source": [
    "l_df4 = l_df3.copy()\n",
    "\n",
    "l_df4['biomarker_value'] = l_df4['biomarker_value'].apply(lambda x: x if x>= -0.4 else -0.4)"
   ]
  },
  {
   "cell_type": "code",
   "execution_count": 45,
   "metadata": {
    "ExecuteTime": {
     "end_time": "2017-01-04T18:20:05.153738",
     "start_time": "2017-01-04T18:20:05.149801"
    },
    "collapsed": true
   },
   "outputs": [],
   "source": [
    "l_df = l_df4\n",
    "del l_df4\n",
    "del l_df3\n",
    "del l_df2"
   ]
  },
  {
   "cell_type": "code",
   "execution_count": 46,
   "metadata": {
    "ExecuteTime": {
     "end_time": "2017-01-04T18:20:05.687713",
     "start_time": "2017-01-04T18:20:05.662747"
    },
    "collapsed": true
   },
   "outputs": [],
   "source": [
    "def simulate_longitudinal_biomarker(N, meas_gap, t_df, X_l, b, meas_error, B_l,\n",
    "                                    left_censor_at=-0.4, max_visits=20, **kwargs):\n",
    "    l_df = pd.DataFrame(np.ones(shape=(N, max_visits))*meas_gap)\n",
    "    l_df = l_df.cumsum(axis=1)\n",
    "    l_df.reset_index(inplace=True)\n",
    "    l_df = pd.melt(l_df, id_vars=['index'], value_name='biomarker_time')\n",
    "    del l_df['variable']\n",
    "    \n",
    "    l_df = pd.merge(l_df, t_df, on='index', how='outer')\n",
    "    l_df = l_df.query('biomarker_time <= event_time').copy()\n",
    "    \n",
    "    def _sim_biomarker_values(row):\n",
    "        index = int(row['index'])\n",
    "        time = row['biomarker_time']\n",
    "        X_x = np.matrix([1, time, X_l[index, 0]])\n",
    "        b_x = b[index, :]\n",
    "        x_x = np.matrix([1, time]).transpose()\n",
    "        epsilon = meas_error()\n",
    "        value = X_x*B_l + b_x*x_x + epsilon\n",
    "        if len(value) != 1:\n",
    "            print('Warning')\n",
    "        else:\n",
    "            return(float(value))\n",
    "    \n",
    "    l_df['biomarker_value'] = l_df.apply(_sim_biomarker_values, axis=1)\n",
    "    if left_censor_at:\n",
    "        l_df['biomarker_value'] = l_df['biomarker_value'].apply(lambda x: x if x>= left_censor_at else left_censor_at)\n",
    "    return(l_df)"
   ]
  },
  {
   "cell_type": "markdown",
   "metadata": {},
   "source": [
    "## function to simulate data "
   ]
  },
  {
   "cell_type": "code",
   "execution_count": 52,
   "metadata": {
    "ExecuteTime": {
     "end_time": "2017-01-04T18:21:03.607210",
     "start_time": "2017-01-04T18:21:03.601291"
    },
    "collapsed": false
   },
   "outputs": [],
   "source": [
    "def simulate_data(N, p=0.5, **kwargs):\n",
    "    params = simulate_inputs(N=N, p=p, **kwargs)\n",
    "    t_df = simulate_terminal_events(**params)\n",
    "    r_df = simulate_recurrent_events(t_df=t_df, **params)\n",
    "    l_df = simulate_longitudinal_biomarker(t_df=t_df, **params)\n",
    "    return dict(params=params, t_df=t_df, r_df=r_df, l_df=l_df)"
   ]
  },
  {
   "cell_type": "code",
   "execution_count": 53,
   "metadata": {
    "ExecuteTime": {
     "end_time": "2017-01-04T18:21:04.559602",
     "start_time": "2017-01-04T18:21:04.150179"
    },
    "collapsed": false
   },
   "outputs": [],
   "source": [
    "sim = simulate_data(N=400)"
   ]
  },
  {
   "cell_type": "markdown",
   "metadata": {},
   "source": [
    "A variation of this code is included in `jointmodel/sim.py`."
   ]
  },
  {
   "cell_type": "code",
   "execution_count": null,
   "metadata": {
    "collapsed": true
   },
   "outputs": [],
   "source": []
  }
 ],
 "metadata": {
  "kernelspec": {
   "display_name": "survstan3",
   "language": "python",
   "name": "survstan3"
  },
  "language_info": {
   "codemirror_mode": {
    "name": "ipython",
    "version": 3
   },
   "file_extension": ".py",
   "mimetype": "text/x-python",
   "name": "python",
   "nbconvert_exporter": "python",
   "pygments_lexer": "ipython3",
   "version": "3.5.2"
  },
  "toc": {
   "nav_menu": {
    "height": "66px",
    "width": "252px"
   },
   "navigate_menu": true,
   "number_sections": true,
   "sideBar": true,
   "threshold": 4,
   "toc_cell": false,
   "toc_section_display": "block",
   "toc_window_display": true
  }
 },
 "nbformat": 4,
 "nbformat_minor": 1
}

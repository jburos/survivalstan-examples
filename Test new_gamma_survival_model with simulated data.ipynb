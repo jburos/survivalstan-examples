{
 "cells": [
  {
   "cell_type": "code",
   "execution_count": 3,
   "metadata": {
    "collapsed": false
   },
   "outputs": [
    {
     "name": "stdout",
     "output_type": "stream",
     "text": [
      "The autoreload extension is already loaded. To reload it, use:\n",
      "  %reload_ext autoreload\n"
     ]
    },
    {
     "name": "stderr",
     "output_type": "stream",
     "text": [
      "/home/jacquelineburos/miniconda3/envs/python3/lib/python3.5/site-packages/Cython/Distutils/old_build_ext.py:30: UserWarning: Cython.Distutils.old_build_ext does not properly handle dependencies and is deprecated.\n",
      "  \"Cython.Distutils.old_build_ext does not properly handle dependencies \"\n",
      "/home/jacquelineburos/.local/lib/python3.5/site-packages/IPython/html.py:14: ShimWarning: The `IPython.html` package has been deprecated. You should import from `notebook` instead. `IPython.html.widgets` has moved to `ipywidgets`.\n",
      "  \"`IPython.html.widgets` has moved to `ipywidgets`.\", ShimWarning)\n",
      "INFO:stancache.seed:Setting seed to 1245502385\n"
     ]
    }
   ],
   "source": [
    "%load_ext autoreload\n",
    "%autoreload 2\n",
    "%matplotlib inline\n",
    "import random\n",
    "random.seed(1100038344)\n",
    "import survivalstan\n",
    "import numpy as np\n",
    "import pandas as pd\n",
    "from stancache import stancache\n",
    "from matplotlib import pyplot as plt"
   ]
  },
  {
   "cell_type": "markdown",
   "metadata": {},
   "source": [
    "## Simulate survival data "
   ]
  },
  {
   "cell_type": "markdown",
   "metadata": {},
   "source": [
    "In order to demonstrate the use of this model, we will first simulate some survival data using `survivalstan.sim.sim_data_exp_correlated`. As the name implies, this function simulates data assuming a constant hazard throughout the follow-up time period, which is consistent with the Exponential survival function.\n",
    "\n",
    "This function includes two simulated covariates by default (`age` and `sex`). We also simulate a situation where hazard is a function of the simulated value for `sex`. \n",
    "\n",
    "We also center the `age` variable since this will make it easier to interpret estimates of the baseline hazard.\n"
   ]
  },
  {
   "cell_type": "code",
   "execution_count": 4,
   "metadata": {
    "collapsed": false
   },
   "outputs": [
    {
     "name": "stderr",
     "output_type": "stream",
     "text": [
      "INFO:stancache.stancache:sim_data_exp_correlated: cache_filename set to sim_data_exp_correlated.cached.N_100.censor_time_20.rate_coefs_54462717316.rate_form_1 + sex.pkl\n",
      "INFO:stancache.stancache:sim_data_exp_correlated: Loading result from cache\n"
     ]
    }
   ],
   "source": [
    "d = stancache.cached(\n",
    "    survivalstan.sim.sim_data_exp_correlated,\n",
    "    N=100,\n",
    "    censor_time=20,\n",
    "    rate_form='1 + sex',\n",
    "    rate_coefs=[-3, 0.5],\n",
    ")\n",
    "d['age_centered'] = d['age'] - d['age'].mean()"
   ]
  },
  {
   "cell_type": "markdown",
   "metadata": {},
   "source": [
    "*Aside: In order to make this a more reproducible example, this code is using a file-caching function `stancache.cached` to wrap a function call to `survivalstan.sim.sim_data_exp_correlated`. *"
   ]
  },
  {
   "cell_type": "markdown",
   "metadata": {},
   "source": [
    "## Explore simulated data"
   ]
  },
  {
   "cell_type": "markdown",
   "metadata": {},
   "source": [
    "Here is what these data look like - this is `per-subject` or `time-to-event` form:"
   ]
  },
  {
   "cell_type": "code",
   "execution_count": 5,
   "metadata": {
    "collapsed": false
   },
   "outputs": [
    {
     "data": {
      "text/html": [
       "<div>\n",
       "<table border=\"1\" class=\"dataframe\">\n",
       "  <thead>\n",
       "    <tr style=\"text-align: right;\">\n",
       "      <th></th>\n",
       "      <th>age</th>\n",
       "      <th>sex</th>\n",
       "      <th>rate</th>\n",
       "      <th>true_t</th>\n",
       "      <th>t</th>\n",
       "      <th>event</th>\n",
       "      <th>index</th>\n",
       "      <th>age_centered</th>\n",
       "    </tr>\n",
       "  </thead>\n",
       "  <tbody>\n",
       "    <tr>\n",
       "      <th>0</th>\n",
       "      <td>59</td>\n",
       "      <td>male</td>\n",
       "      <td>0.082085</td>\n",
       "      <td>20.948771</td>\n",
       "      <td>20.000000</td>\n",
       "      <td>False</td>\n",
       "      <td>0</td>\n",
       "      <td>4.18</td>\n",
       "    </tr>\n",
       "    <tr>\n",
       "      <th>1</th>\n",
       "      <td>58</td>\n",
       "      <td>male</td>\n",
       "      <td>0.082085</td>\n",
       "      <td>12.827519</td>\n",
       "      <td>12.827519</td>\n",
       "      <td>True</td>\n",
       "      <td>1</td>\n",
       "      <td>3.18</td>\n",
       "    </tr>\n",
       "    <tr>\n",
       "      <th>2</th>\n",
       "      <td>61</td>\n",
       "      <td>female</td>\n",
       "      <td>0.049787</td>\n",
       "      <td>27.018886</td>\n",
       "      <td>20.000000</td>\n",
       "      <td>False</td>\n",
       "      <td>2</td>\n",
       "      <td>6.18</td>\n",
       "    </tr>\n",
       "    <tr>\n",
       "      <th>3</th>\n",
       "      <td>57</td>\n",
       "      <td>female</td>\n",
       "      <td>0.049787</td>\n",
       "      <td>62.220296</td>\n",
       "      <td>20.000000</td>\n",
       "      <td>False</td>\n",
       "      <td>3</td>\n",
       "      <td>2.18</td>\n",
       "    </tr>\n",
       "    <tr>\n",
       "      <th>4</th>\n",
       "      <td>55</td>\n",
       "      <td>male</td>\n",
       "      <td>0.082085</td>\n",
       "      <td>10.462045</td>\n",
       "      <td>10.462045</td>\n",
       "      <td>True</td>\n",
       "      <td>4</td>\n",
       "      <td>0.18</td>\n",
       "    </tr>\n",
       "  </tbody>\n",
       "</table>\n",
       "</div>"
      ],
      "text/plain": [
       "   age     sex      rate     true_t          t  event  index  age_centered\n",
       "0   59    male  0.082085  20.948771  20.000000  False      0          4.18\n",
       "1   58    male  0.082085  12.827519  12.827519   True      1          3.18\n",
       "2   61  female  0.049787  27.018886  20.000000  False      2          6.18\n",
       "3   57  female  0.049787  62.220296  20.000000  False      3          2.18\n",
       "4   55    male  0.082085  10.462045  10.462045   True      4          0.18"
      ]
     },
     "execution_count": 5,
     "metadata": {},
     "output_type": "execute_result"
    }
   ],
   "source": [
    "d.head()"
   ]
  },
  {
   "cell_type": "markdown",
   "metadata": {},
   "source": [
    "*It's not that obvious from the field names, but in this example \"subjects\" are indexed by the field `index`.*"
   ]
  },
  {
   "cell_type": "markdown",
   "metadata": {},
   "source": [
    "We can plot these data using `lifelines`, or the rudimentary plotting functions provided by `survivalstan`."
   ]
  },
  {
   "cell_type": "code",
   "execution_count": 6,
   "metadata": {
    "collapsed": false
   },
   "outputs": [
    {
     "data": {
      "text/plain": [
       "<matplotlib.legend.Legend at 0x7f64d8063978>"
      ]
     },
     "execution_count": 6,
     "metadata": {},
     "output_type": "execute_result"
    },
    {
     "data": {
      "image/png": "[encoded data removed]",
      "text/plain": [
       "<matplotlib.figure.Figure at 0x7f64d8063668>"
      ]
     },
     "metadata": {},
     "output_type": "display_data"
    }
   ],
   "source": [
    "survivalstan.utils.plot_observed_survival(df=d[d['sex']=='female'], event_col='event', time_col='t', label='female')\n",
    "survivalstan.utils.plot_observed_survival(df=d[d['sex']=='male'], event_col='event', time_col='t', label='male')\n",
    "plt.legend()"
   ]
  },
  {
   "cell_type": "markdown",
   "metadata": {},
   "source": [
    "## model1: original spec"
   ]
  },
  {
   "cell_type": "code",
   "execution_count": 7,
   "metadata": {
    "collapsed": false
   },
   "outputs": [],
   "source": [
    "model_code = '''\n",
    "functions {\n",
    "  // Defines the log survival\n",
    "  vector log_S (vector t, real shape, vector rate) {\n",
    "    vector[num_elements(t)] log_S;\n",
    "    for (i in 1:num_elements(t)) {\n",
    "      log_S[i] = gamma_lccdf(t[i]|shape,rate[i]); \n",
    "    }\n",
    "    return log_S;\n",
    "  }\n",
    "  \n",
    "  // Defines the log hazard\n",
    "  vector log_h (vector t, real shape, vector rate) {\n",
    "    vector[num_elements(t)] log_h;\n",
    "    vector[num_elements(t)] ls;\n",
    "    ls = log_S(t,shape,rate);\n",
    "    for (i in 1:num_elements(t)) {\n",
    "      log_h[i] = gamma_lpdf(t[i]|shape,rate[i]) - ls[i];\n",
    "    }\n",
    "    return log_h;\n",
    "  }\n",
    "  \n",
    "  // Defines the sampling distribution\n",
    "  real surv_gamma_lpdf (vector t, vector d, real shape, vector rate) {\n",
    "    vector[num_elements(t)] log_lik;\n",
    "    real prob;\n",
    "    log_lik = d .* log_h(t,shape,rate) + log_S(t,shape,rate);\n",
    "    prob = sum(log_lik);\n",
    "    return prob;\n",
    "  }\n",
    "}\n",
    "\n",
    "data {\n",
    "  int N;                            // number of observations\n",
    "  vector<lower=0>[N] y;             // observed times\n",
    "  vector<lower=0,upper=1>[N] event;     // censoring indicator (1=observed, 0=censored)\n",
    "  int M;                            // number of covariates\n",
    "  matrix[N, M] x;                    // matrix of covariates (with n rows and H columns)\n",
    "}\n",
    "\n",
    "parameters {\n",
    "  vector[M] beta;         // Coefficients in the linear predictor (including intercept)\n",
    "  real<lower=0> alpha;    // shape parameter\n",
    "}\n",
    "\n",
    "transformed parameters {\n",
    "  vector[N] linpred;\n",
    "  vector[N] mu;\n",
    "  linpred = x*beta;\n",
    "  for (i in 1:N) {\n",
    "    mu[i] = exp(linpred[i]);\n",
    "  }\n",
    "}\n",
    "\n",
    "model {\n",
    "  alpha ~ gamma(0.01,0.01);\n",
    "  beta ~ normal(0,5);\n",
    "  y ~ surv_gamma(event, alpha, mu);\n",
    "}\n",
    "'''"
   ]
  },
  {
   "cell_type": "markdown",
   "metadata": {},
   "source": [
    "Now, we are ready to fit our model using `survivalstan.fit_stan_survival_model`. \n",
    "\n",
    "We pass a few parameters to the fit function, many of which are required. See ?survivalstan.fit_stan_survival_model for details. \n",
    "\n",
    "Similar to what we did above, we are asking `survivalstan` to cache this model fit object. See [stancache](http://github.com/jburos/stancache) for more details on how this works. Also, if you didn't want to use the cache, you could omit the parameter `FIT_FUN` and `survivalstan` would use the standard pystan functionality.\n"
   ]
  },
  {
   "cell_type": "code",
   "execution_count": 8,
   "metadata": {
    "collapsed": false
   },
   "outputs": [
    {
     "name": "stderr",
     "output_type": "stream",
     "text": [
      "INFO:stancache.stancache:Step 1: Get compiled model code, possibly from cache\n",
      "INFO:stancache.stancache:StanModel: cache_filename set to anon_model.cython_0_25_1.model_code_14429915565770599621.pystan_2_12_0_0.stanmodel.pkl\n",
      "INFO:stancache.stancache:StanModel: Loading result from cache\n",
      "INFO:stancache.stancache:Step 2: Get posterior draws from model, possibly from cache\n",
      "INFO:stancache.stancache:sampling: cache_filename set to anon_model.cython_0_25_1.model_code_14429915565770599621.pystan_2_12_0_0.stanfit.chains_4.data_25476010973.iter_5000.seed_9001.pkl\n",
      "INFO:stancache.stancache:sampling: Loading result from cache\n"
     ]
    }
   ],
   "source": [
    "testfit = survivalstan.fit_stan_survival_model(\n",
    "    model_cohort = 'model 1',\n",
    "    model_code = model_code,\n",
    "    df = d,\n",
    "    time_col = 't',\n",
    "    event_col = 'event',\n",
    "    formula = '~ age_centered + sex',\n",
    "    iter = 5000,\n",
    "    chains = 4,\n",
    "    seed = 9001,\n",
    "    FIT_FUN = stancache.cached_stan_fit,\n",
    "    drop_intercept = False,\n",
    "    )\n"
   ]
  },
  {
   "cell_type": "code",
   "execution_count": 9,
   "metadata": {
    "collapsed": true
   },
   "outputs": [],
   "source": [
    "# 0:00:40.518775 elapsed"
   ]
  },
  {
   "cell_type": "code",
   "execution_count": 10,
   "metadata": {
    "collapsed": false
   },
   "outputs": [
    {
     "name": "stdout",
     "output_type": "stream",
     "text": [
      "               mean   se_mean        sd        2.5%         50%       97.5%      Rhat\n",
      "lp__    -278.113380  0.021718  1.358348 -281.579969 -277.815032 -276.424942  1.000465\n",
      "alpha      1.220129  0.002561  0.170488    0.913076    1.209632    1.581949  1.000245\n",
      "beta[0]   -2.703902  0.003699  0.226779   -3.173168   -2.695839   -2.275841  1.000271\n",
      "beta[1]    0.608266  0.002897  0.199169    0.221442    0.606373    1.003776  1.000226\n",
      "beta[2]    0.006018  0.000183  0.014844   -0.023068    0.005959    0.035536  1.000075\n"
     ]
    }
   ],
   "source": [
    "survivalstan.utils.print_stan_summary([testfit], pars=['lp__', 'alpha', 'beta'])"
   ]
  },
  {
   "cell_type": "markdown",
   "metadata": {},
   "source": [
    "## model2: alternate version of surv_gamma_lpdf"
   ]
  },
  {
   "cell_type": "code",
   "execution_count": 11,
   "metadata": {
    "collapsed": true
   },
   "outputs": [],
   "source": [
    "model_code2 = '''\n",
    "functions {\n",
    "  // Defines the log survival\n",
    "  real surv_gamma_lpdf (vector t, vector d, real shape, vector rate) {\n",
    "    vector[num_elements(t)] log_lik;\n",
    "    real prob;\n",
    "    for (i in 1:num_elements(t)) {\n",
    "      log_lik[i] = d[i] * (gamma_lpdf(t[i]|shape,rate[i]) - gamma_lccdf(t[i]|shape,rate[i]))\n",
    "                      + gamma_lccdf(t[i]|shape,rate[i]);\n",
    "    }\n",
    "    prob = sum(log_lik);\n",
    "    return prob;\n",
    "  }\n",
    "}\n",
    "data {\n",
    "  int N;                            // number of observations\n",
    "  vector<lower=0>[N] y;             // observed times\n",
    "  vector<lower=0,upper=1>[N] event;     // censoring indicator (1=observed, 0=censored)\n",
    "  int M;                            // number of covariates\n",
    "  matrix[N, M] x;                    // matrix of covariates (with n rows and H columns)\n",
    "}\n",
    "parameters {\n",
    "  vector[M] beta;         // Coefficients in the linear predictor (including intercept)\n",
    "  real<lower=0> alpha;    // shape parameter\n",
    "}\n",
    "transformed parameters {\n",
    "  vector<lower=0>[N] mu;\n",
    "  {\n",
    "      vector[N] linpred;\n",
    "      linpred = x*beta;\n",
    "      mu = exp(linpred);\n",
    "  }\n",
    "}\n",
    "\n",
    "model {\n",
    "  alpha ~ gamma(0.01,0.01);\n",
    "  beta ~ normal(0,5);\n",
    "  y ~ surv_gamma(event, alpha, mu);\n",
    "}\n",
    "'''"
   ]
  },
  {
   "cell_type": "code",
   "execution_count": 12,
   "metadata": {
    "collapsed": false
   },
   "outputs": [
    {
     "name": "stderr",
     "output_type": "stream",
     "text": [
      "INFO:stancache.stancache:Step 1: Get compiled model code, possibly from cache\n",
      "INFO:stancache.stancache:StanModel: cache_filename set to anon_model.cython_0_25_1.model_code_9177012762674257483.pystan_2_12_0_0.stanmodel.pkl\n",
      "INFO:stancache.stancache:StanModel: Loading result from cache\n",
      "INFO:stancache.stancache:Step 2: Get posterior draws from model, possibly from cache\n",
      "INFO:stancache.stancache:sampling: cache_filename set to anon_model.cython_0_25_1.model_code_9177012762674257483.pystan_2_12_0_0.stanfit.chains_4.data_25476010973.iter_5000.seed_9001.pkl\n",
      "INFO:stancache.stancache:sampling: Loading result from cache\n"
     ]
    }
   ],
   "source": [
    "testfit2 = survivalstan.fit_stan_survival_model(\n",
    "    model_cohort = 'model 2',\n",
    "    model_code = model_code2,\n",
    "    df = d,\n",
    "    time_col = 't',\n",
    "    event_col = 'event',\n",
    "    formula = '~ age_centered + sex',\n",
    "    iter = 5000,\n",
    "    chains = 4,\n",
    "    seed = 9001,\n",
    "    FIT_FUN = stancache.cached_stan_fit,\n",
    "    drop_intercept = False,\n",
    "    )\n"
   ]
  },
  {
   "cell_type": "code",
   "execution_count": 13,
   "metadata": {
    "collapsed": true
   },
   "outputs": [],
   "source": [
    "# 0:00:21.081723 elapsed"
   ]
  },
  {
   "cell_type": "code",
   "execution_count": 14,
   "metadata": {
    "collapsed": false
   },
   "outputs": [
    {
     "name": "stdout",
     "output_type": "stream",
     "text": [
      "               mean   se_mean        sd        2.5%         50%       97.5%      Rhat\n",
      "lp__    -278.122019  0.022342  1.367441 -281.523430 -277.808097 -276.440635  1.001051\n",
      "alpha      1.218976  0.002590  0.171529    0.906313    1.208893    1.586105  1.000714\n",
      "beta[0]   -2.704073  0.003788  0.228848   -3.187193   -2.693108   -2.287256  1.000886\n",
      "beta[1]    0.604867  0.002814  0.201056    0.208092    0.605508    0.993031  1.000143\n",
      "beta[2]    0.006629  0.000188  0.014733   -0.021872    0.006506    0.036200  1.000063\n"
     ]
    }
   ],
   "source": [
    "survivalstan.utils.print_stan_summary([testfit2], pars=['lp__', 'alpha', 'beta'])"
   ]
  },
  {
   "cell_type": "markdown",
   "metadata": {},
   "source": [
    "## model3: use `log_mix` inside surv_gamma_lpdf"
   ]
  },
  {
   "cell_type": "code",
   "execution_count": 15,
   "metadata": {
    "collapsed": true
   },
   "outputs": [],
   "source": [
    "model_code3 = '''\n",
    "functions {\n",
    "  // Defines the log survival\n",
    "  real surv_gamma_lpdf (vector t, vector d, real shape, vector rate) {\n",
    "    vector[num_elements(t)] log_lik;\n",
    "    real prob;\n",
    "    for (i in 1:num_elements(t)) {\n",
    "      log_lik[i] = log_mix(d[i], gamma_lpdf(t[i]|shape,rate[i]), gamma_lccdf(t[i]|shape,rate[i]));\n",
    "    }\n",
    "    prob = sum(log_lik);\n",
    "    return prob;\n",
    "  }\n",
    "}\n",
    "data {\n",
    "  int N;                            // number of observations\n",
    "  vector<lower=0>[N] y;             // observed times\n",
    "  vector<lower=0,upper=1>[N] event; // censoring indicator (1=observed, 0=censored)\n",
    "  int M;                            // number of covariates\n",
    "  matrix[N, M] x;                   // matrix of covariates (with n rows and H columns)\n",
    "}\n",
    "parameters {\n",
    "  vector[M] beta;         // Coefficients in the linear predictor (including intercept)\n",
    "  real<lower=0> alpha;    // shape parameter\n",
    "}\n",
    "transformed parameters {\n",
    "  vector[N] linpred;\n",
    "  vector[N] mu;\n",
    "  linpred = x*beta;\n",
    "  mu = exp(linpred);\n",
    "}\n",
    "\n",
    "model {\n",
    "  alpha ~ gamma(0.01,0.01);\n",
    "  beta ~ normal(0,5);\n",
    "  y ~ surv_gamma(event, alpha, mu);\n",
    "}\n",
    "'''"
   ]
  },
  {
   "cell_type": "code",
   "execution_count": 16,
   "metadata": {
    "collapsed": false
   },
   "outputs": [
    {
     "name": "stderr",
     "output_type": "stream",
     "text": [
      "INFO:stancache.stancache:Step 1: Get compiled model code, possibly from cache\n",
      "INFO:stancache.stancache:StanModel: cache_filename set to anon_model.cython_0_25_1.model_code_1293841621968646714.pystan_2_12_0_0.stanmodel.pkl\n",
      "INFO:stancache.stancache:StanModel: Loading result from cache\n",
      "INFO:stancache.stancache:Step 2: Get posterior draws from model, possibly from cache\n",
      "INFO:stancache.stancache:sampling: cache_filename set to anon_model.cython_0_25_1.model_code_1293841621968646714.pystan_2_12_0_0.stanfit.chains_4.data_25476010973.iter_5000.seed_9001.pkl\n",
      "INFO:stancache.stancache:sampling: Loading result from cache\n"
     ]
    }
   ],
   "source": [
    "testfit3 = survivalstan.fit_stan_survival_model(\n",
    "    model_cohort = 'model 3',\n",
    "    model_code = model_code3,\n",
    "    df = d,\n",
    "    time_col = 't',\n",
    "    event_col = 'event',\n",
    "    formula = '~ age_centered + sex',\n",
    "    iter = 5000,\n",
    "    chains = 4,\n",
    "    seed = 9001,\n",
    "    FIT_FUN = stancache.cached_stan_fit,\n",
    "    drop_intercept = False,\n",
    "    )\n"
   ]
  },
  {
   "cell_type": "code",
   "execution_count": 17,
   "metadata": {
    "collapsed": true
   },
   "outputs": [],
   "source": [
    "#0:00:20.284146 elapsed"
   ]
  },
  {
   "cell_type": "code",
   "execution_count": 18,
   "metadata": {
    "collapsed": false
   },
   "outputs": [
    {
     "name": "stdout",
     "output_type": "stream",
     "text": [
      "               mean   se_mean        sd        2.5%         50%       97.5%      Rhat\n",
      "lp__    -278.092768  0.021055  1.344719 -281.491359 -277.783232 -276.425885  1.000812\n",
      "alpha      1.216429  0.002640  0.166944    0.905732    1.207800    1.576275  1.000432\n",
      "beta[0]   -2.708385  0.003770  0.220966   -3.173480   -2.697460   -2.307317  1.000622\n",
      "beta[1]    0.609834  0.002799  0.199563    0.223234    0.609396    1.008451  1.000295\n",
      "beta[2]    0.006028  0.000180  0.014812   -0.022443    0.006036    0.036197  1.000265\n"
     ]
    }
   ],
   "source": [
    "survivalstan.utils.print_stan_summary([testfit3], pars=['lp__', 'alpha', 'beta'])"
   ]
  },
  {
   "cell_type": "markdown",
   "metadata": {},
   "source": [
    "## model4: vectorize surv_gamma_lpdf"
   ]
  },
  {
   "cell_type": "code",
   "execution_count": 40,
   "metadata": {
    "collapsed": true
   },
   "outputs": [],
   "source": [
    "model_code4 = '''\n",
    "functions {\n",
    "    int count_value(vector a, real val) {\n",
    "        int s;\n",
    "        s = 0;\n",
    "        for (i in 1:num_elements(a)) \n",
    "            if (a[i] == val) \n",
    "                s = s + 1;\n",
    "        return s;\n",
    "    }\n",
    "\n",
    "  // Defines the log survival\n",
    "  real surv_gamma_lpdf (vector t, vector d, real shape, vector rate, int num_cens, int num_obs) {\n",
    "    vector[2] log_lik;\n",
    "    int idx_obs[num_obs];\n",
    "    int idx_cens[num_cens];\n",
    "    real prob;\n",
    "    int i_cens;\n",
    "    int i_obs;\n",
    "    i_cens = 1;\n",
    "    i_obs = 1;\n",
    "    for (i in 1:num_elements(t)) {\n",
    "        if (d[i] == 1) {\n",
    "            idx_obs[i_obs] = i;\n",
    "            i_obs = i_obs+1;\n",
    "        }\n",
    "        else {\n",
    "            idx_cens[i_cens] = i;\n",
    "            i_cens = i_cens+1;\n",
    "        }\n",
    "    }\n",
    "    print(idx_obs);\n",
    "    log_lik[1] = gamma_lpdf(t[idx_obs] | shape, rate[idx_obs]);\n",
    "    log_lik[2] = gamma_lccdf(t[idx_cens] | shape, rate[idx_cens]);\n",
    "    prob = sum(log_lik);\n",
    "    return prob;\n",
    "  }\n",
    "}\n",
    "data {\n",
    "  int N;                            // number of observations\n",
    "  vector<lower=0>[N] y;             // observed times\n",
    "  vector<lower=0,upper=1>[N] event; // censoring indicator (1=observed, 0=censored)\n",
    "  int M;                            // number of covariates\n",
    "  matrix[N, M] x;                   // matrix of covariates (with n rows and H columns)\n",
    "}\n",
    "transformed data {\n",
    "  int num_cens;\n",
    "  int num_obs;\n",
    "  num_obs = count_value(event, 1);\n",
    "  num_cens = N - num_obs;\n",
    "}\n",
    "parameters {\n",
    "  vector[M] beta;         // Coefficients in the linear predictor (including intercept)\n",
    "  real<lower=0> alpha;    // shape parameter\n",
    "}\n",
    "transformed parameters {\n",
    "  vector[N] linpred;\n",
    "  vector[N] mu;\n",
    "  linpred = x*beta;\n",
    "  mu = exp(linpred);\n",
    "}\n",
    "model {\n",
    "  alpha ~ gamma(0.01,0.01);\n",
    "  beta ~ normal(0,5);\n",
    "  y ~ surv_gamma(event, alpha, mu, num_cens, num_obs);\n",
    "}\n",
    "'''"
   ]
  },
  {
   "cell_type": "code",
   "execution_count": 41,
   "metadata": {
    "collapsed": false
   },
   "outputs": [
    {
     "name": "stderr",
     "output_type": "stream",
     "text": [
      "INFO:stancache.stancache:Step 1: Get compiled model code, possibly from cache\n",
      "INFO:stancache.stancache:StanModel: cache_filename set to anon_model.cython_0_25_1.model_code_16881928540873162731.pystan_2_12_0_0.stanmodel.pkl\n",
      "INFO:stancache.stancache:StanModel: Starting execution\n",
      "INFO:pystan:COMPILING THE C++ CODE FOR MODEL anon_model_b18a6495e568fcff90662e16a3d2aa85 NOW.\n",
      "INFO:stancache.stancache:StanModel: Execution completed (0:01:09.439292 elapsed)\n",
      "INFO:stancache.stancache:StanModel: Saving results to cache\n",
      "INFO:stancache.stancache:Step 2: Get posterior draws from model, possibly from cache\n",
      "INFO:stancache.stancache:sampling: cache_filename set to anon_model.cython_0_25_1.model_code_16881928540873162731.pystan_2_12_0_0.stanfit.chains_4.data_25476010973.iter_5000.seed_9001.pkl\n",
      "INFO:stancache.stancache:sampling: Starting execution\n",
      "INFO:stancache.stancache:sampling: Execution completed (0:00:06.245552 elapsed)\n",
      "INFO:stancache.stancache:sampling: Saving results to cache\n",
      "/home/jacquelineburos/miniconda3/envs/python3/lib/python3.5/site-packages/stancache/stancache.py:284: UserWarning: Pickling fit objects is an experimental feature!\n",
      "The relevant StanModel instance must be pickled along with this fit object.\n",
      "When unpickling the StanModel must be unpickled first.\n",
      "  pickle.dump(res, open(cache_filepath, 'wb'), pickle.HIGHEST_PROTOCOL)\n"
     ]
    }
   ],
   "source": [
    "testfit4 = survivalstan.fit_stan_survival_model(\n",
    "    model_cohort = 'model 4',\n",
    "    model_code = model_code4,\n",
    "    df = d,\n",
    "    time_col = 't',\n",
    "    event_col = 'event',\n",
    "    formula = '~ age_centered + sex',\n",
    "    iter = 5000,\n",
    "    chains = 4,\n",
    "    seed = 9001,\n",
    "    FIT_FUN = stancache.cached_stan_fit,\n",
    "    drop_intercept = False,\n",
    "    )\n"
   ]
  },
  {
   "cell_type": "code",
   "execution_count": 42,
   "metadata": {
    "collapsed": true
   },
   "outputs": [],
   "source": [
    "# 0:00:06.245552 elapsed"
   ]
  },
  {
   "cell_type": "code",
   "execution_count": 43,
   "metadata": {
    "collapsed": false
   },
   "outputs": [
    {
     "name": "stdout",
     "output_type": "stream",
     "text": [
      "               mean   se_mean        sd        2.5%         50%       97.5%      Rhat\n",
      "lp__    -278.097416  0.020380  1.353386 -281.543138 -277.782205 -276.445123  0.999867\n",
      "alpha      1.216149  0.002525  0.169578    0.913312    1.206908    1.574024  1.000702\n",
      "beta[0]   -2.708518  0.003627  0.228658   -3.188661   -2.700493   -2.278788  1.000723\n",
      "beta[1]    0.610593  0.002824  0.201974    0.224438    0.607700    1.030164  1.000744\n",
      "beta[2]    0.006211  0.000171  0.014493   -0.022229    0.006113    0.035095  1.000222\n"
     ]
    }
   ],
   "source": [
    "survivalstan.utils.print_stan_summary([testfit4], pars=['lp__', 'alpha', 'beta'])"
   ]
  },
  {
   "cell_type": "markdown",
   "metadata": {},
   "source": [
    "## compare coefficient estimates for each model spec"
   ]
  },
  {
   "cell_type": "code",
   "execution_count": 44,
   "metadata": {
    "collapsed": false
   },
   "outputs": [
    {
     "data": {
      "image/png": "[encoded data removed]",
      "text/plain": [
       "<matplotlib.figure.Figure at 0x7f64d77a8d68>"
      ]
     },
     "metadata": {},
     "output_type": "display_data"
    }
   ],
   "source": [
    "survivalstan.utils.plot_coefs([testfit, testfit2, testfit3, testfit4])"
   ]
  },
  {
   "cell_type": "code",
   "execution_count": null,
   "metadata": {
    "collapsed": true
   },
   "outputs": [],
   "source": []
  }
 ],
 "metadata": {
  "anaconda-cloud": {},
  "kernelspec": {
   "display_name": "Python 3",
   "language": "python",
   "name": "python3"
  },
  "language_info": {
   "codemirror_mode": {
    "name": "ipython",
    "version": 3
   },
   "file_extension": ".py",
   "mimetype": "text/x-python",
   "name": "python",
   "nbconvert_exporter": "python",
   "pygments_lexer": "ipython3",
   "version": "3.5.2"
  }
 },
 "nbformat": 4,
 "nbformat_minor": 0
}

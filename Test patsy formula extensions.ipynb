{
 "cells": [
  {
   "cell_type": "code",
   "execution_count": 1,
   "metadata": {
    "ExecuteTime": {
     "end_time": "2017-01-17T03:05:58.459811",
     "start_time": "2017-01-17T03:05:57.283968"
    },
    "collapsed": false
   },
   "outputs": [
    {
     "name": "stdout",
     "output_type": "stream",
     "text": [
      "The autoreload extension is already loaded. To reload it, use:\n",
      "  %reload_ext autoreload\n"
     ]
    },
    {
     "name": "stderr",
     "output_type": "stream",
     "text": [
      "INFO:stancache.seed:Setting seed to 1245502385\n"
     ]
    }
   ],
   "source": [
    "%load_ext autoreload\n",
    "%autoreload 2\n",
    "%matplotlib inline\n",
    "#from jointmodel import sim\n",
    "import pandas as pd\n",
    "import patsy\n",
    "import sys\n",
    "import pystan\n",
    "import random\n",
    "random.seed(1234)\n",
    "import survivalstan\n",
    "from stancache import stancache\n",
    "from stancache import config"
   ]
  },
  {
   "cell_type": "markdown",
   "metadata": {},
   "source": [
    "## prepare data"
   ]
  },
  {
   "cell_type": "code",
   "execution_count": 2,
   "metadata": {
    "ExecuteTime": {
     "end_time": "2017-01-17T03:05:58.635253",
     "start_time": "2017-01-17T03:05:58.462839"
    },
    "collapsed": true
   },
   "outputs": [],
   "source": [
    "data = survivalstan.sim.sim_data_jointmodel(N=100)"
   ]
  },
  {
   "cell_type": "code",
   "execution_count": 3,
   "metadata": {
    "ExecuteTime": {
     "end_time": "2017-01-17T03:05:58.656242",
     "start_time": "2017-01-17T03:05:58.637215"
    },
    "collapsed": false
   },
   "outputs": [
    {
     "data": {
      "text/plain": [
       "dict_keys(['params', 'covars', 'events', 'biomarker'])"
      ]
     },
     "execution_count": 3,
     "metadata": {},
     "output_type": "execute_result"
    }
   ],
   "source": [
    "data.keys()"
   ]
  },
  {
   "cell_type": "code",
   "execution_count": 4,
   "metadata": {
    "ExecuteTime": {
     "end_time": "2017-01-17T03:05:58.683274",
     "start_time": "2017-01-17T03:05:58.658069"
    },
    "collapsed": false
   },
   "outputs": [
    {
     "data": {
      "text/html": [
       "<div>\n",
       "<table border=\"1\" class=\"dataframe\">\n",
       "  <thead>\n",
       "    <tr style=\"text-align: right;\">\n",
       "      <th></th>\n",
       "      <th>subject_id</th>\n",
       "      <th>time</th>\n",
       "      <th>event_value</th>\n",
       "      <th>event_name</th>\n",
       "    </tr>\n",
       "  </thead>\n",
       "  <tbody>\n",
       "    <tr>\n",
       "      <th>0</th>\n",
       "      <td>0</td>\n",
       "      <td>4.288769</td>\n",
       "      <td>1</td>\n",
       "      <td>death</td>\n",
       "    </tr>\n",
       "    <tr>\n",
       "      <th>1</th>\n",
       "      <td>1</td>\n",
       "      <td>1.006545</td>\n",
       "      <td>1</td>\n",
       "      <td>death</td>\n",
       "    </tr>\n",
       "    <tr>\n",
       "      <th>2</th>\n",
       "      <td>2</td>\n",
       "      <td>0.032628</td>\n",
       "      <td>1</td>\n",
       "      <td>death</td>\n",
       "    </tr>\n",
       "    <tr>\n",
       "      <th>3</th>\n",
       "      <td>3</td>\n",
       "      <td>5.500000</td>\n",
       "      <td>0</td>\n",
       "      <td>death</td>\n",
       "    </tr>\n",
       "    <tr>\n",
       "      <th>4</th>\n",
       "      <td>4</td>\n",
       "      <td>0.555380</td>\n",
       "      <td>1</td>\n",
       "      <td>death</td>\n",
       "    </tr>\n",
       "  </tbody>\n",
       "</table>\n",
       "</div>"
      ],
      "text/plain": [
       "   subject_id      time  event_value event_name\n",
       "0           0  4.288769            1      death\n",
       "1           1  1.006545            1      death\n",
       "2           2  0.032628            1      death\n",
       "3           3  5.500000            0      death\n",
       "4           4  0.555380            1      death"
      ]
     },
     "execution_count": 4,
     "metadata": {},
     "output_type": "execute_result"
    }
   ],
   "source": [
    "data['events'].head()"
   ]
  },
  {
   "cell_type": "code",
   "execution_count": 5,
   "metadata": {
    "ExecuteTime": {
     "end_time": "2017-01-17T03:05:58.707381",
     "start_time": "2017-01-17T03:05:58.684974"
    },
    "collapsed": false
   },
   "outputs": [
    {
     "data": {
      "text/html": [
       "<div>\n",
       "<table border=\"1\" class=\"dataframe\">\n",
       "  <thead>\n",
       "    <tr style=\"text-align: right;\">\n",
       "      <th></th>\n",
       "      <th>subject_id</th>\n",
       "      <th>X1</th>\n",
       "      <th>X2</th>\n",
       "    </tr>\n",
       "  </thead>\n",
       "  <tbody>\n",
       "    <tr>\n",
       "      <th>0</th>\n",
       "      <td>0</td>\n",
       "      <td>1</td>\n",
       "      <td>0</td>\n",
       "    </tr>\n",
       "    <tr>\n",
       "      <th>1</th>\n",
       "      <td>1</td>\n",
       "      <td>0</td>\n",
       "      <td>0</td>\n",
       "    </tr>\n",
       "    <tr>\n",
       "      <th>2</th>\n",
       "      <td>2</td>\n",
       "      <td>1</td>\n",
       "      <td>1</td>\n",
       "    </tr>\n",
       "    <tr>\n",
       "      <th>3</th>\n",
       "      <td>3</td>\n",
       "      <td>1</td>\n",
       "      <td>1</td>\n",
       "    </tr>\n",
       "    <tr>\n",
       "      <th>4</th>\n",
       "      <td>4</td>\n",
       "      <td>0</td>\n",
       "      <td>0</td>\n",
       "    </tr>\n",
       "  </tbody>\n",
       "</table>\n",
       "</div>"
      ],
      "text/plain": [
       "   subject_id  X1  X2\n",
       "0           0   1   0\n",
       "1           1   0   0\n",
       "2           2   1   1\n",
       "3           3   1   1\n",
       "4           4   0   0"
      ]
     },
     "execution_count": 5,
     "metadata": {},
     "output_type": "execute_result"
    }
   ],
   "source": [
    "data['covars'].head()"
   ]
  },
  {
   "cell_type": "code",
   "execution_count": 6,
   "metadata": {
    "ExecuteTime": {
     "end_time": "2017-01-17T03:05:58.740722",
     "start_time": "2017-01-17T03:05:58.709202"
    },
    "collapsed": false
   },
   "outputs": [
    {
     "data": {
      "text/html": [
       "<div>\n",
       "<table border=\"1\" class=\"dataframe\">\n",
       "  <thead>\n",
       "    <tr style=\"text-align: right;\">\n",
       "      <th></th>\n",
       "      <th>subject_id</th>\n",
       "      <th>time</th>\n",
       "      <th>event_value</th>\n",
       "      <th>event_name</th>\n",
       "      <th>X1</th>\n",
       "      <th>X2</th>\n",
       "    </tr>\n",
       "  </thead>\n",
       "  <tbody>\n",
       "    <tr>\n",
       "      <th>0</th>\n",
       "      <td>0</td>\n",
       "      <td>4.288769</td>\n",
       "      <td>1</td>\n",
       "      <td>death</td>\n",
       "      <td>1</td>\n",
       "      <td>0</td>\n",
       "    </tr>\n",
       "    <tr>\n",
       "      <th>1</th>\n",
       "      <td>1</td>\n",
       "      <td>1.006545</td>\n",
       "      <td>1</td>\n",
       "      <td>death</td>\n",
       "      <td>0</td>\n",
       "      <td>0</td>\n",
       "    </tr>\n",
       "    <tr>\n",
       "      <th>2</th>\n",
       "      <td>2</td>\n",
       "      <td>0.032628</td>\n",
       "      <td>1</td>\n",
       "      <td>death</td>\n",
       "      <td>1</td>\n",
       "      <td>1</td>\n",
       "    </tr>\n",
       "    <tr>\n",
       "      <th>3</th>\n",
       "      <td>3</td>\n",
       "      <td>5.500000</td>\n",
       "      <td>0</td>\n",
       "      <td>death</td>\n",
       "      <td>1</td>\n",
       "      <td>1</td>\n",
       "    </tr>\n",
       "    <tr>\n",
       "      <th>4</th>\n",
       "      <td>4</td>\n",
       "      <td>0.555380</td>\n",
       "      <td>1</td>\n",
       "      <td>death</td>\n",
       "      <td>0</td>\n",
       "      <td>0</td>\n",
       "    </tr>\n",
       "  </tbody>\n",
       "</table>\n",
       "</div>"
      ],
      "text/plain": [
       "   subject_id      time  event_value event_name  X1  X2\n",
       "0           0  4.288769            1      death   1   0\n",
       "1           1  1.006545            1      death   0   0\n",
       "2           2  0.032628            1      death   1   1\n",
       "3           3  5.500000            0      death   1   1\n",
       "4           4  0.555380            1      death   0   0"
      ]
     },
     "execution_count": 6,
     "metadata": {},
     "output_type": "execute_result"
    }
   ],
   "source": [
    "df = pd.merge(data['events'].query('event_name == \"death\"'), data['covars'], on='subject_id')\n",
    "df.head()"
   ]
  },
  {
   "cell_type": "markdown",
   "metadata": {},
   "source": [
    "## standard patsy formula"
   ]
  },
  {
   "cell_type": "code",
   "execution_count": 7,
   "metadata": {
    "ExecuteTime": {
     "end_time": "2017-01-17T03:05:58.765211",
     "start_time": "2017-01-17T03:05:58.743123"
    },
    "collapsed": false
   },
   "outputs": [],
   "source": [
    "formula = '(time + event_value) ~ 0 + X1'\n",
    "y, X = patsy.dmatrices(formula_like=formula, data=df)"
   ]
  },
  {
   "cell_type": "code",
   "execution_count": 8,
   "metadata": {
    "ExecuteTime": {
     "end_time": "2017-01-17T03:05:58.784091",
     "start_time": "2017-01-17T03:05:58.767108"
    },
    "collapsed": false
   },
   "outputs": [],
   "source": [
    "md = patsy.ModelDesc.from_formula(formula)"
   ]
  },
  {
   "cell_type": "code",
   "execution_count": 9,
   "metadata": {
    "ExecuteTime": {
     "end_time": "2017-01-17T03:05:58.803765",
     "start_time": "2017-01-17T03:05:58.786683"
    },
    "collapsed": false
   },
   "outputs": [
    {
     "data": {
      "text/plain": [
       "[Term([EvalFactor('time')]), Term([EvalFactor('event_value')])]"
      ]
     },
     "execution_count": 9,
     "metadata": {},
     "output_type": "execute_result"
    }
   ],
   "source": [
    "md.lhs_termlist"
   ]
  },
  {
   "cell_type": "code",
   "execution_count": 10,
   "metadata": {
    "ExecuteTime": {
     "end_time": "2017-01-17T03:05:58.823632",
     "start_time": "2017-01-17T03:05:58.805828"
    },
    "collapsed": false
   },
   "outputs": [
    {
     "data": {
      "text/plain": [
       "2"
      ]
     },
     "execution_count": 10,
     "metadata": {},
     "output_type": "execute_result"
    }
   ],
   "source": [
    "len(md.lhs_termlist)"
   ]
  },
  {
   "cell_type": "markdown",
   "metadata": {},
   "source": [
    "## `Id` class"
   ]
  },
  {
   "cell_type": "code",
   "execution_count": 66,
   "metadata": {
    "ExecuteTime": {
     "end_time": "2017-01-17T03:10:42.248488",
     "start_time": "2017-01-17T03:10:42.214203"
    },
    "collapsed": false
   },
   "outputs": [],
   "source": [
    "import numpy as np\n",
    "\n",
    "class Id(object):\n",
    "    def __init__(self, desc='id'):\n",
    "        self.values = []\n",
    "        self.desc = desc\n",
    "    \n",
    "    def memorize_chunk(self, x):\n",
    "        self.values.extend(np.unique(x))\n",
    "    \n",
    "    def memorize_finish(self):\n",
    "        self.ids = np.arange(len(self.values))+1\n",
    "        self.lookup = dict(zip(self.values, self.ids))\n",
    "    \n",
    "    def transform(self, x):\n",
    "        if patsy.util.have_pandas and isinstance(x, pd.Series):\n",
    "            d = pd.Series([self.lookup[val] for val in x]).astype(int)\n",
    "            d.index = x.index\n",
    "            return(d)\n",
    "        else:\n",
    "            return np.array([self.lookup[val] for val in x])\n",
    "    \n",
    "    def len(self):\n",
    "        return len(self.ids)\n",
    "    \n",
    "    def decode_df(self):\n",
    "        return pd.DataFrame({'id': self.ids, 'value': self.values})\n",
    "\n",
    "as_id = patsy.stateful_transform(Id)"
   ]
  },
  {
   "cell_type": "code",
   "execution_count": 67,
   "metadata": {
    "ExecuteTime": {
     "end_time": "2017-01-17T03:10:42.915584",
     "start_time": "2017-01-17T03:10:42.897891"
    },
    "collapsed": false
   },
   "outputs": [
    {
     "name": "stdout",
     "output_type": "stream",
     "text": [
      "[1 2 1 3]\n"
     ]
    }
   ],
   "source": [
    "print(as_id(np.array(['a','b','a','c'])))"
   ]
  },
  {
   "cell_type": "code",
   "execution_count": 68,
   "metadata": {
    "ExecuteTime": {
     "end_time": "2017-01-17T03:10:43.412028",
     "start_time": "2017-01-17T03:10:43.395768"
    },
    "collapsed": false
   },
   "outputs": [],
   "source": [
    "test_formula = 'event_value + as_id(time) + as_id(subject_id) ~ X1 + X2'"
   ]
  },
  {
   "cell_type": "code",
   "execution_count": 69,
   "metadata": {
    "ExecuteTime": {
     "end_time": "2017-01-17T03:10:43.870676",
     "start_time": "2017-01-17T03:10:43.834892"
    },
    "collapsed": false
   },
   "outputs": [
    {
     "data": {
      "text/html": [
       "<div>\n",
       "<table border=\"1\" class=\"dataframe\">\n",
       "  <thead>\n",
       "    <tr style=\"text-align: right;\">\n",
       "      <th></th>\n",
       "      <th>0</th>\n",
       "      <th>1</th>\n",
       "      <th>2</th>\n",
       "    </tr>\n",
       "  </thead>\n",
       "  <tbody>\n",
       "    <tr>\n",
       "      <th>0</th>\n",
       "      <td>1.0</td>\n",
       "      <td>64.0</td>\n",
       "      <td>1.0</td>\n",
       "    </tr>\n",
       "    <tr>\n",
       "      <th>1</th>\n",
       "      <td>1.0</td>\n",
       "      <td>45.0</td>\n",
       "      <td>2.0</td>\n",
       "    </tr>\n",
       "    <tr>\n",
       "      <th>2</th>\n",
       "      <td>1.0</td>\n",
       "      <td>9.0</td>\n",
       "      <td>3.0</td>\n",
       "    </tr>\n",
       "    <tr>\n",
       "      <th>3</th>\n",
       "      <td>0.0</td>\n",
       "      <td>67.0</td>\n",
       "      <td>4.0</td>\n",
       "    </tr>\n",
       "    <tr>\n",
       "      <th>4</th>\n",
       "      <td>1.0</td>\n",
       "      <td>34.0</td>\n",
       "      <td>5.0</td>\n",
       "    </tr>\n",
       "  </tbody>\n",
       "</table>\n",
       "</div>"
      ],
      "text/plain": [
       "     0     1    2\n",
       "0  1.0  64.0  1.0\n",
       "1  1.0  45.0  2.0\n",
       "2  1.0   9.0  3.0\n",
       "3  0.0  67.0  4.0\n",
       "4  1.0  34.0  5.0"
      ]
     },
     "execution_count": 69,
     "metadata": {},
     "output_type": "execute_result"
    }
   ],
   "source": [
    "y, X = patsy.dmatrices(formula_like=test_formula, data=df)\n",
    "\n",
    "pd.DataFrame(y).head()"
   ]
  },
  {
   "cell_type": "markdown",
   "metadata": {},
   "source": [
    "## `SurvData` class\n",
    "A helper class for Surv"
   ]
  },
  {
   "cell_type": "code",
   "execution_count": 70,
   "metadata": {
    "ExecuteTime": {
     "end_time": "2017-01-17T03:10:45.086249",
     "start_time": "2017-01-17T03:10:45.064583"
    },
    "collapsed": true
   },
   "outputs": [],
   "source": [
    "class SurvData(pd.DataFrame):\n",
    "    ''' patsy.DesignMatrix representing survival data output '''\n",
    "    survival_type = 'wide'\n",
    "    \n",
    "    def __init__(self, *args, stan_data=dict(), meta_data=dict(), **kwargs):\n",
    "        super().__init__(*args, **kwargs)\n",
    "        self.stan_data = stan_data\n",
    "        self.meta_data = meta_data\n",
    "\n",
    "class LongSurvData(SurvData):\n",
    "    ''' pd.DataFrame representing survival data with endpoint_time_id, event_status & subject_id '''\n",
    "    survival_type = 'long'\n",
    "\n",
    "class NotValidId(ValueError):\n",
    "    ''' Class of errors pertaining to invalid Id variables '''\n"
   ]
  },
  {
   "cell_type": "markdown",
   "metadata": {},
   "source": [
    "## `Surv` class"
   ]
  },
  {
   "cell_type": "code",
   "execution_count": 71,
   "metadata": {
    "ExecuteTime": {
     "end_time": "2017-01-17T03:10:46.329287",
     "start_time": "2017-01-17T03:10:46.187366"
    },
    "collapsed": false
   },
   "outputs": [],
   "source": [
    "class Surv(object):\n",
    "    def __init__(self):\n",
    "        self.subject_id = Id('subject')\n",
    "        self.timepoint_id = Id('timepoint')\n",
    "        self.group_id = Id('group')\n",
    "        self._type = None\n",
    "        self._grouped = None\n",
    "        pass\n",
    "    \n",
    "    def _check_kwargs(self, **kwargs):\n",
    "        kwargs = dict(**kwargs)\n",
    "        allowed_kwargs = ['subject', 'group']\n",
    "        bad_keys = [key not in allowed_kwargs for key in kwargs.keys()]\n",
    "        if any(bad_keys):\n",
    "            raise ValueError('Invalid parameter: {}'.format(','.join(bad_keys)))\n",
    "        return kwargs\n",
    "        \n",
    "    def memorize_chunk(self, time, event_status, **kwargs):\n",
    "        kwargs = self._check_kwargs(**kwargs)\n",
    "        if 'subject' in kwargs.keys():\n",
    "            self._type = 'long'\n",
    "            self.subject_id.memorize_chunk(kwargs['subject'])\n",
    "            self.timepoint_id.memorize_chunk(time)\n",
    "        else:\n",
    "            self._type = 'wide'\n",
    "        if 'group' in kwargs.keys():\n",
    "            self._grouped = True\n",
    "            self.group_id.memorize_chunk(kwargs['group'])\n",
    "        else:\n",
    "            self._grouped = False\n",
    "    \n",
    "    def memorize_finish(self):\n",
    "        self.subject_id.memorize_finish()\n",
    "        self.group_id.memorize_finish()\n",
    "        self.timepoint_id.memorize_finish()\n",
    "    \n",
    "    def _prep_timepoint_standata(self, timepoint_df):\n",
    "        unique_timepoints = survivalstan.survivalstan._prep_timepoint_dataframe(\n",
    "            timepoint_df,\n",
    "            timepoint_id_col='id',\n",
    "            timepoint_end_col='value')\n",
    "        timepoint_input_data = {\n",
    "            't_dur': unique_timepoints['t_dur'],\n",
    "            't_obs': unique_timepoints['value'],\n",
    "            'T': len(unique_timepoints.index)\n",
    "        }\n",
    "        return timepoint_input_data\n",
    "    \n",
    "    def _prep_long(self, timepoint_id, event_status, subject_id, group_id=None, **kwargs):\n",
    "        if patsy.util.have_pandas:\n",
    "            dm = {'timepoint_id': timepoint_id,\n",
    "                  'event_status': event_status,\n",
    "                  'subject_id': subject_id\n",
    "                  }\n",
    "            \n",
    "            if group_id is not None:\n",
    "                dm.update({'group_id': group_id})\n",
    "            dm = pd.DataFrame(dm)\n",
    "            dm.index = event_status.index\n",
    "        else:\n",
    "            if group_id is not None:\n",
    "                dm = np.append(timepoint_id, event_status, subject_id, group_id, 1)\n",
    "            else:\n",
    "                dm = np.append(timepoint_id, event_status, subject_id, 1)\n",
    "        return LongSurvData(dm, **kwargs)\n",
    "    \n",
    "    def _prep_wide(self, time, event_status, group_id=None, **kwargs):\n",
    "        if patsy.util.have_pandas:\n",
    "            dm = {'time': time,\n",
    "                 'event_status': event_status,\n",
    "                 }\n",
    "            \n",
    "            if group_id is not None:\n",
    "                dm.update({'group_id': group_id})\n",
    "            dm = pd.DataFrame(dm)\n",
    "            dm.index = time.index\n",
    "        else:\n",
    "            if group_id is not None:\n",
    "                dm = np.append(time, event_status, group_id, 1)\n",
    "            else:\n",
    "                dm = np.append(time, event_status, 1)\n",
    "        return SurvData(dm, **kwargs)\n",
    "        \n",
    "    def transform(self, time, event_status, **kwargs):\n",
    "        kwargs = self._check_kwargs(**kwargs)\n",
    "        meta_data = dict()\n",
    "        stan_data = dict()\n",
    "        if 'subject' in kwargs.keys():\n",
    "            subject_id = self.subject_id.transform(kwargs['subject'])\n",
    "            timepoint_id = self.timepoint_id.transform(time)\n",
    "            meta_data.update({'timepoint_id': self.timepoint_id.decode_df(),\n",
    "                              'subject_id': self.subject_id.decode_df()})\n",
    "            stan_data.update(self._prep_timepoint_standata(self.timepoint_id.decode_df()))\n",
    "            stan_data.update({'S': self.subject_id.len()})\n",
    "        if 'group' in kwargs.keys():\n",
    "            group_id = self.group_id.transform(kwargs['group'])\n",
    "            stan_data.update({'G': len(self.group_id.len())})\n",
    "            meta_data.update({'group_id': self.group_id.decode_df()})\n",
    "        else:\n",
    "            group_id = None\n",
    "\n",
    "        if self._type == 'long':\n",
    "            return(self._prep_long(timepoint_id=timepoint_id, event_status=event_status,\n",
    "                                  subject_id=subject_id, group_id=group_id,\n",
    "                                  meta_data=meta_data, stan_data=stan_data)\n",
    "                  )\n",
    "        elif self._type == 'wide':\n",
    "            return(self._prep_wide(time=time, event_status=event_status, group_id=group_id,\n",
    "                                  meta_data=meta_data, stan_data=stan_data))\n",
    "\n",
    "surv = patsy.stateful_transform(Surv)"
   ]
  },
  {
   "cell_type": "code",
   "execution_count": 72,
   "metadata": {
    "ExecuteTime": {
     "end_time": "2017-01-17T03:10:46.876680",
     "start_time": "2017-01-17T03:10:46.849200"
    },
    "collapsed": false
   },
   "outputs": [
    {
     "data": {
      "text/html": [
       "<div>\n",
       "<table border=\"1\" class=\"dataframe\">\n",
       "  <thead>\n",
       "    <tr style=\"text-align: right;\">\n",
       "      <th></th>\n",
       "      <th>subject_id</th>\n",
       "      <th>time</th>\n",
       "      <th>event_value</th>\n",
       "      <th>event_name</th>\n",
       "      <th>X1</th>\n",
       "      <th>X2</th>\n",
       "    </tr>\n",
       "  </thead>\n",
       "  <tbody>\n",
       "    <tr>\n",
       "      <th>0</th>\n",
       "      <td>0</td>\n",
       "      <td>4.288769</td>\n",
       "      <td>1</td>\n",
       "      <td>death</td>\n",
       "      <td>1</td>\n",
       "      <td>0</td>\n",
       "    </tr>\n",
       "    <tr>\n",
       "      <th>1</th>\n",
       "      <td>1</td>\n",
       "      <td>1.006545</td>\n",
       "      <td>1</td>\n",
       "      <td>death</td>\n",
       "      <td>0</td>\n",
       "      <td>0</td>\n",
       "    </tr>\n",
       "    <tr>\n",
       "      <th>2</th>\n",
       "      <td>2</td>\n",
       "      <td>0.032628</td>\n",
       "      <td>1</td>\n",
       "      <td>death</td>\n",
       "      <td>1</td>\n",
       "      <td>1</td>\n",
       "    </tr>\n",
       "    <tr>\n",
       "      <th>3</th>\n",
       "      <td>3</td>\n",
       "      <td>5.500000</td>\n",
       "      <td>0</td>\n",
       "      <td>death</td>\n",
       "      <td>1</td>\n",
       "      <td>1</td>\n",
       "    </tr>\n",
       "    <tr>\n",
       "      <th>4</th>\n",
       "      <td>4</td>\n",
       "      <td>0.555380</td>\n",
       "      <td>1</td>\n",
       "      <td>death</td>\n",
       "      <td>0</td>\n",
       "      <td>0</td>\n",
       "    </tr>\n",
       "  </tbody>\n",
       "</table>\n",
       "</div>"
      ],
      "text/plain": [
       "   subject_id      time  event_value event_name  X1  X2\n",
       "0           0  4.288769            1      death   1   0\n",
       "1           1  1.006545            1      death   0   0\n",
       "2           2  0.032628            1      death   1   1\n",
       "3           3  5.500000            0      death   1   1\n",
       "4           4  0.555380            1      death   0   0"
      ]
     },
     "execution_count": 72,
     "metadata": {},
     "output_type": "execute_result"
    }
   ],
   "source": [
    "df.head()"
   ]
  },
  {
   "cell_type": "code",
   "execution_count": 73,
   "metadata": {
    "ExecuteTime": {
     "end_time": "2017-01-17T03:10:47.279629",
     "start_time": "2017-01-17T03:10:47.255594"
    },
    "collapsed": false
   },
   "outputs": [
    {
     "data": {
      "text/html": [
       "<div>\n",
       "<table border=\"1\" class=\"dataframe\">\n",
       "  <thead>\n",
       "    <tr style=\"text-align: right;\">\n",
       "      <th></th>\n",
       "      <th>event_status</th>\n",
       "      <th>time</th>\n",
       "    </tr>\n",
       "  </thead>\n",
       "  <tbody>\n",
       "    <tr>\n",
       "      <th>0</th>\n",
       "      <td>1</td>\n",
       "      <td>4.288769</td>\n",
       "    </tr>\n",
       "    <tr>\n",
       "      <th>1</th>\n",
       "      <td>1</td>\n",
       "      <td>1.006545</td>\n",
       "    </tr>\n",
       "    <tr>\n",
       "      <th>2</th>\n",
       "      <td>1</td>\n",
       "      <td>0.032628</td>\n",
       "    </tr>\n",
       "    <tr>\n",
       "      <th>3</th>\n",
       "      <td>0</td>\n",
       "      <td>5.500000</td>\n",
       "    </tr>\n",
       "    <tr>\n",
       "      <th>4</th>\n",
       "      <td>1</td>\n",
       "      <td>0.555380</td>\n",
       "    </tr>\n",
       "  </tbody>\n",
       "</table>\n",
       "</div>"
      ],
      "text/plain": [
       "   event_status      time\n",
       "0             1  4.288769\n",
       "1             1  1.006545\n",
       "2             1  0.032628\n",
       "3             0  5.500000\n",
       "4             1  0.555380"
      ]
     },
     "execution_count": 73,
     "metadata": {},
     "output_type": "execute_result"
    }
   ],
   "source": [
    "surv(time=df['time'], event_status=df['event_value']).head()"
   ]
  },
  {
   "cell_type": "code",
   "execution_count": 74,
   "metadata": {
    "ExecuteTime": {
     "end_time": "2017-01-17T03:10:47.844004",
     "start_time": "2017-01-17T03:10:47.805785"
    },
    "collapsed": false
   },
   "outputs": [
    {
     "data": {
      "text/html": [
       "<div>\n",
       "<table border=\"1\" class=\"dataframe\">\n",
       "  <thead>\n",
       "    <tr style=\"text-align: right;\">\n",
       "      <th></th>\n",
       "      <th>event_status</th>\n",
       "      <th>subject_id</th>\n",
       "      <th>timepoint_id</th>\n",
       "    </tr>\n",
       "  </thead>\n",
       "  <tbody>\n",
       "    <tr>\n",
       "      <th>0</th>\n",
       "      <td>1</td>\n",
       "      <td>1</td>\n",
       "      <td>64</td>\n",
       "    </tr>\n",
       "    <tr>\n",
       "      <th>1</th>\n",
       "      <td>1</td>\n",
       "      <td>2</td>\n",
       "      <td>45</td>\n",
       "    </tr>\n",
       "    <tr>\n",
       "      <th>2</th>\n",
       "      <td>1</td>\n",
       "      <td>3</td>\n",
       "      <td>9</td>\n",
       "    </tr>\n",
       "    <tr>\n",
       "      <th>3</th>\n",
       "      <td>0</td>\n",
       "      <td>4</td>\n",
       "      <td>67</td>\n",
       "    </tr>\n",
       "    <tr>\n",
       "      <th>4</th>\n",
       "      <td>1</td>\n",
       "      <td>5</td>\n",
       "      <td>34</td>\n",
       "    </tr>\n",
       "  </tbody>\n",
       "</table>\n",
       "</div>"
      ],
      "text/plain": [
       "   event_status  subject_id  timepoint_id\n",
       "0             1           1            64\n",
       "1             1           2            45\n",
       "2             1           3             9\n",
       "3             0           4            67\n",
       "4             1           5            34"
      ]
     },
     "execution_count": 74,
     "metadata": {},
     "output_type": "execute_result"
    }
   ],
   "source": [
    "surv(time=df['time'], event_status=df['event_value'], subject=df['subject_id']).head()"
   ]
  },
  {
   "cell_type": "code",
   "execution_count": 75,
   "metadata": {
    "ExecuteTime": {
     "end_time": "2017-01-17T03:10:48.359092",
     "start_time": "2017-01-17T03:10:48.336220"
    },
    "collapsed": false
   },
   "outputs": [],
   "source": [
    "y, X = patsy.dmatrices('surv(time=time, event_status=event_value) ~ X1', data=df)"
   ]
  },
  {
   "cell_type": "code",
   "execution_count": 76,
   "metadata": {
    "ExecuteTime": {
     "end_time": "2017-01-17T03:10:48.992683",
     "start_time": "2017-01-17T03:10:48.968439"
    },
    "collapsed": false
   },
   "outputs": [
    {
     "data": {
      "text/html": [
       "<div>\n",
       "<table border=\"1\" class=\"dataframe\">\n",
       "  <thead>\n",
       "    <tr style=\"text-align: right;\">\n",
       "      <th></th>\n",
       "      <th>0</th>\n",
       "      <th>1</th>\n",
       "    </tr>\n",
       "  </thead>\n",
       "  <tbody>\n",
       "    <tr>\n",
       "      <th>0</th>\n",
       "      <td>1.0</td>\n",
       "      <td>4.288769</td>\n",
       "    </tr>\n",
       "    <tr>\n",
       "      <th>1</th>\n",
       "      <td>1.0</td>\n",
       "      <td>1.006545</td>\n",
       "    </tr>\n",
       "    <tr>\n",
       "      <th>2</th>\n",
       "      <td>1.0</td>\n",
       "      <td>0.032628</td>\n",
       "    </tr>\n",
       "    <tr>\n",
       "      <th>3</th>\n",
       "      <td>0.0</td>\n",
       "      <td>5.500000</td>\n",
       "    </tr>\n",
       "    <tr>\n",
       "      <th>4</th>\n",
       "      <td>1.0</td>\n",
       "      <td>0.555380</td>\n",
       "    </tr>\n",
       "  </tbody>\n",
       "</table>\n",
       "</div>"
      ],
      "text/plain": [
       "     0         1\n",
       "0  1.0  4.288769\n",
       "1  1.0  1.006545\n",
       "2  1.0  0.032628\n",
       "3  0.0  5.500000\n",
       "4  1.0  0.555380"
      ]
     },
     "execution_count": 76,
     "metadata": {},
     "output_type": "execute_result"
    }
   ],
   "source": [
    "pd.DataFrame(y).head()"
   ]
  },
  {
   "cell_type": "code",
   "execution_count": 77,
   "metadata": {
    "ExecuteTime": {
     "end_time": "2017-01-17T03:10:49.610705",
     "start_time": "2017-01-17T03:10:49.563078"
    },
    "collapsed": true
   },
   "outputs": [],
   "source": [
    "y2, X = patsy.dmatrices('surv(time=time, event_status=event_value, subject=subject_id) ~ X1', data=df)"
   ]
  },
  {
   "cell_type": "code",
   "execution_count": 78,
   "metadata": {
    "ExecuteTime": {
     "end_time": "2017-01-17T03:10:50.036104",
     "start_time": "2017-01-17T03:10:50.011106"
    },
    "collapsed": false
   },
   "outputs": [
    {
     "data": {
      "text/html": [
       "<div>\n",
       "<table border=\"1\" class=\"dataframe\">\n",
       "  <thead>\n",
       "    <tr style=\"text-align: right;\">\n",
       "      <th></th>\n",
       "      <th>0</th>\n",
       "      <th>1</th>\n",
       "      <th>2</th>\n",
       "    </tr>\n",
       "  </thead>\n",
       "  <tbody>\n",
       "    <tr>\n",
       "      <th>0</th>\n",
       "      <td>1.0</td>\n",
       "      <td>1.0</td>\n",
       "      <td>64.0</td>\n",
       "    </tr>\n",
       "    <tr>\n",
       "      <th>1</th>\n",
       "      <td>1.0</td>\n",
       "      <td>2.0</td>\n",
       "      <td>45.0</td>\n",
       "    </tr>\n",
       "    <tr>\n",
       "      <th>2</th>\n",
       "      <td>1.0</td>\n",
       "      <td>3.0</td>\n",
       "      <td>9.0</td>\n",
       "    </tr>\n",
       "    <tr>\n",
       "      <th>3</th>\n",
       "      <td>0.0</td>\n",
       "      <td>4.0</td>\n",
       "      <td>67.0</td>\n",
       "    </tr>\n",
       "    <tr>\n",
       "      <th>4</th>\n",
       "      <td>1.0</td>\n",
       "      <td>5.0</td>\n",
       "      <td>34.0</td>\n",
       "    </tr>\n",
       "  </tbody>\n",
       "</table>\n",
       "</div>"
      ],
      "text/plain": [
       "     0    1     2\n",
       "0  1.0  1.0  64.0\n",
       "1  1.0  2.0  45.0\n",
       "2  1.0  3.0   9.0\n",
       "3  0.0  4.0  67.0\n",
       "4  1.0  5.0  34.0"
      ]
     },
     "execution_count": 78,
     "metadata": {},
     "output_type": "execute_result"
    }
   ],
   "source": [
    "pd.DataFrame(y2).head()"
   ]
  },
  {
   "cell_type": "code",
   "execution_count": 79,
   "metadata": {
    "ExecuteTime": {
     "end_time": "2017-01-17T03:10:50.571067",
     "start_time": "2017-01-17T03:10:50.544503"
    },
    "collapsed": false
   },
   "outputs": [
    {
     "data": {
      "text/html": [
       "<div>\n",
       "<table border=\"1\" class=\"dataframe\">\n",
       "  <thead>\n",
       "    <tr style=\"text-align: right;\">\n",
       "      <th></th>\n",
       "      <th>0</th>\n",
       "      <th>1</th>\n",
       "      <th>2</th>\n",
       "    </tr>\n",
       "  </thead>\n",
       "  <tbody>\n",
       "    <tr>\n",
       "      <th>95</th>\n",
       "      <td>0.0</td>\n",
       "      <td>96.0</td>\n",
       "      <td>67.0</td>\n",
       "    </tr>\n",
       "    <tr>\n",
       "      <th>96</th>\n",
       "      <td>0.0</td>\n",
       "      <td>97.0</td>\n",
       "      <td>67.0</td>\n",
       "    </tr>\n",
       "    <tr>\n",
       "      <th>97</th>\n",
       "      <td>1.0</td>\n",
       "      <td>98.0</td>\n",
       "      <td>40.0</td>\n",
       "    </tr>\n",
       "    <tr>\n",
       "      <th>98</th>\n",
       "      <td>1.0</td>\n",
       "      <td>99.0</td>\n",
       "      <td>21.0</td>\n",
       "    </tr>\n",
       "    <tr>\n",
       "      <th>99</th>\n",
       "      <td>1.0</td>\n",
       "      <td>100.0</td>\n",
       "      <td>58.0</td>\n",
       "    </tr>\n",
       "  </tbody>\n",
       "</table>\n",
       "</div>"
      ],
      "text/plain": [
       "      0      1     2\n",
       "95  0.0   96.0  67.0\n",
       "96  0.0   97.0  67.0\n",
       "97  1.0   98.0  40.0\n",
       "98  1.0   99.0  21.0\n",
       "99  1.0  100.0  58.0"
      ]
     },
     "execution_count": 79,
     "metadata": {},
     "output_type": "execute_result"
    }
   ],
   "source": [
    "pd.DataFrame(y2).tail()"
   ]
  },
  {
   "cell_type": "markdown",
   "metadata": {},
   "source": [
    "Test whether class/id labels are retained for predicting new data:"
   ]
  },
  {
   "cell_type": "code",
   "execution_count": 80,
   "metadata": {
    "ExecuteTime": {
     "end_time": "2017-01-17T03:10:51.922510",
     "start_time": "2017-01-17T03:10:51.891015"
    },
    "collapsed": true
   },
   "outputs": [],
   "source": [
    "(y2.new, X.new) = patsy.build_design_matrices([y2.design_info, X.design_info], df.tail()) "
   ]
  },
  {
   "cell_type": "code",
   "execution_count": 81,
   "metadata": {
    "ExecuteTime": {
     "end_time": "2017-01-17T03:10:52.389561",
     "start_time": "2017-01-17T03:10:52.365853"
    },
    "collapsed": false
   },
   "outputs": [
    {
     "data": {
      "text/html": [
       "<div>\n",
       "<table border=\"1\" class=\"dataframe\">\n",
       "  <thead>\n",
       "    <tr style=\"text-align: right;\">\n",
       "      <th></th>\n",
       "      <th>0</th>\n",
       "      <th>1</th>\n",
       "      <th>2</th>\n",
       "    </tr>\n",
       "  </thead>\n",
       "  <tbody>\n",
       "    <tr>\n",
       "      <th>0</th>\n",
       "      <td>0.0</td>\n",
       "      <td>96.0</td>\n",
       "      <td>67.0</td>\n",
       "    </tr>\n",
       "    <tr>\n",
       "      <th>1</th>\n",
       "      <td>0.0</td>\n",
       "      <td>97.0</td>\n",
       "      <td>67.0</td>\n",
       "    </tr>\n",
       "    <tr>\n",
       "      <th>2</th>\n",
       "      <td>1.0</td>\n",
       "      <td>98.0</td>\n",
       "      <td>40.0</td>\n",
       "    </tr>\n",
       "    <tr>\n",
       "      <th>3</th>\n",
       "      <td>1.0</td>\n",
       "      <td>99.0</td>\n",
       "      <td>21.0</td>\n",
       "    </tr>\n",
       "    <tr>\n",
       "      <th>4</th>\n",
       "      <td>1.0</td>\n",
       "      <td>100.0</td>\n",
       "      <td>58.0</td>\n",
       "    </tr>\n",
       "  </tbody>\n",
       "</table>\n",
       "</div>"
      ],
      "text/plain": [
       "     0      1     2\n",
       "0  0.0   96.0  67.0\n",
       "1  0.0   97.0  67.0\n",
       "2  1.0   98.0  40.0\n",
       "3  1.0   99.0  21.0\n",
       "4  1.0  100.0  58.0"
      ]
     },
     "execution_count": 81,
     "metadata": {},
     "output_type": "execute_result"
    }
   ],
   "source": [
    "pd.DataFrame(y2.new).head()"
   ]
  },
  {
   "cell_type": "markdown",
   "metadata": {},
   "source": [
    "### Can we get meta-information about type?"
   ]
  },
  {
   "cell_type": "code",
   "execution_count": 82,
   "metadata": {
    "ExecuteTime": {
     "end_time": "2017-01-17T03:10:53.674724",
     "start_time": "2017-01-17T03:10:53.651886"
    },
    "collapsed": true
   },
   "outputs": [],
   "source": [
    "y, X = patsy.dmatrices('surv(event_status=event_value, time=time) ~ X1', data=df)"
   ]
  },
  {
   "cell_type": "code",
   "execution_count": 83,
   "metadata": {
    "ExecuteTime": {
     "end_time": "2017-01-17T03:10:54.106009",
     "start_time": "2017-01-17T03:10:54.082826"
    },
    "collapsed": false
   },
   "outputs": [
    {
     "data": {
      "text/html": [
       "<div>\n",
       "<table border=\"1\" class=\"dataframe\">\n",
       "  <thead>\n",
       "    <tr style=\"text-align: right;\">\n",
       "      <th></th>\n",
       "      <th>0</th>\n",
       "      <th>1</th>\n",
       "    </tr>\n",
       "  </thead>\n",
       "  <tbody>\n",
       "    <tr>\n",
       "      <th>0</th>\n",
       "      <td>1.0</td>\n",
       "      <td>4.288769</td>\n",
       "    </tr>\n",
       "    <tr>\n",
       "      <th>1</th>\n",
       "      <td>1.0</td>\n",
       "      <td>1.006545</td>\n",
       "    </tr>\n",
       "    <tr>\n",
       "      <th>2</th>\n",
       "      <td>1.0</td>\n",
       "      <td>0.032628</td>\n",
       "    </tr>\n",
       "    <tr>\n",
       "      <th>3</th>\n",
       "      <td>0.0</td>\n",
       "      <td>5.500000</td>\n",
       "    </tr>\n",
       "    <tr>\n",
       "      <th>4</th>\n",
       "      <td>1.0</td>\n",
       "      <td>0.555380</td>\n",
       "    </tr>\n",
       "  </tbody>\n",
       "</table>\n",
       "</div>"
      ],
      "text/plain": [
       "     0         1\n",
       "0  1.0  4.288769\n",
       "1  1.0  1.006545\n",
       "2  1.0  0.032628\n",
       "3  0.0  5.500000\n",
       "4  1.0  0.555380"
      ]
     },
     "execution_count": 83,
     "metadata": {},
     "output_type": "execute_result"
    }
   ],
   "source": [
    "pd.DataFrame(y).head()"
   ]
  },
  {
   "cell_type": "code",
   "execution_count": 84,
   "metadata": {
    "ExecuteTime": {
     "end_time": "2017-01-17T03:10:54.773050",
     "start_time": "2017-01-17T03:10:54.724305"
    },
    "collapsed": false
   },
   "outputs": [],
   "source": [
    "y, X = patsy.dmatrices('surv(event_status=event_value,time=as_id(time), subject=as_id(subject_id)) ~ bs(X1, 3)',\n",
    "                       data=df)"
   ]
  },
  {
   "cell_type": "code",
   "execution_count": 85,
   "metadata": {
    "ExecuteTime": {
     "end_time": "2017-01-17T03:10:55.306278",
     "start_time": "2017-01-17T03:10:55.288742"
    },
    "collapsed": false
   },
   "outputs": [
    {
     "data": {
      "text/plain": [
       "False"
      ]
     },
     "execution_count": 85,
     "metadata": {},
     "output_type": "execute_result"
    }
   ],
   "source": [
    "isinstance(y, LongSurvData)"
   ]
  },
  {
   "cell_type": "code",
   "execution_count": 86,
   "metadata": {
    "ExecuteTime": {
     "end_time": "2017-01-17T03:10:55.781000",
     "start_time": "2017-01-17T03:10:55.763542"
    },
    "collapsed": false
   },
   "outputs": [
    {
     "data": {
      "text/plain": [
       "(100, 3)"
      ]
     },
     "execution_count": 86,
     "metadata": {},
     "output_type": "execute_result"
    }
   ],
   "source": [
    "y.shape"
   ]
  },
  {
   "cell_type": "code",
   "execution_count": 87,
   "metadata": {
    "ExecuteTime": {
     "end_time": "2017-01-17T03:10:57.110964",
     "start_time": "2017-01-17T03:10:57.093321"
    },
    "collapsed": false
   },
   "outputs": [
    {
     "data": {
      "text/plain": [
       "['surv(event_status=event_value, time=as_id(time), subject=as_id(subject_id))']"
      ]
     },
     "execution_count": 87,
     "metadata": {},
     "output_type": "execute_result"
    }
   ],
   "source": [
    "y.design_info.term_names"
   ]
  },
  {
   "cell_type": "code",
   "execution_count": 88,
   "metadata": {
    "ExecuteTime": {
     "end_time": "2017-01-17T03:10:57.654689",
     "start_time": "2017-01-17T03:10:57.636808"
    },
    "collapsed": false
   },
   "outputs": [
    {
     "data": {
      "text/plain": [
       "{EvalFactor('bs(X1, 3)'): FactorInfo(factor=EvalFactor('bs(X1, 3)'),\n",
       "            type='numerical',\n",
       "            state=<factor state>,\n",
       "            num_columns=3)}"
      ]
     },
     "execution_count": 88,
     "metadata": {},
     "output_type": "execute_result"
    }
   ],
   "source": [
    "X.design_info.factor_infos"
   ]
  },
  {
   "cell_type": "code",
   "execution_count": 89,
   "metadata": {
    "ExecuteTime": {
     "end_time": "2017-01-17T03:10:58.128286",
     "start_time": "2017-01-17T03:10:58.110257"
    },
    "collapsed": false
   },
   "outputs": [
    {
     "data": {
      "text/plain": [
       "DesignInfo(['surv(event_status=event_value, time=as_id(time), subject=as_id(subject_id))[0]',\n",
       "            'surv(event_status=event_value, time=as_id(time), subject=as_id(subject_id))[1]',\n",
       "            'surv(event_status=event_value, time=as_id(time), subject=as_id(subject_id))[2]'],\n",
       "           factor_infos={EvalFactor('surv(event_status=event_value, time=as_id(time), subject=as_id(subject_id))'): FactorInfo(factor=EvalFactor('surv(event_status=event_value, time=as_id(time), subject=as_id(subject_id))'),\n",
       "                                    type='numerical',\n",
       "                                    state=<factor state>,\n",
       "                                    num_columns=3)},\n",
       "           term_codings=OrderedDict([(Term([EvalFactor('surv(event_status=event_value, time=as_id(time), subject=as_id(subject_id))')]),\n",
       "                                      [SubtermInfo(factors=(EvalFactor('surv(event_status=event_value, time=as_id(time), subject=as_id(subject_id))'),),\n",
       "                                                   contrast_matrices={},\n",
       "                                                   num_columns=3)])]))"
      ]
     },
     "execution_count": 89,
     "metadata": {},
     "output_type": "execute_result"
    }
   ],
   "source": [
    "y.design_info"
   ]
  },
  {
   "cell_type": "code",
   "execution_count": 90,
   "metadata": {
    "ExecuteTime": {
     "end_time": "2017-01-17T03:10:58.866785",
     "start_time": "2017-01-17T03:10:58.849487"
    },
    "collapsed": false
   },
   "outputs": [
    {
     "name": "stdout",
     "output_type": "stream",
     "text": [
      "'DesignMatrix' object has no attribute 'survival_type'\n"
     ]
    }
   ],
   "source": [
    "try:\n",
    "    y.survival_type\n",
    "except AttributeError as e:\n",
    "    print(str(e))"
   ]
  },
  {
   "cell_type": "code",
   "execution_count": 91,
   "metadata": {
    "ExecuteTime": {
     "end_time": "2017-01-17T03:10:59.509815",
     "start_time": "2017-01-17T03:10:59.490752"
    },
    "collapsed": false
   },
   "outputs": [
    {
     "data": {
      "text/plain": [
       "DesignInfo(['surv(event_status=event_value, time=as_id(time), subject=as_id(subject_id))[0]',\n",
       "            'surv(event_status=event_value, time=as_id(time), subject=as_id(subject_id))[1]',\n",
       "            'surv(event_status=event_value, time=as_id(time), subject=as_id(subject_id))[2]'],\n",
       "           factor_infos={EvalFactor('surv(event_status=event_value, time=as_id(time), subject=as_id(subject_id))'): FactorInfo(factor=EvalFactor('surv(event_status=event_value, time=as_id(time), subject=as_id(subject_id))'),\n",
       "                                    type='numerical',\n",
       "                                    state=<factor state>,\n",
       "                                    num_columns=3)},\n",
       "           term_codings=OrderedDict([(Term([EvalFactor('surv(event_status=event_value, time=as_id(time), subject=as_id(subject_id))')]),\n",
       "                                      [SubtermInfo(factors=(EvalFactor('surv(event_status=event_value, time=as_id(time), subject=as_id(subject_id))'),),\n",
       "                                                   contrast_matrices={},\n",
       "                                                   num_columns=3)])]))"
      ]
     },
     "execution_count": 91,
     "metadata": {},
     "output_type": "execute_result"
    }
   ],
   "source": [
    "y.design_info"
   ]
  },
  {
   "cell_type": "markdown",
   "metadata": {},
   "source": [
    "## SurvivalFactor class"
   ]
  },
  {
   "cell_type": "code",
   "execution_count": 92,
   "metadata": {
    "ExecuteTime": {
     "end_time": "2017-01-17T03:11:00.626214",
     "start_time": "2017-01-17T03:11:00.599141"
    },
    "collapsed": false
   },
   "outputs": [],
   "source": [
    "import logging\n",
    "logger = logging.getLogger(__name__)\n",
    "class SurvivalFactor(patsy.EvalFactor):\n",
    "    ''' A factor object to encode LHS variables \n",
    "        for Survival Models, including model type\n",
    "    '''\n",
    "    _is_survival = True\n",
    "    \n",
    "    def __init__(self, *args, **kwargs):\n",
    "        super().__init__(*args, **kwargs)\n",
    "        self._class = None\n",
    "    \n",
    "    def eval(self, *args, **kwargs):\n",
    "        result = super().eval(*args, **kwargs)\n",
    "        try:\n",
    "            self._class = result.__class__\n",
    "        except:\n",
    "            logger.warning('Outcome class could not be determined')\n",
    "        if isinstance(result, SurvData):\n",
    "            self._type = result.survival_type\n",
    "            self._meta_data = result.meta_data\n",
    "            self._stan_data = result.stan_data\n",
    "            \n",
    "        return result\n",
    "        \n",
    "    "
   ]
  },
  {
   "cell_type": "code",
   "execution_count": 93,
   "metadata": {
    "ExecuteTime": {
     "end_time": "2017-01-17T03:11:01.081041",
     "start_time": "2017-01-17T03:11:01.064718"
    },
    "collapsed": false
   },
   "outputs": [],
   "source": [
    "a = SurvivalFactor(code='surv(time=time, event_status=event_value)')"
   ]
  },
  {
   "cell_type": "code",
   "execution_count": 94,
   "metadata": {
    "ExecuteTime": {
     "end_time": "2017-01-17T03:11:01.615275",
     "start_time": "2017-01-17T03:11:01.597957"
    },
    "collapsed": false
   },
   "outputs": [
    {
     "name": "stdout",
     "output_type": "stream",
     "text": [
      "None\n"
     ]
    }
   ],
   "source": [
    "print(a._class)"
   ]
  },
  {
   "cell_type": "code",
   "execution_count": 95,
   "metadata": {
    "ExecuteTime": {
     "end_time": "2017-01-17T03:11:02.084537",
     "start_time": "2017-01-17T03:11:02.067920"
    },
    "collapsed": false
   },
   "outputs": [],
   "source": [
    "md = patsy.ModelDesc([patsy.Term([a])],[])"
   ]
  },
  {
   "cell_type": "code",
   "execution_count": 96,
   "metadata": {
    "ExecuteTime": {
     "end_time": "2017-01-17T03:11:02.645986",
     "start_time": "2017-01-17T03:11:02.625440"
    },
    "collapsed": false
   },
   "outputs": [],
   "source": [
    "y, X = patsy.dmatrices(md, data=df)"
   ]
  },
  {
   "cell_type": "code",
   "execution_count": 97,
   "metadata": {
    "ExecuteTime": {
     "end_time": "2017-01-17T03:11:03.163798",
     "start_time": "2017-01-17T03:11:03.146223"
    },
    "collapsed": false
   },
   "outputs": [
    {
     "data": {
      "text/plain": [
       "(100, 2)"
      ]
     },
     "execution_count": 97,
     "metadata": {},
     "output_type": "execute_result"
    }
   ],
   "source": [
    "y.shape"
   ]
  },
  {
   "cell_type": "code",
   "execution_count": 98,
   "metadata": {
    "ExecuteTime": {
     "end_time": "2017-01-17T03:11:04.304516",
     "start_time": "2017-01-17T03:11:04.288488"
    },
    "collapsed": false
   },
   "outputs": [],
   "source": [
    "term = y.design_info.terms[0]"
   ]
  },
  {
   "cell_type": "code",
   "execution_count": 99,
   "metadata": {
    "ExecuteTime": {
     "end_time": "2017-01-17T03:11:04.908285",
     "start_time": "2017-01-17T03:11:04.890875"
    },
    "collapsed": false
   },
   "outputs": [
    {
     "data": {
      "text/plain": [
       "True"
      ]
     },
     "execution_count": 99,
     "metadata": {},
     "output_type": "execute_result"
    }
   ],
   "source": [
    "term.factors[0]._is_survival"
   ]
  },
  {
   "cell_type": "code",
   "execution_count": 100,
   "metadata": {
    "ExecuteTime": {
     "end_time": "2017-01-17T03:11:05.782774",
     "start_time": "2017-01-17T03:11:05.765515"
    },
    "collapsed": false
   },
   "outputs": [
    {
     "data": {
      "text/plain": [
       "__main__.SurvData"
      ]
     },
     "execution_count": 100,
     "metadata": {},
     "output_type": "execute_result"
    }
   ],
   "source": [
    "term.factors[0]._class"
   ]
  },
  {
   "cell_type": "code",
   "execution_count": 101,
   "metadata": {
    "ExecuteTime": {
     "end_time": "2017-01-17T03:11:06.380699",
     "start_time": "2017-01-17T03:11:06.363723"
    },
    "collapsed": false
   },
   "outputs": [
    {
     "data": {
      "text/plain": [
       "'wide'"
      ]
     },
     "execution_count": 101,
     "metadata": {},
     "output_type": "execute_result"
    }
   ],
   "source": [
    "term.factors[0]._type"
   ]
  },
  {
   "cell_type": "markdown",
   "metadata": {},
   "source": [
    "## SurvivalModelDesc class"
   ]
  },
  {
   "cell_type": "markdown",
   "metadata": {},
   "source": [
    "Next we need to find a way to make sure that `SurvivalFactor` type is used by default"
   ]
  },
  {
   "cell_type": "code",
   "execution_count": 102,
   "metadata": {
    "ExecuteTime": {
     "end_time": "2017-01-17T03:11:08.051175",
     "start_time": "2017-01-17T03:11:08.035039"
    },
    "collapsed": true
   },
   "outputs": [],
   "source": [
    "import re"
   ]
  },
  {
   "cell_type": "code",
   "execution_count": 103,
   "metadata": {
    "ExecuteTime": {
     "end_time": "2017-01-17T03:11:08.430428",
     "start_time": "2017-01-17T03:11:08.409577"
    },
    "collapsed": false
   },
   "outputs": [],
   "source": [
    "class SurvivalModelDesc(object):\n",
    "    \n",
    "    def __init__(self, formula):\n",
    "        self.formula = formula\n",
    "        self.lhs, self.rhs = re.split(string=formula, pattern='~', maxsplit=1)\n",
    "        self.lhs_termlist = [patsy.Term([SurvivalFactor(self.lhs)])]\n",
    "        self.rhs_termlist = patsy.ModelDesc.from_formula(self.rhs).rhs_termlist\n",
    "        \n",
    "    def __patsy_get_model_desc__(self, eval_env):\n",
    "        return patsy.ModelDesc(self.lhs_termlist, self.rhs_termlist)"
   ]
  },
  {
   "cell_type": "markdown",
   "metadata": {},
   "source": [
    "### confirm we can determine type"
   ]
  },
  {
   "cell_type": "code",
   "execution_count": 104,
   "metadata": {
    "ExecuteTime": {
     "end_time": "2017-01-17T03:11:09.381162",
     "start_time": "2017-01-17T03:11:09.359223"
    },
    "collapsed": false
   },
   "outputs": [],
   "source": [
    "my_formula = SurvivalModelDesc('surv(time=time, event_status=event_value) ~ X1')\n",
    "y, X = patsy.dmatrices(my_formula, data=df)"
   ]
  },
  {
   "cell_type": "code",
   "execution_count": 105,
   "metadata": {
    "ExecuteTime": {
     "end_time": "2017-01-17T03:11:09.923874",
     "start_time": "2017-01-17T03:11:09.900780"
    },
    "collapsed": false
   },
   "outputs": [
    {
     "data": {
      "text/html": [
       "<div>\n",
       "<table border=\"1\" class=\"dataframe\">\n",
       "  <thead>\n",
       "    <tr style=\"text-align: right;\">\n",
       "      <th></th>\n",
       "      <th>0</th>\n",
       "      <th>1</th>\n",
       "    </tr>\n",
       "  </thead>\n",
       "  <tbody>\n",
       "    <tr>\n",
       "      <th>0</th>\n",
       "      <td>1.0</td>\n",
       "      <td>4.288769</td>\n",
       "    </tr>\n",
       "    <tr>\n",
       "      <th>1</th>\n",
       "      <td>1.0</td>\n",
       "      <td>1.006545</td>\n",
       "    </tr>\n",
       "    <tr>\n",
       "      <th>2</th>\n",
       "      <td>1.0</td>\n",
       "      <td>0.032628</td>\n",
       "    </tr>\n",
       "    <tr>\n",
       "      <th>3</th>\n",
       "      <td>0.0</td>\n",
       "      <td>5.500000</td>\n",
       "    </tr>\n",
       "    <tr>\n",
       "      <th>4</th>\n",
       "      <td>1.0</td>\n",
       "      <td>0.555380</td>\n",
       "    </tr>\n",
       "  </tbody>\n",
       "</table>\n",
       "</div>"
      ],
      "text/plain": [
       "     0         1\n",
       "0  1.0  4.288769\n",
       "1  1.0  1.006545\n",
       "2  1.0  0.032628\n",
       "3  0.0  5.500000\n",
       "4  1.0  0.555380"
      ]
     },
     "execution_count": 105,
     "metadata": {},
     "output_type": "execute_result"
    }
   ],
   "source": [
    "pd.DataFrame(y).head()"
   ]
  },
  {
   "cell_type": "code",
   "execution_count": 106,
   "metadata": {
    "ExecuteTime": {
     "end_time": "2017-01-17T03:11:10.320961",
     "start_time": "2017-01-17T03:11:10.302087"
    },
    "collapsed": false
   },
   "outputs": [],
   "source": [
    "## should only be one LHS term\n",
    "assert(len(y.design_info.terms) == 1)\n",
    "\n",
    "## should only be one LHS factor (within single term)\n",
    "assert(len(y.design_info.terms[0].factors) == 1)\n",
    "\n",
    "## LHS factor should be of type \"survival\"\n",
    "assert(y.design_info.terms[0].factors[0]._is_survival == True)"
   ]
  },
  {
   "cell_type": "code",
   "execution_count": 107,
   "metadata": {
    "ExecuteTime": {
     "end_time": "2017-01-17T03:11:10.782843",
     "start_time": "2017-01-17T03:11:10.764979"
    },
    "collapsed": false
   },
   "outputs": [
    {
     "data": {
      "text/plain": [
       "__main__.SurvData"
      ]
     },
     "execution_count": 107,
     "metadata": {},
     "output_type": "execute_result"
    }
   ],
   "source": [
    "# get type of LHS term\n",
    "y.design_info.terms[0].factors[0]._class"
   ]
  },
  {
   "cell_type": "code",
   "execution_count": 108,
   "metadata": {
    "ExecuteTime": {
     "end_time": "2017-01-17T03:11:11.256776",
     "start_time": "2017-01-17T03:11:11.235881"
    },
    "collapsed": false
   },
   "outputs": [
    {
     "data": {
      "text/plain": [
       "'wide'"
      ]
     },
     "execution_count": 108,
     "metadata": {},
     "output_type": "execute_result"
    }
   ],
   "source": [
    "survival_type = y.design_info.terms[0].factors[0]._type\n",
    "survival_type"
   ]
  },
  {
   "cell_type": "markdown",
   "metadata": {},
   "source": [
    "### confirm we can extract stan & meta-data"
   ]
  },
  {
   "cell_type": "code",
   "execution_count": 109,
   "metadata": {
    "ExecuteTime": {
     "end_time": "2017-01-17T03:11:12.122990",
     "start_time": "2017-01-17T03:11:12.069939"
    },
    "collapsed": false
   },
   "outputs": [],
   "source": [
    "my_formula2 = SurvivalModelDesc('surv(time=time, event_status=event_value, subject=subject_id) ~ X1')\n",
    "y2, X = patsy.dmatrices(my_formula2, data=df)"
   ]
  },
  {
   "cell_type": "code",
   "execution_count": 110,
   "metadata": {
    "ExecuteTime": {
     "end_time": "2017-01-17T03:11:12.520311",
     "start_time": "2017-01-17T03:11:12.501533"
    },
    "collapsed": true
   },
   "outputs": [],
   "source": [
    "## should only be one LHS term\n",
    "assert(len(y2.design_info.terms) == 1)\n",
    "\n",
    "## should only be one LHS factor (within single term)\n",
    "assert(len(y2.design_info.terms[0].factors) == 1)\n",
    "\n",
    "## LHS factor should be of type \"survival\"\n",
    "assert(y2.design_info.terms[0].factors[0]._is_survival == True)"
   ]
  },
  {
   "cell_type": "code",
   "execution_count": 111,
   "metadata": {
    "ExecuteTime": {
     "end_time": "2017-01-17T03:11:12.918346",
     "start_time": "2017-01-17T03:11:12.899029"
    },
    "collapsed": false
   },
   "outputs": [
    {
     "data": {
      "text/plain": [
       "__main__.LongSurvData"
      ]
     },
     "execution_count": 111,
     "metadata": {},
     "output_type": "execute_result"
    }
   ],
   "source": [
    "y2.design_info.terms[0].factors[0]._class"
   ]
  },
  {
   "cell_type": "code",
   "execution_count": 112,
   "metadata": {
    "ExecuteTime": {
     "end_time": "2017-01-17T03:11:13.302459",
     "start_time": "2017-01-17T03:11:13.283878"
    },
    "collapsed": false
   },
   "outputs": [
    {
     "data": {
      "text/plain": [
       "'long'"
      ]
     },
     "execution_count": 112,
     "metadata": {},
     "output_type": "execute_result"
    }
   ],
   "source": [
    "survival_type = y2.design_info.terms[0].factors[0]._type\n",
    "survival_type"
   ]
  },
  {
   "cell_type": "code",
   "execution_count": 113,
   "metadata": {
    "ExecuteTime": {
     "end_time": "2017-01-17T03:11:14.017227",
     "start_time": "2017-01-17T03:11:13.997246"
    },
    "collapsed": false
   },
   "outputs": [
    {
     "data": {
      "text/plain": [
       "dict_keys(['t_obs', 'S', 't_dur', 'T'])"
      ]
     },
     "execution_count": 113,
     "metadata": {},
     "output_type": "execute_result"
    }
   ],
   "source": [
    "stan_data = y2.design_info.terms[0].factors[0]._stan_data\n",
    "stan_data.keys()"
   ]
  },
  {
   "cell_type": "code",
   "execution_count": 114,
   "metadata": {
    "ExecuteTime": {
     "end_time": "2017-01-17T03:11:14.538746",
     "start_time": "2017-01-17T03:11:14.519225"
    },
    "collapsed": false
   },
   "outputs": [
    {
     "data": {
      "text/plain": [
       "dict_keys(['timepoint_id', 'subject_id'])"
      ]
     },
     "execution_count": 114,
     "metadata": {},
     "output_type": "execute_result"
    }
   ],
   "source": [
    "meta_data = y2.design_info.terms[0].factors[0]._meta_data\n",
    "meta_data.keys()"
   ]
  },
  {
   "cell_type": "code",
   "execution_count": 116,
   "metadata": {
    "ExecuteTime": {
     "end_time": "2017-01-17T03:11:22.821537",
     "start_time": "2017-01-17T03:11:22.799428"
    },
    "collapsed": false
   },
   "outputs": [
    {
     "data": {
      "text/html": [
       "<div>\n",
       "<table border=\"1\" class=\"dataframe\">\n",
       "  <thead>\n",
       "    <tr style=\"text-align: right;\">\n",
       "      <th></th>\n",
       "      <th>id</th>\n",
       "      <th>value</th>\n",
       "    </tr>\n",
       "  </thead>\n",
       "  <tbody>\n",
       "    <tr>\n",
       "      <th>0</th>\n",
       "      <td>1</td>\n",
       "      <td>0</td>\n",
       "    </tr>\n",
       "    <tr>\n",
       "      <th>1</th>\n",
       "      <td>2</td>\n",
       "      <td>1</td>\n",
       "    </tr>\n",
       "    <tr>\n",
       "      <th>2</th>\n",
       "      <td>3</td>\n",
       "      <td>2</td>\n",
       "    </tr>\n",
       "    <tr>\n",
       "      <th>3</th>\n",
       "      <td>4</td>\n",
       "      <td>3</td>\n",
       "    </tr>\n",
       "    <tr>\n",
       "      <th>4</th>\n",
       "      <td>5</td>\n",
       "      <td>4</td>\n",
       "    </tr>\n",
       "  </tbody>\n",
       "</table>\n",
       "</div>"
      ],
      "text/plain": [
       "   id  value\n",
       "0   1      0\n",
       "1   2      1\n",
       "2   3      2\n",
       "3   4      3\n",
       "4   5      4"
      ]
     },
     "execution_count": 116,
     "metadata": {},
     "output_type": "execute_result"
    }
   ],
   "source": [
    "meta_data['subject_id'].head()"
   ]
  },
  {
   "cell_type": "markdown",
   "metadata": {},
   "source": [
    "### test model-matrix design on newdata"
   ]
  },
  {
   "cell_type": "code",
   "execution_count": 117,
   "metadata": {
    "ExecuteTime": {
     "end_time": "2017-01-17T03:11:27.344704",
     "start_time": "2017-01-17T03:11:27.325581"
    },
    "collapsed": false
   },
   "outputs": [
    {
     "data": {
      "text/plain": [
       "DesignInfo(['surv(time=time, event_status=event_value, subject=subject_id)[0]',\n",
       "            'surv(time=time, event_status=event_value, subject=subject_id)[1]',\n",
       "            'surv(time=time, event_status=event_value, subject=subject_id)[2]'],\n",
       "           factor_infos={SurvivalFactor('surv(time=time, event_status=event_value, subject=subject_id)'): FactorInfo(factor=SurvivalFactor('surv(time=time, event_status=event_value, subject=subject_id)'),\n",
       "                                    type='numerical',\n",
       "                                    state=<factor state>,\n",
       "                                    num_columns=3)},\n",
       "           term_codings=OrderedDict([(Term([SurvivalFactor('surv(time=time, event_status=event_value, subject=subject_id)')]),\n",
       "                                      [SubtermInfo(factors=(SurvivalFactor('surv(time=time, event_status=event_value, subject=subject_id)'),),\n",
       "                                                   contrast_matrices={},\n",
       "                                                   num_columns=3)])]))"
      ]
     },
     "execution_count": 117,
     "metadata": {},
     "output_type": "execute_result"
    }
   ],
   "source": [
    "y2.design_info"
   ]
  },
  {
   "cell_type": "code",
   "execution_count": 118,
   "metadata": {
    "ExecuteTime": {
     "end_time": "2017-01-17T03:11:28.470617",
     "start_time": "2017-01-17T03:11:28.439368"
    },
    "collapsed": false
   },
   "outputs": [],
   "source": [
    "y2.new, X.new = patsy.build_design_matrices(design_infos=[y2.design_info, X.design_info], data=df.tail())"
   ]
  },
  {
   "cell_type": "code",
   "execution_count": 119,
   "metadata": {
    "ExecuteTime": {
     "end_time": "2017-01-17T03:11:41.283848",
     "start_time": "2017-01-17T03:11:41.259640"
    },
    "collapsed": false
   },
   "outputs": [
    {
     "data": {
      "text/html": [
       "<div>\n",
       "<table border=\"1\" class=\"dataframe\">\n",
       "  <thead>\n",
       "    <tr style=\"text-align: right;\">\n",
       "      <th></th>\n",
       "      <th>0</th>\n",
       "      <th>1</th>\n",
       "      <th>2</th>\n",
       "    </tr>\n",
       "  </thead>\n",
       "  <tbody>\n",
       "    <tr>\n",
       "      <th>0</th>\n",
       "      <td>0.0</td>\n",
       "      <td>96.0</td>\n",
       "      <td>67.0</td>\n",
       "    </tr>\n",
       "    <tr>\n",
       "      <th>1</th>\n",
       "      <td>0.0</td>\n",
       "      <td>97.0</td>\n",
       "      <td>67.0</td>\n",
       "    </tr>\n",
       "    <tr>\n",
       "      <th>2</th>\n",
       "      <td>1.0</td>\n",
       "      <td>98.0</td>\n",
       "      <td>40.0</td>\n",
       "    </tr>\n",
       "    <tr>\n",
       "      <th>3</th>\n",
       "      <td>1.0</td>\n",
       "      <td>99.0</td>\n",
       "      <td>21.0</td>\n",
       "    </tr>\n",
       "    <tr>\n",
       "      <th>4</th>\n",
       "      <td>1.0</td>\n",
       "      <td>100.0</td>\n",
       "      <td>58.0</td>\n",
       "    </tr>\n",
       "  </tbody>\n",
       "</table>\n",
       "</div>"
      ],
      "text/plain": [
       "     0      1     2\n",
       "0  0.0   96.0  67.0\n",
       "1  0.0   97.0  67.0\n",
       "2  1.0   98.0  40.0\n",
       "3  1.0   99.0  21.0\n",
       "4  1.0  100.0  58.0"
      ]
     },
     "execution_count": 119,
     "metadata": {},
     "output_type": "execute_result"
    }
   ],
   "source": [
    "pd.DataFrame(y2.new).head()"
   ]
  }
 ],
 "metadata": {
  "kernelspec": {
   "display_name": "survstan3",
   "language": "python",
   "name": "survstan3"
  },
  "language_info": {
   "codemirror_mode": {
    "name": "ipython",
    "version": 3
   },
   "file_extension": ".py",
   "mimetype": "text/x-python",
   "name": "python",
   "nbconvert_exporter": "python",
   "pygments_lexer": "ipython3",
   "version": "3.5.2"
  },
  "toc": {
   "nav_menu": {
    "height": "12px",
    "width": "252px"
   },
   "navigate_menu": true,
   "number_sections": true,
   "sideBar": true,
   "threshold": 4,
   "toc_cell": false,
   "toc_position": {
    "height": "1134px",
    "left": "0px",
    "right": "1644px",
    "top": "106px",
    "width": "372px"
   },
   "toc_section_display": "block",
   "toc_window_display": true
  }
 },
 "nbformat": 4,
 "nbformat_minor": 1
}

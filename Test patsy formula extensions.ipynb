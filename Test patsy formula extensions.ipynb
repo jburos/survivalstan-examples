{
 "cells": [
  {
   "cell_type": "code",
   "execution_count": 1,
   "metadata": {
    "ExecuteTime": {
     "end_time": "2017-01-15T19:36:39.294907",
     "start_time": "2017-01-15T19:36:37.802894"
    },
    "collapsed": false
   },
   "outputs": [
    {
     "name": "stdout",
     "output_type": "stream",
     "text": [
      "The autoreload extension is already loaded. To reload it, use:\n",
      "  %reload_ext autoreload\n"
     ]
    },
    {
     "name": "stderr",
     "output_type": "stream",
     "text": [
      "INFO:stancache.seed:Setting seed to 1245502385\n"
     ]
    }
   ],
   "source": [
    "%load_ext autoreload\n",
    "%autoreload 2\n",
    "%matplotlib inline\n",
    "#from jointmodel import sim\n",
    "import pandas as pd\n",
    "import patsy\n",
    "import sys\n",
    "import pystan\n",
    "import random\n",
    "random.seed(1234)\n",
    "import survivalstan\n",
    "from stancache import stancache\n",
    "from stancache import config"
   ]
  },
  {
   "cell_type": "code",
   "execution_count": 2,
   "metadata": {
    "ExecuteTime": {
     "end_time": "2017-01-15T19:36:39.505471",
     "start_time": "2017-01-15T19:36:39.297828"
    },
    "collapsed": true
   },
   "outputs": [],
   "source": [
    "data = survivalstan.sim.sim_data_jointmodel(N=100)"
   ]
  },
  {
   "cell_type": "code",
   "execution_count": 3,
   "metadata": {
    "ExecuteTime": {
     "end_time": "2017-01-15T19:36:39.532117",
     "start_time": "2017-01-15T19:36:39.508057"
    },
    "collapsed": false
   },
   "outputs": [
    {
     "data": {
      "text/plain": [
       "dict_keys(['biomarker', 'events', 'params', 'covars'])"
      ]
     },
     "execution_count": 3,
     "metadata": {},
     "output_type": "execute_result"
    }
   ],
   "source": [
    "data.keys()"
   ]
  },
  {
   "cell_type": "code",
   "execution_count": 4,
   "metadata": {
    "ExecuteTime": {
     "end_time": "2017-01-15T19:36:39.562452",
     "start_time": "2017-01-15T19:36:39.534291"
    },
    "collapsed": false
   },
   "outputs": [
    {
     "data": {
      "text/html": [
       "<div>\n",
       "<table border=\"1\" class=\"dataframe\">\n",
       "  <thead>\n",
       "    <tr style=\"text-align: right;\">\n",
       "      <th></th>\n",
       "      <th>subject_id</th>\n",
       "      <th>time</th>\n",
       "      <th>event_value</th>\n",
       "      <th>event_name</th>\n",
       "    </tr>\n",
       "  </thead>\n",
       "  <tbody>\n",
       "    <tr>\n",
       "      <th>0</th>\n",
       "      <td>0</td>\n",
       "      <td>5.500000</td>\n",
       "      <td>0</td>\n",
       "      <td>death</td>\n",
       "    </tr>\n",
       "    <tr>\n",
       "      <th>1</th>\n",
       "      <td>1</td>\n",
       "      <td>0.240680</td>\n",
       "      <td>1</td>\n",
       "      <td>death</td>\n",
       "    </tr>\n",
       "    <tr>\n",
       "      <th>2</th>\n",
       "      <td>2</td>\n",
       "      <td>5.500000</td>\n",
       "      <td>0</td>\n",
       "      <td>death</td>\n",
       "    </tr>\n",
       "    <tr>\n",
       "      <th>3</th>\n",
       "      <td>3</td>\n",
       "      <td>0.515687</td>\n",
       "      <td>1</td>\n",
       "      <td>death</td>\n",
       "    </tr>\n",
       "    <tr>\n",
       "      <th>4</th>\n",
       "      <td>4</td>\n",
       "      <td>5.500000</td>\n",
       "      <td>0</td>\n",
       "      <td>death</td>\n",
       "    </tr>\n",
       "  </tbody>\n",
       "</table>\n",
       "</div>"
      ],
      "text/plain": [
       "   subject_id      time  event_value event_name\n",
       "0           0  5.500000            0      death\n",
       "1           1  0.240680            1      death\n",
       "2           2  5.500000            0      death\n",
       "3           3  0.515687            1      death\n",
       "4           4  5.500000            0      death"
      ]
     },
     "execution_count": 4,
     "metadata": {},
     "output_type": "execute_result"
    }
   ],
   "source": [
    "data['events'].head()"
   ]
  },
  {
   "cell_type": "code",
   "execution_count": 5,
   "metadata": {
    "ExecuteTime": {
     "end_time": "2017-01-15T19:36:39.591989",
     "start_time": "2017-01-15T19:36:39.564860"
    },
    "collapsed": false
   },
   "outputs": [
    {
     "data": {
      "text/html": [
       "<div>\n",
       "<table border=\"1\" class=\"dataframe\">\n",
       "  <thead>\n",
       "    <tr style=\"text-align: right;\">\n",
       "      <th></th>\n",
       "      <th>subject_id</th>\n",
       "      <th>X1</th>\n",
       "      <th>X2</th>\n",
       "    </tr>\n",
       "  </thead>\n",
       "  <tbody>\n",
       "    <tr>\n",
       "      <th>0</th>\n",
       "      <td>0</td>\n",
       "      <td>1</td>\n",
       "      <td>0</td>\n",
       "    </tr>\n",
       "    <tr>\n",
       "      <th>1</th>\n",
       "      <td>1</td>\n",
       "      <td>1</td>\n",
       "      <td>0</td>\n",
       "    </tr>\n",
       "    <tr>\n",
       "      <th>2</th>\n",
       "      <td>2</td>\n",
       "      <td>1</td>\n",
       "      <td>0</td>\n",
       "    </tr>\n",
       "    <tr>\n",
       "      <th>3</th>\n",
       "      <td>3</td>\n",
       "      <td>1</td>\n",
       "      <td>1</td>\n",
       "    </tr>\n",
       "    <tr>\n",
       "      <th>4</th>\n",
       "      <td>4</td>\n",
       "      <td>1</td>\n",
       "      <td>0</td>\n",
       "    </tr>\n",
       "  </tbody>\n",
       "</table>\n",
       "</div>"
      ],
      "text/plain": [
       "   subject_id  X1  X2\n",
       "0           0   1   0\n",
       "1           1   1   0\n",
       "2           2   1   0\n",
       "3           3   1   1\n",
       "4           4   1   0"
      ]
     },
     "execution_count": 5,
     "metadata": {},
     "output_type": "execute_result"
    }
   ],
   "source": [
    "data['covars'].head()"
   ]
  },
  {
   "cell_type": "code",
   "execution_count": 6,
   "metadata": {
    "ExecuteTime": {
     "end_time": "2017-01-15T19:36:39.630453",
     "start_time": "2017-01-15T19:36:39.594293"
    },
    "collapsed": false
   },
   "outputs": [
    {
     "data": {
      "text/html": [
       "<div>\n",
       "<table border=\"1\" class=\"dataframe\">\n",
       "  <thead>\n",
       "    <tr style=\"text-align: right;\">\n",
       "      <th></th>\n",
       "      <th>subject_id</th>\n",
       "      <th>time</th>\n",
       "      <th>event_value</th>\n",
       "      <th>event_name</th>\n",
       "      <th>X1</th>\n",
       "      <th>X2</th>\n",
       "    </tr>\n",
       "  </thead>\n",
       "  <tbody>\n",
       "    <tr>\n",
       "      <th>0</th>\n",
       "      <td>0</td>\n",
       "      <td>5.500000</td>\n",
       "      <td>0</td>\n",
       "      <td>death</td>\n",
       "      <td>1</td>\n",
       "      <td>0</td>\n",
       "    </tr>\n",
       "    <tr>\n",
       "      <th>1</th>\n",
       "      <td>1</td>\n",
       "      <td>0.240680</td>\n",
       "      <td>1</td>\n",
       "      <td>death</td>\n",
       "      <td>1</td>\n",
       "      <td>0</td>\n",
       "    </tr>\n",
       "    <tr>\n",
       "      <th>2</th>\n",
       "      <td>2</td>\n",
       "      <td>5.500000</td>\n",
       "      <td>0</td>\n",
       "      <td>death</td>\n",
       "      <td>1</td>\n",
       "      <td>0</td>\n",
       "    </tr>\n",
       "    <tr>\n",
       "      <th>3</th>\n",
       "      <td>3</td>\n",
       "      <td>0.515687</td>\n",
       "      <td>1</td>\n",
       "      <td>death</td>\n",
       "      <td>1</td>\n",
       "      <td>1</td>\n",
       "    </tr>\n",
       "    <tr>\n",
       "      <th>4</th>\n",
       "      <td>4</td>\n",
       "      <td>5.500000</td>\n",
       "      <td>0</td>\n",
       "      <td>death</td>\n",
       "      <td>1</td>\n",
       "      <td>0</td>\n",
       "    </tr>\n",
       "  </tbody>\n",
       "</table>\n",
       "</div>"
      ],
      "text/plain": [
       "   subject_id      time  event_value event_name  X1  X2\n",
       "0           0  5.500000            0      death   1   0\n",
       "1           1  0.240680            1      death   1   0\n",
       "2           2  5.500000            0      death   1   0\n",
       "3           3  0.515687            1      death   1   1\n",
       "4           4  5.500000            0      death   1   0"
      ]
     },
     "execution_count": 6,
     "metadata": {},
     "output_type": "execute_result"
    }
   ],
   "source": [
    "df = pd.merge(data['events'].query('event_name == \"death\"'), data['covars'], on='subject_id')\n",
    "df.head()"
   ]
  },
  {
   "cell_type": "code",
   "execution_count": 7,
   "metadata": {
    "ExecuteTime": {
     "end_time": "2017-01-15T19:36:39.657881",
     "start_time": "2017-01-15T19:36:39.632866"
    },
    "collapsed": false
   },
   "outputs": [],
   "source": [
    "formula = '(time + event_value) ~ 0 + X1'\n",
    "y, X = patsy.dmatrices(formula_like=formula, data=df)"
   ]
  },
  {
   "cell_type": "code",
   "execution_count": 8,
   "metadata": {
    "ExecuteTime": {
     "end_time": "2017-01-15T19:36:39.681250",
     "start_time": "2017-01-15T19:36:39.661281"
    },
    "collapsed": false
   },
   "outputs": [],
   "source": [
    "md = patsy.ModelDesc.from_formula(formula)"
   ]
  },
  {
   "cell_type": "code",
   "execution_count": 9,
   "metadata": {
    "ExecuteTime": {
     "end_time": "2017-01-15T19:36:39.706292",
     "start_time": "2017-01-15T19:36:39.683395"
    },
    "collapsed": false
   },
   "outputs": [
    {
     "data": {
      "text/plain": [
       "[Term([EvalFactor('time')]), Term([EvalFactor('event_value')])]"
      ]
     },
     "execution_count": 9,
     "metadata": {},
     "output_type": "execute_result"
    }
   ],
   "source": [
    "md.lhs_termlist"
   ]
  },
  {
   "cell_type": "code",
   "execution_count": 10,
   "metadata": {
    "ExecuteTime": {
     "end_time": "2017-01-15T19:36:39.730858",
     "start_time": "2017-01-15T19:36:39.709208"
    },
    "collapsed": false
   },
   "outputs": [
    {
     "data": {
      "text/plain": [
       "2"
      ]
     },
     "execution_count": 10,
     "metadata": {},
     "output_type": "execute_result"
    }
   ],
   "source": [
    "len(md.lhs_termlist)"
   ]
  },
  {
   "cell_type": "code",
   "execution_count": 11,
   "metadata": {
    "ExecuteTime": {
     "end_time": "2017-01-15T19:36:39.784614",
     "start_time": "2017-01-15T19:36:39.733225"
    },
    "collapsed": false
   },
   "outputs": [
    {
     "name": "stdout",
     "output_type": "stream",
     "text": [
      "[1, 2, 1, 3]\n"
     ]
    }
   ],
   "source": [
    "import numpy as np\n",
    "class Id(object):\n",
    "    def __init__(self):\n",
    "        self.values = []\n",
    "        pass\n",
    "    \n",
    "    def memorize_chunk(self, x):\n",
    "        self.values.extend(np.unique(x))\n",
    "    \n",
    "    def memorize_finish(self):\n",
    "        self.values = np.unique(self.values)\n",
    "        self.ids = np.arange(len(self.values))+1\n",
    "        self.lookup = dict(zip(self.values, self.ids))\n",
    "    \n",
    "    def transform(self, x):\n",
    "        return [self.lookup[val] for val in x]\n",
    "\n",
    "class SubjectId(Id):\n",
    "    def __init__(self):\n",
    "        self.values = []\n",
    "        self._type = 'subject'\n",
    "\n",
    "class TimepointId(Id):\n",
    "    def __init__(self):\n",
    "        self.values = []\n",
    "        self._type = 'timepoint'\n",
    "\n",
    "class GroupId(Id):\n",
    "    def __init__(self):\n",
    "        self.values = []\n",
    "        self._type = 'group'\n",
    "\n",
    "as_id = patsy.stateful_transform(Id)\n",
    "#subject = patsy.stateful_transform(SubjectId)\n",
    "#group = patsy.stateful_transform(GroupId)\n",
    "#timepoint_end = patsy.stateful_transform(TimepointId)\n",
    "#timepoint_id = patsy.stateful_transform(TimepointId)\n",
    "print(as_id(np.array(['a','b','a','c'])))"
   ]
  },
  {
   "cell_type": "code",
   "execution_count": 12,
   "metadata": {
    "ExecuteTime": {
     "end_time": "2017-01-15T19:36:39.819132",
     "start_time": "2017-01-15T19:36:39.787425"
    },
    "collapsed": false
   },
   "outputs": [
    {
     "data": {
      "text/html": [
       "<div>\n",
       "<table border=\"1\" class=\"dataframe\">\n",
       "  <thead>\n",
       "    <tr style=\"text-align: right;\">\n",
       "      <th></th>\n",
       "      <th>subject_id</th>\n",
       "      <th>time</th>\n",
       "      <th>event_value</th>\n",
       "      <th>event_name</th>\n",
       "      <th>X1</th>\n",
       "      <th>X2</th>\n",
       "    </tr>\n",
       "  </thead>\n",
       "  <tbody>\n",
       "    <tr>\n",
       "      <th>0</th>\n",
       "      <td>0</td>\n",
       "      <td>5.500000</td>\n",
       "      <td>0</td>\n",
       "      <td>death</td>\n",
       "      <td>1</td>\n",
       "      <td>0</td>\n",
       "    </tr>\n",
       "    <tr>\n",
       "      <th>1</th>\n",
       "      <td>1</td>\n",
       "      <td>0.240680</td>\n",
       "      <td>1</td>\n",
       "      <td>death</td>\n",
       "      <td>1</td>\n",
       "      <td>0</td>\n",
       "    </tr>\n",
       "    <tr>\n",
       "      <th>2</th>\n",
       "      <td>2</td>\n",
       "      <td>5.500000</td>\n",
       "      <td>0</td>\n",
       "      <td>death</td>\n",
       "      <td>1</td>\n",
       "      <td>0</td>\n",
       "    </tr>\n",
       "    <tr>\n",
       "      <th>3</th>\n",
       "      <td>3</td>\n",
       "      <td>0.515687</td>\n",
       "      <td>1</td>\n",
       "      <td>death</td>\n",
       "      <td>1</td>\n",
       "      <td>1</td>\n",
       "    </tr>\n",
       "    <tr>\n",
       "      <th>4</th>\n",
       "      <td>4</td>\n",
       "      <td>5.500000</td>\n",
       "      <td>0</td>\n",
       "      <td>death</td>\n",
       "      <td>1</td>\n",
       "      <td>0</td>\n",
       "    </tr>\n",
       "  </tbody>\n",
       "</table>\n",
       "</div>"
      ],
      "text/plain": [
       "   subject_id      time  event_value event_name  X1  X2\n",
       "0           0  5.500000            0      death   1   0\n",
       "1           1  0.240680            1      death   1   0\n",
       "2           2  5.500000            0      death   1   0\n",
       "3           3  0.515687            1      death   1   1\n",
       "4           4  5.500000            0      death   1   0"
      ]
     },
     "execution_count": 12,
     "metadata": {},
     "output_type": "execute_result"
    }
   ],
   "source": [
    "df.head()"
   ]
  },
  {
   "cell_type": "code",
   "execution_count": 13,
   "metadata": {
    "ExecuteTime": {
     "end_time": "2017-01-15T19:36:39.841753",
     "start_time": "2017-01-15T19:36:39.821576"
    },
    "collapsed": false
   },
   "outputs": [],
   "source": [
    "test_formula = 'event_value + as_id(time) + as_id(subject_id) ~ X1 + X2'"
   ]
  },
  {
   "cell_type": "code",
   "execution_count": 14,
   "metadata": {
    "ExecuteTime": {
     "end_time": "2017-01-15T19:36:39.875059",
     "start_time": "2017-01-15T19:36:39.844237"
    },
    "collapsed": false
   },
   "outputs": [],
   "source": [
    "y, X = patsy.dmatrices(formula_like=test_formula, data=df)"
   ]
  },
  {
   "cell_type": "code",
   "execution_count": 15,
   "metadata": {
    "ExecuteTime": {
     "end_time": "2017-01-15T19:36:39.904499",
     "start_time": "2017-01-15T19:36:39.877294"
    },
    "collapsed": false
   },
   "outputs": [
    {
     "data": {
      "text/html": [
       "<div>\n",
       "<table border=\"1\" class=\"dataframe\">\n",
       "  <thead>\n",
       "    <tr style=\"text-align: right;\">\n",
       "      <th></th>\n",
       "      <th>0</th>\n",
       "      <th>1</th>\n",
       "      <th>2</th>\n",
       "    </tr>\n",
       "  </thead>\n",
       "  <tbody>\n",
       "    <tr>\n",
       "      <th>0</th>\n",
       "      <td>0.0</td>\n",
       "      <td>73.0</td>\n",
       "      <td>1.0</td>\n",
       "    </tr>\n",
       "    <tr>\n",
       "      <th>1</th>\n",
       "      <td>1.0</td>\n",
       "      <td>35.0</td>\n",
       "      <td>2.0</td>\n",
       "    </tr>\n",
       "    <tr>\n",
       "      <th>2</th>\n",
       "      <td>0.0</td>\n",
       "      <td>73.0</td>\n",
       "      <td>3.0</td>\n",
       "    </tr>\n",
       "    <tr>\n",
       "      <th>3</th>\n",
       "      <td>1.0</td>\n",
       "      <td>47.0</td>\n",
       "      <td>4.0</td>\n",
       "    </tr>\n",
       "    <tr>\n",
       "      <th>4</th>\n",
       "      <td>0.0</td>\n",
       "      <td>73.0</td>\n",
       "      <td>5.0</td>\n",
       "    </tr>\n",
       "  </tbody>\n",
       "</table>\n",
       "</div>"
      ],
      "text/plain": [
       "     0     1    2\n",
       "0  0.0  73.0  1.0\n",
       "1  1.0  35.0  2.0\n",
       "2  0.0  73.0  3.0\n",
       "3  1.0  47.0  4.0\n",
       "4  0.0  73.0  5.0"
      ]
     },
     "execution_count": 15,
     "metadata": {},
     "output_type": "execute_result"
    }
   ],
   "source": [
    "pd.DataFrame(y).head()"
   ]
  },
  {
   "cell_type": "code",
   "execution_count": 16,
   "metadata": {
    "ExecuteTime": {
     "end_time": "2017-01-15T19:36:39.936560",
     "start_time": "2017-01-15T19:36:39.907066"
    },
    "collapsed": false
   },
   "outputs": [],
   "source": [
    "class Surv(object):\n",
    "    def __init__(self):\n",
    "        self._tmp = {}\n",
    "        self._long_format = False\n",
    "\n",
    "    def memorize_chunk(self, time, event_status):\n",
    "        # Updates internal state, this is called one or more times\n",
    "        pass\n",
    "\n",
    "    def memorize_finish(self):\n",
    "        # this is called once after memorize chunk as called as many times \n",
    "        # as needed, for example, after reading in chunks of data incrementally        \n",
    "        pass\n",
    "\n",
    "    def transform(self, time, event_status):\n",
    "        # this is called one or more times on old and new data\n",
    "        # args are the same as memorize_chunk\n",
    "        if patsy.util.have_pandas:\n",
    "            if isinstance(time, (pd.Series, pd.DataFrame)) and isinstance(event_status, (pd.Series, pd.DataFrame)):\n",
    "                dm = pd.DataFrame({'time': time, 'event_status': event_status})\n",
    "                dm.index = time.index\n",
    "        else: \n",
    "            dm = np.append(time, event_status, 1)\n",
    "        return dm\n",
    "\n",
    "surv1 = patsy.stateful_transform(Surv)"
   ]
  },
  {
   "cell_type": "code",
   "execution_count": 93,
   "metadata": {
    "ExecuteTime": {
     "end_time": "2017-01-16T17:10:03.517112",
     "start_time": "2017-01-16T17:10:03.454277"
    },
    "collapsed": false
   },
   "outputs": [],
   "source": [
    "class SurvDataP(pd.DataFrame):\n",
    "    def __init__(self, *args, **kwargs):\n",
    "        super(SurvDataP, self).__init__(*args, **kwargs)\n",
    "\n",
    "class LongSurvDataP(SurvDataP):\n",
    "    ''' pd.DataFrame representing survival data with endpoint_time_id, event_status & subject_id '''\n",
    "\n",
    "def _confirm_id(x):\n",
    "    ''' an \"ID\" variable suitable for use in Stan satisfies following conditions:\n",
    "            - can be coerced to an integer\n",
    "            - sequentially numbered from 1..X\n",
    "            - inherits from (or can be coerced to inherit from) Id class\n",
    "\n",
    "        This function checks the above criteria\n",
    "            & returns the coerced object if they are met\n",
    "            \n",
    "        If criteria are not met this will throw an error.\n",
    "    '''\n",
    "    if isinstance(x, Id):\n",
    "        print('x is of type Id')\n",
    "        return(x)\n",
    "    else:\n",
    "        print('x is not of type Id')\n",
    "        return as_id(x)\n",
    "\n",
    "def _prep_wide_surv(time, event_status, use_pandas):\n",
    "    if use_pandas:\n",
    "        dm = SurvDataP({'time': time, 'event_status': event_status})\n",
    "        dm.index = time.index\n",
    "    else:\n",
    "        dm = np.append(time, event_status, 1)\n",
    "    return(dm)\n",
    "    \n",
    "def _prep_long_surv(time, event_status, subject, use_pandas):\n",
    "    timepoint_id = _confirm_id(time)\n",
    "    subject_id = _confirm_id(subject)\n",
    "    if use_pandas:\n",
    "        dm = LongSurvDataP({'timepoint_id': timepoint_id,\n",
    "                            'event_status': event_status,\n",
    "                            'subject_id': subject_id\n",
    "                           })\n",
    "    else:\n",
    "        dm = np.append(timepoint_id, event_status, subject_id, 1)\n",
    "    return dm\n",
    "    \n",
    "def surv(time, event_status, group=None, subject=None, use_pandas=None, long_format=None):\n",
    "    ''' Prep outcome data for survival modeling '''\n",
    "    ## infer scenario settings from combinations of inputs\n",
    "    if use_pandas is None:\n",
    "        use_pandas = False\n",
    "        # determine whether to use pandas dataframe\n",
    "        # depending on (1) if pandas is installed, and (2) input object types\n",
    "        if patsy.util.have_pandas:\n",
    "            if isinstance(time, (pd.Series, pd.DataFrame)) and isinstance(event_status, (pd.Series, pd.DataFrame)):\n",
    "                use_pandas = True\n",
    "    if long_format is None:\n",
    "        long_format = False\n",
    "        # determine if data are long or wide format\n",
    "        if subject is not None:\n",
    "            long_format = True\n",
    "    ## prep data depending on inferred settings\n",
    "    if long_format:\n",
    "        dm = _prep_long_surv(time=time, event_status=event_status, subject=subject, use_pandas=use_pandas)\n",
    "    else:\n",
    "        dm = _prep_wide_surv(time=time, event_status=event_status, use_pandas=use_pandas)\n",
    "    return dm\n",
    "        "
   ]
  },
  {
   "cell_type": "code",
   "execution_count": 94,
   "metadata": {
    "ExecuteTime": {
     "end_time": "2017-01-16T17:10:04.055760",
     "start_time": "2017-01-16T17:10:04.033536"
    },
    "collapsed": false
   },
   "outputs": [
    {
     "data": {
      "text/html": [
       "<div>\n",
       "<table border=\"1\" class=\"dataframe\">\n",
       "  <thead>\n",
       "    <tr style=\"text-align: right;\">\n",
       "      <th></th>\n",
       "      <th>event_status</th>\n",
       "      <th>time</th>\n",
       "    </tr>\n",
       "  </thead>\n",
       "  <tbody>\n",
       "    <tr>\n",
       "      <th>0</th>\n",
       "      <td>0</td>\n",
       "      <td>5.500000</td>\n",
       "    </tr>\n",
       "    <tr>\n",
       "      <th>1</th>\n",
       "      <td>1</td>\n",
       "      <td>0.240680</td>\n",
       "    </tr>\n",
       "    <tr>\n",
       "      <th>2</th>\n",
       "      <td>0</td>\n",
       "      <td>5.500000</td>\n",
       "    </tr>\n",
       "    <tr>\n",
       "      <th>3</th>\n",
       "      <td>1</td>\n",
       "      <td>0.515687</td>\n",
       "    </tr>\n",
       "    <tr>\n",
       "      <th>4</th>\n",
       "      <td>0</td>\n",
       "      <td>5.500000</td>\n",
       "    </tr>\n",
       "  </tbody>\n",
       "</table>\n",
       "</div>"
      ],
      "text/plain": [
       "   event_status      time\n",
       "0             0  5.500000\n",
       "1             1  0.240680\n",
       "2             0  5.500000\n",
       "3             1  0.515687\n",
       "4             0  5.500000"
      ]
     },
     "execution_count": 94,
     "metadata": {},
     "output_type": "execute_result"
    }
   ],
   "source": [
    "surv(df['time'], df['event_value']).head()"
   ]
  },
  {
   "cell_type": "code",
   "execution_count": 95,
   "metadata": {
    "ExecuteTime": {
     "end_time": "2017-01-16T17:10:04.500621",
     "start_time": "2017-01-16T17:10:04.478797"
    },
    "collapsed": false
   },
   "outputs": [],
   "source": [
    "y, X = patsy.dmatrices('surv(time=time, event_status=event_value) ~ X1', data=df)"
   ]
  },
  {
   "cell_type": "code",
   "execution_count": 96,
   "metadata": {
    "ExecuteTime": {
     "end_time": "2017-01-16T17:10:04.929773",
     "start_time": "2017-01-16T17:10:04.907507"
    },
    "collapsed": false
   },
   "outputs": [
    {
     "data": {
      "text/html": [
       "<div>\n",
       "<table border=\"1\" class=\"dataframe\">\n",
       "  <thead>\n",
       "    <tr style=\"text-align: right;\">\n",
       "      <th></th>\n",
       "      <th>0</th>\n",
       "      <th>1</th>\n",
       "    </tr>\n",
       "  </thead>\n",
       "  <tbody>\n",
       "    <tr>\n",
       "      <th>0</th>\n",
       "      <td>0.0</td>\n",
       "      <td>5.500000</td>\n",
       "    </tr>\n",
       "    <tr>\n",
       "      <th>1</th>\n",
       "      <td>1.0</td>\n",
       "      <td>0.240680</td>\n",
       "    </tr>\n",
       "    <tr>\n",
       "      <th>2</th>\n",
       "      <td>0.0</td>\n",
       "      <td>5.500000</td>\n",
       "    </tr>\n",
       "    <tr>\n",
       "      <th>3</th>\n",
       "      <td>1.0</td>\n",
       "      <td>0.515687</td>\n",
       "    </tr>\n",
       "    <tr>\n",
       "      <th>4</th>\n",
       "      <td>0.0</td>\n",
       "      <td>5.500000</td>\n",
       "    </tr>\n",
       "  </tbody>\n",
       "</table>\n",
       "</div>"
      ],
      "text/plain": [
       "     0         1\n",
       "0  0.0  5.500000\n",
       "1  1.0  0.240680\n",
       "2  0.0  5.500000\n",
       "3  1.0  0.515687\n",
       "4  0.0  5.500000"
      ]
     },
     "execution_count": 96,
     "metadata": {},
     "output_type": "execute_result"
    }
   ],
   "source": [
    "pd.DataFrame(y).head()"
   ]
  },
  {
   "cell_type": "code",
   "execution_count": 97,
   "metadata": {
    "ExecuteTime": {
     "end_time": "2017-01-16T17:10:05.431364",
     "start_time": "2017-01-16T17:10:05.407860"
    },
    "collapsed": true
   },
   "outputs": [],
   "source": [
    "y, X = patsy.dmatrices('surv(event_status=event_value, time=time) ~ X1', data=df)"
   ]
  },
  {
   "cell_type": "code",
   "execution_count": 98,
   "metadata": {
    "ExecuteTime": {
     "end_time": "2017-01-16T17:10:06.059659",
     "start_time": "2017-01-16T17:10:06.036999"
    },
    "collapsed": false
   },
   "outputs": [
    {
     "data": {
      "text/html": [
       "<div>\n",
       "<table border=\"1\" class=\"dataframe\">\n",
       "  <thead>\n",
       "    <tr style=\"text-align: right;\">\n",
       "      <th></th>\n",
       "      <th>0</th>\n",
       "      <th>1</th>\n",
       "    </tr>\n",
       "  </thead>\n",
       "  <tbody>\n",
       "    <tr>\n",
       "      <th>0</th>\n",
       "      <td>0.0</td>\n",
       "      <td>5.500000</td>\n",
       "    </tr>\n",
       "    <tr>\n",
       "      <th>1</th>\n",
       "      <td>1.0</td>\n",
       "      <td>0.240680</td>\n",
       "    </tr>\n",
       "    <tr>\n",
       "      <th>2</th>\n",
       "      <td>0.0</td>\n",
       "      <td>5.500000</td>\n",
       "    </tr>\n",
       "    <tr>\n",
       "      <th>3</th>\n",
       "      <td>1.0</td>\n",
       "      <td>0.515687</td>\n",
       "    </tr>\n",
       "    <tr>\n",
       "      <th>4</th>\n",
       "      <td>0.0</td>\n",
       "      <td>5.500000</td>\n",
       "    </tr>\n",
       "  </tbody>\n",
       "</table>\n",
       "</div>"
      ],
      "text/plain": [
       "     0         1\n",
       "0  0.0  5.500000\n",
       "1  1.0  0.240680\n",
       "2  0.0  5.500000\n",
       "3  1.0  0.515687\n",
       "4  0.0  5.500000"
      ]
     },
     "execution_count": 98,
     "metadata": {},
     "output_type": "execute_result"
    }
   ],
   "source": [
    "pd.DataFrame(y).head()"
   ]
  },
  {
   "cell_type": "code",
   "execution_count": 99,
   "metadata": {
    "ExecuteTime": {
     "end_time": "2017-01-16T17:10:06.698965",
     "start_time": "2017-01-16T17:10:06.673526"
    },
    "collapsed": false
   },
   "outputs": [
    {
     "name": "stdout",
     "output_type": "stream",
     "text": [
      "x is not of type Id\n",
      "x is not of type Id\n",
      "x is not of type Id\n",
      "x is not of type Id\n"
     ]
    }
   ],
   "source": [
    "y, X = patsy.dmatrices('surv(event_status=event_value, time=time, subject=as_id(subject_id)) ~ X1', data=df)"
   ]
  },
  {
   "cell_type": "code",
   "execution_count": 85,
   "metadata": {
    "ExecuteTime": {
     "end_time": "2017-01-16T17:08:55.729478",
     "start_time": "2017-01-16T17:08:55.711393"
    },
    "collapsed": false
   },
   "outputs": [
    {
     "data": {
      "text/plain": [
       "False"
      ]
     },
     "execution_count": 85,
     "metadata": {},
     "output_type": "execute_result"
    }
   ],
   "source": [
    "isinstance(y, LongSurvDataP)"
   ]
  },
  {
   "cell_type": "code",
   "execution_count": 77,
   "metadata": {
    "ExecuteTime": {
     "end_time": "2017-01-16T17:07:26.712987",
     "start_time": "2017-01-16T17:07:26.693913"
    },
    "collapsed": false
   },
   "outputs": [
    {
     "data": {
      "text/plain": [
       "DesignInfo(['surv(event_status=event_value, time=time, subject=as_id(subject_id))[0]',\n",
       "            'surv(event_status=event_value, time=time, subject=as_id(subject_id))[1]',\n",
       "            'surv(event_status=event_value, time=time, subject=as_id(subject_id))[2]'],\n",
       "           factor_infos={EvalFactor('surv(event_status=event_value, time=time, subject=as_id(subject_id))'): FactorInfo(factor=EvalFactor('surv(event_status=event_value, time=time, subject=as_id(subject_id))'),\n",
       "                                    type='numerical',\n",
       "                                    state=<factor state>,\n",
       "                                    num_columns=3)},\n",
       "           term_codings=OrderedDict([(Term([EvalFactor('surv(event_status=event_value, time=time, subject=as_id(subject_id))')]),\n",
       "                                      [SubtermInfo(factors=(EvalFactor('surv(event_status=event_value, time=time, subject=as_id(subject_id))'),),\n",
       "                                                   contrast_matrices={},\n",
       "                                                   num_columns=3)])]))"
      ]
     },
     "execution_count": 77,
     "metadata": {},
     "output_type": "execute_result"
    }
   ],
   "source": [
    "y.design_info"
   ]
  },
  {
   "cell_type": "code",
   "execution_count": null,
   "metadata": {
    "collapsed": true
   },
   "outputs": [],
   "source": []
  }
 ],
 "metadata": {
  "kernelspec": {
   "display_name": "survstan3",
   "language": "python",
   "name": "survstan3"
  },
  "language_info": {
   "codemirror_mode": {
    "name": "ipython",
    "version": 3
   },
   "file_extension": ".py",
   "mimetype": "text/x-python",
   "name": "python",
   "nbconvert_exporter": "python",
   "pygments_lexer": "ipython3",
   "version": "3.5.2"
  },
  "toc": {
   "nav_menu": {
    "height": "12px",
    "width": "252px"
   },
   "navigate_menu": true,
   "number_sections": true,
   "sideBar": true,
   "threshold": 4,
   "toc_cell": false,
   "toc_section_display": "block",
   "toc_window_display": false
  }
 },
 "nbformat": 4,
 "nbformat_minor": 1
}

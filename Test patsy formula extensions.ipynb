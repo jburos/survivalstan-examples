{
 "cells": [
  {
   "cell_type": "code",
   "execution_count": 2,
   "metadata": {
    "ExecuteTime": {
     "end_time": "2017-01-17T00:14:25.018417",
     "start_time": "2017-01-17T00:14:23.857670"
    },
    "collapsed": false
   },
   "outputs": [
    {
     "name": "stdout",
     "output_type": "stream",
     "text": [
      "The autoreload extension is already loaded. To reload it, use:\n",
      "  %reload_ext autoreload\n"
     ]
    },
    {
     "name": "stderr",
     "output_type": "stream",
     "text": [
      "INFO:stancache.seed:Setting seed to 1245502385\n"
     ]
    }
   ],
   "source": [
    "%load_ext autoreload\n",
    "%autoreload 2\n",
    "%matplotlib inline\n",
    "#from jointmodel import sim\n",
    "import pandas as pd\n",
    "import patsy\n",
    "import sys\n",
    "import pystan\n",
    "import random\n",
    "random.seed(1234)\n",
    "import survivalstan\n",
    "from stancache import stancache\n",
    "from stancache import config"
   ]
  },
  {
   "cell_type": "markdown",
   "metadata": {},
   "source": [
    "## prepare data"
   ]
  },
  {
   "cell_type": "code",
   "execution_count": 3,
   "metadata": {
    "ExecuteTime": {
     "end_time": "2017-01-17T00:14:25.167459",
     "start_time": "2017-01-17T00:14:25.020564"
    },
    "collapsed": true
   },
   "outputs": [],
   "source": [
    "data = survivalstan.sim.sim_data_jointmodel(N=100)"
   ]
  },
  {
   "cell_type": "code",
   "execution_count": 4,
   "metadata": {
    "ExecuteTime": {
     "end_time": "2017-01-17T00:14:25.187862",
     "start_time": "2017-01-17T00:14:25.169403"
    },
    "collapsed": false
   },
   "outputs": [
    {
     "data": {
      "text/plain": [
       "dict_keys(['biomarker', 'events', 'covars', 'params'])"
      ]
     },
     "execution_count": 4,
     "metadata": {},
     "output_type": "execute_result"
    }
   ],
   "source": [
    "data.keys()"
   ]
  },
  {
   "cell_type": "code",
   "execution_count": 5,
   "metadata": {
    "ExecuteTime": {
     "end_time": "2017-01-17T00:14:25.216298",
     "start_time": "2017-01-17T00:14:25.189642"
    },
    "collapsed": false
   },
   "outputs": [
    {
     "data": {
      "text/html": [
       "<div>\n",
       "<table border=\"1\" class=\"dataframe\">\n",
       "  <thead>\n",
       "    <tr style=\"text-align: right;\">\n",
       "      <th></th>\n",
       "      <th>subject_id</th>\n",
       "      <th>time</th>\n",
       "      <th>event_value</th>\n",
       "      <th>event_name</th>\n",
       "    </tr>\n",
       "  </thead>\n",
       "  <tbody>\n",
       "    <tr>\n",
       "      <th>0</th>\n",
       "      <td>0</td>\n",
       "      <td>5.500000</td>\n",
       "      <td>0</td>\n",
       "      <td>death</td>\n",
       "    </tr>\n",
       "    <tr>\n",
       "      <th>1</th>\n",
       "      <td>1</td>\n",
       "      <td>3.642285</td>\n",
       "      <td>1</td>\n",
       "      <td>death</td>\n",
       "    </tr>\n",
       "    <tr>\n",
       "      <th>2</th>\n",
       "      <td>2</td>\n",
       "      <td>1.995644</td>\n",
       "      <td>1</td>\n",
       "      <td>death</td>\n",
       "    </tr>\n",
       "    <tr>\n",
       "      <th>3</th>\n",
       "      <td>3</td>\n",
       "      <td>0.018313</td>\n",
       "      <td>1</td>\n",
       "      <td>death</td>\n",
       "    </tr>\n",
       "    <tr>\n",
       "      <th>4</th>\n",
       "      <td>4</td>\n",
       "      <td>1.288220</td>\n",
       "      <td>1</td>\n",
       "      <td>death</td>\n",
       "    </tr>\n",
       "  </tbody>\n",
       "</table>\n",
       "</div>"
      ],
      "text/plain": [
       "   subject_id      time  event_value event_name\n",
       "0           0  5.500000            0      death\n",
       "1           1  3.642285            1      death\n",
       "2           2  1.995644            1      death\n",
       "3           3  0.018313            1      death\n",
       "4           4  1.288220            1      death"
      ]
     },
     "execution_count": 5,
     "metadata": {},
     "output_type": "execute_result"
    }
   ],
   "source": [
    "data['events'].head()"
   ]
  },
  {
   "cell_type": "code",
   "execution_count": 6,
   "metadata": {
    "ExecuteTime": {
     "end_time": "2017-01-17T00:14:25.239345",
     "start_time": "2017-01-17T00:14:25.218021"
    },
    "collapsed": false
   },
   "outputs": [
    {
     "data": {
      "text/html": [
       "<div>\n",
       "<table border=\"1\" class=\"dataframe\">\n",
       "  <thead>\n",
       "    <tr style=\"text-align: right;\">\n",
       "      <th></th>\n",
       "      <th>subject_id</th>\n",
       "      <th>X1</th>\n",
       "      <th>X2</th>\n",
       "    </tr>\n",
       "  </thead>\n",
       "  <tbody>\n",
       "    <tr>\n",
       "      <th>0</th>\n",
       "      <td>0</td>\n",
       "      <td>0</td>\n",
       "      <td>1</td>\n",
       "    </tr>\n",
       "    <tr>\n",
       "      <th>1</th>\n",
       "      <td>1</td>\n",
       "      <td>0</td>\n",
       "      <td>1</td>\n",
       "    </tr>\n",
       "    <tr>\n",
       "      <th>2</th>\n",
       "      <td>2</td>\n",
       "      <td>1</td>\n",
       "      <td>1</td>\n",
       "    </tr>\n",
       "    <tr>\n",
       "      <th>3</th>\n",
       "      <td>3</td>\n",
       "      <td>0</td>\n",
       "      <td>1</td>\n",
       "    </tr>\n",
       "    <tr>\n",
       "      <th>4</th>\n",
       "      <td>4</td>\n",
       "      <td>1</td>\n",
       "      <td>1</td>\n",
       "    </tr>\n",
       "  </tbody>\n",
       "</table>\n",
       "</div>"
      ],
      "text/plain": [
       "   subject_id  X1  X2\n",
       "0           0   0   1\n",
       "1           1   0   1\n",
       "2           2   1   1\n",
       "3           3   0   1\n",
       "4           4   1   1"
      ]
     },
     "execution_count": 6,
     "metadata": {},
     "output_type": "execute_result"
    }
   ],
   "source": [
    "data['covars'].head()"
   ]
  },
  {
   "cell_type": "code",
   "execution_count": 7,
   "metadata": {
    "ExecuteTime": {
     "end_time": "2017-01-17T00:14:25.273674",
     "start_time": "2017-01-17T00:14:25.241137"
    },
    "collapsed": false
   },
   "outputs": [
    {
     "data": {
      "text/html": [
       "<div>\n",
       "<table border=\"1\" class=\"dataframe\">\n",
       "  <thead>\n",
       "    <tr style=\"text-align: right;\">\n",
       "      <th></th>\n",
       "      <th>subject_id</th>\n",
       "      <th>time</th>\n",
       "      <th>event_value</th>\n",
       "      <th>event_name</th>\n",
       "      <th>X1</th>\n",
       "      <th>X2</th>\n",
       "    </tr>\n",
       "  </thead>\n",
       "  <tbody>\n",
       "    <tr>\n",
       "      <th>0</th>\n",
       "      <td>0</td>\n",
       "      <td>5.500000</td>\n",
       "      <td>0</td>\n",
       "      <td>death</td>\n",
       "      <td>0</td>\n",
       "      <td>1</td>\n",
       "    </tr>\n",
       "    <tr>\n",
       "      <th>1</th>\n",
       "      <td>1</td>\n",
       "      <td>3.642285</td>\n",
       "      <td>1</td>\n",
       "      <td>death</td>\n",
       "      <td>0</td>\n",
       "      <td>1</td>\n",
       "    </tr>\n",
       "    <tr>\n",
       "      <th>2</th>\n",
       "      <td>2</td>\n",
       "      <td>1.995644</td>\n",
       "      <td>1</td>\n",
       "      <td>death</td>\n",
       "      <td>1</td>\n",
       "      <td>1</td>\n",
       "    </tr>\n",
       "    <tr>\n",
       "      <th>3</th>\n",
       "      <td>3</td>\n",
       "      <td>0.018313</td>\n",
       "      <td>1</td>\n",
       "      <td>death</td>\n",
       "      <td>0</td>\n",
       "      <td>1</td>\n",
       "    </tr>\n",
       "    <tr>\n",
       "      <th>4</th>\n",
       "      <td>4</td>\n",
       "      <td>1.288220</td>\n",
       "      <td>1</td>\n",
       "      <td>death</td>\n",
       "      <td>1</td>\n",
       "      <td>1</td>\n",
       "    </tr>\n",
       "  </tbody>\n",
       "</table>\n",
       "</div>"
      ],
      "text/plain": [
       "   subject_id      time  event_value event_name  X1  X2\n",
       "0           0  5.500000            0      death   0   1\n",
       "1           1  3.642285            1      death   0   1\n",
       "2           2  1.995644            1      death   1   1\n",
       "3           3  0.018313            1      death   0   1\n",
       "4           4  1.288220            1      death   1   1"
      ]
     },
     "execution_count": 7,
     "metadata": {},
     "output_type": "execute_result"
    }
   ],
   "source": [
    "df = pd.merge(data['events'].query('event_name == \"death\"'), data['covars'], on='subject_id')\n",
    "df.head()"
   ]
  },
  {
   "cell_type": "markdown",
   "metadata": {},
   "source": [
    "## standard patsy formula"
   ]
  },
  {
   "cell_type": "code",
   "execution_count": 8,
   "metadata": {
    "ExecuteTime": {
     "end_time": "2017-01-17T00:14:25.297921",
     "start_time": "2017-01-17T00:14:25.275532"
    },
    "collapsed": false
   },
   "outputs": [],
   "source": [
    "formula = '(time + event_value) ~ 0 + X1'\n",
    "y, X = patsy.dmatrices(formula_like=formula, data=df)"
   ]
  },
  {
   "cell_type": "code",
   "execution_count": 9,
   "metadata": {
    "ExecuteTime": {
     "end_time": "2017-01-17T00:14:25.315558",
     "start_time": "2017-01-17T00:14:25.299875"
    },
    "collapsed": false
   },
   "outputs": [],
   "source": [
    "md = patsy.ModelDesc.from_formula(formula)"
   ]
  },
  {
   "cell_type": "code",
   "execution_count": 10,
   "metadata": {
    "ExecuteTime": {
     "end_time": "2017-01-17T00:14:25.335596",
     "start_time": "2017-01-17T00:14:25.317559"
    },
    "collapsed": false
   },
   "outputs": [
    {
     "data": {
      "text/plain": [
       "[Term([EvalFactor('time')]), Term([EvalFactor('event_value')])]"
      ]
     },
     "execution_count": 10,
     "metadata": {},
     "output_type": "execute_result"
    }
   ],
   "source": [
    "md.lhs_termlist"
   ]
  },
  {
   "cell_type": "code",
   "execution_count": 11,
   "metadata": {
    "ExecuteTime": {
     "end_time": "2017-01-17T00:14:25.353045",
     "start_time": "2017-01-17T00:14:25.337362"
    },
    "collapsed": false
   },
   "outputs": [
    {
     "data": {
      "text/plain": [
       "2"
      ]
     },
     "execution_count": 11,
     "metadata": {},
     "output_type": "execute_result"
    }
   ],
   "source": [
    "len(md.lhs_termlist)"
   ]
  },
  {
   "cell_type": "markdown",
   "metadata": {},
   "source": [
    "## `as_id` function (stateful)"
   ]
  },
  {
   "cell_type": "code",
   "execution_count": 172,
   "metadata": {
    "ExecuteTime": {
     "end_time": "2017-01-17T01:34:58.868641",
     "start_time": "2017-01-17T01:34:58.819221"
    },
    "collapsed": false
   },
   "outputs": [
    {
     "name": "stdout",
     "output_type": "stream",
     "text": [
      "0    1\n",
      "1    2\n",
      "2    1\n",
      "3    3\n",
      "dtype: int64\n"
     ]
    }
   ],
   "source": [
    "import numpy as np\n",
    "class Id(object):\n",
    "    def __init__(self):\n",
    "        self.values = []\n",
    "        pass\n",
    "    \n",
    "    def memorize_chunk(self, x):\n",
    "        self.values.extend(np.unique(x))\n",
    "    \n",
    "    def memorize_finish(self):\n",
    "        self.values = np.unique(self.values)\n",
    "        self.ids = np.arange(len(self.values))+1\n",
    "        self.lookup = dict(zip(self.values, self.ids))\n",
    "    \n",
    "    def transform(self, x):\n",
    "        if patsy.util.have_pandas:\n",
    "            return pd.Series([self.lookup[val] for val in x]).astype(int)\n",
    "        else:\n",
    "            return np.array([self.lookup[val] for val in x])\n",
    "\n",
    "class SubjectId(Id):\n",
    "    def __init__(self):\n",
    "        self.values = []\n",
    "        self._type = 'subject'\n",
    "\n",
    "class TimepointId(Id):\n",
    "    def __init__(self):\n",
    "        self.values = []\n",
    "        self._type = 'timepoint'\n",
    "\n",
    "class GroupId(Id):\n",
    "    def __init__(self):\n",
    "        self.values = []\n",
    "        self._type = 'group'\n",
    "\n",
    "as_id = patsy.stateful_transform(Id)\n",
    "#subject = patsy.stateful_transform(SubjectId)\n",
    "#group = patsy.stateful_transform(GroupId)\n",
    "#timepoint_end = patsy.stateful_transform(TimepointId)\n",
    "#timepoint_id = patsy.stateful_transform(TimepointId)\n",
    "print(as_id(np.array(['a','b','a','c'])))"
   ]
  },
  {
   "cell_type": "code",
   "execution_count": 173,
   "metadata": {
    "ExecuteTime": {
     "end_time": "2017-01-17T01:35:01.521042",
     "start_time": "2017-01-17T01:35:01.494106"
    },
    "collapsed": false
   },
   "outputs": [
    {
     "data": {
      "text/html": [
       "<div>\n",
       "<table border=\"1\" class=\"dataframe\">\n",
       "  <thead>\n",
       "    <tr style=\"text-align: right;\">\n",
       "      <th></th>\n",
       "      <th>subject_id</th>\n",
       "      <th>time</th>\n",
       "      <th>event_value</th>\n",
       "      <th>event_name</th>\n",
       "      <th>X1</th>\n",
       "      <th>X2</th>\n",
       "    </tr>\n",
       "  </thead>\n",
       "  <tbody>\n",
       "    <tr>\n",
       "      <th>0</th>\n",
       "      <td>0</td>\n",
       "      <td>5.500000</td>\n",
       "      <td>0</td>\n",
       "      <td>death</td>\n",
       "      <td>0</td>\n",
       "      <td>1</td>\n",
       "    </tr>\n",
       "    <tr>\n",
       "      <th>1</th>\n",
       "      <td>1</td>\n",
       "      <td>3.642285</td>\n",
       "      <td>1</td>\n",
       "      <td>death</td>\n",
       "      <td>0</td>\n",
       "      <td>1</td>\n",
       "    </tr>\n",
       "    <tr>\n",
       "      <th>2</th>\n",
       "      <td>2</td>\n",
       "      <td>1.995644</td>\n",
       "      <td>1</td>\n",
       "      <td>death</td>\n",
       "      <td>1</td>\n",
       "      <td>1</td>\n",
       "    </tr>\n",
       "    <tr>\n",
       "      <th>3</th>\n",
       "      <td>3</td>\n",
       "      <td>0.018313</td>\n",
       "      <td>1</td>\n",
       "      <td>death</td>\n",
       "      <td>0</td>\n",
       "      <td>1</td>\n",
       "    </tr>\n",
       "    <tr>\n",
       "      <th>4</th>\n",
       "      <td>4</td>\n",
       "      <td>1.288220</td>\n",
       "      <td>1</td>\n",
       "      <td>death</td>\n",
       "      <td>1</td>\n",
       "      <td>1</td>\n",
       "    </tr>\n",
       "  </tbody>\n",
       "</table>\n",
       "</div>"
      ],
      "text/plain": [
       "   subject_id      time  event_value event_name  X1  X2\n",
       "0           0  5.500000            0      death   0   1\n",
       "1           1  3.642285            1      death   0   1\n",
       "2           2  1.995644            1      death   1   1\n",
       "3           3  0.018313            1      death   0   1\n",
       "4           4  1.288220            1      death   1   1"
      ]
     },
     "execution_count": 173,
     "metadata": {},
     "output_type": "execute_result"
    }
   ],
   "source": [
    "df.head()"
   ]
  },
  {
   "cell_type": "code",
   "execution_count": 174,
   "metadata": {
    "ExecuteTime": {
     "end_time": "2017-01-17T01:35:02.804979",
     "start_time": "2017-01-17T01:35:02.788857"
    },
    "collapsed": false
   },
   "outputs": [],
   "source": [
    "test_formula = 'event_value + as_id(time) + as_id(subject_id) ~ X1 + X2'"
   ]
  },
  {
   "cell_type": "code",
   "execution_count": 175,
   "metadata": {
    "ExecuteTime": {
     "end_time": "2017-01-17T01:35:03.398072",
     "start_time": "2017-01-17T01:35:03.371017"
    },
    "collapsed": false
   },
   "outputs": [],
   "source": [
    "y, X = patsy.dmatrices(formula_like=test_formula, data=df)"
   ]
  },
  {
   "cell_type": "code",
   "execution_count": 176,
   "metadata": {
    "ExecuteTime": {
     "end_time": "2017-01-17T01:35:04.172159",
     "start_time": "2017-01-17T01:35:04.146097"
    },
    "collapsed": false
   },
   "outputs": [
    {
     "data": {
      "text/html": [
       "<div>\n",
       "<table border=\"1\" class=\"dataframe\">\n",
       "  <thead>\n",
       "    <tr style=\"text-align: right;\">\n",
       "      <th></th>\n",
       "      <th>0</th>\n",
       "      <th>1</th>\n",
       "      <th>2</th>\n",
       "    </tr>\n",
       "  </thead>\n",
       "  <tbody>\n",
       "    <tr>\n",
       "      <th>0</th>\n",
       "      <td>0.0</td>\n",
       "      <td>77.0</td>\n",
       "      <td>1.0</td>\n",
       "    </tr>\n",
       "    <tr>\n",
       "      <th>1</th>\n",
       "      <td>1.0</td>\n",
       "      <td>72.0</td>\n",
       "      <td>2.0</td>\n",
       "    </tr>\n",
       "    <tr>\n",
       "      <th>2</th>\n",
       "      <td>1.0</td>\n",
       "      <td>63.0</td>\n",
       "      <td>3.0</td>\n",
       "    </tr>\n",
       "    <tr>\n",
       "      <th>3</th>\n",
       "      <td>1.0</td>\n",
       "      <td>8.0</td>\n",
       "      <td>4.0</td>\n",
       "    </tr>\n",
       "    <tr>\n",
       "      <th>4</th>\n",
       "      <td>1.0</td>\n",
       "      <td>50.0</td>\n",
       "      <td>5.0</td>\n",
       "    </tr>\n",
       "  </tbody>\n",
       "</table>\n",
       "</div>"
      ],
      "text/plain": [
       "     0     1    2\n",
       "0  0.0  77.0  1.0\n",
       "1  1.0  72.0  2.0\n",
       "2  1.0  63.0  3.0\n",
       "3  1.0   8.0  4.0\n",
       "4  1.0  50.0  5.0"
      ]
     },
     "execution_count": 176,
     "metadata": {},
     "output_type": "execute_result"
    }
   ],
   "source": [
    "pd.DataFrame(y).head()"
   ]
  },
  {
   "cell_type": "markdown",
   "metadata": {},
   "source": [
    "## `surv1` function (stateful)"
   ]
  },
  {
   "cell_type": "code",
   "execution_count": 177,
   "metadata": {
    "ExecuteTime": {
     "end_time": "2017-01-17T01:35:06.585364",
     "start_time": "2017-01-17T01:35:06.561511"
    },
    "collapsed": false
   },
   "outputs": [],
   "source": [
    "class Surv(object):\n",
    "    def __init__(self):\n",
    "        self._tmp = {}\n",
    "        self._long_format = False\n",
    "\n",
    "    def memorize_chunk(self, time, event_status, **kwargs):\n",
    "        # Updates internal state, this is called one or more times\n",
    "        self._type = surv(time=time, event_status=event_status, **kwargs).__class__\n",
    "        pass\n",
    "\n",
    "    def memorize_finish(self):\n",
    "        # this is called once after memorize chunk as called as many times \n",
    "        # as needed, for example, after reading in chunks of data incrementally        \n",
    "        pass\n",
    "\n",
    "    def transform(self, time, event_status, **kwargs):\n",
    "        # this is called one or more times on old and new data\n",
    "        # args are the same as memorize_chunk\n",
    "        dm = surv(time=time, event_status=event_status, **kwargs)\n",
    "        return dm\n",
    "\n",
    "surv1 = patsy.stateful_transform(Surv)"
   ]
  },
  {
   "cell_type": "markdown",
   "metadata": {},
   "source": [
    "## `surv` function (not stateful)"
   ]
  },
  {
   "cell_type": "code",
   "execution_count": 197,
   "metadata": {
    "ExecuteTime": {
     "end_time": "2017-01-17T01:38:45.004889",
     "start_time": "2017-01-17T01:38:44.889991"
    },
    "collapsed": false
   },
   "outputs": [],
   "source": [
    "class SurvData(pd.DataFrame):\n",
    "    ''' patsy.DesignMatrix representing survival data output '''\n",
    "    survival_type = 'wide'\n",
    "    \n",
    "    def __init__(self, *args, stan_data=dict(), meta_data=dict(), **kwargs):\n",
    "        super().__init__(*args, **kwargs)\n",
    "        self.stan_data = stan_data\n",
    "        self.meta_data = meta_data\n",
    "\n",
    "class LongSurvData(SurvData):\n",
    "    ''' pd.DataFrame representing survival data with endpoint_time_id, event_status & subject_id '''\n",
    "    survival_type = 'long'\n",
    "\n",
    "class NotValidId(ValueError):\n",
    "    ''' Class of errors pertaining to invalid Id variables '''\n",
    "        \n",
    "\n",
    "def _confirm_id(x, name=None):\n",
    "    ''' an \"ID\" variable suitable for use in Stan satisfies following conditions:\n",
    "            - can be coerced to an integer\n",
    "            - integer values are sequentially numbered from 1..X\n",
    "\n",
    "        This function checks the above criteria\n",
    "            & returns the coerced object if they are met\n",
    "            \n",
    "        If criteria are not met this will throw an error.\n",
    "    '''\n",
    "    if name is None:\n",
    "        if isinstance(x, pd.Series):\n",
    "            name = x.name\n",
    "        else:\n",
    "            name = 'unknown'\n",
    "    # check integer type\n",
    "    try:\n",
    "        x_int = x.astype('int')\n",
    "    except:\n",
    "        import pdb\n",
    "        pdb.set_trace()\n",
    "        raise NotValidId('Value ({}) cannot be coerced to an integer.'.format(name))\n",
    "    # check sequential numbering \n",
    "    unique_values = np.unique(x)\n",
    "    if not np.min(unique_values)==1:\n",
    "        raise NotValidId('Value ({}) must start with 1 for use with Stan.'.format(name))\n",
    "    if not np.max(unique_values) == len(unique_values):\n",
    "        raise NotValidId('Value ({}) must be sequentially numbered for use with Stan.'.format(name))\n",
    "    return(x_int)\n",
    "\n",
    "def _prep_wide_surv(time, event_status, use_pandas):\n",
    "    if use_pandas:\n",
    "        dm = pd.DataFrame({'time': time, 'event_status': event_status})\n",
    "        dm.index = time.index\n",
    "    else:\n",
    "        dm = np.append(time, event_status, 1)\n",
    "    return(SurvData(dm))\n",
    "    \n",
    "def _prep_long_surv(time, event_status, subject, use_pandas):\n",
    "    timepoint_id = _confirm_id(time)\n",
    "    subject_id = _confirm_id(subject)\n",
    "    unique_timepoints = survivalstan.survivalstan._prep_timepoint_dataframe(\n",
    "        pd.DataFrame({'timepoint_id': timepoint_id, 'end_time': time}),\n",
    "        timepoint_id_col='timepoint_id',timepoint_end_col='end_time')\n",
    "    unique_subjects = pd.DataFrame({'subject_id': subject_id, 'subject': subject})\n",
    "    unique_subjects.drop_duplicates(inplace=True)\n",
    "    stan_data = { \n",
    "        't_dur': unique_timepoints['t_dur'],\n",
    "        't_obs': unique_timepoints['end_time'],\n",
    "        'T': len(unique_timepoints.index),\n",
    "        'S': len(unique_subjects.index),\n",
    "        }\n",
    "    meta_data = {\n",
    "        'subject_id': unique_subjects,\n",
    "        'timepoint_id': unique_timepoints,\n",
    "    }\n",
    "    if use_pandas:\n",
    "        dm = pd.DataFrame({'timepoint_id': timepoint_id,\n",
    "                            'event_status': event_status,\n",
    "                            'subject_id': subject_id\n",
    "                           })\n",
    "        dm.index = time.index\n",
    "    else:\n",
    "        dm = np.append(timepoint_id, event_status, subject_id, 1)\n",
    "    return LongSurvData(dm, stan_data=stan_data, meta_data=meta_data)\n",
    "    \n",
    "def surv(time, event_status, group=None, subject=None, use_pandas=None, long_format=None):\n",
    "    ''' Prep outcome data for survival modeling '''\n",
    "    ## infer scenario settings from combinations of inputs\n",
    "    if use_pandas is None:\n",
    "        use_pandas = False\n",
    "        # determine whether to use pandas dataframe\n",
    "        # depending on (1) if pandas is installed, and (2) input object types\n",
    "        if patsy.util.have_pandas:\n",
    "            if isinstance(time, (pd.Series, pd.DataFrame)) and isinstance(event_status, (pd.Series, pd.DataFrame)):\n",
    "                use_pandas = True\n",
    "    if long_format is None:\n",
    "        long_format = False\n",
    "        # determine if data are long or wide format\n",
    "        if subject is not None:\n",
    "            long_format = True\n",
    "    ## prep data depending on inferred settings\n",
    "    if long_format:\n",
    "        dm = _prep_long_surv(time=time, event_status=event_status, subject=subject, use_pandas=use_pandas)\n",
    "    else:\n",
    "        dm = _prep_wide_surv(time=time, event_status=event_status, use_pandas=use_pandas)\n",
    "    return dm\n",
    "        "
   ]
  },
  {
   "cell_type": "code",
   "execution_count": 198,
   "metadata": {
    "ExecuteTime": {
     "end_time": "2017-01-17T01:38:45.762554",
     "start_time": "2017-01-17T01:38:45.739668"
    },
    "collapsed": false
   },
   "outputs": [
    {
     "data": {
      "text/html": [
       "<div>\n",
       "<table border=\"1\" class=\"dataframe\">\n",
       "  <thead>\n",
       "    <tr style=\"text-align: right;\">\n",
       "      <th></th>\n",
       "      <th>event_status</th>\n",
       "      <th>time</th>\n",
       "    </tr>\n",
       "  </thead>\n",
       "  <tbody>\n",
       "    <tr>\n",
       "      <th>0</th>\n",
       "      <td>0</td>\n",
       "      <td>5.500000</td>\n",
       "    </tr>\n",
       "    <tr>\n",
       "      <th>1</th>\n",
       "      <td>1</td>\n",
       "      <td>3.642285</td>\n",
       "    </tr>\n",
       "    <tr>\n",
       "      <th>2</th>\n",
       "      <td>1</td>\n",
       "      <td>1.995644</td>\n",
       "    </tr>\n",
       "    <tr>\n",
       "      <th>3</th>\n",
       "      <td>1</td>\n",
       "      <td>0.018313</td>\n",
       "    </tr>\n",
       "    <tr>\n",
       "      <th>4</th>\n",
       "      <td>1</td>\n",
       "      <td>1.288220</td>\n",
       "    </tr>\n",
       "  </tbody>\n",
       "</table>\n",
       "</div>"
      ],
      "text/plain": [
       "   event_status      time\n",
       "0             0  5.500000\n",
       "1             1  3.642285\n",
       "2             1  1.995644\n",
       "3             1  0.018313\n",
       "4             1  1.288220"
      ]
     },
     "execution_count": 198,
     "metadata": {},
     "output_type": "execute_result"
    }
   ],
   "source": [
    "pd.DataFrame(surv(df['time'], df['event_value'])).head()"
   ]
  },
  {
   "cell_type": "code",
   "execution_count": 199,
   "metadata": {
    "ExecuteTime": {
     "end_time": "2017-01-17T01:38:46.480331",
     "start_time": "2017-01-17T01:38:46.454178"
    },
    "collapsed": false
   },
   "outputs": [
    {
     "data": {
      "text/html": [
       "<div>\n",
       "<table border=\"1\" class=\"dataframe\">\n",
       "  <thead>\n",
       "    <tr style=\"text-align: right;\">\n",
       "      <th></th>\n",
       "      <th>subject_id</th>\n",
       "      <th>time</th>\n",
       "      <th>event_value</th>\n",
       "      <th>event_name</th>\n",
       "      <th>X1</th>\n",
       "      <th>X2</th>\n",
       "    </tr>\n",
       "  </thead>\n",
       "  <tbody>\n",
       "    <tr>\n",
       "      <th>0</th>\n",
       "      <td>0</td>\n",
       "      <td>5.500000</td>\n",
       "      <td>0</td>\n",
       "      <td>death</td>\n",
       "      <td>0</td>\n",
       "      <td>1</td>\n",
       "    </tr>\n",
       "    <tr>\n",
       "      <th>1</th>\n",
       "      <td>1</td>\n",
       "      <td>3.642285</td>\n",
       "      <td>1</td>\n",
       "      <td>death</td>\n",
       "      <td>0</td>\n",
       "      <td>1</td>\n",
       "    </tr>\n",
       "    <tr>\n",
       "      <th>2</th>\n",
       "      <td>2</td>\n",
       "      <td>1.995644</td>\n",
       "      <td>1</td>\n",
       "      <td>death</td>\n",
       "      <td>1</td>\n",
       "      <td>1</td>\n",
       "    </tr>\n",
       "    <tr>\n",
       "      <th>3</th>\n",
       "      <td>3</td>\n",
       "      <td>0.018313</td>\n",
       "      <td>1</td>\n",
       "      <td>death</td>\n",
       "      <td>0</td>\n",
       "      <td>1</td>\n",
       "    </tr>\n",
       "    <tr>\n",
       "      <th>4</th>\n",
       "      <td>4</td>\n",
       "      <td>1.288220</td>\n",
       "      <td>1</td>\n",
       "      <td>death</td>\n",
       "      <td>1</td>\n",
       "      <td>1</td>\n",
       "    </tr>\n",
       "  </tbody>\n",
       "</table>\n",
       "</div>"
      ],
      "text/plain": [
       "   subject_id      time  event_value event_name  X1  X2\n",
       "0           0  5.500000            0      death   0   1\n",
       "1           1  3.642285            1      death   0   1\n",
       "2           2  1.995644            1      death   1   1\n",
       "3           3  0.018313            1      death   0   1\n",
       "4           4  1.288220            1      death   1   1"
      ]
     },
     "execution_count": 199,
     "metadata": {},
     "output_type": "execute_result"
    }
   ],
   "source": [
    "df.head()"
   ]
  },
  {
   "cell_type": "code",
   "execution_count": 200,
   "metadata": {
    "ExecuteTime": {
     "end_time": "2017-01-17T01:38:47.522894",
     "start_time": "2017-01-17T01:38:47.349513"
    },
    "collapsed": false
   },
   "outputs": [
    {
     "data": {
      "text/html": [
       "<div>\n",
       "<table border=\"1\" class=\"dataframe\">\n",
       "  <thead>\n",
       "    <tr style=\"text-align: right;\">\n",
       "      <th></th>\n",
       "      <th>event_status</th>\n",
       "      <th>subject_id</th>\n",
       "      <th>timepoint_id</th>\n",
       "    </tr>\n",
       "  </thead>\n",
       "  <tbody>\n",
       "    <tr>\n",
       "      <th>0</th>\n",
       "      <td>0</td>\n",
       "      <td>1</td>\n",
       "      <td>77</td>\n",
       "    </tr>\n",
       "    <tr>\n",
       "      <th>1</th>\n",
       "      <td>1</td>\n",
       "      <td>2</td>\n",
       "      <td>72</td>\n",
       "    </tr>\n",
       "    <tr>\n",
       "      <th>2</th>\n",
       "      <td>1</td>\n",
       "      <td>3</td>\n",
       "      <td>63</td>\n",
       "    </tr>\n",
       "    <tr>\n",
       "      <th>3</th>\n",
       "      <td>1</td>\n",
       "      <td>4</td>\n",
       "      <td>8</td>\n",
       "    </tr>\n",
       "    <tr>\n",
       "      <th>4</th>\n",
       "      <td>1</td>\n",
       "      <td>5</td>\n",
       "      <td>50</td>\n",
       "    </tr>\n",
       "  </tbody>\n",
       "</table>\n",
       "</div>"
      ],
      "text/plain": [
       "   event_status  subject_id  timepoint_id\n",
       "0             0           1            77\n",
       "1             1           2            72\n",
       "2             1           3            63\n",
       "3             1           4             8\n",
       "4             1           5            50"
      ]
     },
     "execution_count": 200,
     "metadata": {},
     "output_type": "execute_result"
    }
   ],
   "source": [
    "pd.DataFrame(surv1(as_id(df['time']), df['event_value'], subject=as_id(df['subject_id']))).head()"
   ]
  },
  {
   "cell_type": "code",
   "execution_count": 201,
   "metadata": {
    "ExecuteTime": {
     "end_time": "2017-01-17T01:38:48.502858",
     "start_time": "2017-01-17T01:38:48.480057"
    },
    "collapsed": false
   },
   "outputs": [],
   "source": [
    "y, X = patsy.dmatrices('surv1(time=time, event_status=event_value) ~ X1', data=df)"
   ]
  },
  {
   "cell_type": "code",
   "execution_count": 202,
   "metadata": {
    "ExecuteTime": {
     "end_time": "2017-01-17T01:38:49.149251",
     "start_time": "2017-01-17T01:38:49.125456"
    },
    "collapsed": false
   },
   "outputs": [
    {
     "data": {
      "text/html": [
       "<div>\n",
       "<table border=\"1\" class=\"dataframe\">\n",
       "  <thead>\n",
       "    <tr style=\"text-align: right;\">\n",
       "      <th></th>\n",
       "      <th>0</th>\n",
       "      <th>1</th>\n",
       "    </tr>\n",
       "  </thead>\n",
       "  <tbody>\n",
       "    <tr>\n",
       "      <th>0</th>\n",
       "      <td>0.0</td>\n",
       "      <td>5.500000</td>\n",
       "    </tr>\n",
       "    <tr>\n",
       "      <th>1</th>\n",
       "      <td>1.0</td>\n",
       "      <td>3.642285</td>\n",
       "    </tr>\n",
       "    <tr>\n",
       "      <th>2</th>\n",
       "      <td>1.0</td>\n",
       "      <td>1.995644</td>\n",
       "    </tr>\n",
       "    <tr>\n",
       "      <th>3</th>\n",
       "      <td>1.0</td>\n",
       "      <td>0.018313</td>\n",
       "    </tr>\n",
       "    <tr>\n",
       "      <th>4</th>\n",
       "      <td>1.0</td>\n",
       "      <td>1.288220</td>\n",
       "    </tr>\n",
       "  </tbody>\n",
       "</table>\n",
       "</div>"
      ],
      "text/plain": [
       "     0         1\n",
       "0  0.0  5.500000\n",
       "1  1.0  3.642285\n",
       "2  1.0  1.995644\n",
       "3  1.0  0.018313\n",
       "4  1.0  1.288220"
      ]
     },
     "execution_count": 202,
     "metadata": {},
     "output_type": "execute_result"
    }
   ],
   "source": [
    "pd.DataFrame(y).head()"
   ]
  },
  {
   "cell_type": "code",
   "execution_count": 203,
   "metadata": {
    "ExecuteTime": {
     "end_time": "2017-01-17T01:38:49.860768",
     "start_time": "2017-01-17T01:38:49.838897"
    },
    "collapsed": true
   },
   "outputs": [],
   "source": [
    "y, X = patsy.dmatrices('surv(event_status=event_value, time=time) ~ X1', data=df)"
   ]
  },
  {
   "cell_type": "code",
   "execution_count": 204,
   "metadata": {
    "ExecuteTime": {
     "end_time": "2017-01-17T01:38:50.590244",
     "start_time": "2017-01-17T01:38:50.568207"
    },
    "collapsed": false
   },
   "outputs": [
    {
     "data": {
      "text/html": [
       "<div>\n",
       "<table border=\"1\" class=\"dataframe\">\n",
       "  <thead>\n",
       "    <tr style=\"text-align: right;\">\n",
       "      <th></th>\n",
       "      <th>0</th>\n",
       "      <th>1</th>\n",
       "    </tr>\n",
       "  </thead>\n",
       "  <tbody>\n",
       "    <tr>\n",
       "      <th>0</th>\n",
       "      <td>0.0</td>\n",
       "      <td>5.500000</td>\n",
       "    </tr>\n",
       "    <tr>\n",
       "      <th>1</th>\n",
       "      <td>1.0</td>\n",
       "      <td>3.642285</td>\n",
       "    </tr>\n",
       "    <tr>\n",
       "      <th>2</th>\n",
       "      <td>1.0</td>\n",
       "      <td>1.995644</td>\n",
       "    </tr>\n",
       "    <tr>\n",
       "      <th>3</th>\n",
       "      <td>1.0</td>\n",
       "      <td>0.018313</td>\n",
       "    </tr>\n",
       "    <tr>\n",
       "      <th>4</th>\n",
       "      <td>1.0</td>\n",
       "      <td>1.288220</td>\n",
       "    </tr>\n",
       "  </tbody>\n",
       "</table>\n",
       "</div>"
      ],
      "text/plain": [
       "     0         1\n",
       "0  0.0  5.500000\n",
       "1  1.0  3.642285\n",
       "2  1.0  1.995644\n",
       "3  1.0  0.018313\n",
       "4  1.0  1.288220"
      ]
     },
     "execution_count": 204,
     "metadata": {},
     "output_type": "execute_result"
    }
   ],
   "source": [
    "pd.DataFrame(y).head()"
   ]
  },
  {
   "cell_type": "code",
   "execution_count": 206,
   "metadata": {
    "ExecuteTime": {
     "end_time": "2017-01-17T01:39:05.650729",
     "start_time": "2017-01-17T01:39:05.460370"
    },
    "collapsed": false
   },
   "outputs": [],
   "source": [
    "y, X = patsy.dmatrices('surv(event_status=event_value,time=as_id(time), subject=as_id(subject_id)) ~ bs(X1, 3)',\n",
    "                       data=df)"
   ]
  },
  {
   "cell_type": "code",
   "execution_count": 207,
   "metadata": {
    "ExecuteTime": {
     "end_time": "2017-01-17T01:39:06.329321",
     "start_time": "2017-01-17T01:39:06.311811"
    },
    "collapsed": false
   },
   "outputs": [
    {
     "data": {
      "text/plain": [
       "False"
      ]
     },
     "execution_count": 207,
     "metadata": {},
     "output_type": "execute_result"
    }
   ],
   "source": [
    "isinstance(y, LongSurvData)"
   ]
  },
  {
   "cell_type": "code",
   "execution_count": 208,
   "metadata": {
    "ExecuteTime": {
     "end_time": "2017-01-17T01:39:14.386581",
     "start_time": "2017-01-17T01:39:14.369022"
    },
    "collapsed": false
   },
   "outputs": [
    {
     "data": {
      "text/plain": [
       "(100, 3)"
      ]
     },
     "execution_count": 208,
     "metadata": {},
     "output_type": "execute_result"
    }
   ],
   "source": [
    "y.shape"
   ]
  },
  {
   "cell_type": "code",
   "execution_count": 209,
   "metadata": {
    "ExecuteTime": {
     "end_time": "2017-01-17T01:39:14.939861",
     "start_time": "2017-01-17T01:39:14.922015"
    },
    "collapsed": false
   },
   "outputs": [
    {
     "data": {
      "text/plain": [
       "['surv(event_status=event_value, time=as_id(time), subject=as_id(subject_id))']"
      ]
     },
     "execution_count": 209,
     "metadata": {},
     "output_type": "execute_result"
    }
   ],
   "source": [
    "y.design_info.term_names"
   ]
  },
  {
   "cell_type": "code",
   "execution_count": 210,
   "metadata": {
    "ExecuteTime": {
     "end_time": "2017-01-17T01:39:16.640958",
     "start_time": "2017-01-17T01:39:16.621901"
    },
    "collapsed": false
   },
   "outputs": [
    {
     "data": {
      "text/plain": [
       "{EvalFactor('bs(X1, 3)'): FactorInfo(factor=EvalFactor('bs(X1, 3)'),\n",
       "            type='numerical',\n",
       "            state=<factor state>,\n",
       "            num_columns=3)}"
      ]
     },
     "execution_count": 210,
     "metadata": {},
     "output_type": "execute_result"
    }
   ],
   "source": [
    "X.design_info.factor_infos"
   ]
  },
  {
   "cell_type": "code",
   "execution_count": 211,
   "metadata": {
    "ExecuteTime": {
     "end_time": "2017-01-17T01:39:19.707375",
     "start_time": "2017-01-17T01:39:19.689122"
    },
    "collapsed": false
   },
   "outputs": [
    {
     "data": {
      "text/plain": [
       "DesignInfo(['surv(event_status=event_value, time=as_id(time), subject=as_id(subject_id))[0]',\n",
       "            'surv(event_status=event_value, time=as_id(time), subject=as_id(subject_id))[1]',\n",
       "            'surv(event_status=event_value, time=as_id(time), subject=as_id(subject_id))[2]'],\n",
       "           factor_infos={EvalFactor('surv(event_status=event_value, time=as_id(time), subject=as_id(subject_id))'): FactorInfo(factor=EvalFactor('surv(event_status=event_value, time=as_id(time), subject=as_id(subject_id))'),\n",
       "                                    type='numerical',\n",
       "                                    state=<factor state>,\n",
       "                                    num_columns=3)},\n",
       "           term_codings=OrderedDict([(Term([EvalFactor('surv(event_status=event_value, time=as_id(time), subject=as_id(subject_id))')]),\n",
       "                                      [SubtermInfo(factors=(EvalFactor('surv(event_status=event_value, time=as_id(time), subject=as_id(subject_id))'),),\n",
       "                                                   contrast_matrices={},\n",
       "                                                   num_columns=3)])]))"
      ]
     },
     "execution_count": 211,
     "metadata": {},
     "output_type": "execute_result"
    }
   ],
   "source": [
    "y.design_info"
   ]
  },
  {
   "cell_type": "code",
   "execution_count": 212,
   "metadata": {
    "ExecuteTime": {
     "end_time": "2017-01-17T01:39:28.233789",
     "start_time": "2017-01-17T01:39:28.209342"
    },
    "collapsed": false
   },
   "outputs": [
    {
     "ename": "AttributeError",
     "evalue": "'DesignMatrix' object has no attribute 'survival_type'",
     "output_type": "error",
     "traceback": [
      "\u001b[0;31m---------------------------------------------------------------------------\u001b[0m",
      "\u001b[0;31mAttributeError\u001b[0m                            Traceback (most recent call last)",
      "\u001b[0;32m<ipython-input-212-96f3d62085c5>\u001b[0m in \u001b[0;36m<module>\u001b[0;34m()\u001b[0m\n\u001b[0;32m----> 1\u001b[0;31m \u001b[0my\u001b[0m\u001b[0;34m.\u001b[0m\u001b[0msurvival_type\u001b[0m\u001b[0;34m\u001b[0m\u001b[0m\n\u001b[0m",
      "\u001b[0;31mAttributeError\u001b[0m: 'DesignMatrix' object has no attribute 'survival_type'"
     ]
    }
   ],
   "source": [
    "y.survival_type"
   ]
  },
  {
   "cell_type": "code",
   "execution_count": 213,
   "metadata": {
    "ExecuteTime": {
     "end_time": "2017-01-17T01:39:29.358003",
     "start_time": "2017-01-17T01:39:29.339366"
    },
    "collapsed": false
   },
   "outputs": [
    {
     "data": {
      "text/plain": [
       "DesignInfo(['surv(event_status=event_value, time=as_id(time), subject=as_id(subject_id))[0]',\n",
       "            'surv(event_status=event_value, time=as_id(time), subject=as_id(subject_id))[1]',\n",
       "            'surv(event_status=event_value, time=as_id(time), subject=as_id(subject_id))[2]'],\n",
       "           factor_infos={EvalFactor('surv(event_status=event_value, time=as_id(time), subject=as_id(subject_id))'): FactorInfo(factor=EvalFactor('surv(event_status=event_value, time=as_id(time), subject=as_id(subject_id))'),\n",
       "                                    type='numerical',\n",
       "                                    state=<factor state>,\n",
       "                                    num_columns=3)},\n",
       "           term_codings=OrderedDict([(Term([EvalFactor('surv(event_status=event_value, time=as_id(time), subject=as_id(subject_id))')]),\n",
       "                                      [SubtermInfo(factors=(EvalFactor('surv(event_status=event_value, time=as_id(time), subject=as_id(subject_id))'),),\n",
       "                                                   contrast_matrices={},\n",
       "                                                   num_columns=3)])]))"
      ]
     },
     "execution_count": 213,
     "metadata": {},
     "output_type": "execute_result"
    }
   ],
   "source": [
    "y.design_info"
   ]
  },
  {
   "cell_type": "markdown",
   "metadata": {},
   "source": [
    "## SurvivalFactor class"
   ]
  },
  {
   "cell_type": "code",
   "execution_count": 219,
   "metadata": {
    "ExecuteTime": {
     "end_time": "2017-01-17T01:40:46.338394",
     "start_time": "2017-01-17T01:40:46.310980"
    },
    "collapsed": false
   },
   "outputs": [],
   "source": [
    "import logging\n",
    "logger = logging.getLogger(__name__)\n",
    "class SurvivalFactor(patsy.EvalFactor):\n",
    "    ''' A factor object to encode LHS variables \n",
    "        for Survival Models, including model type\n",
    "    '''\n",
    "    _is_survival = True\n",
    "    \n",
    "    def __init__(self, *args, **kwargs):\n",
    "        super().__init__(*args, **kwargs)\n",
    "        self._class = None\n",
    "    \n",
    "    def eval(self, *args, **kwargs):\n",
    "        result = super().eval(*args, **kwargs)\n",
    "        try:\n",
    "            self._class = result.__class__\n",
    "        except:\n",
    "            logger.warning('Outcome class could not be determined')\n",
    "        if isinstance(result, SurvData):\n",
    "            self._type = result.survival_type\n",
    "            self._meta_data = result.meta_data\n",
    "            self._stan_data = result.stan_data\n",
    "            \n",
    "        return result\n",
    "        \n",
    "    "
   ]
  },
  {
   "cell_type": "code",
   "execution_count": 220,
   "metadata": {
    "ExecuteTime": {
     "end_time": "2017-01-17T01:40:46.977788",
     "start_time": "2017-01-17T01:40:46.961681"
    },
    "collapsed": false
   },
   "outputs": [],
   "source": [
    "a = SurvivalFactor(code='surv(time=time, event_status=event_value)')"
   ]
  },
  {
   "cell_type": "code",
   "execution_count": 221,
   "metadata": {
    "ExecuteTime": {
     "end_time": "2017-01-17T01:40:47.538460",
     "start_time": "2017-01-17T01:40:47.521786"
    },
    "collapsed": false
   },
   "outputs": [
    {
     "name": "stdout",
     "output_type": "stream",
     "text": [
      "None\n"
     ]
    }
   ],
   "source": [
    "print(a._class)"
   ]
  },
  {
   "cell_type": "code",
   "execution_count": 222,
   "metadata": {
    "ExecuteTime": {
     "end_time": "2017-01-17T01:40:48.120419",
     "start_time": "2017-01-17T01:40:48.104727"
    },
    "collapsed": false
   },
   "outputs": [],
   "source": [
    "md = patsy.ModelDesc([patsy.Term([a])],[])"
   ]
  },
  {
   "cell_type": "code",
   "execution_count": 223,
   "metadata": {
    "ExecuteTime": {
     "end_time": "2017-01-17T01:40:48.791463",
     "start_time": "2017-01-17T01:40:48.771399"
    },
    "collapsed": false
   },
   "outputs": [],
   "source": [
    "y, X = patsy.dmatrices(md, data=df)"
   ]
  },
  {
   "cell_type": "code",
   "execution_count": 224,
   "metadata": {
    "ExecuteTime": {
     "end_time": "2017-01-17T01:40:49.518707",
     "start_time": "2017-01-17T01:40:49.501353"
    },
    "collapsed": false
   },
   "outputs": [
    {
     "data": {
      "text/plain": [
       "(100, 2)"
      ]
     },
     "execution_count": 224,
     "metadata": {},
     "output_type": "execute_result"
    }
   ],
   "source": [
    "y.shape"
   ]
  },
  {
   "cell_type": "code",
   "execution_count": 225,
   "metadata": {
    "ExecuteTime": {
     "end_time": "2017-01-17T01:40:50.147492",
     "start_time": "2017-01-17T01:40:50.131521"
    },
    "collapsed": false
   },
   "outputs": [],
   "source": [
    "term = y.design_info.terms[0]"
   ]
  },
  {
   "cell_type": "code",
   "execution_count": 226,
   "metadata": {
    "ExecuteTime": {
     "end_time": "2017-01-17T01:40:51.251520",
     "start_time": "2017-01-17T01:40:51.234584"
    },
    "collapsed": false
   },
   "outputs": [
    {
     "data": {
      "text/plain": [
       "True"
      ]
     },
     "execution_count": 226,
     "metadata": {},
     "output_type": "execute_result"
    }
   ],
   "source": [
    "term.factors[0]._is_survival"
   ]
  },
  {
   "cell_type": "code",
   "execution_count": 227,
   "metadata": {
    "ExecuteTime": {
     "end_time": "2017-01-17T01:40:51.835109",
     "start_time": "2017-01-17T01:40:51.817882"
    },
    "collapsed": false
   },
   "outputs": [
    {
     "data": {
      "text/plain": [
       "__main__.SurvData"
      ]
     },
     "execution_count": 227,
     "metadata": {},
     "output_type": "execute_result"
    }
   ],
   "source": [
    "term.factors[0]._class"
   ]
  },
  {
   "cell_type": "code",
   "execution_count": 228,
   "metadata": {
    "ExecuteTime": {
     "end_time": "2017-01-17T01:40:52.504155",
     "start_time": "2017-01-17T01:40:52.486852"
    },
    "collapsed": false
   },
   "outputs": [
    {
     "data": {
      "text/plain": [
       "'wide'"
      ]
     },
     "execution_count": 228,
     "metadata": {},
     "output_type": "execute_result"
    }
   ],
   "source": [
    "term.factors[0]._type"
   ]
  },
  {
   "cell_type": "markdown",
   "metadata": {},
   "source": [
    "## SurvivalModelDesc class"
   ]
  },
  {
   "cell_type": "code",
   "execution_count": 232,
   "metadata": {
    "ExecuteTime": {
     "end_time": "2017-01-17T01:41:31.415463",
     "start_time": "2017-01-17T01:41:31.399712"
    },
    "collapsed": true
   },
   "outputs": [],
   "source": [
    "import re"
   ]
  },
  {
   "cell_type": "code",
   "execution_count": 233,
   "metadata": {
    "ExecuteTime": {
     "end_time": "2017-01-17T01:41:31.954567",
     "start_time": "2017-01-17T01:41:31.934584"
    },
    "collapsed": false
   },
   "outputs": [],
   "source": [
    "class SurvivalModelDesc(object):\n",
    "    \n",
    "    def __init__(self, formula):\n",
    "        self.formula = formula\n",
    "        self.lhs, self.rhs = re.split(string=formula, pattern='~', maxsplit=1)\n",
    "        self.lhs_termlist = [patsy.Term([SurvivalFactor(self.lhs)])]\n",
    "        self.rhs_termlist = patsy.ModelDesc.from_formula(self.rhs).rhs_termlist\n",
    "        \n",
    "    def __patsy_get_model_desc__(self, eval_env):\n",
    "        return patsy.ModelDesc(self.lhs_termlist, self.rhs_termlist)"
   ]
  },
  {
   "cell_type": "markdown",
   "metadata": {},
   "source": [
    "### confirm we can determine type"
   ]
  },
  {
   "cell_type": "code",
   "execution_count": 266,
   "metadata": {
    "ExecuteTime": {
     "end_time": "2017-01-17T01:45:58.904002",
     "start_time": "2017-01-17T01:45:58.881211"
    },
    "collapsed": false
   },
   "outputs": [],
   "source": [
    "my_formula = SurvivalModelDesc('surv(time=time, event_status=event_value) ~ X1')\n",
    "y, X = patsy.dmatrices(my_formula, data=df)"
   ]
  },
  {
   "cell_type": "code",
   "execution_count": 267,
   "metadata": {
    "ExecuteTime": {
     "end_time": "2017-01-17T01:45:59.442128",
     "start_time": "2017-01-17T01:45:59.415357"
    },
    "collapsed": false
   },
   "outputs": [
    {
     "data": {
      "text/html": [
       "<div>\n",
       "<table border=\"1\" class=\"dataframe\">\n",
       "  <thead>\n",
       "    <tr style=\"text-align: right;\">\n",
       "      <th></th>\n",
       "      <th>0</th>\n",
       "      <th>1</th>\n",
       "    </tr>\n",
       "  </thead>\n",
       "  <tbody>\n",
       "    <tr>\n",
       "      <th>0</th>\n",
       "      <td>0.0</td>\n",
       "      <td>5.500000</td>\n",
       "    </tr>\n",
       "    <tr>\n",
       "      <th>1</th>\n",
       "      <td>1.0</td>\n",
       "      <td>3.642285</td>\n",
       "    </tr>\n",
       "    <tr>\n",
       "      <th>2</th>\n",
       "      <td>1.0</td>\n",
       "      <td>1.995644</td>\n",
       "    </tr>\n",
       "    <tr>\n",
       "      <th>3</th>\n",
       "      <td>1.0</td>\n",
       "      <td>0.018313</td>\n",
       "    </tr>\n",
       "    <tr>\n",
       "      <th>4</th>\n",
       "      <td>1.0</td>\n",
       "      <td>1.288220</td>\n",
       "    </tr>\n",
       "  </tbody>\n",
       "</table>\n",
       "</div>"
      ],
      "text/plain": [
       "     0         1\n",
       "0  0.0  5.500000\n",
       "1  1.0  3.642285\n",
       "2  1.0  1.995644\n",
       "3  1.0  0.018313\n",
       "4  1.0  1.288220"
      ]
     },
     "execution_count": 267,
     "metadata": {},
     "output_type": "execute_result"
    }
   ],
   "source": [
    "pd.DataFrame(y).head()"
   ]
  },
  {
   "cell_type": "code",
   "execution_count": 268,
   "metadata": {
    "ExecuteTime": {
     "end_time": "2017-01-17T01:46:00.368506",
     "start_time": "2017-01-17T01:46:00.343153"
    },
    "collapsed": false
   },
   "outputs": [],
   "source": [
    "## should only be one LHS term\n",
    "assert(len(y.design_info.terms) == 1)\n",
    "\n",
    "## should only be one LHS factor (within single term)\n",
    "assert(len(y.design_info.terms[0].factors) == 1)\n",
    "\n",
    "## LHS factor should be of type \"survival\"\n",
    "assert(y.design_info.terms[0].factors[0]._is_survival == True)"
   ]
  },
  {
   "cell_type": "code",
   "execution_count": 269,
   "metadata": {
    "ExecuteTime": {
     "end_time": "2017-01-17T01:46:00.966172",
     "start_time": "2017-01-17T01:46:00.949053"
    },
    "collapsed": false
   },
   "outputs": [
    {
     "data": {
      "text/plain": [
       "__main__.SurvData"
      ]
     },
     "execution_count": 269,
     "metadata": {},
     "output_type": "execute_result"
    }
   ],
   "source": [
    "# get type of LHS term\n",
    "y.design_info.terms[0].factors[0]._class"
   ]
  },
  {
   "cell_type": "code",
   "execution_count": 270,
   "metadata": {
    "ExecuteTime": {
     "end_time": "2017-01-17T01:46:01.674037",
     "start_time": "2017-01-17T01:46:01.654927"
    },
    "collapsed": false
   },
   "outputs": [
    {
     "data": {
      "text/plain": [
       "'wide'"
      ]
     },
     "execution_count": 270,
     "metadata": {},
     "output_type": "execute_result"
    }
   ],
   "source": [
    "survival_type = y.design_info.terms[0].factors[0]._type\n",
    "survival_type"
   ]
  },
  {
   "cell_type": "markdown",
   "metadata": {},
   "source": [
    "### confirm we can extract stan & meta-data"
   ]
  },
  {
   "cell_type": "code",
   "execution_count": 271,
   "metadata": {
    "ExecuteTime": {
     "end_time": "2017-01-17T01:46:02.803992",
     "start_time": "2017-01-17T01:46:02.617629"
    },
    "collapsed": false
   },
   "outputs": [],
   "source": [
    "my_formula2 = SurvivalModelDesc('surv(time=as_id(time), event_status=event_value, subject=as_id(subject_id)) ~ X1')\n",
    "y2, X = patsy.dmatrices(my_formula2, data=df)"
   ]
  },
  {
   "cell_type": "code",
   "execution_count": 272,
   "metadata": {
    "ExecuteTime": {
     "end_time": "2017-01-17T01:46:17.582692",
     "start_time": "2017-01-17T01:46:17.564329"
    },
    "collapsed": true
   },
   "outputs": [],
   "source": [
    "## should only be one LHS term\n",
    "assert(len(y2.design_info.terms) == 1)\n",
    "\n",
    "## should only be one LHS factor (within single term)\n",
    "assert(len(y2.design_info.terms[0].factors) == 1)\n",
    "\n",
    "## LHS factor should be of type \"survival\"\n",
    "assert(y2.design_info.terms[0].factors[0]._is_survival == True)"
   ]
  },
  {
   "cell_type": "code",
   "execution_count": 273,
   "metadata": {
    "ExecuteTime": {
     "end_time": "2017-01-17T01:46:27.772043",
     "start_time": "2017-01-17T01:46:27.754163"
    },
    "collapsed": false
   },
   "outputs": [
    {
     "data": {
      "text/plain": [
       "__main__.LongSurvData"
      ]
     },
     "execution_count": 273,
     "metadata": {},
     "output_type": "execute_result"
    }
   ],
   "source": [
    "y2.design_info.terms[0].factors[0]._class"
   ]
  },
  {
   "cell_type": "code",
   "execution_count": 274,
   "metadata": {
    "ExecuteTime": {
     "end_time": "2017-01-17T01:46:41.037110",
     "start_time": "2017-01-17T01:46:41.019729"
    },
    "collapsed": false
   },
   "outputs": [
    {
     "data": {
      "text/plain": [
       "'long'"
      ]
     },
     "execution_count": 274,
     "metadata": {},
     "output_type": "execute_result"
    }
   ],
   "source": [
    "survival_type = y2.design_info.terms[0].factors[0]._type\n",
    "survival_type"
   ]
  },
  {
   "cell_type": "code",
   "execution_count": 277,
   "metadata": {
    "ExecuteTime": {
     "end_time": "2017-01-17T01:47:23.809385",
     "start_time": "2017-01-17T01:47:23.791023"
    },
    "collapsed": false
   },
   "outputs": [
    {
     "data": {
      "text/plain": [
       "dict_keys(['t_dur', 't_obs', 'T', 'S'])"
      ]
     },
     "execution_count": 277,
     "metadata": {},
     "output_type": "execute_result"
    }
   ],
   "source": [
    "stan_data = y2.design_info.terms[0].factors[0]._stan_data\n",
    "stan_data.keys()"
   ]
  },
  {
   "cell_type": "code",
   "execution_count": 279,
   "metadata": {
    "ExecuteTime": {
     "end_time": "2017-01-17T01:47:47.433427",
     "start_time": "2017-01-17T01:47:47.414565"
    },
    "collapsed": false
   },
   "outputs": [
    {
     "data": {
      "text/plain": [
       "dict_keys(['subject_id', 'timepoint_id'])"
      ]
     },
     "execution_count": 279,
     "metadata": {},
     "output_type": "execute_result"
    }
   ],
   "source": [
    "meta_data = y2.design_info.terms[0].factors[0]._meta_data\n",
    "meta_data.keys()"
   ]
  },
  {
   "cell_type": "code",
   "execution_count": 280,
   "metadata": {
    "ExecuteTime": {
     "end_time": "2017-01-17T01:47:59.731580",
     "start_time": "2017-01-17T01:47:59.709399"
    },
    "collapsed": false
   },
   "outputs": [
    {
     "data": {
      "text/html": [
       "<div>\n",
       "<table border=\"1\" class=\"dataframe\">\n",
       "  <thead>\n",
       "    <tr style=\"text-align: right;\">\n",
       "      <th></th>\n",
       "      <th>subject</th>\n",
       "      <th>subject_id</th>\n",
       "    </tr>\n",
       "  </thead>\n",
       "  <tbody>\n",
       "    <tr>\n",
       "      <th>0</th>\n",
       "      <td>1</td>\n",
       "      <td>1</td>\n",
       "    </tr>\n",
       "    <tr>\n",
       "      <th>1</th>\n",
       "      <td>2</td>\n",
       "      <td>2</td>\n",
       "    </tr>\n",
       "    <tr>\n",
       "      <th>2</th>\n",
       "      <td>3</td>\n",
       "      <td>3</td>\n",
       "    </tr>\n",
       "    <tr>\n",
       "      <th>3</th>\n",
       "      <td>4</td>\n",
       "      <td>4</td>\n",
       "    </tr>\n",
       "    <tr>\n",
       "      <th>4</th>\n",
       "      <td>5</td>\n",
       "      <td>5</td>\n",
       "    </tr>\n",
       "  </tbody>\n",
       "</table>\n",
       "</div>"
      ],
      "text/plain": [
       "   subject  subject_id\n",
       "0        1           1\n",
       "1        2           2\n",
       "2        3           3\n",
       "3        4           4\n",
       "4        5           5"
      ]
     },
     "execution_count": 280,
     "metadata": {},
     "output_type": "execute_result"
    }
   ],
   "source": [
    "meta_data['subject_id'].head()"
   ]
  },
  {
   "cell_type": "markdown",
   "metadata": {},
   "source": [
    "### test model-matrix design on newdata"
   ]
  },
  {
   "cell_type": "code",
   "execution_count": 286,
   "metadata": {
    "ExecuteTime": {
     "end_time": "2017-01-17T01:54:08.258184",
     "start_time": "2017-01-17T01:54:08.229856"
    },
    "collapsed": false
   },
   "outputs": [
    {
     "data": {
      "text/plain": [
       "DesignInfo(['surv(time=as_id(time), event_status=event_value, subject=as_id(subject_id))[0]',\n",
       "            'surv(time=as_id(time), event_status=event_value, subject=as_id(subject_id))[1]',\n",
       "            'surv(time=as_id(time), event_status=event_value, subject=as_id(subject_id))[2]'],\n",
       "           factor_infos={SurvivalFactor('surv(time=as_id(time), event_status=event_value, subject=as_id(subject_id))'): FactorInfo(factor=SurvivalFactor('surv(time=as_id(time), event_status=event_value, subject=as_id(subject_id))'),\n",
       "                                    type='numerical',\n",
       "                                    state=<factor state>,\n",
       "                                    num_columns=3)},\n",
       "           term_codings=OrderedDict([(Term([SurvivalFactor('surv(time=as_id(time), event_status=event_value, subject=as_id(subject_id))')]),\n",
       "                                      [SubtermInfo(factors=(SurvivalFactor('surv(time=as_id(time), event_status=event_value, subject=as_id(subject_id))'),),\n",
       "                                                   contrast_matrices={},\n",
       "                                                   num_columns=3)])]))"
      ]
     },
     "execution_count": 286,
     "metadata": {},
     "output_type": "execute_result"
    }
   ],
   "source": [
    "y2.design_info"
   ]
  },
  {
   "cell_type": "code",
   "execution_count": 285,
   "metadata": {
    "ExecuteTime": {
     "end_time": "2017-01-17T01:52:58.983458",
     "start_time": "2017-01-17T01:52:58.930921"
    },
    "collapsed": false
   },
   "outputs": [
    {
     "ename": "PatsyError",
     "evalue": "Error evaluating factor: NotValidId: Value (None) must start with 1 for use with Stan.",
     "output_type": "error",
     "traceback": [
      "\u001b[0;31m---------------------------------------------------------------------------\u001b[0m",
      "\u001b[0;31mNotValidId\u001b[0m                                Traceback (most recent call last)",
      "\u001b[0;32m/home/jacquelineburos/miniconda3/envs/survstan/lib/python3.5/site-packages/patsy/compat.py\u001b[0m in \u001b[0;36mcall_and_wrap_exc\u001b[0;34m(msg, origin, f, *args, **kwargs)\u001b[0m\n\u001b[1;32m    116\u001b[0m     \u001b[0;32mtry\u001b[0m\u001b[0;34m:\u001b[0m\u001b[0;34m\u001b[0m\u001b[0m\n\u001b[0;32m--> 117\u001b[0;31m         \u001b[0;32mreturn\u001b[0m \u001b[0mf\u001b[0m\u001b[0;34m(\u001b[0m\u001b[0;34m*\u001b[0m\u001b[0margs\u001b[0m\u001b[0;34m,\u001b[0m \u001b[0;34m**\u001b[0m\u001b[0mkwargs\u001b[0m\u001b[0;34m)\u001b[0m\u001b[0;34m\u001b[0m\u001b[0m\n\u001b[0m\u001b[1;32m    118\u001b[0m     \u001b[0;32mexcept\u001b[0m \u001b[0mException\u001b[0m \u001b[0;32mas\u001b[0m \u001b[0me\u001b[0m\u001b[0;34m:\u001b[0m\u001b[0;34m\u001b[0m\u001b[0m\n",
      "\u001b[0;32m/home/jacquelineburos/miniconda3/envs/survstan/lib/python3.5/site-packages/patsy/eval.py\u001b[0m in \u001b[0;36meval\u001b[0;34m(self, expr, source_name, inner_namespace)\u001b[0m\n\u001b[1;32m    165\u001b[0m         return eval(code, {}, VarLookupDict([inner_namespace]\n\u001b[0;32m--> 166\u001b[0;31m                                             + self._namespaces))\n\u001b[0m\u001b[1;32m    167\u001b[0m \u001b[0;34m\u001b[0m\u001b[0m\n",
      "\u001b[0;32m<string>\u001b[0m in \u001b[0;36m<module>\u001b[0;34m()\u001b[0m\n",
      "\u001b[0;32m<ipython-input-197-d9a7dfd4bedd>\u001b[0m in \u001b[0;36msurv\u001b[0;34m(time, event_status, group, subject, use_pandas, long_format)\u001b[0m\n\u001b[1;32m    100\u001b[0m     \u001b[0;32mif\u001b[0m \u001b[0mlong_format\u001b[0m\u001b[0;34m:\u001b[0m\u001b[0;34m\u001b[0m\u001b[0m\n\u001b[0;32m--> 101\u001b[0;31m         \u001b[0mdm\u001b[0m \u001b[0;34m=\u001b[0m \u001b[0m_prep_long_surv\u001b[0m\u001b[0;34m(\u001b[0m\u001b[0mtime\u001b[0m\u001b[0;34m=\u001b[0m\u001b[0mtime\u001b[0m\u001b[0;34m,\u001b[0m \u001b[0mevent_status\u001b[0m\u001b[0;34m=\u001b[0m\u001b[0mevent_status\u001b[0m\u001b[0;34m,\u001b[0m \u001b[0msubject\u001b[0m\u001b[0;34m=\u001b[0m\u001b[0msubject\u001b[0m\u001b[0;34m,\u001b[0m \u001b[0muse_pandas\u001b[0m\u001b[0;34m=\u001b[0m\u001b[0muse_pandas\u001b[0m\u001b[0;34m)\u001b[0m\u001b[0;34m\u001b[0m\u001b[0m\n\u001b[0m\u001b[1;32m    102\u001b[0m     \u001b[0;32melse\u001b[0m\u001b[0;34m:\u001b[0m\u001b[0;34m\u001b[0m\u001b[0m\n",
      "\u001b[0;32m<ipython-input-197-d9a7dfd4bedd>\u001b[0m in \u001b[0;36m_prep_long_surv\u001b[0;34m(time, event_status, subject, use_pandas)\u001b[0m\n\u001b[1;32m     56\u001b[0m \u001b[0;32mdef\u001b[0m \u001b[0m_prep_long_surv\u001b[0m\u001b[0;34m(\u001b[0m\u001b[0mtime\u001b[0m\u001b[0;34m,\u001b[0m \u001b[0mevent_status\u001b[0m\u001b[0;34m,\u001b[0m \u001b[0msubject\u001b[0m\u001b[0;34m,\u001b[0m \u001b[0muse_pandas\u001b[0m\u001b[0;34m)\u001b[0m\u001b[0;34m:\u001b[0m\u001b[0;34m\u001b[0m\u001b[0m\n\u001b[0;32m---> 57\u001b[0;31m     \u001b[0mtimepoint_id\u001b[0m \u001b[0;34m=\u001b[0m \u001b[0m_confirm_id\u001b[0m\u001b[0;34m(\u001b[0m\u001b[0mtime\u001b[0m\u001b[0;34m)\u001b[0m\u001b[0;34m\u001b[0m\u001b[0m\n\u001b[0m\u001b[1;32m     58\u001b[0m     \u001b[0msubject_id\u001b[0m \u001b[0;34m=\u001b[0m \u001b[0m_confirm_id\u001b[0m\u001b[0;34m(\u001b[0m\u001b[0msubject\u001b[0m\u001b[0;34m)\u001b[0m\u001b[0;34m\u001b[0m\u001b[0m\n",
      "\u001b[0;32m<ipython-input-197-d9a7dfd4bedd>\u001b[0m in \u001b[0;36m_confirm_id\u001b[0;34m(x, name)\u001b[0m\n\u001b[1;32m     42\u001b[0m     \u001b[0;32mif\u001b[0m \u001b[0;32mnot\u001b[0m \u001b[0mnp\u001b[0m\u001b[0;34m.\u001b[0m\u001b[0mmin\u001b[0m\u001b[0;34m(\u001b[0m\u001b[0munique_values\u001b[0m\u001b[0;34m)\u001b[0m\u001b[0;34m==\u001b[0m\u001b[0;36m1\u001b[0m\u001b[0;34m:\u001b[0m\u001b[0;34m\u001b[0m\u001b[0m\n\u001b[0;32m---> 43\u001b[0;31m         \u001b[0;32mraise\u001b[0m \u001b[0mNotValidId\u001b[0m\u001b[0;34m(\u001b[0m\u001b[0;34m'Value ({}) must start with 1 for use with Stan.'\u001b[0m\u001b[0;34m.\u001b[0m\u001b[0mformat\u001b[0m\u001b[0;34m(\u001b[0m\u001b[0mname\u001b[0m\u001b[0;34m)\u001b[0m\u001b[0;34m)\u001b[0m\u001b[0;34m\u001b[0m\u001b[0m\n\u001b[0m\u001b[1;32m     44\u001b[0m     \u001b[0;32mif\u001b[0m \u001b[0;32mnot\u001b[0m \u001b[0mnp\u001b[0m\u001b[0;34m.\u001b[0m\u001b[0mmax\u001b[0m\u001b[0;34m(\u001b[0m\u001b[0munique_values\u001b[0m\u001b[0;34m)\u001b[0m \u001b[0;34m==\u001b[0m \u001b[0mlen\u001b[0m\u001b[0;34m(\u001b[0m\u001b[0munique_values\u001b[0m\u001b[0;34m)\u001b[0m\u001b[0;34m:\u001b[0m\u001b[0;34m\u001b[0m\u001b[0m\n",
      "\u001b[0;31mNotValidId\u001b[0m: Value (None) must start with 1 for use with Stan.",
      "\nThe above exception was the direct cause of the following exception:\n",
      "\u001b[0;31mPatsyError\u001b[0m                                Traceback (most recent call last)",
      "\u001b[0;32m<ipython-input-285-14188db707e2>\u001b[0m in \u001b[0;36m<module>\u001b[0;34m()\u001b[0m\n\u001b[0;32m----> 1\u001b[0;31m \u001b[0my2\u001b[0m\u001b[0;34m.\u001b[0m\u001b[0mnew\u001b[0m\u001b[0;34m,\u001b[0m \u001b[0mX\u001b[0m\u001b[0;34m.\u001b[0m\u001b[0mnew\u001b[0m \u001b[0;34m=\u001b[0m \u001b[0mpatsy\u001b[0m\u001b[0;34m.\u001b[0m\u001b[0mbuild_design_matrices\u001b[0m\u001b[0;34m(\u001b[0m\u001b[0mdesign_infos\u001b[0m\u001b[0;34m=\u001b[0m\u001b[0;34m[\u001b[0m\u001b[0my2\u001b[0m\u001b[0;34m.\u001b[0m\u001b[0mdesign_info\u001b[0m\u001b[0;34m,\u001b[0m \u001b[0mX\u001b[0m\u001b[0;34m.\u001b[0m\u001b[0mdesign_info\u001b[0m\u001b[0;34m]\u001b[0m\u001b[0;34m,\u001b[0m \u001b[0mdata\u001b[0m\u001b[0;34m=\u001b[0m\u001b[0mdf\u001b[0m\u001b[0;34m.\u001b[0m\u001b[0mtail\u001b[0m\u001b[0;34m(\u001b[0m\u001b[0;34m)\u001b[0m\u001b[0;34m)\u001b[0m\u001b[0;34m\u001b[0m\u001b[0m\n\u001b[0m",
      "\u001b[0;32m/home/jacquelineburos/miniconda3/envs/survstan/lib/python3.5/site-packages/patsy/build.py\u001b[0m in \u001b[0;36mbuild_design_matrices\u001b[0;34m(design_infos, data, NA_action, return_type, dtype)\u001b[0m\n\u001b[1;32m    886\u001b[0m         \u001b[0;32mfor\u001b[0m \u001b[0mfactor_info\u001b[0m \u001b[0;32min\u001b[0m \u001b[0msix\u001b[0m\u001b[0;34m.\u001b[0m\u001b[0mitervalues\u001b[0m\u001b[0;34m(\u001b[0m\u001b[0mdesign_info\u001b[0m\u001b[0;34m.\u001b[0m\u001b[0mfactor_infos\u001b[0m\u001b[0;34m)\u001b[0m\u001b[0;34m:\u001b[0m\u001b[0;34m\u001b[0m\u001b[0m\n\u001b[1;32m    887\u001b[0m             \u001b[0;32mif\u001b[0m \u001b[0mfactor_info\u001b[0m \u001b[0;32mnot\u001b[0m \u001b[0;32min\u001b[0m \u001b[0mfactor_info_to_values\u001b[0m\u001b[0;34m:\u001b[0m\u001b[0;34m\u001b[0m\u001b[0m\n\u001b[0;32m--> 888\u001b[0;31m                 \u001b[0mvalue\u001b[0m\u001b[0;34m,\u001b[0m \u001b[0mis_NA\u001b[0m \u001b[0;34m=\u001b[0m \u001b[0m_eval_factor\u001b[0m\u001b[0;34m(\u001b[0m\u001b[0mfactor_info\u001b[0m\u001b[0;34m,\u001b[0m \u001b[0mdata\u001b[0m\u001b[0;34m,\u001b[0m \u001b[0mNA_action\u001b[0m\u001b[0;34m)\u001b[0m\u001b[0;34m\u001b[0m\u001b[0m\n\u001b[0m\u001b[1;32m    889\u001b[0m                 \u001b[0mfactor_info_to_isNAs\u001b[0m\u001b[0;34m[\u001b[0m\u001b[0mfactor_info\u001b[0m\u001b[0;34m]\u001b[0m \u001b[0;34m=\u001b[0m \u001b[0mis_NA\u001b[0m\u001b[0;34m\u001b[0m\u001b[0m\n\u001b[1;32m    890\u001b[0m                 \u001b[0;31m# value may now be a Series, DataFrame, or ndarray\u001b[0m\u001b[0;34m\u001b[0m\u001b[0;34m\u001b[0m\u001b[0m\n",
      "\u001b[0;32m/home/jacquelineburos/miniconda3/envs/survstan/lib/python3.5/site-packages/patsy/build.py\u001b[0m in \u001b[0;36m_eval_factor\u001b[0;34m(factor_info, data, NA_action)\u001b[0m\n\u001b[1;32m     61\u001b[0m \u001b[0;32mdef\u001b[0m \u001b[0m_eval_factor\u001b[0m\u001b[0;34m(\u001b[0m\u001b[0mfactor_info\u001b[0m\u001b[0;34m,\u001b[0m \u001b[0mdata\u001b[0m\u001b[0;34m,\u001b[0m \u001b[0mNA_action\u001b[0m\u001b[0;34m)\u001b[0m\u001b[0;34m:\u001b[0m\u001b[0;34m\u001b[0m\u001b[0m\n\u001b[1;32m     62\u001b[0m     \u001b[0mfactor\u001b[0m \u001b[0;34m=\u001b[0m \u001b[0mfactor_info\u001b[0m\u001b[0;34m.\u001b[0m\u001b[0mfactor\u001b[0m\u001b[0;34m\u001b[0m\u001b[0m\n\u001b[0;32m---> 63\u001b[0;31m     \u001b[0mresult\u001b[0m \u001b[0;34m=\u001b[0m \u001b[0mfactor\u001b[0m\u001b[0;34m.\u001b[0m\u001b[0meval\u001b[0m\u001b[0;34m(\u001b[0m\u001b[0mfactor_info\u001b[0m\u001b[0;34m.\u001b[0m\u001b[0mstate\u001b[0m\u001b[0;34m,\u001b[0m \u001b[0mdata\u001b[0m\u001b[0;34m)\u001b[0m\u001b[0;34m\u001b[0m\u001b[0m\n\u001b[0m\u001b[1;32m     64\u001b[0m     \u001b[0;31m# Returns either a 2d ndarray, or a DataFrame, plus is_NA mask\u001b[0m\u001b[0;34m\u001b[0m\u001b[0;34m\u001b[0m\u001b[0m\n\u001b[1;32m     65\u001b[0m     \u001b[0;32mif\u001b[0m \u001b[0mfactor_info\u001b[0m\u001b[0;34m.\u001b[0m\u001b[0mtype\u001b[0m \u001b[0;34m==\u001b[0m \u001b[0;34m\"numerical\"\u001b[0m\u001b[0;34m:\u001b[0m\u001b[0;34m\u001b[0m\u001b[0m\n",
      "\u001b[0;32m<ipython-input-219-05853011095e>\u001b[0m in \u001b[0;36meval\u001b[0;34m(self, *args, **kwargs)\u001b[0m\n\u001b[1;32m     12\u001b[0m \u001b[0;34m\u001b[0m\u001b[0m\n\u001b[1;32m     13\u001b[0m     \u001b[0;32mdef\u001b[0m \u001b[0meval\u001b[0m\u001b[0;34m(\u001b[0m\u001b[0mself\u001b[0m\u001b[0;34m,\u001b[0m \u001b[0;34m*\u001b[0m\u001b[0margs\u001b[0m\u001b[0;34m,\u001b[0m \u001b[0;34m**\u001b[0m\u001b[0mkwargs\u001b[0m\u001b[0;34m)\u001b[0m\u001b[0;34m:\u001b[0m\u001b[0;34m\u001b[0m\u001b[0m\n\u001b[0;32m---> 14\u001b[0;31m         \u001b[0mresult\u001b[0m \u001b[0;34m=\u001b[0m \u001b[0msuper\u001b[0m\u001b[0;34m(\u001b[0m\u001b[0;34m)\u001b[0m\u001b[0;34m.\u001b[0m\u001b[0meval\u001b[0m\u001b[0;34m(\u001b[0m\u001b[0;34m*\u001b[0m\u001b[0margs\u001b[0m\u001b[0;34m,\u001b[0m \u001b[0;34m**\u001b[0m\u001b[0mkwargs\u001b[0m\u001b[0;34m)\u001b[0m\u001b[0;34m\u001b[0m\u001b[0m\n\u001b[0m\u001b[1;32m     15\u001b[0m         \u001b[0;32mtry\u001b[0m\u001b[0;34m:\u001b[0m\u001b[0;34m\u001b[0m\u001b[0m\n\u001b[1;32m     16\u001b[0m             \u001b[0mself\u001b[0m\u001b[0;34m.\u001b[0m\u001b[0m_class\u001b[0m \u001b[0;34m=\u001b[0m \u001b[0mresult\u001b[0m\u001b[0;34m.\u001b[0m\u001b[0m__class__\u001b[0m\u001b[0;34m\u001b[0m\u001b[0m\n",
      "\u001b[0;32m/home/jacquelineburos/miniconda3/envs/survstan/lib/python3.5/site-packages/patsy/eval.py\u001b[0m in \u001b[0;36meval\u001b[0;34m(self, memorize_state, data)\u001b[0m\n\u001b[1;32m    564\u001b[0m         return self._eval(memorize_state[\"eval_code\"],\n\u001b[1;32m    565\u001b[0m                           \u001b[0mmemorize_state\u001b[0m\u001b[0;34m,\u001b[0m\u001b[0;34m\u001b[0m\u001b[0m\n\u001b[0;32m--> 566\u001b[0;31m                           data)\n\u001b[0m\u001b[1;32m    567\u001b[0m \u001b[0;34m\u001b[0m\u001b[0m\n\u001b[1;32m    568\u001b[0m     \u001b[0m__getstate__\u001b[0m \u001b[0;34m=\u001b[0m \u001b[0mno_pickling\u001b[0m\u001b[0;34m\u001b[0m\u001b[0m\n",
      "\u001b[0;32m/home/jacquelineburos/miniconda3/envs/survstan/lib/python3.5/site-packages/patsy/eval.py\u001b[0m in \u001b[0;36m_eval\u001b[0;34m(self, code, memorize_state, data)\u001b[0m\n\u001b[1;32m    549\u001b[0m                                  \u001b[0mmemorize_state\u001b[0m\u001b[0;34m[\u001b[0m\u001b[0;34m\"eval_env\"\u001b[0m\u001b[0;34m]\u001b[0m\u001b[0;34m.\u001b[0m\u001b[0meval\u001b[0m\u001b[0;34m,\u001b[0m\u001b[0;34m\u001b[0m\u001b[0m\n\u001b[1;32m    550\u001b[0m                                  \u001b[0mcode\u001b[0m\u001b[0;34m,\u001b[0m\u001b[0;34m\u001b[0m\u001b[0m\n\u001b[0;32m--> 551\u001b[0;31m                                  inner_namespace=inner_namespace)\n\u001b[0m\u001b[1;32m    552\u001b[0m \u001b[0;34m\u001b[0m\u001b[0m\n\u001b[1;32m    553\u001b[0m     \u001b[0;32mdef\u001b[0m \u001b[0mmemorize_chunk\u001b[0m\u001b[0;34m(\u001b[0m\u001b[0mself\u001b[0m\u001b[0;34m,\u001b[0m \u001b[0mstate\u001b[0m\u001b[0;34m,\u001b[0m \u001b[0mwhich_pass\u001b[0m\u001b[0;34m,\u001b[0m \u001b[0mdata\u001b[0m\u001b[0;34m)\u001b[0m\u001b[0;34m:\u001b[0m\u001b[0;34m\u001b[0m\u001b[0m\n",
      "\u001b[0;32m/home/jacquelineburos/miniconda3/envs/survstan/lib/python3.5/site-packages/patsy/compat.py\u001b[0m in \u001b[0;36mcall_and_wrap_exc\u001b[0;34m(msg, origin, f, *args, **kwargs)\u001b[0m\n\u001b[1;32m    122\u001b[0m                                  origin)\n\u001b[1;32m    123\u001b[0m             \u001b[0;31m# Use 'exec' to hide this syntax from the Python 2 parser:\u001b[0m\u001b[0;34m\u001b[0m\u001b[0;34m\u001b[0m\u001b[0m\n\u001b[0;32m--> 124\u001b[0;31m             \u001b[0mexec\u001b[0m\u001b[0;34m(\u001b[0m\u001b[0;34m\"raise new_exc from e\"\u001b[0m\u001b[0;34m)\u001b[0m\u001b[0;34m\u001b[0m\u001b[0m\n\u001b[0m\u001b[1;32m    125\u001b[0m         \u001b[0;32melse\u001b[0m\u001b[0;34m:\u001b[0m\u001b[0;34m\u001b[0m\u001b[0m\n\u001b[1;32m    126\u001b[0m             \u001b[0;31m# In python 2, we just let the original exception escape -- better\u001b[0m\u001b[0;34m\u001b[0m\u001b[0;34m\u001b[0m\u001b[0m\n",
      "\u001b[0;32m/home/jacquelineburos/miniconda3/envs/survstan/lib/python3.5/site-packages/patsy/compat.py\u001b[0m in \u001b[0;36m<module>\u001b[0;34m()\u001b[0m\n",
      "\u001b[0;31mPatsyError\u001b[0m: Error evaluating factor: NotValidId: Value (None) must start with 1 for use with Stan."
     ]
    }
   ],
   "source": [
    "y2.new, X.new = patsy.build_design_matrices(design_infos=[y2.design_info, X.design_info], data=df.tail())"
   ]
  },
  {
   "cell_type": "markdown",
   "metadata": {},
   "source": [
    "## SurvivalDesignInfo class"
   ]
  },
  {
   "cell_type": "code",
   "execution_count": 247,
   "metadata": {
    "ExecuteTime": {
     "end_time": "2017-01-17T01:42:02.550801",
     "start_time": "2017-01-17T01:42:02.526087"
    },
    "collapsed": true
   },
   "outputs": [],
   "source": [
    "class SurvivalDesignInfo(patsy.design_info.DesignInfo):\n",
    "    \n",
    "    def __init__(self, *args, **kwargs):\n",
    "        super().__init__(*args, **kwargs)\n",
    "        \n"
   ]
  },
  {
   "cell_type": "code",
   "execution_count": 426,
   "metadata": {
    "ExecuteTime": {
     "end_time": "2017-01-16T23:37:05.888237",
     "start_time": "2017-01-16T23:37:05.865979"
    },
    "collapsed": true
   },
   "outputs": [],
   "source": [
    "class SurvivalModelDesc2(object):\n",
    "    \n",
    "    def __init__(self, formula):\n",
    "        self.formula = formula\n",
    "        self.lhs, self.rhs = re.split(string=formula, pattern='~', maxsplit=1)\n",
    "        self.lhs_termlist = [patsy.Term([SurvivalFactor(self.lhs)])]\n",
    "        self.rhs_termlist = patsy.ModelDesc.from_formula(self.rhs).rhs_termlist\n",
    "        \n",
    "    def __patsy_get_model_desc__(self, eval_env):\n",
    "        return patsy.ModelDesc(self.lhs_termlist, self.rhs_termlist)"
   ]
  },
  {
   "cell_type": "code",
   "execution_count": 429,
   "metadata": {
    "ExecuteTime": {
     "end_time": "2017-01-16T23:37:40.863977",
     "start_time": "2017-01-16T23:37:40.840456"
    },
    "collapsed": false
   },
   "outputs": [],
   "source": [
    "my_formula = SurvivalModelDesc2('surv1(time=time, event_status=event_value) ~ X1')\n",
    "#my_formula.lhs_termlist\n",
    "y, X = patsy.dmatrices(my_formula, data=df)"
   ]
  },
  {
   "cell_type": "code",
   "execution_count": 430,
   "metadata": {
    "ExecuteTime": {
     "end_time": "2017-01-16T23:37:41.473745",
     "start_time": "2017-01-16T23:37:41.456128"
    },
    "collapsed": false
   },
   "outputs": [
    {
     "data": {
      "text/plain": [
       "[Term([SurvivalFactor('surv1(time=time, event_status=event_value)')])]"
      ]
     },
     "execution_count": 430,
     "metadata": {},
     "output_type": "execute_result"
    }
   ],
   "source": [
    "my_formula.lhs_termlist"
   ]
  },
  {
   "cell_type": "code",
   "execution_count": null,
   "metadata": {
    "collapsed": true
   },
   "outputs": [],
   "source": [
    "di = patsy.incr_dbuilder(formula_like='')"
   ]
  },
  {
   "cell_type": "code",
   "execution_count": 432,
   "metadata": {
    "ExecuteTime": {
     "end_time": "2017-01-16T23:45:53.972447",
     "start_time": "2017-01-16T23:45:53.955988"
    },
    "collapsed": true
   },
   "outputs": [],
   "source": [
    "def data_iter_maker():\n",
    "    return iter([df])"
   ]
  },
  {
   "cell_type": "code",
   "execution_count": 433,
   "metadata": {
    "ExecuteTime": {
     "end_time": "2017-01-16T23:47:22.323393",
     "start_time": "2017-01-16T23:47:22.305914"
    },
    "collapsed": true
   },
   "outputs": [],
   "source": [
    "my_env = patsy.EvalEnvironment.capture()"
   ]
  },
  {
   "cell_type": "code",
   "execution_count": 435,
   "metadata": {
    "ExecuteTime": {
     "end_time": "2017-01-16T23:49:38.172198",
     "start_time": "2017-01-16T23:49:38.150654"
    },
    "collapsed": false
   },
   "outputs": [],
   "source": [
    "design_infos = patsy.incr_dbuilder(formula_like='surv1(time=time, event_status=event_value)',\n",
    "                                  data_iter_maker=data_iter_maker\n",
    "                                  )"
   ]
  },
  {
   "cell_type": "code",
   "execution_count": 436,
   "metadata": {
    "ExecuteTime": {
     "end_time": "2017-01-16T23:49:42.420414",
     "start_time": "2017-01-16T23:49:42.402409"
    },
    "collapsed": false
   },
   "outputs": [
    {
     "data": {
      "text/plain": [
       "DesignInfo(['Intercept',\n",
       "            'surv1(time=time, event_status=event_value)[0]',\n",
       "            'surv1(time=time, event_status=event_value)[1]'],\n",
       "           factor_infos={EvalFactor('surv1(time=time, event_status=event_value)'): FactorInfo(factor=EvalFactor('surv1(time=time, event_status=event_value)'),\n",
       "                                    type='numerical',\n",
       "                                    state=<factor state>,\n",
       "                                    num_columns=2)},\n",
       "           term_codings=OrderedDict([(Term([]),\n",
       "                                      [SubtermInfo(factors=(),\n",
       "                                                   contrast_matrices={},\n",
       "                                                   num_columns=1)]),\n",
       "                                     (Term([EvalFactor('surv1(time=time, event_status=event_value)')]),\n",
       "                                      [SubtermInfo(factors=(EvalFactor('surv1(time=time, event_status=event_value)'),),\n",
       "                                                   contrast_matrices={},\n",
       "                                                   num_columns=2)])]))"
      ]
     },
     "execution_count": 436,
     "metadata": {},
     "output_type": "execute_result"
    }
   ],
   "source": [
    "design_infos"
   ]
  },
  {
   "cell_type": "code",
   "execution_count": 444,
   "metadata": {
    "ExecuteTime": {
     "end_time": "2017-01-16T23:53:36.472950",
     "start_time": "2017-01-16T23:53:36.455269"
    },
    "collapsed": true
   },
   "outputs": [],
   "source": [
    "eval_env = patsy.EvalEnvironment.capture()"
   ]
  },
  {
   "cell_type": "code",
   "execution_count": 445,
   "metadata": {
    "ExecuteTime": {
     "end_time": "2017-01-16T23:53:36.896121",
     "start_time": "2017-01-16T23:53:36.879863"
    },
    "collapsed": true
   },
   "outputs": [],
   "source": [
    "NA_action = 'drop'"
   ]
  },
  {
   "cell_type": "code",
   "execution_count": 457,
   "metadata": {
    "ExecuteTime": {
     "end_time": "2017-01-16T23:55:52.220916",
     "start_time": "2017-01-16T23:55:52.199484"
    },
    "collapsed": false
   },
   "outputs": [],
   "source": [
    "design_infos2 = patsy.highlevel._try_incr_builders(\n",
    "    formula_like=my_formula,\n",
    "    data_iter_maker=data_iter_maker,\n",
    "    eval_env=eval_env, NA_action=NA_action)"
   ]
  },
  {
   "cell_type": "code",
   "execution_count": 458,
   "metadata": {
    "ExecuteTime": {
     "end_time": "2017-01-16T23:55:52.993064",
     "start_time": "2017-01-16T23:55:52.973587"
    },
    "collapsed": false
   },
   "outputs": [
    {
     "data": {
      "text/plain": [
       "[DesignInfo(['surv1(time=time, event_status=event_value)[0]',\n",
       "             'surv1(time=time, event_status=event_value)[1]'],\n",
       "            factor_infos={SurvivalFactor('surv1(time=time, event_status=event_value)'): FactorInfo(factor=SurvivalFactor('surv1(time=time, event_status=event_value)'),\n",
       "                                     type='numerical',\n",
       "                                     state=<factor state>,\n",
       "                                     num_columns=2)},\n",
       "            term_codings=OrderedDict([(Term([SurvivalFactor('surv1(time=time, event_status=event_value)')]),\n",
       "                                       [SubtermInfo(factors=(SurvivalFactor('surv1(time=time, event_status=event_value)'),),\n",
       "                                                    contrast_matrices={},\n",
       "                                                    num_columns=2)])])),\n",
       " DesignInfo(['Intercept', 'X1'],\n",
       "            factor_infos={EvalFactor('X1'): FactorInfo(factor=EvalFactor('X1'),\n",
       "                                     type='numerical',\n",
       "                                     state=<factor state>,\n",
       "                                     num_columns=1)},\n",
       "            term_codings=OrderedDict([(Term([]),\n",
       "                                       [SubtermInfo(factors=(),\n",
       "                                                    contrast_matrices={},\n",
       "                                                    num_columns=1)]),\n",
       "                                      (Term([EvalFactor('X1')]),\n",
       "                                       [SubtermInfo(factors=(EvalFactor('X1'),),\n",
       "                                                    contrast_matrices={},\n",
       "                                                    num_columns=1)])]))]"
      ]
     },
     "execution_count": 458,
     "metadata": {},
     "output_type": "execute_result"
    }
   ],
   "source": [
    "design_infos2"
   ]
  },
  {
   "cell_type": "code",
   "execution_count": 463,
   "metadata": {
    "ExecuteTime": {
     "end_time": "2017-01-17T00:00:01.981435",
     "start_time": "2017-01-17T00:00:01.962235"
    },
    "collapsed": false
   },
   "outputs": [],
   "source": [
    "evalfactor = patsy.build._eval_factor(FactorInfo, data=df, NA_action=patsy.missing.NAAction())"
   ]
  },
  {
   "cell_type": "code",
   "execution_count": 466,
   "metadata": {
    "ExecuteTime": {
     "end_time": "2017-01-17T00:00:25.335784",
     "start_time": "2017-01-17T00:00:25.317313"
    },
    "collapsed": false
   },
   "outputs": [
    {
     "data": {
      "text/plain": [
       "__main__.SurvData"
      ]
     },
     "execution_count": 466,
     "metadata": {},
     "output_type": "execute_result"
    }
   ],
   "source": [
    "evalfactor[0].__class__"
   ]
  },
  {
   "cell_type": "markdown",
   "metadata": {},
   "source": [
    "## `SurvivalFactorInfo` class"
   ]
  },
  {
   "cell_type": "code",
   "execution_count": 468,
   "metadata": {
    "ExecuteTime": {
     "end_time": "2017-01-17T00:04:52.424562",
     "start_time": "2017-01-17T00:04:52.405935"
    },
    "collapsed": false
   },
   "outputs": [
    {
     "data": {
      "text/plain": [
       "FactorInfo(factor=SurvivalFactor('surv1(time=time, event_status=event_value)'),\n",
       "           type='numerical',\n",
       "           state=<factor state>,\n",
       "           num_columns=2)"
      ]
     },
     "execution_count": 468,
     "metadata": {},
     "output_type": "execute_result"
    }
   ],
   "source": [
    "patsy.FactorInfo(factor, 'numerical', {}, num_columns=2, categories=None)"
   ]
  },
  {
   "cell_type": "code",
   "execution_count": null,
   "metadata": {
    "collapsed": true
   },
   "outputs": [],
   "source": [
    "class SurvivalFactorInfo(patsy.FactorInfo):\n",
    "    \n",
    "    def __init__(self, *args, **kwargs):\n",
    "        super().__init__(*args, **kwargs)\n",
    "        self._result_class = None\n",
    "    "
   ]
  }
 ],
 "metadata": {
  "kernelspec": {
   "display_name": "survstan3",
   "language": "python",
   "name": "survstan3"
  },
  "language_info": {
   "codemirror_mode": {
    "name": "ipython",
    "version": 3
   },
   "file_extension": ".py",
   "mimetype": "text/x-python",
   "name": "python",
   "nbconvert_exporter": "python",
   "pygments_lexer": "ipython3",
   "version": "3.5.2"
  },
  "toc": {
   "nav_menu": {
    "height": "12px",
    "width": "252px"
   },
   "navigate_menu": true,
   "number_sections": true,
   "sideBar": true,
   "threshold": 4,
   "toc_cell": false,
   "toc_section_display": "block",
   "toc_window_display": true
  }
 },
 "nbformat": 4,
 "nbformat_minor": 1
}

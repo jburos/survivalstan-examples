{
 "cells": [
  {
   "cell_type": "code",
   "execution_count": 1,
   "metadata": {
    "collapsed": false
   },
   "outputs": [
    {
     "name": "stdout",
     "output_type": "stream",
     "text": [
      "The autoreload extension is already loaded. To reload it, use:\n",
      "  %reload_ext autoreload\n"
     ]
    }
   ],
   "source": [
    "%load_ext autoreload\n",
    "%autoreload 2\n",
    "%matplotlib inline\n",
    "import pandas as pd\n",
    "import numpy as np"
   ]
  },
  {
   "cell_type": "code",
   "execution_count": 2,
   "metadata": {
    "collapsed": false
   },
   "outputs": [
    {
     "data": {
      "text/html": [
       "<script>requirejs.config({paths: { 'plotly': ['https://cdn.plot.ly/plotly-latest.min']},});if(!window.Plotly) {{require(['plotly'],function(plotly) {window.Plotly=plotly;});}}</script>"
      ],
      "text/plain": [
       "<IPython.core.display.HTML object>"
      ]
     },
     "metadata": {},
     "output_type": "display_data"
    }
   ],
   "source": [
    "import plotly\n",
    "import plotly.plotly as py\n",
    "import plotly.graph_objs as go\n",
    "plotly.offline.init_notebook_mode(connected=True)"
   ]
  },
  {
   "cell_type": "markdown",
   "metadata": {},
   "source": [
    "## load pp_survival data from a random survival model"
   ]
  },
  {
   "cell_type": "code",
   "execution_count": 3,
   "metadata": {
    "collapsed": false
   },
   "outputs": [],
   "source": [
    "ppsurv = pd.read_csv('plotly_example_data.csv')"
   ]
  },
  {
   "cell_type": "code",
   "execution_count": 4,
   "metadata": {
    "collapsed": false
   },
   "outputs": [
    {
     "data": {
      "text/html": [
       "<div>\n",
       "<table border=\"1\" class=\"dataframe\">\n",
       "  <thead>\n",
       "    <tr style=\"text-align: right;\">\n",
       "      <th></th>\n",
       "      <th>Unnamed: 0</th>\n",
       "      <th>iter</th>\n",
       "      <th>model_cohort</th>\n",
       "      <th>sex</th>\n",
       "      <th>level_3</th>\n",
       "      <th>event_time</th>\n",
       "      <th>survival</th>\n",
       "    </tr>\n",
       "  </thead>\n",
       "  <tbody>\n",
       "    <tr>\n",
       "      <th>0</th>\n",
       "      <td>0</td>\n",
       "      <td>0</td>\n",
       "      <td>test model</td>\n",
       "      <td>female</td>\n",
       "      <td>0</td>\n",
       "      <td>0.000000</td>\n",
       "      <td>1.000000</td>\n",
       "    </tr>\n",
       "    <tr>\n",
       "      <th>1</th>\n",
       "      <td>1</td>\n",
       "      <td>0</td>\n",
       "      <td>test model</td>\n",
       "      <td>female</td>\n",
       "      <td>1</td>\n",
       "      <td>2.615961</td>\n",
       "      <td>1.000000</td>\n",
       "    </tr>\n",
       "    <tr>\n",
       "      <th>2</th>\n",
       "      <td>2</td>\n",
       "      <td>0</td>\n",
       "      <td>test model</td>\n",
       "      <td>female</td>\n",
       "      <td>2</td>\n",
       "      <td>3.584694</td>\n",
       "      <td>0.977162</td>\n",
       "    </tr>\n",
       "    <tr>\n",
       "      <th>3</th>\n",
       "      <td>3</td>\n",
       "      <td>0</td>\n",
       "      <td>test model</td>\n",
       "      <td>female</td>\n",
       "      <td>3</td>\n",
       "      <td>4.379338</td>\n",
       "      <td>0.952078</td>\n",
       "    </tr>\n",
       "    <tr>\n",
       "      <th>4</th>\n",
       "      <td>4</td>\n",
       "      <td>0</td>\n",
       "      <td>test model</td>\n",
       "      <td>female</td>\n",
       "      <td>4</td>\n",
       "      <td>6.253546</td>\n",
       "      <td>0.945339</td>\n",
       "    </tr>\n",
       "  </tbody>\n",
       "</table>\n",
       "</div>"
      ],
      "text/plain": [
       "   Unnamed: 0  iter model_cohort     sex  level_3  event_time  survival\n",
       "0           0     0   test model  female        0    0.000000  1.000000\n",
       "1           1     0   test model  female        1    2.615961  1.000000\n",
       "2           2     0   test model  female        2    3.584694  0.977162\n",
       "3           3     0   test model  female        3    4.379338  0.952078\n",
       "4           4     0   test model  female        4    6.253546  0.945339"
      ]
     },
     "execution_count": 4,
     "metadata": {},
     "output_type": "execute_result"
    }
   ],
   "source": [
    "ppsurv.head()"
   ]
  },
  {
   "cell_type": "markdown",
   "metadata": {},
   "source": [
    "## plot posterior predicted survival time by sex"
   ]
  },
  {
   "cell_type": "code",
   "execution_count": 5,
   "metadata": {
    "collapsed": false
   },
   "outputs": [],
   "source": [
    "ppsummary = ppsurv.groupby(['sex','event_time'])['survival'].agg({\n",
    "        '95_lower': lambda x: np.percentile(x, 2.5),\n",
    "        '95_upper': lambda x: np.percentile(x, 97.5),\n",
    "        '50_lower': lambda x: np.percentile(x, 25),\n",
    "        '50_upper': lambda x: np.percentile(x, 75),\n",
    "        'median': lambda x: np.percentile(x, 50),\n",
    "    }).reset_index()"
   ]
  },
  {
   "cell_type": "code",
   "execution_count": 6,
   "metadata": {
    "collapsed": false
   },
   "outputs": [
    {
     "data": {
      "text/html": [
       "<div>\n",
       "<table border=\"1\" class=\"dataframe\">\n",
       "  <thead>\n",
       "    <tr style=\"text-align: right;\">\n",
       "      <th></th>\n",
       "      <th>sex</th>\n",
       "      <th>event_time</th>\n",
       "      <th>median</th>\n",
       "      <th>50_lower</th>\n",
       "      <th>95_lower</th>\n",
       "      <th>95_upper</th>\n",
       "      <th>50_upper</th>\n",
       "    </tr>\n",
       "  </thead>\n",
       "  <tbody>\n",
       "    <tr>\n",
       "      <th>72</th>\n",
       "      <td>female</td>\n",
       "      <td>18.543842</td>\n",
       "      <td>0.338076</td>\n",
       "      <td>0.283789</td>\n",
       "      <td>0.182441</td>\n",
       "      <td>0.519674</td>\n",
       "      <td>0.405841</td>\n",
       "    </tr>\n",
       "    <tr>\n",
       "      <th>73</th>\n",
       "      <td>female</td>\n",
       "      <td>18.656898</td>\n",
       "      <td>0.331524</td>\n",
       "      <td>0.275271</td>\n",
       "      <td>0.176058</td>\n",
       "      <td>0.507488</td>\n",
       "      <td>0.398727</td>\n",
       "    </tr>\n",
       "    <tr>\n",
       "      <th>74</th>\n",
       "      <td>female</td>\n",
       "      <td>18.932325</td>\n",
       "      <td>0.320479</td>\n",
       "      <td>0.269188</td>\n",
       "      <td>0.176320</td>\n",
       "      <td>0.492980</td>\n",
       "      <td>0.384687</td>\n",
       "    </tr>\n",
       "    <tr>\n",
       "      <th>75</th>\n",
       "      <td>female</td>\n",
       "      <td>19.811832</td>\n",
       "      <td>0.306252</td>\n",
       "      <td>0.251404</td>\n",
       "      <td>0.157844</td>\n",
       "      <td>0.471677</td>\n",
       "      <td>0.367278</td>\n",
       "    </tr>\n",
       "    <tr>\n",
       "      <th>76</th>\n",
       "      <td>female</td>\n",
       "      <td>20.000000</td>\n",
       "      <td>0.284725</td>\n",
       "      <td>0.229034</td>\n",
       "      <td>0.134397</td>\n",
       "      <td>0.467671</td>\n",
       "      <td>0.344815</td>\n",
       "    </tr>\n",
       "  </tbody>\n",
       "</table>\n",
       "</div>"
      ],
      "text/plain": [
       "       sex  event_time    median  50_lower  95_lower  95_upper  50_upper\n",
       "72  female   18.543842  0.338076  0.283789  0.182441  0.519674  0.405841\n",
       "73  female   18.656898  0.331524  0.275271  0.176058  0.507488  0.398727\n",
       "74  female   18.932325  0.320479  0.269188  0.176320  0.492980  0.384687\n",
       "75  female   19.811832  0.306252  0.251404  0.157844  0.471677  0.367278\n",
       "76  female   20.000000  0.284725  0.229034  0.134397  0.467671  0.344815"
      ]
     },
     "execution_count": 6,
     "metadata": {},
     "output_type": "execute_result"
    }
   ],
   "source": [
    "ppsummary[ppsummary['sex']=='female'].tail()"
   ]
  },
  {
   "cell_type": "code",
   "execution_count": 7,
   "metadata": {
    "collapsed": true
   },
   "outputs": [],
   "source": [
    "shade_colors = dict(male='rgba(0, 128, 128, {})', female='rgba(214, 12, 140, {})')\n",
    "line_colors = dict(male='rgb(0, 128, 128)', female='rgb(214, 12, 140)')\n",
    "ppsummary.sort_values(['sex', 'event_time'], inplace=True)"
   ]
  },
  {
   "cell_type": "code",
   "execution_count": 8,
   "metadata": {
    "collapsed": true
   },
   "outputs": [],
   "source": [
    "data5 = list()\n",
    "for grp, grp_df in ppsummary.groupby('sex'):\n",
    "    x = list(grp_df['event_time'].values)\n",
    "    x_rev = x[::-1]\n",
    "    y_upper = list(grp_df['50_upper'].values)\n",
    "    y_lower = list(grp_df['50_lower'].values)\n",
    "    y_lower = y_lower[::-1]\n",
    "    y2_upper = list(grp_df['95_upper'].values)\n",
    "    y2_lower = list(grp_df['95_lower'].values)\n",
    "    y2_lower = y2_lower[::-1]\n",
    "    y = list(grp_df['median'].values)\n",
    "    my_shading50 = go.Scatter(\n",
    "        x = x + x_rev,\n",
    "        y = y_upper + y_lower,\n",
    "        fill = 'tozerox',\n",
    "        fillcolor = shade_colors[grp].format(0.3),\n",
    "        line = go.Line(color = 'transparent'),\n",
    "        showlegend = True,\n",
    "        name = '{} - 50% CI'.format(grp),\n",
    "    )\n",
    "    my_shading95 = go.Scatter(\n",
    "        x = x + x_rev,\n",
    "        y = y2_upper + y2_lower,\n",
    "        fill = 'tozerox',\n",
    "        fillcolor = shade_colors[grp].format(0.1),\n",
    "        line = go.Line(color = 'transparent'),\n",
    "        showlegend = True,\n",
    "        name = '{} - 95% CI'.format(grp),\n",
    "    )\n",
    "    my_line = go.Scatter(\n",
    "        x = x,\n",
    "        y = y,\n",
    "        line = go.Line(color=line_colors[grp]),\n",
    "        mode = 'lines',\n",
    "        name = grp,\n",
    "    )\n",
    "    data5.append(my_line)    \n",
    "    data5.append(my_shading50)\n",
    "    data5.append(my_shading95)\n"
   ]
  },
  {
   "cell_type": "code",
   "execution_count": 9,
   "metadata": {
    "collapsed": true
   },
   "outputs": [],
   "source": [
    "layout5 = go.Layout(\n",
    "    yaxis=dict(\n",
    "        title='Survival (%)',\n",
    "        #zeroline=False,\n",
    "        tickformat='.0%',\n",
    "    ),\n",
    "    xaxis=dict(title='Days since enrollment')\n",
    ")"
   ]
  },
  {
   "cell_type": "code",
   "execution_count": 10,
   "metadata": {
    "collapsed": false
   },
   "outputs": [
    {
     "data": {
      "text/html": [
       "<iframe id=\"igraph\" scrolling=\"no\" style=\"border:none;\" seamless=\"seamless\" src=\"https://plot.ly/~jackinovik/144.embed\" height=\"525px\" width=\"100%\"></iframe>"
      ],
      "text/plain": [
       "<plotly.tools.PlotlyDisplay object>"
      ]
     },
     "execution_count": 10,
     "metadata": {},
     "output_type": "execute_result"
    }
   ],
   "source": [
    "py.iplot(go.Figure(data=data5, layout=layout5), filename='survivalstan/posterior-predicted-values')"
   ]
  },
  {
   "cell_type": "code",
   "execution_count": null,
   "metadata": {
    "collapsed": true
   },
   "outputs": [],
   "source": []
  }
 ],
 "metadata": {
  "anaconda-cloud": {},
  "kernelspec": {
   "display_name": "Python 3",
   "language": "python",
   "name": "python3"
  },
  "language_info": {
   "codemirror_mode": {
    "name": "ipython",
    "version": 3
   },
   "file_extension": ".py",
   "mimetype": "text/x-python",
   "name": "python",
   "nbconvert_exporter": "python",
   "pygments_lexer": "ipython3",
   "version": "3.5.2"
  }
 },
 "nbformat": 4,
 "nbformat_minor": 1
}
